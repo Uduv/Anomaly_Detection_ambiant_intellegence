{
 "cells": [
  {
   "cell_type": "markdown",
   "id": "69f85943",
   "metadata": {
    "papermill": {
     "duration": 0.01661,
     "end_time": "2024-09-12T22:36:10.899711",
     "exception": false,
     "start_time": "2024-09-12T22:36:10.883101",
     "status": "completed"
    },
    "tags": []
   },
   "source": [
    "# **Anomaly Detection in Time Series Data**\n",
    "\n",
    "This notebook aims to identify anomalous patterns within a time series dataset by building models trained on normal activity data and testing them on both normal and (fall detection).\n",
    "\n",
    "#### Dataset overview\n",
    "\n",
    "The MobiAct Dataset is designed for the analysis of human activities, particularly focusing on different types of falls and daily living activities (ADLs). The dataset includes data from 66 participants performing falls and 19-66 participants performing various ADLs.\n"
   ]
  },
  {
   "cell_type": "code",
   "execution_count": 1,
   "id": "4f623826",
   "metadata": {
    "_kg_hide-input": true,
    "execution": {
     "iopub.execute_input": "2024-09-12T22:36:10.932367Z",
     "iopub.status.busy": "2024-09-12T22:36:10.931948Z",
     "iopub.status.idle": "2024-09-12T22:36:11.738329Z",
     "shell.execute_reply": "2024-09-12T22:36:11.737501Z"
    },
    "papermill": {
     "duration": 0.825502,
     "end_time": "2024-09-12T22:36:11.740650",
     "exception": false,
     "start_time": "2024-09-12T22:36:10.915148",
     "status": "completed"
    },
    "tags": []
   },
   "outputs": [],
   "source": [
    "import numpy as np\n",
    "import pandas as pd\n",
    "import os\n",
    "import glob\n",
    "import random"
   ]
  },
  {
   "cell_type": "markdown",
   "id": "26a0bf6d",
   "metadata": {
    "papermill": {
     "duration": 0.015063,
     "end_time": "2024-09-12T22:36:11.771641",
     "exception": false,
     "start_time": "2024-09-12T22:36:11.756578",
     "status": "completed"
    },
    "tags": []
   },
   "source": [
    "# Preprocessing\n",
    "\n",
    "Explanation\n",
    "Directory Path: The data_dir variable should be set to the path of the main directory containing your annotated data directories.\n",
    "\n",
    "Reading Files: We loop through each activity directory within the main directory and then loop through each file in these directories. For each file, we extract metadata (activity type, sensor type, participant ID, and trial number) from the filename.\n",
    "\n",
    "Reading Data: Each CSV file is read into a DataFrame using pd.read_csv. No header is present in the data files (header=None).\n",
    "\n",
    "Combining Data: Metadata columns are added to each DataFrame, and these DataFrames are appended to a list. All DataFrames in the list are then concatenated into a single DataFrame using pd.concat.\n",
    "\n",
    "Optional Saving: The combined DataFrame is saved to a new CSV file named combined_mobiact_dataset.csv."
   ]
  },
  {
   "cell_type": "code",
   "execution_count": 2,
   "id": "e6d8fe6c",
   "metadata": {
    "execution": {
     "iopub.execute_input": "2024-09-12T22:36:11.804474Z",
     "iopub.status.busy": "2024-09-12T22:36:11.803997Z",
     "iopub.status.idle": "2024-09-12T22:36:20.676220Z",
     "shell.execute_reply": "2024-09-12T22:36:20.675018Z"
    },
    "papermill": {
     "duration": 8.891055,
     "end_time": "2024-09-12T22:36:20.678257",
     "exception": false,
     "start_time": "2024-09-12T22:36:11.787202",
     "status": "completed"
    },
    "tags": []
   },
   "outputs": [
    {
     "name": "stdout",
     "output_type": "stream",
     "text": [
      "Processing activity folder: /kaggle/input/mobiact-dataset-v2/MobiAct_Dataset_v2.0/Annotated Data/FOL\n",
      "Processing activity folder: /kaggle/input/mobiact-dataset-v2/MobiAct_Dataset_v2.0/Annotated Data/CSO\n",
      "Processing activity folder: /kaggle/input/mobiact-dataset-v2/MobiAct_Dataset_v2.0/Annotated Data/STU\n",
      "Processing activity folder: /kaggle/input/mobiact-dataset-v2/MobiAct_Dataset_v2.0/Annotated Data/SDL\n",
      "Processing activity folder: /kaggle/input/mobiact-dataset-v2/MobiAct_Dataset_v2.0/Annotated Data/SLH\n",
      "Processing activity folder: /kaggle/input/mobiact-dataset-v2/MobiAct_Dataset_v2.0/Annotated Data/SCH\n",
      "Processing activity folder: /kaggle/input/mobiact-dataset-v2/MobiAct_Dataset_v2.0/Annotated Data/STN\n",
      "Processing activity folder: /kaggle/input/mobiact-dataset-v2/MobiAct_Dataset_v2.0/Annotated Data/SBE\n",
      "Processing activity folder: /kaggle/input/mobiact-dataset-v2/MobiAct_Dataset_v2.0/Annotated Data/WAL\n",
      "Processing activity folder: /kaggle/input/mobiact-dataset-v2/MobiAct_Dataset_v2.0/Annotated Data/CSI\n",
      "Processing activity folder: /kaggle/input/mobiact-dataset-v2/MobiAct_Dataset_v2.0/Annotated Data/SIT\n",
      "Processing activity folder: /kaggle/input/mobiact-dataset-v2/MobiAct_Dataset_v2.0/Annotated Data/SBW\n",
      "Processing activity folder: /kaggle/input/mobiact-dataset-v2/MobiAct_Dataset_v2.0/Annotated Data/FKL\n",
      "Processing activity folder: /kaggle/input/mobiact-dataset-v2/MobiAct_Dataset_v2.0/Annotated Data/JUM\n",
      "Processing activity folder: /kaggle/input/mobiact-dataset-v2/MobiAct_Dataset_v2.0/Annotated Data/SRH\n",
      "Processing activity folder: /kaggle/input/mobiact-dataset-v2/MobiAct_Dataset_v2.0/Annotated Data/BSC\n",
      "Processing activity folder: /kaggle/input/mobiact-dataset-v2/MobiAct_Dataset_v2.0/Annotated Data/STD\n",
      "Processing activity folder: /kaggle/input/mobiact-dataset-v2/MobiAct_Dataset_v2.0/Annotated Data/JOG\n",
      "Processing activity folder: /kaggle/input/mobiact-dataset-v2/MobiAct_Dataset_v2.0/Annotated Data/SLW\n",
      "Processing activity folder: /kaggle/input/mobiact-dataset-v2/MobiAct_Dataset_v2.0/Annotated Data/CHU\n",
      "Combined data exported to combined_mobiact_dataset.csv\n"
     ]
    }
   ],
   "source": [
    "### TO DO \n",
    "# try to obtain the same repartition in every classes \n",
    "\n",
    "# Denoising the data with frequency domain cleaning High and low pass filters... \n",
    "\n",
    "# might need only 2 classification output, falls or not falls \n",
    "# not the all datas \n",
    "\n",
    "## try to use gru instead of lstm to avoid overfitting (check arch diag in lesson)\n",
    "\n",
    "def load_and_combine_data(data_folder, sample_percentage=100):\n",
    "    # Recursively search for all activity folders\n",
    "    activity_folders = glob.glob(os.path.join(data_folder, '*'))\n",
    "    \n",
    "    # Create an empty list to store the data\n",
    "    all_data = []\n",
    "\n",
    "    # Iterate through each activity folder\n",
    "    for activity_folder in activity_folders:\n",
    "        print(f\"Processing activity folder: {activity_folder}\")\n",
    "        \n",
    "        # Search for all CSV files within the current activity folder\n",
    "        data_files = glob.glob(os.path.join(activity_folder, '*.csv'))\n",
    "        \n",
    "        # Shuffle the list of data files to ensure random sampling\n",
    "        random.shuffle(data_files)\n",
    "        \n",
    "        # Calculate the number of files to load based on the sample percentage\n",
    "        num_files_to_load = int(len(data_files) * sample_percentage / 100)\n",
    "        \n",
    "        # Iterate through each CSV file in the current activity folder\n",
    "        for i, file in enumerate(data_files):\n",
    "            if i < num_files_to_load:\n",
    "                file_path = os.path.abspath(file)\n",
    "                data = pd.read_csv(file_path)\n",
    "                \n",
    "                # Extract metadata from the filename\n",
    "                parts = os.path.basename(file).split('_')\n",
    "                activity_type = parts[0]\n",
    "                sensor_type = parts[1]\n",
    "                participant_id = parts[2]\n",
    "                trial_no = parts[3].split('.')[0]\n",
    "                \n",
    "                # Add metadata columns to the DataFrame\n",
    "                data['Activity Type'] = activity_type\n",
    "                data['Sensor Type'] = sensor_type\n",
    "                data['Participant ID'] = participant_id\n",
    "                data['Trial No'] = trial_no\n",
    "                \n",
    "                all_data.append(data)\n",
    "                #### print(f\"Loaded {i+1}/{num_files_to_load} files for this activity.\")\n",
    "    \n",
    "    # Concatenate all the loaded data into a single DataFrame\n",
    "    combined_data = pd.concat(all_data, ignore_index=True)\n",
    "    \n",
    "    return combined_data\n",
    "\n",
    "# Define the path to the annotated data folder\n",
    "data_folder = '/kaggle/input/mobiact-dataset-v2/MobiAct_Dataset_v2.0/Annotated Data'\n",
    "sample_percentage = 3  # Load only 30% of the dataset\n",
    "\n",
    "# Load and combine data from all activity folders with sampling\n",
    "combined_data = load_and_combine_data(data_folder, sample_percentage)\n",
    "\n",
    "# Export combined data to a CSV file\n",
    "output_file = 'combined_mobiact_dataset.csv'\n",
    "combined_data.to_csv(output_file, index=False)\n",
    "print(f\"Combined data exported to {output_file}\")"
   ]
  },
  {
   "cell_type": "markdown",
   "id": "5989ea68",
   "metadata": {
    "papermill": {
     "duration": 0.016735,
     "end_time": "2024-09-12T22:36:20.711745",
     "exception": false,
     "start_time": "2024-09-12T22:36:20.695010",
     "status": "completed"
    },
    "tags": []
   },
   "source": [
    "## 1. Load the Combined Dataset\n",
    "We'll load the dataset using pandas."
   ]
  },
  {
   "cell_type": "code",
   "execution_count": 3,
   "id": "4c7e0138",
   "metadata": {
    "execution": {
     "iopub.execute_input": "2024-09-12T22:36:20.748171Z",
     "iopub.status.busy": "2024-09-12T22:36:20.747785Z",
     "iopub.status.idle": "2024-09-12T22:36:21.484003Z",
     "shell.execute_reply": "2024-09-12T22:36:21.483022Z"
    },
    "papermill": {
     "duration": 0.756216,
     "end_time": "2024-09-12T22:36:21.486244",
     "exception": false,
     "start_time": "2024-09-12T22:36:20.730028",
     "status": "completed"
    },
    "tags": []
   },
   "outputs": [
    {
     "data": {
      "text/html": [
       "<div>\n",
       "<style scoped>\n",
       "    .dataframe tbody tr th:only-of-type {\n",
       "        vertical-align: middle;\n",
       "    }\n",
       "\n",
       "    .dataframe tbody tr th {\n",
       "        vertical-align: top;\n",
       "    }\n",
       "\n",
       "    .dataframe thead th {\n",
       "        text-align: right;\n",
       "    }\n",
       "</style>\n",
       "<table border=\"1\" class=\"dataframe\">\n",
       "  <thead>\n",
       "    <tr style=\"text-align: right;\">\n",
       "      <th></th>\n",
       "      <th>timestamp</th>\n",
       "      <th>rel_time</th>\n",
       "      <th>acc_x</th>\n",
       "      <th>acc_y</th>\n",
       "      <th>acc_z</th>\n",
       "      <th>gyro_x</th>\n",
       "      <th>gyro_y</th>\n",
       "      <th>gyro_z</th>\n",
       "      <th>azimuth</th>\n",
       "      <th>pitch</th>\n",
       "      <th>roll</th>\n",
       "      <th>label</th>\n",
       "      <th>Activity Type</th>\n",
       "      <th>Sensor Type</th>\n",
       "      <th>Participant ID</th>\n",
       "      <th>Trial No</th>\n",
       "    </tr>\n",
       "  </thead>\n",
       "  <tbody>\n",
       "    <tr>\n",
       "      <th>0</th>\n",
       "      <td>419803971000</td>\n",
       "      <td>0.000000</td>\n",
       "      <td>1.139463</td>\n",
       "      <td>9.650947</td>\n",
       "      <td>-2.207436</td>\n",
       "      <td>-1.246776</td>\n",
       "      <td>0.748615</td>\n",
       "      <td>0.058338</td>\n",
       "      <td>0.00000</td>\n",
       "      <td>0.000000</td>\n",
       "      <td>-0.000000</td>\n",
       "      <td>STD</td>\n",
       "      <td>FOL</td>\n",
       "      <td>9</td>\n",
       "      <td>1</td>\n",
       "      <td>annotated</td>\n",
       "    </tr>\n",
       "    <tr>\n",
       "      <th>1</th>\n",
       "      <td>419809067000</td>\n",
       "      <td>0.005096</td>\n",
       "      <td>1.055384</td>\n",
       "      <td>9.613112</td>\n",
       "      <td>-2.199028</td>\n",
       "      <td>-1.251663</td>\n",
       "      <td>0.734260</td>\n",
       "      <td>0.066584</td>\n",
       "      <td>359.98425</td>\n",
       "      <td>0.359908</td>\n",
       "      <td>-0.210357</td>\n",
       "      <td>STD</td>\n",
       "      <td>FOL</td>\n",
       "      <td>9</td>\n",
       "      <td>1</td>\n",
       "      <td>annotated</td>\n",
       "    </tr>\n",
       "    <tr>\n",
       "      <th>2</th>\n",
       "      <td>419813981000</td>\n",
       "      <td>0.010010</td>\n",
       "      <td>0.995988</td>\n",
       "      <td>9.586384</td>\n",
       "      <td>-2.193089</td>\n",
       "      <td>-1.244943</td>\n",
       "      <td>0.723875</td>\n",
       "      <td>0.070250</td>\n",
       "      <td>354.89110</td>\n",
       "      <td>15.508077</td>\n",
       "      <td>-0.365986</td>\n",
       "      <td>STD</td>\n",
       "      <td>FOL</td>\n",
       "      <td>9</td>\n",
       "      <td>1</td>\n",
       "      <td>annotated</td>\n",
       "    </tr>\n",
       "    <tr>\n",
       "      <th>3</th>\n",
       "      <td>419818963000</td>\n",
       "      <td>0.014992</td>\n",
       "      <td>0.995988</td>\n",
       "      <td>9.586384</td>\n",
       "      <td>-2.193089</td>\n",
       "      <td>-1.247387</td>\n",
       "      <td>0.708604</td>\n",
       "      <td>0.077885</td>\n",
       "      <td>306.90152</td>\n",
       "      <td>15.817836</td>\n",
       "      <td>20.787685</td>\n",
       "      <td>STD</td>\n",
       "      <td>FOL</td>\n",
       "      <td>9</td>\n",
       "      <td>1</td>\n",
       "      <td>annotated</td>\n",
       "    </tr>\n",
       "    <tr>\n",
       "      <th>4</th>\n",
       "      <td>419824124000</td>\n",
       "      <td>0.020153</td>\n",
       "      <td>0.990052</td>\n",
       "      <td>9.588363</td>\n",
       "      <td>-2.193089</td>\n",
       "      <td>-1.254717</td>\n",
       "      <td>0.689972</td>\n",
       "      <td>0.087354</td>\n",
       "      <td>294.54865</td>\n",
       "      <td>13.428364</td>\n",
       "      <td>13.839194</td>\n",
       "      <td>STD</td>\n",
       "      <td>FOL</td>\n",
       "      <td>9</td>\n",
       "      <td>1</td>\n",
       "      <td>annotated</td>\n",
       "    </tr>\n",
       "  </tbody>\n",
       "</table>\n",
       "</div>"
      ],
      "text/plain": [
       "      timestamp  rel_time     acc_x     acc_y     acc_z    gyro_x    gyro_y  \\\n",
       "0  419803971000  0.000000  1.139463  9.650947 -2.207436 -1.246776  0.748615   \n",
       "1  419809067000  0.005096  1.055384  9.613112 -2.199028 -1.251663  0.734260   \n",
       "2  419813981000  0.010010  0.995988  9.586384 -2.193089 -1.244943  0.723875   \n",
       "3  419818963000  0.014992  0.995988  9.586384 -2.193089 -1.247387  0.708604   \n",
       "4  419824124000  0.020153  0.990052  9.588363 -2.193089 -1.254717  0.689972   \n",
       "\n",
       "     gyro_z    azimuth      pitch       roll label Activity Type  Sensor Type  \\\n",
       "0  0.058338    0.00000   0.000000  -0.000000   STD           FOL            9   \n",
       "1  0.066584  359.98425   0.359908  -0.210357   STD           FOL            9   \n",
       "2  0.070250  354.89110  15.508077  -0.365986   STD           FOL            9   \n",
       "3  0.077885  306.90152  15.817836  20.787685   STD           FOL            9   \n",
       "4  0.087354  294.54865  13.428364  13.839194   STD           FOL            9   \n",
       "\n",
       "   Participant ID   Trial No  \n",
       "0               1  annotated  \n",
       "1               1  annotated  \n",
       "2               1  annotated  \n",
       "3               1  annotated  \n",
       "4               1  annotated  "
      ]
     },
     "execution_count": 3,
     "metadata": {},
     "output_type": "execute_result"
    }
   ],
   "source": [
    "import pandas as pd\n",
    "\n",
    "# Load the combined dataset\n",
    "file_path = '/kaggle/working/combined_mobiact_dataset.csv'\n",
    "df = pd.read_csv(file_path)\n",
    "\n",
    "# Display the first few rows of the dataframe\n",
    "df.head()"
   ]
  },
  {
   "cell_type": "code",
   "execution_count": 4,
   "id": "930e56de",
   "metadata": {
    "execution": {
     "iopub.execute_input": "2024-09-12T22:36:21.522354Z",
     "iopub.status.busy": "2024-09-12T22:36:21.522014Z",
     "iopub.status.idle": "2024-09-12T22:36:21.560801Z",
     "shell.execute_reply": "2024-09-12T22:36:21.559724Z"
    },
    "papermill": {
     "duration": 0.059173,
     "end_time": "2024-09-12T22:36:21.562787",
     "exception": false,
     "start_time": "2024-09-12T22:36:21.503614",
     "status": "completed"
    },
    "tags": []
   },
   "outputs": [
    {
     "name": "stdout",
     "output_type": "stream",
     "text": [
      "            timestamp  rel_time     acc_x     acc_y     acc_z    gyro_x  \\\n",
      "0        419803971000  0.000000  1.139463  9.650947 -2.207436 -1.246776   \n",
      "1        419809067000  0.005096  1.055384  9.613112 -2.199028 -1.251663   \n",
      "2        419813981000  0.010010  0.995988  9.586384 -2.193089 -1.244943   \n",
      "3        419818963000  0.014992  0.995988  9.586384 -2.193089 -1.247387   \n",
      "4        419824124000  0.020153  0.990052  9.588363 -2.193089 -1.254717   \n",
      "...               ...       ...       ...       ...       ...       ...   \n",
      "294393  4128555385000  5.669983  0.936007  9.766326 -1.315045 -0.036346   \n",
      "294394  4128560388000  5.674986  0.947553  9.761023 -1.304702 -0.038179   \n",
      "294395  4128565413000  5.680011  0.966642  9.765795 -1.309475 -0.039401   \n",
      "294396  4128570293000  5.684891  0.966578  9.751933 -1.297663 -0.032376   \n",
      "294397  4128575385000  5.689983  0.942806  9.713898 -1.264383 -0.029016   \n",
      "\n",
      "          gyro_y    gyro_z    azimuth      pitch       roll label  \\\n",
      "0       0.748615  0.058338    0.00000   0.000000  -0.000000   STD   \n",
      "1       0.734260  0.066584  359.98425   0.359908  -0.210357   STD   \n",
      "2       0.723875  0.070250  354.89110  15.508077  -0.365986   STD   \n",
      "3       0.708604  0.077885  306.90152  15.817836  20.787685   STD   \n",
      "4       0.689972  0.087354  294.54865  13.428364  13.839194   STD   \n",
      "...          ...       ...        ...        ...        ...   ...   \n",
      "294393  0.029016  0.014355  284.05550 -99.301285   5.724135   STD   \n",
      "294394  0.031765  0.010079  284.06036 -99.306145   5.722321   STD   \n",
      "294395  0.024740  0.012523  284.06464 -99.312600   5.724550   STD   \n",
      "294396  0.026573  0.011606  284.07360 -99.316040   5.731440   STD   \n",
      "294397  0.023518  0.010690  284.08582 -99.318760   5.738290   STD   \n",
      "\n",
      "       Activity Type  Sensor Type  Participant ID   Trial No  Fall  \n",
      "0                FOL            9               1  annotated     1  \n",
      "1                FOL            9               1  annotated     1  \n",
      "2                FOL            9               1  annotated     1  \n",
      "3                FOL            9               1  annotated     1  \n",
      "4                FOL            9               1  annotated     1  \n",
      "...              ...          ...             ...        ...   ...  \n",
      "294393           CHU            6               4  annotated     0  \n",
      "294394           CHU            6               4  annotated     0  \n",
      "294395           CHU            6               4  annotated     0  \n",
      "294396           CHU            6               4  annotated     0  \n",
      "294397           CHU            6               4  annotated     0  \n",
      "\n",
      "[294398 rows x 17 columns]\n"
     ]
    }
   ],
   "source": [
    "# Assuming 'Type Activity' is the column containing fall types\n",
    "\n",
    "# Create a list of fall types\n",
    "fall_types = ['FOL', 'FKL', 'BSC', 'SDL']\n",
    "\n",
    "# Create a new column 'Fall' to indicate true/false for falls\n",
    "df['Fall'] = df['Activity Type'].isin(fall_types)\n",
    "\n",
    "# Convert 'Fall' column to integer (0 for false, 1 for true)\n",
    "df['Fall'] = df['Fall'].astype(int)\n",
    "\n",
    "# Print to see Fall\n",
    "print(df)"
   ]
  },
  {
   "cell_type": "markdown",
   "id": "ddbe0e41",
   "metadata": {
    "papermill": {
     "duration": 0.01665,
     "end_time": "2024-09-12T22:36:21.596325",
     "exception": false,
     "start_time": "2024-09-12T22:36:21.579675",
     "status": "completed"
    },
    "tags": []
   },
   "source": [
    "## 2. Check the Structure and Summary Statistics\n",
    "We'll examine the structure and summary statistics to understand the dataset better."
   ]
  },
  {
   "cell_type": "code",
   "execution_count": 5,
   "id": "b7b1ba09",
   "metadata": {
    "execution": {
     "iopub.execute_input": "2024-09-12T22:36:21.631586Z",
     "iopub.status.busy": "2024-09-12T22:36:21.630947Z",
     "iopub.status.idle": "2024-09-12T22:36:21.876518Z",
     "shell.execute_reply": "2024-09-12T22:36:21.875439Z"
    },
    "papermill": {
     "duration": 0.265589,
     "end_time": "2024-09-12T22:36:21.878656",
     "exception": false,
     "start_time": "2024-09-12T22:36:21.613067",
     "status": "completed"
    },
    "tags": []
   },
   "outputs": [
    {
     "name": "stdout",
     "output_type": "stream",
     "text": [
      "<class 'pandas.core.frame.DataFrame'>\n",
      "RangeIndex: 294398 entries, 0 to 294397\n",
      "Data columns (total 17 columns):\n",
      " #   Column          Non-Null Count   Dtype  \n",
      "---  ------          --------------   -----  \n",
      " 0   timestamp       294398 non-null  int64  \n",
      " 1   rel_time        294398 non-null  float64\n",
      " 2   acc_x           294398 non-null  float64\n",
      " 3   acc_y           294398 non-null  float64\n",
      " 4   acc_z           294398 non-null  float64\n",
      " 5   gyro_x          294398 non-null  float64\n",
      " 6   gyro_y          294398 non-null  float64\n",
      " 7   gyro_z          294398 non-null  float64\n",
      " 8   azimuth         294398 non-null  float64\n",
      " 9   pitch           294398 non-null  float64\n",
      " 10  roll            294398 non-null  float64\n",
      " 11  label           294398 non-null  object \n",
      " 12  Activity Type   294398 non-null  object \n",
      " 13  Sensor Type     294398 non-null  int64  \n",
      " 14  Participant ID  294398 non-null  int64  \n",
      " 15  Trial No        294398 non-null  object \n",
      " 16  Fall            294398 non-null  int64  \n",
      "dtypes: float64(10), int64(4), object(3)\n",
      "memory usage: 38.2+ MB\n",
      "\n",
      "\n",
      "\n",
      " Activity Type\n"
     ]
    },
    {
     "data": {
      "text/plain": [
       "array(['FOL', 'CSO', 'STU', 'SDL', 'SCH', 'STN', 'WAL', 'CSI', 'FKL',\n",
       "       'JUM', 'BSC', 'STD', 'JOG', 'CHU'], dtype=object)"
      ]
     },
     "execution_count": 5,
     "metadata": {},
     "output_type": "execute_result"
    }
   ],
   "source": [
    "# Display basic information about the dataset\n",
    "df.info()\n",
    "\n",
    "# Display summary statistics\n",
    "df.describe()\n",
    "\n",
    "# Display the unique activities in the dataset\n",
    "print(\"\\n\\n\\n Activity Type\")\n",
    "df['Activity Type'].unique()\n"
   ]
  },
  {
   "cell_type": "markdown",
   "id": "88627c05",
   "metadata": {
    "papermill": {
     "duration": 0.016902,
     "end_time": "2024-09-12T22:36:21.912910",
     "exception": false,
     "start_time": "2024-09-12T22:36:21.896008",
     "status": "completed"
    },
    "tags": []
   },
   "source": [
    "## Visualize the Distribution of Activities"
   ]
  },
  {
   "cell_type": "code",
   "execution_count": 6,
   "id": "12926672",
   "metadata": {
    "execution": {
     "iopub.execute_input": "2024-09-12T22:36:21.949127Z",
     "iopub.status.busy": "2024-09-12T22:36:21.948534Z",
     "iopub.status.idle": "2024-09-12T22:36:23.904603Z",
     "shell.execute_reply": "2024-09-12T22:36:23.903591Z"
    },
    "papermill": {
     "duration": 1.976714,
     "end_time": "2024-09-12T22:36:23.906778",
     "exception": false,
     "start_time": "2024-09-12T22:36:21.930064",
     "status": "completed"
    },
    "tags": []
   },
   "outputs": [
    {
     "data": {
      "image/png": "[encoded data removed]",
      "text/plain": [
       "<Figure size 1200x600 with 1 Axes>"
      ]
     },
     "metadata": {},
     "output_type": "display_data"
    }
   ],
   "source": [
    "import matplotlib.pyplot as plt\n",
    "import seaborn as sns\n",
    "\n",
    "# Count the occurrences of each activity type\n",
    "activity_counts = df['Activity Type'].value_counts()\n",
    "\n",
    "# Calculate the percentage of each activity type\n",
    "activity_percentages = (activity_counts / activity_counts.sum()) * 100\n",
    "\n",
    "# Create a bar plot of the activity distribution\n",
    "plt.figure(figsize=(12, 6))\n",
    "sns.barplot(x=activity_counts.index, y=activity_counts.values, palette='viridis')\n",
    "\n",
    "# Add percentage labels on top of each bar\n",
    "for i, (count, percentage) in enumerate(zip(activity_counts.values, activity_percentages)):\n",
    "    plt.text(i, count + 0.5, f'{percentage:.1f}%', ha='center', fontsize=12)\n",
    "\n",
    "# Set plot labels and title\n",
    "plt.title('Distribution of Activities')\n",
    "plt.xlabel('Activity Type')\n",
    "plt.ylabel('Count')\n",
    "plt.xticks(rotation=45)\n",
    "plt.tight_layout()\n",
    "\n",
    "# Display the plot\n",
    "plt.show()\n"
   ]
  },
  {
   "cell_type": "markdown",
   "id": "bf2ef194",
   "metadata": {
    "papermill": {
     "duration": 0.018007,
     "end_time": "2024-09-12T22:36:23.942784",
     "exception": false,
     "start_time": "2024-09-12T22:36:23.924777",
     "status": "completed"
    },
    "tags": []
   },
   "source": [
    "## 4. Evaluate the Quality of the Dataset\n",
    "We'll check for missing values and inconsistencies to assess the dataset's quality."
   ]
  },
  {
   "cell_type": "code",
   "execution_count": 7,
   "id": "186a8ddc",
   "metadata": {
    "execution": {
     "iopub.execute_input": "2024-09-12T22:36:23.980077Z",
     "iopub.status.busy": "2024-09-12T22:36:23.979546Z",
     "iopub.status.idle": "2024-09-12T22:36:24.354404Z",
     "shell.execute_reply": "2024-09-12T22:36:24.353364Z"
    },
    "papermill": {
     "duration": 0.396134,
     "end_time": "2024-09-12T22:36:24.356703",
     "exception": false,
     "start_time": "2024-09-12T22:36:23.960569",
     "status": "completed"
    },
    "tags": []
   },
   "outputs": [
    {
     "data": {
      "text/plain": [
       "Activity Type\n",
       "STD    20.333358\n",
       "WAL    20.319092\n",
       "JOG    10.079552\n",
       "JUM    10.061549\n",
       "STN     6.605344\n",
       "STU     6.570697\n",
       "CSO     3.877744\n",
       "SCH     3.867893\n",
       "CSI     3.867553\n",
       "FOL     3.338678\n",
       "BSC     3.312183\n",
       "FKL     3.304031\n",
       "SDL     3.303012\n",
       "CHU     1.159315\n",
       "Name: proportion, dtype: float64"
      ]
     },
     "execution_count": 7,
     "metadata": {},
     "output_type": "execute_result"
    }
   ],
   "source": [
    "# Check for missing values\n",
    "missing_values = df.isnull().sum()\n",
    "\n",
    "# Display columns with missing values\n",
    "missing_values[missing_values > 0]\n",
    "\n",
    "# Check for duplicates\n",
    "duplicate_rows = df.duplicated().sum()\n",
    "\n",
    "# Display the number of duplicate rows\n",
    "duplicate_rows\n",
    "\n",
    "# Check the balance of activities\n",
    "activity_balance = df['Activity Type'].value_counts(normalize=True) * 100\n",
    "\n",
    "# Display the balance of activities\n",
    "activity_balance"
   ]
  },
  {
   "cell_type": "markdown",
   "id": "7d55a667",
   "metadata": {
    "papermill": {
     "duration": 0.018204,
     "end_time": "2024-09-12T22:36:24.393728",
     "exception": false,
     "start_time": "2024-09-12T22:36:24.375524",
     "status": "completed"
    },
    "tags": []
   },
   "source": [
    "## 5. Visualize Sensor Data for Each Activity\n",
    "We'll plot sensor data for a few activities to get an idea of the data quality and patterns."
   ]
  },
  {
   "cell_type": "code",
   "execution_count": 8,
   "id": "1fe744b2",
   "metadata": {
    "execution": {
     "iopub.execute_input": "2024-09-12T22:36:24.431908Z",
     "iopub.status.busy": "2024-09-12T22:36:24.431517Z",
     "iopub.status.idle": "2024-09-12T22:36:25.454628Z",
     "shell.execute_reply": "2024-09-12T22:36:25.453741Z"
    },
    "papermill": {
     "duration": 1.044989,
     "end_time": "2024-09-12T22:36:25.456939",
     "exception": false,
     "start_time": "2024-09-12T22:36:24.411950",
     "status": "completed"
    },
    "tags": []
   },
   "outputs": [
    {
     "data": {
      "image/png": "[encoded data removed]",
      "text/plain": [
       "<Figure size 1200x800 with 3 Axes>"
      ]
     },
     "metadata": {},
     "output_type": "display_data"
    }
   ],
   "source": [
    "# Sample a few activities to plot\n",
    "sample_activities = df['Activity Type'].unique()[:3]\n",
    "\n",
    "# Plot sensor data for each sampled activity\n",
    "fig, axes = plt.subplots(len(sample_activities), 1, figsize=(12, 8), sharex=True)\n",
    "\n",
    "for i, activity in enumerate(sample_activities):\n",
    "    activity_data = df[df['Activity Type'] == activity].iloc[:, :-4]  # Exclude metadata columns\n",
    "    activity_data.plot(ax=axes[i], title=activity, legend=False)\n",
    "    axes[i].set_ylabel('Sensor Value')\n",
    "\n",
    "plt.xlabel('Time')\n",
    "plt.show()"
   ]
  },
  {
   "cell_type": "markdown",
   "id": "cdc114c1",
   "metadata": {
    "papermill": {
     "duration": 0.01874,
     "end_time": "2024-09-12T22:36:25.494656",
     "exception": false,
     "start_time": "2024-09-12T22:36:25.475916",
     "status": "completed"
    },
    "tags": []
   },
   "source": [
    "**Housekeeping**\n",
    "\n",
    "Checking for blank values, checking Data Types etc."
   ]
  },
  {
   "cell_type": "code",
   "execution_count": 9,
   "id": "f3d7dae3",
   "metadata": {
    "execution": {
     "iopub.execute_input": "2024-09-12T22:36:25.533839Z",
     "iopub.status.busy": "2024-09-12T22:36:25.533471Z",
     "iopub.status.idle": "2024-09-12T22:36:25.539788Z",
     "shell.execute_reply": "2024-09-12T22:36:25.539025Z"
    },
    "papermill": {
     "duration": 0.02832,
     "end_time": "2024-09-12T22:36:25.541780",
     "exception": false,
     "start_time": "2024-09-12T22:36:25.513460",
     "status": "completed"
    },
    "tags": []
   },
   "outputs": [],
   "source": [
    "def overview(df: pd.DataFrame, timestamp_col: str = None) -> None:\n",
    "    print('Null Count:\\n', df.isnull().sum(),'\\n')\n",
    "    print('Data Types:\\n', df.dtypes)\n",
    "    \n",
    "    if timestamp_col is not None:\n",
    "        print('\\nDate Range:\\n\\nStart:\\t',df[timestamp_col].min())\n",
    "        print('End:\\t',df[timestamp_col].max())\n",
    "        print('Days:\\t',(df[timestamp_col].max() - df[timestamp_col].min()))"
   ]
  },
  {
   "cell_type": "code",
   "execution_count": 10,
   "id": "d938fbf5",
   "metadata": {
    "execution": {
     "iopub.execute_input": "2024-09-12T22:36:25.580389Z",
     "iopub.status.busy": "2024-09-12T22:36:25.580078Z",
     "iopub.status.idle": "2024-09-12T22:36:25.673443Z",
     "shell.execute_reply": "2024-09-12T22:36:25.672357Z"
    },
    "papermill": {
     "duration": 0.115485,
     "end_time": "2024-09-12T22:36:25.675833",
     "exception": false,
     "start_time": "2024-09-12T22:36:25.560348",
     "status": "completed"
    },
    "tags": []
   },
   "outputs": [
    {
     "name": "stdout",
     "output_type": "stream",
     "text": [
      "Null Count:\n",
      " timestamp         0\n",
      "rel_time          0\n",
      "acc_x             0\n",
      "acc_y             0\n",
      "acc_z             0\n",
      "gyro_x            0\n",
      "gyro_y            0\n",
      "gyro_z            0\n",
      "azimuth           0\n",
      "pitch             0\n",
      "roll              0\n",
      "label             0\n",
      "Activity Type     0\n",
      "Sensor Type       0\n",
      "Participant ID    0\n",
      "Trial No          0\n",
      "Fall              0\n",
      "dtype: int64 \n",
      "\n",
      "Data Types:\n",
      " timestamp           int64\n",
      "rel_time          float64\n",
      "acc_x             float64\n",
      "acc_y             float64\n",
      "acc_z             float64\n",
      "gyro_x            float64\n",
      "gyro_y            float64\n",
      "gyro_z            float64\n",
      "azimuth           float64\n",
      "pitch             float64\n",
      "roll              float64\n",
      "label              object\n",
      "Activity Type      object\n",
      "Sensor Type         int64\n",
      "Participant ID      int64\n",
      "Trial No           object\n",
      "Fall                int64\n",
      "dtype: object\n",
      "\n",
      "Date Range:\n",
      "\n",
      "Start:\t 182445681000\n",
      "End:\t 132241493648000\n",
      "Days:\t 132059047967000\n"
     ]
    }
   ],
   "source": [
    "overview(df, timestamp_col='timestamp')"
   ]
  },
  {
   "cell_type": "markdown",
   "id": "2108dd83",
   "metadata": {
    "papermill": {
     "duration": 0.01877,
     "end_time": "2024-09-12T22:36:25.714777",
     "exception": false,
     "start_time": "2024-09-12T22:36:25.696007",
     "status": "completed"
    },
    "tags": []
   },
   "source": [
    "### Pair for each fall types"
   ]
  },
  {
   "cell_type": "code",
   "execution_count": 11,
   "id": "c5f37ee0",
   "metadata": {
    "execution": {
     "iopub.execute_input": "2024-09-12T22:36:25.755517Z",
     "iopub.status.busy": "2024-09-12T22:36:25.755136Z",
     "iopub.status.idle": "2024-09-12T22:36:25.791443Z",
     "shell.execute_reply": "2024-09-12T22:36:25.790296Z"
    },
    "papermill": {
     "duration": 0.059385,
     "end_time": "2024-09-12T22:36:25.793373",
     "exception": false,
     "start_time": "2024-09-12T22:36:25.733988",
     "status": "completed"
    },
    "tags": []
   },
   "outputs": [
    {
     "name": "stdout",
     "output_type": "stream",
     "text": [
      "      timestamp  rel_time     acc_x     acc_y     acc_z    gyro_x    gyro_y  \\\n",
      "0  419803971000  0.000000  1.139463  9.650947 -2.207436 -1.246776  0.748615   \n",
      "1  419809067000  0.005096  1.055384  9.613112 -2.199028 -1.251663  0.734260   \n",
      "2  419813981000  0.010010  0.995988  9.586384 -2.193089 -1.244943  0.723875   \n",
      "3  419818963000  0.014992  0.995988  9.586384 -2.193089 -1.247387  0.708604   \n",
      "4  419824124000  0.020153  0.990052  9.588363 -2.193089 -1.254717  0.689972   \n",
      "\n",
      "     gyro_z    azimuth      pitch       roll label Activity Type  Sensor Type  \\\n",
      "0  0.058338    0.00000   0.000000  -0.000000   STD           FOL            9   \n",
      "1  0.066584  359.98425   0.359908  -0.210357   STD           FOL            9   \n",
      "2  0.070250  354.89110  15.508077  -0.365986   STD           FOL            9   \n",
      "3  0.077885  306.90152  15.817836  20.787685   STD           FOL            9   \n",
      "4  0.087354  294.54865  13.428364  13.839194   STD           FOL            9   \n",
      "\n",
      "   Participant ID   Trial No  Fall  \n",
      "0               1  annotated     1  \n",
      "1               1  annotated     1  \n",
      "2               1  annotated     1  \n",
      "3               1  annotated     1  \n",
      "4               1  annotated     1  \n"
     ]
    }
   ],
   "source": [
    "import seaborn as sns\n",
    "import matplotlib.pyplot as plt\n",
    "import pandas as pd\n",
    "\n",
    "# Assuming you have a DataFrame named 'df' with fall data\n",
    "\n",
    "# Extract fall data based on fall types\n",
    "fall_types = ['FOL', 'FKL', 'BSC', 'SDL']\n",
    "fall_data = df[df['Activity Type'].isin(fall_types)]\n",
    "\n",
    "print(fall_data.head())\n",
    "if True == False :\n",
    "    # Create a pair plot for each fall type\n",
    "    for fall_type in fall_types:\n",
    "        fall_type_data = fall_data[fall_data['Activity Type'] == fall_type]\n",
    "\n",
    "        # Select relevant features for plotting\n",
    "        features = ['acc_x', 'acc_y', 'acc_z', 'gyro_x', 'gyro_y', 'gyro_z']\n",
    "\n",
    "        # Create a pair plot\n",
    "        g = sns.PairGrid(fall_type_data[features], diag_sharey=False)\n",
    "        g.map_upper(sns.scatterplot, alpha=0.5)\n",
    "        g.map_lower(sns.kdeplot, fill=True)\n",
    "        g.map_diag(sns.histplot)\n",
    "\n",
    "        # Add a title to the plot\n",
    "        g.fig.suptitle(f\"Pair Plot for Fall Type: {fall_type}\")\n",
    "\n",
    "        # Show the plot\n",
    "        plt.show()"
   ]
  },
  {
   "cell_type": "markdown",
   "id": "9a51b965",
   "metadata": {
    "papermill": {
     "duration": 0.018638,
     "end_time": "2024-09-12T22:36:25.831101",
     "exception": false,
     "start_time": "2024-09-12T22:36:25.812463",
     "status": "completed"
    },
    "tags": []
   },
   "source": [
    "# Pipeline "
   ]
  },
  {
   "cell_type": "markdown",
   "id": "d3d6b9d4",
   "metadata": {
    "papermill": {
     "duration": 0.018595,
     "end_time": "2024-09-12T22:36:25.868530",
     "exception": false,
     "start_time": "2024-09-12T22:36:25.849935",
     "status": "completed"
    },
    "tags": []
   },
   "source": [
    "#### cuda"
   ]
  },
  {
   "cell_type": "code",
   "execution_count": 12,
   "id": "581994df",
   "metadata": {
    "execution": {
     "iopub.execute_input": "2024-09-12T22:36:25.907490Z",
     "iopub.status.busy": "2024-09-12T22:36:25.907086Z",
     "iopub.status.idle": "2024-09-12T22:36:29.387897Z",
     "shell.execute_reply": "2024-09-12T22:36:29.386718Z"
    },
    "papermill": {
     "duration": 3.503006,
     "end_time": "2024-09-12T22:36:29.390183",
     "exception": false,
     "start_time": "2024-09-12T22:36:25.887177",
     "status": "completed"
    },
    "tags": []
   },
   "outputs": [
    {
     "name": "stdout",
     "output_type": "stream",
     "text": [
      "cuda\n"
     ]
    }
   ],
   "source": [
    "import torch\n",
    "import torch.cuda\n",
    "import torch.nn.functional as F\n",
    "\n",
    "# Set the device to use\n",
    "device = torch.device(\"cuda\" if torch.cuda.is_available() else \"cpu\")\n",
    "print(device)"
   ]
  },
  {
   "cell_type": "markdown",
   "id": "1b419905",
   "metadata": {
    "papermill": {
     "duration": 0.018633,
     "end_time": "2024-09-12T22:36:29.427942",
     "exception": false,
     "start_time": "2024-09-12T22:36:29.409309",
     "status": "completed"
    },
    "tags": []
   },
   "source": [
    "## Explanation"
   ]
  },
  {
   "cell_type": "markdown",
   "id": "bef9d953",
   "metadata": {
    "papermill": {
     "duration": 0.018434,
     "end_time": "2024-09-12T22:36:29.465047",
     "exception": false,
     "start_time": "2024-09-12T22:36:29.446613",
     "status": "completed"
    },
    "tags": []
   },
   "source": [
    "\n",
    "\n",
    "* Data Preparation: We split the normal activities into 80% training and 20% for testing. Fall data is added to the test set.\n",
    "* One-Class SVM: Trained on the normal activities and used to predict anomalies in the test set.\n",
    "* VAE: A simple Variational Autoencoder model is trained on normal data and evaluated on both normal and fall data to calculate the reconstruction error.\n",
    "* Comparison: The reconstruction errors of normal vs. fall activities are plotted, and we expect a separation between them."
   ]
  },
  {
   "cell_type": "code",
   "execution_count": 13,
   "id": "50d910e1",
   "metadata": {
    "execution": {
     "iopub.execute_input": "2024-09-12T22:36:29.504164Z",
     "iopub.status.busy": "2024-09-12T22:36:29.503592Z",
     "iopub.status.idle": "2024-09-12T22:36:29.833364Z",
     "shell.execute_reply": "2024-09-12T22:36:29.832338Z"
    },
    "papermill": {
     "duration": 0.352042,
     "end_time": "2024-09-12T22:36:29.835659",
     "exception": false,
     "start_time": "2024-09-12T22:36:29.483617",
     "status": "completed"
    },
    "tags": []
   },
   "outputs": [],
   "source": [
    "import numpy as np\n",
    "import pandas as pd\n",
    "from sklearn.model_selection import train_test_split\n",
    "from sklearn.svm import OneClassSVM\n",
    "from sklearn.preprocessing import StandardScaler\n",
    "from sklearn.metrics import mean_squared_error\n",
    "import torch\n",
    "import torch.nn as nn\n",
    "import torch.optim as optim\n",
    "from tqdm.auto import tqdm  # For progress tracking\n",
    "from sklearn.decomposition import PCA\n",
    "\n",
    "from sklearn.neighbors import LocalOutlierFactor"
   ]
  },
  {
   "cell_type": "markdown",
   "id": "d334e4b8",
   "metadata": {
    "papermill": {
     "duration": 0.019026,
     "end_time": "2024-09-12T22:36:29.874764",
     "exception": false,
     "start_time": "2024-09-12T22:36:29.855738",
     "status": "completed"
    },
    "tags": []
   },
   "source": [
    "## preprocessing for baseline"
   ]
  },
  {
   "cell_type": "code",
   "execution_count": 14,
   "id": "a8e72fe7",
   "metadata": {
    "execution": {
     "iopub.execute_input": "2024-09-12T22:36:29.914495Z",
     "iopub.status.busy": "2024-09-12T22:36:29.913774Z",
     "iopub.status.idle": "2024-09-12T22:36:30.072423Z",
     "shell.execute_reply": "2024-09-12T22:36:30.071328Z"
    },
    "papermill": {
     "duration": 0.180911,
     "end_time": "2024-09-12T22:36:30.074488",
     "exception": false,
     "start_time": "2024-09-12T22:36:29.893577",
     "status": "completed"
    },
    "tags": []
   },
   "outputs": [
    {
     "name": "stdout",
     "output_type": "stream",
     "text": [
      "Step 2: Data normalization\n"
     ]
    }
   ],
   "source": [
    "## Drop columns\n",
    "try : df = df.drop(['label', 'Activity Type', 'Trial No', 'Sensor Type'], axis=1)  # Simplified dropping\n",
    "except : None\n",
    "    \n",
    "# Step 1: Split Data\n",
    "df_normal = df[df['Fall'] == 0]\n",
    "df_fall = df[df['Fall'] == 1]\n",
    "\n",
    "# 80% of normal data for training, 20% for testing\n",
    "train_data_normal, test_data_normal = train_test_split(df_normal, test_size=0.2, random_state=42)\n",
    "\n",
    "# Test set includes 20% normal + all fall data\n",
    "test_data = pd.concat([test_data_normal, df_fall])\n",
    "\n",
    "\n",
    "X_train = train_data_normal.drop('Fall', axis=1)\n",
    "y_train = train_data_normal['Fall']  \n",
    "\n",
    "X_test = test_data.drop('Fall', axis=1)\n",
    "y_test = test_data['Fall']  \n",
    "\n",
    "\n",
    "# Step 2: Data normalization\n",
    "scaler = StandardScaler()\n",
    "X_train_scaled = scaler.fit_transform(X_train)\n",
    "X_test_scaled = scaler.transform(X_test)\n",
    "print('Step 2: Data normalization')"
   ]
  },
  {
   "cell_type": "markdown",
   "id": "10ebdcf1",
   "metadata": {
    "papermill": {
     "duration": 0.01882,
     "end_time": "2024-09-12T22:36:30.112723",
     "exception": false,
     "start_time": "2024-09-12T22:36:30.093903",
     "status": "completed"
    },
    "tags": []
   },
   "source": [
    "### LocalOutlierFactor "
   ]
  },
  {
   "cell_type": "markdown",
   "id": "39ce84de",
   "metadata": {
    "papermill": {
     "duration": 0.01891,
     "end_time": "2024-09-12T22:36:30.150764",
     "exception": false,
     "start_time": "2024-09-12T22:36:30.131854",
     "status": "completed"
    },
    "tags": []
   },
   "source": [
    "I did use this technic instead of OneclassSVM as suggest by you because, my dataset is a bit too large and there is too many features too be hande by OneclassSVM."
   ]
  },
  {
   "cell_type": "code",
   "execution_count": 15,
   "id": "ea7c11bc",
   "metadata": {
    "execution": {
     "iopub.execute_input": "2024-09-12T22:36:30.189877Z",
     "iopub.status.busy": "2024-09-12T22:36:30.189484Z",
     "iopub.status.idle": "2024-09-12T22:37:16.014342Z",
     "shell.execute_reply": "2024-09-12T22:37:16.013291Z"
    },
    "papermill": {
     "duration": 45.867587,
     "end_time": "2024-09-12T22:37:16.037138",
     "exception": false,
     "start_time": "2024-09-12T22:36:30.169551",
     "status": "completed"
    },
    "tags": []
   },
   "outputs": [
    {
     "name": "stdout",
     "output_type": "stream",
     "text": [
      "Step 2: Baseline Model: One-Class SVM\n",
      "Reconstruction Error (One-Class SVM): 0.062016536263248434\n"
     ]
    }
   ],
   "source": [
    "# Apply PCA to reduce dimensionality as it takes too long \n",
    "pca = PCA(n_components=0.95)  # Retain 95% of variance\n",
    "X_train_pca = pca.fit_transform(X_train_scaled)\n",
    "X_test_pca = pca.transform(X_test_scaled)\n",
    "\n",
    "# Train One-Class SVM on reduced data\n",
    "# Initialize,fit, predict LOF\n",
    "lof = LocalOutlierFactor(n_neighbors=20, contamination=0.1, novelty=True)\n",
    "lof.fit(X_train_pca)\n",
    "y_pred_lof = lof.predict(X_test_pca)\n",
    "\n",
    "# Convert -1 to 1 (fall) and 1 to 0 (normal)\n",
    "y_pred_lof = np.where(y_pred_lof == -1, 1, 0)\n",
    "print('Step 2: Baseline Model: One-Class SVM')\n",
    "\n",
    "\n",
    "# Reconstruction error for One-Class SVM\n",
    "lof_error = mean_squared_error(y_test, y_pred_lof)\n",
    "print(f\"Reconstruction Error (One-Class SVM): {lof_error}\")"
   ]
  },
  {
   "cell_type": "code",
   "execution_count": 16,
   "id": "69ec96b3",
   "metadata": {
    "execution": {
     "iopub.execute_input": "2024-09-12T22:37:16.077606Z",
     "iopub.status.busy": "2024-09-12T22:37:16.076788Z",
     "iopub.status.idle": "2024-09-12T22:37:16.116456Z",
     "shell.execute_reply": "2024-09-12T22:37:16.115418Z"
    },
    "papermill": {
     "duration": 0.062273,
     "end_time": "2024-09-12T22:37:16.118603",
     "exception": false,
     "start_time": "2024-09-12T22:37:16.056330",
     "status": "completed"
    },
    "tags": []
   },
   "outputs": [
    {
     "name": "stdout",
     "output_type": "stream",
     "text": [
      "Accuracy: 0.9380\n",
      "Precision: 0.8819\n",
      "Recall: 0.9893\n",
      "F1-Score: 0.9325\n",
      "Confusion Matrix:\n",
      "[[45903  5171]\n",
      " [  417 38614]]\n"
     ]
    }
   ],
   "source": [
    "from sklearn.metrics import accuracy_score, precision_score, recall_score, f1_score, confusion_matrix\n",
    "\n",
    "# y_test should already be defined (true labels)\n",
    "# y_pred_lof is the predicted labels\n",
    "\n",
    "# Accuracy\n",
    "accuracy = accuracy_score(y_test, y_pred_lof)\n",
    "print(f\"Accuracy: {accuracy:.4f}\")\n",
    "\n",
    "# Precision, Recall, F1-Score\n",
    "precision = precision_score(y_test, y_pred_lof)\n",
    "recall = recall_score(y_test, y_pred_lof)\n",
    "f1 = f1_score(y_test, y_pred_lof)\n",
    "\n",
    "print(f\"Precision: {precision:.4f}\")\n",
    "print(f\"Recall: {recall:.4f}\")\n",
    "print(f\"F1-Score: {f1:.4f}\")\n",
    "\n",
    "# Confusion Matrix\n",
    "conf_matrix = confusion_matrix(y_test, y_pred_lof)\n",
    "print(\"Confusion Matrix:\")\n",
    "print(conf_matrix)\n"
   ]
  },
  {
   "attachments": {
    "f0c09efe-5ec3-481a-9bec-b359780f93ba.png": {
     "image/png": "[encoded data removed]"
    }
   },
   "cell_type": "markdown",
   "id": "3e256d1d",
   "metadata": {
    "papermill": {
     "duration": 0.019058,
     "end_time": "2024-09-12T22:37:16.158251",
     "exception": false,
     "start_time": "2024-09-12T22:37:16.139193",
     "status": "completed"
    },
    "tags": []
   },
   "source": [
    "### Variational Autoencoder\n",
    "\n",
    "![image.png](attachment:f0c09efe-5ec3-481a-9bec-b359780f93ba.png)"
   ]
  },
  {
   "cell_type": "code",
   "execution_count": 17,
   "id": "025a52a7",
   "metadata": {
    "execution": {
     "iopub.execute_input": "2024-09-12T22:37:16.199351Z",
     "iopub.status.busy": "2024-09-12T22:37:16.198466Z",
     "iopub.status.idle": "2024-09-12T22:37:22.128788Z",
     "shell.execute_reply": "2024-09-12T22:37:22.127796Z"
    },
    "papermill": {
     "duration": 5.953581,
     "end_time": "2024-09-12T22:37:22.131178",
     "exception": false,
     "start_time": "2024-09-12T22:37:16.177597",
     "status": "completed"
    },
    "tags": []
   },
   "outputs": [
    {
     "data": {
      "application/vnd.jupyter.widget-view+json": {
       "model_id": "cb86f9f1961c4b5aac44282c8a95414e",
       "version_major": 2,
       "version_minor": 0
      },
      "text/plain": [
       "Training Epochs:   0%|          | 0/500 [00:00<?, ?it/s]"
      ]
     },
     "metadata": {},
     "output_type": "display_data"
    },
    {
     "name": "stdout",
     "output_type": "stream",
     "text": [
      "Reconstruction Error (VAE): 0.8479876518249512 \n",
      "\n",
      "Accuracy (VAE): 0.5763\n",
      "Precision (VAE): 0.5718\n",
      "Recall (VAE): 0.0874\n",
      "F1-Score (VAE): 0.1516\n",
      "Confusion Matrix (VAE):\n",
      "[[48520  2554]\n",
      " [35620  3411]]\n"
     ]
    },
    {
     "data": {
      "image/png": "[encoded data removed]",
      "text/plain": [
       "<Figure size 640x480 with 1 Axes>"
      ]
     },
     "metadata": {},
     "output_type": "display_data"
    }
   ],
   "source": [
    "### Advanced Model: Variational Autoencoder (VAE) ###\n",
    "class VAE(nn.Module):\n",
    "    def __init__(self, input_dim, hidden_dim, latent_dim):\n",
    "        super(VAE, self).__init__()\n",
    "        self.fc1 = nn.Linear(input_dim, hidden_dim)\n",
    "        self.fc2_mu = nn.Linear(hidden_dim, latent_dim)\n",
    "        self.fc2_logvar = nn.Linear(hidden_dim, latent_dim)\n",
    "        self.fc3 = nn.Linear(latent_dim, hidden_dim)\n",
    "        self.fc4 = nn.Linear(hidden_dim, input_dim)\n",
    "\n",
    "    def encode(self, x):\n",
    "        h = torch.relu(self.fc1(x))\n",
    "        return self.fc2_mu(h), self.fc2_logvar(h)\n",
    "\n",
    "    def reparameterize(self, mu, logvar):\n",
    "        std = torch.exp(0.5 * logvar)\n",
    "        eps = torch.randn_like(std)\n",
    "        return mu + eps * std\n",
    "\n",
    "    def decode(self, z):\n",
    "        h = torch.relu(self.fc3(z))\n",
    "        return torch.sigmoid(self.fc4(h))\n",
    "\n",
    "    def forward(self, x):\n",
    "        mu, logvar = self.encode(x)\n",
    "        z = self.reparameterize(mu, logvar)\n",
    "        return self.decode(z), mu, logvar\n",
    "\n",
    "# VAE Training Setup\n",
    "input_dim = X_train_scaled.shape[1]\n",
    "hidden_dim = 32\n",
    "latent_dim = 12\n",
    "vae = VAE(input_dim, hidden_dim, latent_dim).to(device)  # Move model to GPU if available\n",
    "optimizer = optim.Adam(vae.parameters(), lr=0.006)\n",
    "criterion = nn.MSELoss()\n",
    "\n",
    "# Convert data to torch tensors and move them to the GPU if available\n",
    "X_train_tensor = torch.FloatTensor(X_train_scaled).to(device)\n",
    "X_test_tensor = torch.FloatTensor(X_test_scaled).to(device)\n",
    "\n",
    "# VAE Training Loop with tqdm for progress\n",
    "num_epochs = 500\n",
    "vae.train()\n",
    "for epoch in tqdm(range(num_epochs), desc=\"Training Epochs\"):\n",
    "    optimizer.zero_grad()\n",
    "    recon_batch, mu, logvar = vae(X_train_tensor)\n",
    "    loss = criterion(recon_batch, X_train_tensor)\n",
    "    loss.backward()\n",
    "    optimizer.step()\n",
    "    #if epoch % 10 == 0 : \n",
    "    #    tqdm.write(f\"Epoch [{epoch + 1}/{num_epochs}], Loss: {loss.item():.4f}\")\n",
    "\n",
    "# VAE Testing (Reconstruction Error)\n",
    "vae.eval()\n",
    "with torch.no_grad():\n",
    "    recon_test, _, _ = vae(X_test_tensor)\n",
    "    recon_error_vae = torch.mean((recon_test - X_test_tensor) ** 2, dim=1).cpu().numpy()\n",
    "\n",
    "    \n",
    "########################  Metrics ########################\n",
    "    \n",
    "    \n",
    "# Compare Reconstruction Errors\n",
    "print(f\"Reconstruction Error (VAE): {np.mean(recon_error_vae)} \\n\")\n",
    "\n",
    "#Determine a threshold for classification\n",
    "# You could use a heuristic or statistical method like mean + k*std_dev of reconstruction errors on normal data\n",
    "threshold = np.percentile(recon_error_vae[y_test == 0], 95)  # Example: 95th percentile of normal data reconstruction errors\n",
    "\n",
    "# Classify based on reconstruction error\n",
    "y_pred_vae = np.where(recon_error_vae > threshold, 1, 0)  # 1 for fall (anomaly), 0 for normal\n",
    "\n",
    "# Metrics\n",
    "accuracy = accuracy_score(y_test, y_pred_vae)\n",
    "print(f\"Accuracy (VAE): {accuracy:.4f}\")\n",
    "precision = precision_score(y_test, y_pred_vae)\n",
    "recall = recall_score(y_test, y_pred_vae)\n",
    "f1 = f1_score(y_test, y_pred_vae)\n",
    "\n",
    "print(f\"Precision (VAE): {precision:.4f}\")\n",
    "print(f\"Recall (VAE): {recall:.4f}\")\n",
    "print(f\"F1-Score (VAE): {f1:.4f}\")\n",
    "\n",
    "# Confusion Matrix\n",
    "conf_matrix = confusion_matrix(y_test, y_pred_vae)\n",
    "print(\"Confusion Matrix (VAE):\")\n",
    "print(conf_matrix)\n",
    "\n",
    "# Visualize the separation between normal and fall activities\n",
    "plt.hist(recon_error_vae[y_test == 0], bins=50, alpha=0.7, label=\"Normal\")\n",
    "plt.hist(recon_error_vae[y_test == 1], bins=50, alpha=0.7, label=\"Fall\")\n",
    "plt.axvline(x=threshold, color='r', linestyle='--', label=\"Threshold\")\n",
    "plt.xlabel(\"Reconstruction Error\")\n",
    "plt.ylabel(\"Frequency\")\n",
    "plt.legend()\n",
    "plt.show()\n"
   ]
  },
  {
   "cell_type": "markdown",
   "id": "7c14796e",
   "metadata": {
    "papermill": {
     "duration": 0.059261,
     "end_time": "2024-09-12T22:37:22.210879",
     "exception": false,
     "start_time": "2024-09-12T22:37:22.151618",
     "status": "completed"
    },
    "tags": []
   },
   "source": [
    "# Train Models"
   ]
  },
  {
   "cell_type": "code",
   "execution_count": 18,
   "id": "b05758e2",
   "metadata": {
    "execution": {
     "iopub.execute_input": "2024-09-12T22:37:22.253162Z",
     "iopub.status.busy": "2024-09-12T22:37:22.252084Z",
     "iopub.status.idle": "2024-09-12T22:37:22.257338Z",
     "shell.execute_reply": "2024-09-12T22:37:22.256461Z"
    },
    "papermill": {
     "duration": 0.028225,
     "end_time": "2024-09-12T22:37:22.259243",
     "exception": false,
     "start_time": "2024-09-12T22:37:22.231018",
     "status": "completed"
    },
    "tags": []
   },
   "outputs": [],
   "source": [
    "import torch\n",
    "import torch.nn as nn\n",
    "import torch.optim as optim\n",
    "from torch.utils.data import DataLoader, TensorDataset\n",
    "import torch.nn.functional as F"
   ]
  },
  {
   "cell_type": "markdown",
   "id": "c3aa0e1e",
   "metadata": {
    "papermill": {
     "duration": 0.020178,
     "end_time": "2024-09-12T22:37:22.299127",
     "exception": false,
     "start_time": "2024-09-12T22:37:22.278949",
     "status": "completed"
    },
    "tags": []
   },
   "source": [
    "## LSTM model"
   ]
  },
  {
   "cell_type": "code",
   "execution_count": 19,
   "id": "6a711f17",
   "metadata": {
    "execution": {
     "iopub.execute_input": "2024-09-12T22:37:22.342276Z",
     "iopub.status.busy": "2024-09-12T22:37:22.341364Z",
     "iopub.status.idle": "2024-09-12T22:37:22.358269Z",
     "shell.execute_reply": "2024-09-12T22:37:22.357259Z"
    },
    "papermill": {
     "duration": 0.040799,
     "end_time": "2024-09-12T22:37:22.360556",
     "exception": false,
     "start_time": "2024-09-12T22:37:22.319757",
     "status": "completed"
    },
    "tags": []
   },
   "outputs": [],
   "source": [
    "class MHSelfAttention(nn.Module):\n",
    "    def __init__(self, embed_dim, num_heads):\n",
    "        super(MHSelfAttention, self).__init__()\n",
    "        self.num_heads = num_heads\n",
    "        self.embed_dim = embed_dim\n",
    "        self.head_dim = embed_dim // num_heads\n",
    "        assert self.head_dim * num_heads == embed_dim, \"Embedding dimension must be divisible by number of heads\"\n",
    "\n",
    "        self.query = nn.Linear(embed_dim, embed_dim)\n",
    "        self.key = nn.Linear(embed_dim, embed_dim)\n",
    "        self.value = nn.Linear(embed_dim, embed_dim)\n",
    "        self.out = nn.Linear(embed_dim, embed_dim)\n",
    "\n",
    "    def forward(self, x):\n",
    "        batch_size = x.size(0)\n",
    "        Q = self.query(x)\n",
    "        K = self.key(x)\n",
    "        V = self.value(x)\n",
    "\n",
    "        Q = Q.view(batch_size, -1, self.num_heads, self.head_dim).transpose(1, 2)\n",
    "        K = K.view(batch_size, -1, self.num_heads, self.head_dim).transpose(1, 2)\n",
    "        V = V.view(batch_size, -1, self.num_heads, self.head_dim).transpose(1, 2)\n",
    "\n",
    "        scores = torch.matmul(Q, K.transpose(-2, -1)) / torch.sqrt(torch.tensor(self.head_dim, dtype=torch.float32))\n",
    "        attn = F.softmax(scores, dim=-1)\n",
    "        context = torch.matmul(attn, V)\n",
    "\n",
    "        context = context.transpose(1, 2).contiguous().view(batch_size, -1, self.embed_dim)\n",
    "\n",
    "        return self.out(context)\n",
    "\n",
    "class LSTM_SelfAttention(nn.Module):\n",
    "    def __init__(self, input_dim, hidden_dim, output_dim, num_layers, dropout, num_heads, fc_layers, embedding_dim):\n",
    "        super(LSTM_SelfAttention, self).__init__()\n",
    "        self.hidden_dim = hidden_dim\n",
    "        self.num_layers = num_layers\n",
    "        self.num_heads = num_heads\n",
    "        self.embedding_dim = embedding_dim\n",
    "        \n",
    "        self.embedding = nn.Embedding(input_dim, embedding_dim)\n",
    "        self.LSTM = nn.LSTM(embedding_dim, hidden_dim, num_layers, batch_first=True, dropout=dropout)\n",
    "        self.self_attn = MHSelfAttention(embedding_dim, num_heads)\n",
    "        \n",
    "        fc_layer_sizes = [hidden_dim] + fc_layers\n",
    "        self.fc_layers = nn.ModuleList()\n",
    "        for in_size, out_size in zip(fc_layer_sizes[:-1], fc_layer_sizes[1:]):\n",
    "            self.fc_layers.append(nn.Linear(in_size, out_size))\n",
    "            self.fc_layers.append(nn.ReLU())\n",
    "        self.output_layer = nn.Linear(fc_layers[-1], output_dim)\n",
    "\n",
    "    def forward(self, x):\n",
    "        x = self.embedding(x)\n",
    "        x, _ = self.LSTM(x)\n",
    "        x = self.self_attn(x)\n",
    "        \n",
    "        x = x[:, -1, :]  # Use the output of the last timestep or aggregate as needed\n",
    "        \n",
    "        for layer in self.fc_layers:\n",
    "            x = layer(x)\n",
    "        \n",
    "        x = self.output_layer(x).squeeze(-1)  # Ensure output shape is [batch_size]\n",
    "        \n",
    "        return x"
   ]
  },
  {
   "cell_type": "markdown",
   "id": "0c247d55",
   "metadata": {
    "papermill": {
     "duration": 0.019402,
     "end_time": "2024-09-12T22:37:22.399957",
     "exception": false,
     "start_time": "2024-09-12T22:37:22.380555",
     "status": "completed"
    },
    "tags": []
   },
   "source": [
    "## GRU model"
   ]
  },
  {
   "cell_type": "code",
   "execution_count": 20,
   "id": "d67f68cc",
   "metadata": {
    "execution": {
     "iopub.execute_input": "2024-09-12T22:37:22.441674Z",
     "iopub.status.busy": "2024-09-12T22:37:22.440712Z",
     "iopub.status.idle": "2024-09-12T22:37:22.458037Z",
     "shell.execute_reply": "2024-09-12T22:37:22.457091Z"
    },
    "papermill": {
     "duration": 0.040384,
     "end_time": "2024-09-12T22:37:22.459968",
     "exception": false,
     "start_time": "2024-09-12T22:37:22.419584",
     "status": "completed"
    },
    "tags": []
   },
   "outputs": [],
   "source": [
    "import torch\n",
    "import torch.nn as nn\n",
    "import torch.nn.functional as F\n",
    "\n",
    "class MHSelfAttention(nn.Module):\n",
    "    def __init__(self, embed_dim, num_heads):\n",
    "        super(MHSelfAttention, self).__init__()\n",
    "        self.num_heads = num_heads\n",
    "        self.embed_dim = embed_dim\n",
    "        self.head_dim = embed_dim // num_heads\n",
    "        assert self.head_dim * num_heads == embed_dim, \"Embedding dimension must be divisible by number of heads\"\n",
    "\n",
    "        self.query = nn.Linear(embed_dim, embed_dim)\n",
    "        self.key = nn.Linear(embed_dim, embed_dim)\n",
    "        self.value = nn.Linear(embed_dim, embed_dim)\n",
    "        self.out = nn.Linear(embed_dim, embed_dim)\n",
    "\n",
    "    def forward(self, x):\n",
    "        batch_size = x.size(0)\n",
    "        Q = self.query(x)\n",
    "        K = self.key(x)\n",
    "        V = self.value(x)\n",
    "\n",
    "        Q = Q.view(batch_size, -1, self.num_heads, self.head_dim).transpose(1, 2)\n",
    "        K = K.view(batch_size, -1, self.num_heads, self.head_dim).transpose(1, 2)\n",
    "        V = V.view(batch_size, -1, self.num_heads, self.head_dim).transpose(1, 2)\n",
    "\n",
    "        scores = torch.matmul(Q, K.transpose(-2, -1)) / torch.sqrt(torch.tensor(self.head_dim, dtype=torch.float32))\n",
    "        attn = F.softmax(scores, dim=-1)\n",
    "        context = torch.matmul(attn, V)\n",
    "\n",
    "        context = context.transpose(1, 2).contiguous().view(batch_size, -1, self.embed_dim)\n",
    "\n",
    "        return self.out(context)\n",
    "\n",
    "class GRU_SelfAttention(nn.Module):\n",
    "    def __init__(self, input_dim, hidden_dim, output_dim, num_layers, dropout, num_heads, fc_layers, embedding_dim):\n",
    "        super(GRU_SelfAttention, self).__init__()\n",
    "        self.hidden_dim = hidden_dim\n",
    "        self.num_layers = num_layers\n",
    "        self.num_heads = num_heads\n",
    "        self.embedding_dim = embedding_dim\n",
    "        \n",
    "        self.embedding = nn.Embedding(input_dim, embedding_dim)\n",
    "        self.GRU = nn.GRU(embedding_dim, hidden_dim, num_layers, batch_first=True, dropout=dropout)\n",
    "        self.self_attn = MHSelfAttention(embedding_dim, num_heads)\n",
    "        \n",
    "        fc_layer_sizes = [hidden_dim] + fc_layers\n",
    "        self.fc_layers = nn.ModuleList()\n",
    "        for in_size, out_size in zip(fc_layer_sizes[:-1], fc_layer_sizes[1:]):\n",
    "            self.fc_layers.append(nn.Linear(in_size, out_size))\n",
    "            self.fc_layers.append(nn.ReLU())\n",
    "        self.output_layer = nn.Linear(fc_layers[-1], output_dim)\n",
    "\n",
    "    def forward(self, x):\n",
    "        x = self.embedding(x)\n",
    "        x, _ = self.GRU(x)\n",
    "        x = self.self_attn(x)\n",
    "        \n",
    "        x = x[:, -1, :]  # Use the output of the last timestep or aggregate as needed\n",
    "        \n",
    "        for layer in self.fc_layers:\n",
    "            x = layer(x)\n",
    "        \n",
    "        x = self.output_layer(x).squeeze(-1)  # Ensure output shape is [batch_size]\n",
    "        \n",
    "        return x"
   ]
  },
  {
   "cell_type": "markdown",
   "id": "1c4577d4",
   "metadata": {
    "papermill": {
     "duration": 0.019364,
     "end_time": "2024-09-12T22:37:22.499221",
     "exception": false,
     "start_time": "2024-09-12T22:37:22.479857",
     "status": "completed"
    },
    "tags": []
   },
   "source": [
    "#### **drop columns**\n",
    "\n"
   ]
  },
  {
   "cell_type": "code",
   "execution_count": 21,
   "id": "34c4e5b5",
   "metadata": {
    "execution": {
     "iopub.execute_input": "2024-09-12T22:37:22.540570Z",
     "iopub.status.busy": "2024-09-12T22:37:22.539679Z",
     "iopub.status.idle": "2024-09-12T22:37:22.545872Z",
     "shell.execute_reply": "2024-09-12T22:37:22.544979Z"
    },
    "papermill": {
     "duration": 0.028996,
     "end_time": "2024-09-12T22:37:22.547788",
     "exception": false,
     "start_time": "2024-09-12T22:37:22.518792",
     "status": "completed"
    },
    "tags": []
   },
   "outputs": [],
   "source": [
    "try : \n",
    "    df = df.drop('label', axis=1) # as we already encoded the labels with fall (boolean)\n",
    "    df = df.drop('Activity Type', axis=1) # as we already encoded the labels with fall (boolean)\n",
    "    df = df.drop('Trial No', axis=1) # as we already encoded the labels with fall (boolean)\n",
    "    df = df.drop('Sensor Type', axis=1) # as we already encoded the labels with fall (boolean)\n",
    "except:\n",
    "    None"
   ]
  },
  {
   "cell_type": "markdown",
   "id": "8f5c6212",
   "metadata": {
    "papermill": {
     "duration": 0.019539,
     "end_time": "2024-09-12T22:37:22.587250",
     "exception": false,
     "start_time": "2024-09-12T22:37:22.567711",
     "status": "completed"
    },
    "tags": []
   },
   "source": [
    "## Prepare dataset"
   ]
  },
  {
   "cell_type": "markdown",
   "id": "6c4d2070",
   "metadata": {
    "papermill": {
     "duration": 0.019617,
     "end_time": "2024-09-12T22:37:22.626473",
     "exception": false,
     "start_time": "2024-09-12T22:37:22.606856",
     "status": "completed"
    },
    "tags": []
   },
   "source": [
    "#### Classic split of data"
   ]
  },
  {
   "cell_type": "code",
   "execution_count": 22,
   "id": "7b05a911",
   "metadata": {
    "execution": {
     "iopub.execute_input": "2024-09-12T22:37:22.668030Z",
     "iopub.status.busy": "2024-09-12T22:37:22.666968Z",
     "iopub.status.idle": "2024-09-12T22:37:22.803384Z",
     "shell.execute_reply": "2024-09-12T22:37:22.802035Z"
    },
    "papermill": {
     "duration": 0.159549,
     "end_time": "2024-09-12T22:37:22.805741",
     "exception": false,
     "start_time": "2024-09-12T22:37:22.646192",
     "status": "completed"
    },
    "tags": []
   },
   "outputs": [
    {
     "name": "stdout",
     "output_type": "stream",
     "text": [
      "tensor([[ 4.1980e+11,  0.0000e+00,  1.1395e+00,  ...,  0.0000e+00,\n",
      "         -0.0000e+00,  1.0000e+00],\n",
      "        [ 4.1981e+11,  5.0960e-03,  1.0554e+00,  ...,  3.5991e-01,\n",
      "         -2.1036e-01,  1.0000e+00],\n",
      "        [ 4.1981e+11,  1.0010e-02,  9.9599e-01,  ...,  1.5508e+01,\n",
      "         -3.6599e-01,  1.0000e+00],\n",
      "        ...,\n",
      "        [ 4.1286e+12,  5.6800e+00,  9.6664e-01,  ..., -9.9313e+01,\n",
      "          5.7246e+00,  4.0000e+00],\n",
      "        [ 4.1286e+12,  5.6849e+00,  9.6658e-01,  ..., -9.9316e+01,\n",
      "          5.7314e+00,  4.0000e+00],\n",
      "        [ 4.1286e+12,  5.6900e+00,  9.4281e-01,  ..., -9.9319e+01,\n",
      "          5.7383e+00,  4.0000e+00]], dtype=torch.float64)\n"
     ]
    },
    {
     "name": "stderr",
     "output_type": "stream",
     "text": [
      "/tmp/ipykernel_24/3184919072.py:16: UserWarning: To copy construct from a tensor, it is recommended to use sourceTensor.clone().detach() or sourceTensor.clone().detach().requires_grad_(True), rather than torch.tensor(sourceTensor).\n",
      "  X_train = torch.tensor(X_train, dtype=torch.long).to(device)\n",
      "/tmp/ipykernel_24/3184919072.py:17: UserWarning: To copy construct from a tensor, it is recommended to use sourceTensor.clone().detach() or sourceTensor.clone().detach().requires_grad_(True), rather than torch.tensor(sourceTensor).\n",
      "  y_train = torch.tensor(y_train, dtype=torch.long).to(device)\n",
      "/tmp/ipykernel_24/3184919072.py:18: UserWarning: To copy construct from a tensor, it is recommended to use sourceTensor.clone().detach() or sourceTensor.clone().detach().requires_grad_(True), rather than torch.tensor(sourceTensor).\n",
      "  X_test = torch.tensor(X_test, dtype=torch.long).to(device)\n",
      "/tmp/ipykernel_24/3184919072.py:19: UserWarning: To copy construct from a tensor, it is recommended to use sourceTensor.clone().detach() or sourceTensor.clone().detach().requires_grad_(True), rather than torch.tensor(sourceTensor).\n",
      "  y_test = torch.tensor(y_test, dtype=torch.long).to(device)\n"
     ]
    }
   ],
   "source": [
    "import torch\n",
    "import pandas as pd\n",
    "from sklearn.model_selection import train_test_split\n",
    "\n",
    "# Convert non-numeric columns to numeric\n",
    "df = df.apply(pd.to_numeric, errors='coerce')\n",
    "\n",
    "# Separate features (X) and target (y)\n",
    "X = torch.from_numpy(df.drop('Fall', axis=1).values)\n",
    "y = torch.from_numpy(df['Fall'].values)\n",
    "\n",
    "print(X)\n",
    "# Split data into training and testing sets\n",
    "X_train, X_test, y_train, y_test = train_test_split(X, y, test_size=0.2, random_state=42)\n",
    "\n",
    "X_train = torch.tensor(X_train, dtype=torch.long).to(device)\n",
    "y_train = torch.tensor(y_train, dtype=torch.long).to(device)\n",
    "X_test = torch.tensor(X_test, dtype=torch.long).to(device)\n",
    "y_test = torch.tensor(y_test, dtype=torch.long).to(device)\n",
    "\n",
    "X_train = torch.clamp(X_train, min=0, max=X_train.shape[1]-1) # X_train.shape[1] = input_dim\n",
    "X_test = torch.clamp(X_test, min=0, max=X_train.shape[1]-1)\n",
    "\n",
    "# Create DataLoaders\n",
    "batch_size = 64\n",
    "train_data = TensorDataset(X_train, y_train)\n",
    "train_loader = DataLoader(train_data, batch_size=batch_size, shuffle=True)\n",
    "test_data = TensorDataset(X_test, y_test)\n",
    "test_loader = DataLoader(test_data, batch_size=batch_size, shuffle=False)"
   ]
  },
  {
   "cell_type": "markdown",
   "id": "182115cd",
   "metadata": {
    "papermill": {
     "duration": 0.020209,
     "end_time": "2024-09-12T22:37:22.848954",
     "exception": false,
     "start_time": "2024-09-12T22:37:22.828745",
     "status": "completed"
    },
    "tags": []
   },
   "source": [
    "#### split : Test set includes 20% normal dataset + all falls data "
   ]
  },
  {
   "cell_type": "code",
   "execution_count": 23,
   "id": "308c1439",
   "metadata": {
    "execution": {
     "iopub.execute_input": "2024-09-12T22:37:22.891089Z",
     "iopub.status.busy": "2024-09-12T22:37:22.890646Z",
     "iopub.status.idle": "2024-09-12T22:37:22.992376Z",
     "shell.execute_reply": "2024-09-12T22:37:22.991345Z"
    },
    "papermill": {
     "duration": 0.126229,
     "end_time": "2024-09-12T22:37:22.994941",
     "exception": false,
     "start_time": "2024-09-12T22:37:22.868712",
     "status": "completed"
    },
    "tags": []
   },
   "outputs": [],
   "source": [
    "import torch\n",
    "import pandas as pd\n",
    "from sklearn.model_selection import train_test_split\n",
    "from torch.utils.data import DataLoader, TensorDataset\n",
    "\n",
    "# Assuming df is the input DataFrame and 'Fall' is the target column.\n",
    "\n",
    "# Convert non-numeric columns to numeric\n",
    "df = df.apply(pd.to_numeric, errors='coerce')\n",
    "\n",
    "df_normal = df[df['Fall'] == 0]  # Normal activities\n",
    "df_fall = df[df['Fall'] == 1]    # Fall activities\n",
    "\n",
    "# 80% of normal data for training, 20% for testing\n",
    "train_data_normal, test_data_normal = train_test_split(df_normal, test_size=0.2, random_state=42)\n",
    "\n",
    "# Test set includes 20% normal + all fall data\n",
    "test_data = pd.concat([test_data_normal, df_fall])\n",
    "\n",
    "# Step 5: Separate features (X) and target (y) for training and testing sets\n",
    "X_train = train_data_normal.drop('Fall', axis=1)\n",
    "y_train = train_data_normal['Fall']\n",
    "\n",
    "X_test = test_data.drop('Fall', axis=1)\n",
    "y_test = test_data['Fall']\n",
    "\n",
    "# Step 6: Convert pandas DataFrame to PyTorch tensors ahnd device \n",
    "X_train = torch.tensor(X_train.values, dtype=torch.long).to(device)\n",
    "y_train = torch.tensor(y_train.values, dtype=torch.long).to(device)\n",
    "\n",
    "X_test = torch.tensor(X_test.values, dtype=torch.long).to(device)\n",
    "y_test = torch.tensor(y_test.values, dtype=torch.long).to(device)\n",
    "\n",
    "\n",
    "# Step 7: Apply clamping if necessary (to limit the values within a certain range)\n",
    "# Assuming we want to clamp to the valid input feature range\n",
    "input_dim = X_train.shape[1]\n",
    "X_train = torch.clamp(X_train, min=0, max=input_dim-1)  # Adjust clamp as needed\n",
    "X_test = torch.clamp(X_test, min=0, max=input_dim-1)\n",
    "\n",
    "# Step 8: Create DataLoaders for batch processing\n",
    "batch_size = 64\n",
    "train_data = TensorDataset(X_train, y_train)\n",
    "train_loader = DataLoader(train_data, batch_size=batch_size, shuffle=True)\n",
    "\n",
    "test_data = TensorDataset(X_test, y_test)\n",
    "test_loader = DataLoader(test_data, batch_size=batch_size, shuffle=False)"
   ]
  },
  {
   "cell_type": "markdown",
   "id": "73304a60",
   "metadata": {
    "papermill": {
     "duration": 0.019535,
     "end_time": "2024-09-12T22:37:23.035879",
     "exception": false,
     "start_time": "2024-09-12T22:37:23.016344",
     "status": "completed"
    },
    "tags": []
   },
   "source": [
    "## Hyperparameters"
   ]
  },
  {
   "cell_type": "code",
   "execution_count": 24,
   "id": "23f489e4",
   "metadata": {
    "execution": {
     "iopub.execute_input": "2024-09-12T22:37:23.078002Z",
     "iopub.status.busy": "2024-09-12T22:37:23.077574Z",
     "iopub.status.idle": "2024-09-12T22:37:23.083762Z",
     "shell.execute_reply": "2024-09-12T22:37:23.082882Z"
    },
    "papermill": {
     "duration": 0.029574,
     "end_time": "2024-09-12T22:37:23.085824",
     "exception": false,
     "start_time": "2024-09-12T22:37:23.056250",
     "status": "completed"
    },
    "tags": []
   },
   "outputs": [],
   "source": [
    "input_dim = X_train.shape[1]  # Number of input features\n",
    "hidden_dim = 32  # Number of hidden units in LSTM\n",
    "output_dim = 1  # Number of output classes has the num of classes \n",
    "num_layers = 4  # Number of LSTM layers\n",
    "dropout = 0.2  # Dropout probability\n",
    "fc_layers = [32, 16, 8]  # Adjust the number and size of fully connected layers\n",
    "learning_rate = 0.001\n",
    "num_heads = 2  # Number of self-attention heads\n",
    "embedding_dim = 32  # Embedding dimension\n",
    "num_epochs = 5  # Number of training epochs"
   ]
  },
  {
   "cell_type": "code",
   "execution_count": 25,
   "id": "9f411446",
   "metadata": {
    "execution": {
     "iopub.execute_input": "2024-09-12T22:37:23.127727Z",
     "iopub.status.busy": "2024-09-12T22:37:23.127346Z",
     "iopub.status.idle": "2024-09-12T22:37:23.131996Z",
     "shell.execute_reply": "2024-09-12T22:37:23.131028Z"
    },
    "papermill": {
     "duration": 0.02822,
     "end_time": "2024-09-12T22:37:23.134039",
     "exception": false,
     "start_time": "2024-09-12T22:37:23.105819",
     "status": "completed"
    },
    "tags": []
   },
   "outputs": [],
   "source": [
    "# !conda install pytorch torchvision cudatoolkit=9.0 -c pytorch"
   ]
  },
  {
   "cell_type": "markdown",
   "id": "c5e47169",
   "metadata": {
    "papermill": {
     "duration": 0.019773,
     "end_time": "2024-09-12T22:37:23.174191",
     "exception": false,
     "start_time": "2024-09-12T22:37:23.154418",
     "status": "completed"
    },
    "tags": []
   },
   "source": [
    "## Train loop"
   ]
  },
  {
   "cell_type": "code",
   "execution_count": 26,
   "id": "e83fd082",
   "metadata": {
    "execution": {
     "iopub.execute_input": "2024-09-12T22:37:23.216140Z",
     "iopub.status.busy": "2024-09-12T22:37:23.215381Z",
     "iopub.status.idle": "2024-09-12T22:39:48.146291Z",
     "shell.execute_reply": "2024-09-12T22:39:48.145282Z"
    },
    "papermill": {
     "duration": 144.954171,
     "end_time": "2024-09-12T22:39:48.148398",
     "exception": false,
     "start_time": "2024-09-12T22:37:23.194227",
     "status": "completed"
    },
    "tags": []
   },
   "outputs": [
    {
     "name": "stdout",
     "output_type": "stream",
     "text": [
      "Using device: cuda\n"
     ]
    },
    {
     "data": {
      "application/vnd.jupyter.widget-view+json": {
       "model_id": "996150ec8fc54736b8a215e252469675",
       "version_major": 2,
       "version_minor": 0
      },
      "text/plain": [
       "Training Epoch 1:   0%|          | 0/3193 [00:00<?, ?it/s]"
      ]
     },
     "metadata": {},
     "output_type": "display_data"
    },
    {
     "name": "stdout",
     "output_type": "stream",
     "text": [
      "Epoch 1 - Avg Training Loss: 0.0089\n"
     ]
    },
    {
     "data": {
      "application/vnd.jupyter.widget-view+json": {
       "model_id": "92560a9c729349a5ba20397272a4e1f6",
       "version_major": 2,
       "version_minor": 0
      },
      "text/plain": [
       "Evaluating:   0%|          | 0/1408 [00:00<?, ?it/s]"
      ]
     },
     "metadata": {},
     "output_type": "display_data"
    },
    {
     "name": "stdout",
     "output_type": "stream",
     "text": [
      "Test Accuracy: 0.5668\n"
     ]
    },
    {
     "data": {
      "application/vnd.jupyter.widget-view+json": {
       "model_id": "9d081793c3a54c3b8d3810d166e896fa",
       "version_major": 2,
       "version_minor": 0
      },
      "text/plain": [
       "Training Epoch 2:   0%|          | 0/3193 [00:00<?, ?it/s]"
      ]
     },
     "metadata": {},
     "output_type": "display_data"
    },
    {
     "name": "stdout",
     "output_type": "stream",
     "text": [
      "Epoch 2 - Avg Training Loss: 0.0000\n"
     ]
    },
    {
     "data": {
      "application/vnd.jupyter.widget-view+json": {
       "model_id": "407be550654b43b9b1ae8a59ff9538d5",
       "version_major": 2,
       "version_minor": 0
      },
      "text/plain": [
       "Evaluating:   0%|          | 0/1408 [00:00<?, ?it/s]"
      ]
     },
     "metadata": {},
     "output_type": "display_data"
    },
    {
     "name": "stdout",
     "output_type": "stream",
     "text": [
      "Test Accuracy: 0.5668\n"
     ]
    },
    {
     "data": {
      "application/vnd.jupyter.widget-view+json": {
       "model_id": "1823b5263b9942bfb3c8376d5b910e4c",
       "version_major": 2,
       "version_minor": 0
      },
      "text/plain": [
       "Training Epoch 3:   0%|          | 0/3193 [00:00<?, ?it/s]"
      ]
     },
     "metadata": {},
     "output_type": "display_data"
    },
    {
     "name": "stdout",
     "output_type": "stream",
     "text": [
      "Epoch 3 - Avg Training Loss: 0.0000\n"
     ]
    },
    {
     "data": {
      "application/vnd.jupyter.widget-view+json": {
       "model_id": "53be38f4f9274e01bf6bcf4016a3909d",
       "version_major": 2,
       "version_minor": 0
      },
      "text/plain": [
       "Evaluating:   0%|          | 0/1408 [00:00<?, ?it/s]"
      ]
     },
     "metadata": {},
     "output_type": "display_data"
    },
    {
     "name": "stdout",
     "output_type": "stream",
     "text": [
      "Test Accuracy: 0.5668\n"
     ]
    },
    {
     "data": {
      "application/vnd.jupyter.widget-view+json": {
       "model_id": "61218c46feac4f34b186dbd67ed5408e",
       "version_major": 2,
       "version_minor": 0
      },
      "text/plain": [
       "Training Epoch 4:   0%|          | 0/3193 [00:00<?, ?it/s]"
      ]
     },
     "metadata": {},
     "output_type": "display_data"
    },
    {
     "name": "stdout",
     "output_type": "stream",
     "text": [
      "Epoch 4 - Avg Training Loss: 0.0000\n"
     ]
    },
    {
     "data": {
      "application/vnd.jupyter.widget-view+json": {
       "model_id": "e19bb050e2534a6498efbc755809305e",
       "version_major": 2,
       "version_minor": 0
      },
      "text/plain": [
       "Evaluating:   0%|          | 0/1408 [00:00<?, ?it/s]"
      ]
     },
     "metadata": {},
     "output_type": "display_data"
    },
    {
     "name": "stdout",
     "output_type": "stream",
     "text": [
      "Test Accuracy: 0.5668\n"
     ]
    },
    {
     "data": {
      "application/vnd.jupyter.widget-view+json": {
       "model_id": "ab6d97c2950642f884dfdffa5495bd02",
       "version_major": 2,
       "version_minor": 0
      },
      "text/plain": [
       "Training Epoch 5:   0%|          | 0/3193 [00:00<?, ?it/s]"
      ]
     },
     "metadata": {},
     "output_type": "display_data"
    },
    {
     "name": "stdout",
     "output_type": "stream",
     "text": [
      "Epoch 5 - Avg Training Loss: 0.0000\n"
     ]
    },
    {
     "data": {
      "application/vnd.jupyter.widget-view+json": {
       "model_id": "a4365fb4265e41269d1a84109d1c9d7d",
       "version_major": 2,
       "version_minor": 0
      },
      "text/plain": [
       "Evaluating:   0%|          | 0/1408 [00:00<?, ?it/s]"
      ]
     },
     "metadata": {},
     "output_type": "display_data"
    },
    {
     "name": "stdout",
     "output_type": "stream",
     "text": [
      "Test Accuracy: 0.5668\n"
     ]
    }
   ],
   "source": [
    "import torch\n",
    "import torch.nn as nn\n",
    "import torch.optim as optim\n",
    "from torch.utils.tensorboard import SummaryWriter\n",
    "from tqdm.auto import tqdm\n",
    "import matplotlib.pyplot as plt\n",
    "import seaborn as sns\n",
    "from sklearn.metrics import confusion_matrix, classification_report\n",
    "\n",
    "# Initialize device\n",
    "device = torch.device('cuda' if torch.cuda.is_available() else 'cpu')\n",
    "print(f\"Using device: {device}\")\n",
    "\n",
    "# Initialize model, criterion, and optimizer\n",
    "# model = LSTM_SelfAttention(input_dim, hidden_dim, output_dim, num_layers, dropout, num_heads, fc_layers, embedding_dim)\n",
    "model = GRU_SelfAttention(input_dim, hidden_dim, output_dim, num_layers, dropout, num_heads, fc_layers, embedding_dim)\n",
    "\n",
    "# Wrap model with DataParallel if multiple GPUs are available\n",
    "if torch.cuda.device_count() > 1:\n",
    "    print(f\"Using {torch.cuda.device_count()} GPUs\")\n",
    "    model = nn.DataParallel(model)\n",
    "\n",
    "model = model.to(device)\n",
    "\n",
    "criterion = nn.BCEWithLogitsLoss()\n",
    "optimizer = optim.Adam(model.parameters(), lr=learning_rate)\n",
    "\n",
    "# Initialize TensorBoard SummaryWriter\n",
    "log_name = f\"GRU_SelfAttention_epochs_{num_epochs}_lr_{learning_rate}_batch_{batch_size}_layers_{'_'.join(map(str, fc_layers))}_heads_{num_heads}\"\n",
    "log_dir = f\"./logs/{log_name}\"\n",
    "writer = SummaryWriter(log_dir, filename_suffix=log_name)\n",
    "\n",
    "# Lists to store losses and accuracies for plotting\n",
    "train_losses = []\n",
    "test_accuracies = []\n",
    "\n",
    "# Variables to accumulate true labels and predictions across all epochs\n",
    "y_true_all = []\n",
    "y_pred_all = []\n",
    "\n",
    "# Function to train the model for one epoch\n",
    "def train_one_epoch(epoch, model, train_loader, criterion, optimizer):\n",
    "    model.train()\n",
    "    total_loss = 0\n",
    "    for batch_idx, (X_batch, y_batch) in enumerate(tqdm(train_loader, desc=f'Training Epoch {epoch+1}', leave=False)):\n",
    "        X_batch, y_batch = X_batch.to(device), y_batch.to(device).float()\n",
    "        \n",
    "        optimizer.zero_grad()\n",
    "        outputs = model(X_batch)\n",
    "        # print(outputs)\n",
    "        loss = criterion(outputs, y_batch)\n",
    "        loss.backward()\n",
    "        optimizer.step()\n",
    "\n",
    "        total_loss += loss.item()\n",
    "        writer.add_scalar('Loss/Train', loss.item(), epoch * len(train_loader) + batch_idx)\n",
    "    \n",
    "    avg_loss = total_loss / len(train_loader)\n",
    "    train_losses.append(avg_loss)\n",
    "    print(f\"Epoch {epoch+1} - Avg Training Loss: {avg_loss:.4f}\")\n",
    "    return avg_loss\n",
    "\n",
    "# Function to evaluate the model and accumulate predictions and true labels\n",
    "def evaluate_and_accumulate(model, test_loader, y_true_all, y_pred_all):\n",
    "    model.eval()\n",
    "    total_accuracy = 0\n",
    "\n",
    "    with torch.no_grad():\n",
    "        for X_batch, y_batch in tqdm(test_loader, desc='Evaluating', leave=False):\n",
    "            X_batch, y_batch = X_batch.to(device), y_batch.to(device).float()\n",
    "            outputs = model(X_batch)\n",
    "            y_hat = torch.round(torch.sigmoid(outputs))  # Binarized predictions\n",
    "            accuracy = (y_hat == y_batch).sum().item() / len(y_batch)\n",
    "            total_accuracy += accuracy\n",
    "            \n",
    "            # Accumulate true and predicted labels for confusion matrix\n",
    "            y_true_all.extend(y_batch.cpu().numpy())\n",
    "            y_pred_all.extend(y_hat.cpu().numpy())\n",
    "\n",
    "    avg_accuracy = total_accuracy / len(test_loader)\n",
    "    test_accuracies.append(avg_accuracy)\n",
    "    print(f\"Test Accuracy: {avg_accuracy:.4f}\")\n",
    "    \n",
    "    return avg_accuracy\n",
    "\n",
    "# Main training loop\n",
    "for epoch in range(num_epochs):\n",
    "    train_one_epoch(epoch, model, train_loader, criterion, optimizer)\n",
    "    evaluate_and_accumulate(model, test_loader, y_true_all, y_pred_all)\n",
    "\n",
    "# Save the model\n",
    "torch.save(model.state_dict(), 'model.pth')\n",
    "\n",
    "# Close TensorBoard writer\n",
    "writer.close()\n"
   ]
  },
  {
   "cell_type": "markdown",
   "id": "8f4c754b",
   "metadata": {
    "papermill": {
     "duration": 0.023149,
     "end_time": "2024-09-12T22:39:48.194540",
     "exception": false,
     "start_time": "2024-09-12T22:39:48.171391",
     "status": "completed"
    },
    "tags": []
   },
   "source": [
    "## Test visualization model"
   ]
  },
  {
   "cell_type": "code",
   "execution_count": 27,
   "id": "c4686546",
   "metadata": {
    "execution": {
     "iopub.execute_input": "2024-09-12T22:39:48.244344Z",
     "iopub.status.busy": "2024-09-12T22:39:48.243602Z",
     "iopub.status.idle": "2024-09-12T22:39:49.147137Z",
     "shell.execute_reply": "2024-09-12T22:39:49.146159Z"
    },
    "papermill": {
     "duration": 0.931359,
     "end_time": "2024-09-12T22:39:49.149402",
     "exception": false,
     "start_time": "2024-09-12T22:39:48.218043",
     "status": "completed"
    },
    "tags": []
   },
   "outputs": [
    {
     "data": {
      "image/png": "[encoded data removed]",
      "text/plain": [
       "<Figure size 800x600 with 2 Axes>"
      ]
     },
     "metadata": {},
     "output_type": "display_data"
    }
   ],
   "source": [
    "# Generate final confusion matrix and heatmap after all epochs\n",
    "conf_matrix = confusion_matrix(y_true_all, y_pred_all)\n",
    "plt.figure(figsize=(8, 6))\n",
    "sns.heatmap(conf_matrix, annot=True, fmt=\"d\", cmap=\"Blues\", xticklabels=[\"Negative\", \"Positive\"], yticklabels=[\"Negative\", \"Positive\"])\n",
    "plt.title(\"Final Confusion Matrix\")\n",
    "plt.xlabel(\"Predicted\")\n",
    "plt.ylabel(\"Actual\")\n",
    "# plt.savefig(\"final_confusion_matrix.png\")\n",
    "plt.show()"
   ]
  },
  {
   "cell_type": "code",
   "execution_count": 28,
   "id": "4260e618",
   "metadata": {
    "execution": {
     "iopub.execute_input": "2024-09-12T22:39:49.198254Z",
     "iopub.status.busy": "2024-09-12T22:39:49.197737Z",
     "iopub.status.idle": "2024-09-12T22:39:49.986206Z",
     "shell.execute_reply": "2024-09-12T22:39:49.985275Z"
    },
    "papermill": {
     "duration": 0.816239,
     "end_time": "2024-09-12T22:39:49.989227",
     "exception": false,
     "start_time": "2024-09-12T22:39:49.172988",
     "status": "completed"
    },
    "tags": []
   },
   "outputs": [
    {
     "name": "stderr",
     "output_type": "stream",
     "text": [
      "/opt/conda/lib/python3.10/site-packages/sklearn/metrics/_classification.py:1344: UndefinedMetricWarning: Precision and F-score are ill-defined and being set to 0.0 in labels with no predicted samples. Use `zero_division` parameter to control this behavior.\n",
      "  _warn_prf(average, modifier, msg_start, len(result))\n"
     ]
    },
    {
     "name": "stdout",
     "output_type": "stream",
     "text": [
      "Classification Report:\n",
      "               precision    recall  f1-score   support\n",
      "\n",
      "    Non-Fall       0.57      1.00      0.72    255370\n",
      "        Fall       0.00      0.00      0.00    195155\n",
      "\n",
      "    accuracy                           0.57    450525\n",
      "   macro avg       0.28      0.50      0.36    450525\n",
      "weighted avg       0.32      0.57      0.41    450525\n",
      "\n"
     ]
    },
    {
     "name": "stderr",
     "output_type": "stream",
     "text": [
      "/opt/conda/lib/python3.10/site-packages/sklearn/metrics/_classification.py:1344: UndefinedMetricWarning: Precision and F-score are ill-defined and being set to 0.0 in labels with no predicted samples. Use `zero_division` parameter to control this behavior.\n",
      "  _warn_prf(average, modifier, msg_start, len(result))\n",
      "/opt/conda/lib/python3.10/site-packages/sklearn/metrics/_classification.py:1344: UndefinedMetricWarning: Precision and F-score are ill-defined and being set to 0.0 in labels with no predicted samples. Use `zero_division` parameter to control this behavior.\n",
      "  _warn_prf(average, modifier, msg_start, len(result))\n"
     ]
    }
   ],
   "source": [
    "from sklearn.metrics import classification_report\n",
    "\n",
    "# Generate classification report\n",
    "class_report = classification_report(y_true_all, y_pred_all, target_names=[\"Non-Fall\", \"Fall\"])\n",
    "print(\"Classification Report:\\n\", class_report)"
   ]
  },
  {
   "cell_type": "markdown",
   "id": "640e48b1",
   "metadata": {
    "papermill": {
     "duration": 0.023177,
     "end_time": "2024-09-12T22:39:50.036218",
     "exception": false,
     "start_time": "2024-09-12T22:39:50.013041",
     "status": "completed"
    },
    "tags": []
   },
   "source": [
    "### Tensorboard"
   ]
  },
  {
   "cell_type": "code",
   "execution_count": 29,
   "id": "7afb9c05",
   "metadata": {
    "execution": {
     "iopub.execute_input": "2024-09-12T22:39:50.084329Z",
     "iopub.status.busy": "2024-09-12T22:39:50.083872Z",
     "iopub.status.idle": "2024-09-12T22:39:56.620411Z",
     "shell.execute_reply": "2024-09-12T22:39:56.619379Z"
    },
    "papermill": {
     "duration": 6.562991,
     "end_time": "2024-09-12T22:39:56.622392",
     "exception": false,
     "start_time": "2024-09-12T22:39:50.059401",
     "status": "completed"
    },
    "tags": []
   },
   "outputs": [
    {
     "data": {
      "text/html": [
       "\n",
       "      <iframe id=\"tensorboard-frame-f6fa4040442a218b\" width=\"100%\" height=\"800\" frameborder=\"0\">\n",
       "      </iframe>\n",
       "      <script>\n",
       "        (function() {\n",
       "          const frame = document.getElementById(\"tensorboard-frame-f6fa4040442a218b\");\n",
       "          const url = new URL(\"/\", window.location);\n",
       "          const port = 6006;\n",
       "          if (port) {\n",
       "            url.port = port;\n",
       "          }\n",
       "          frame.src = url;\n",
       "        })();\n",
       "      </script>\n",
       "    "
      ],
      "text/plain": [
       "<IPython.core.display.HTML object>"
      ]
     },
     "metadata": {},
     "output_type": "display_data"
    }
   ],
   "source": [
    "%load_ext tensorboard\n",
    "%reload_ext tensorboard\n",
    "%tensorboard --logdir \"/kaggle/working/logs\""
   ]
  },
  {
   "cell_type": "markdown",
   "id": "628cb0bd",
   "metadata": {
    "papermill": {
     "duration": 0.023367,
     "end_time": "2024-09-12T22:39:56.669688",
     "exception": false,
     "start_time": "2024-09-12T22:39:56.646321",
     "status": "completed"
    },
    "tags": []
   },
   "source": [
    "# Results and explanation "
   ]
  },
  {
   "attachments": {
    "442f1b94-a6dd-4ddb-8d4f-fb1a73d7128a.png": {
     "image/png": "[encoded data removed]"
    }
   },
   "cell_type": "markdown",
   "id": "d2d5d5d6",
   "metadata": {
    "papermill": {
     "duration": 0.023105,
     "end_time": "2024-09-12T22:39:56.716048",
     "exception": false,
     "start_time": "2024-09-12T22:39:56.692943",
     "status": "completed"
    },
    "tags": []
   },
   "source": [
    "### CNNs\n",
    "\n",
    "I have obtain really different result from the two different way of split the dataset with the same models (GRU_SelfAttention and LSTM_SelfAttention).\n",
    "\n",
    "#### Classic split as 80% of the all dataset on Training, 20% on testing :\n",
    "- We can see that i reached 97% accuracy with GRU\n",
    "![image.png](attachment:442f1b94-a6dd-4ddb-8d4f-fb1a73d7128a.png)\n",
    "\n",
    "\n",
    "#### Test on the fall data + 20% of normal activities : \n",
    "i tried a lot of different thing and i could not have even have one fall activity well identify. \n"
   ]
  }
 ],
 "metadata": {
  "kaggle": {
   "accelerator": "gpu",
   "dataSources": [
    {
     "datasetId": 5313174,
     "sourceId": 8830477,
     "sourceType": "datasetVersion"
    }
   ],
   "isGpuEnabled": true,
   "isInternetEnabled": true,
   "language": "python",
   "sourceType": "notebook"
  },
  "kernelspec": {
   "display_name": "Python 3",
   "language": "python",
   "name": "python3"
  },
  "language_info": {
   "codemirror_mode": {
    "name": "ipython",
    "version": 3
   },
   "file_extension": ".py",
   "mimetype": "text/x-python",
   "name": "python",
   "nbconvert_exporter": "python",
   "pygments_lexer": "ipython3",
   "version": "3.10.14"
  },
  "papermill": {
   "default_parameters": {},
   "duration": 231.461262,
   "end_time": "2024-09-12T22:39:59.461932",
   "environment_variables": {},
   "exception": null,
   "input_path": "__notebook__.ipynb",
   "output_path": "__notebook__.ipynb",
   "parameters": {},
   "start_time": "2024-09-12T22:36:08.000670",
   "version": "2.6.0"
  },
  "widgets": {
   "application/vnd.jupyter.widget-state+json": {
    "state": {
     "0146b66e0d6d470f9faea1da2e9aa690": {
      "model_module": "@jupyter-widgets/controls",
      "model_module_version": "1.5.0",
      "model_name": "ProgressStyleModel",
      "state": {
       "_model_module": "@jupyter-widgets/controls",
       "_model_module_version": "1.5.0",
       "_model_name": "ProgressStyleModel",
       "_view_count": null,
       "_view_module": "@jupyter-widgets/base",
       "_view_module_version": "1.2.0",
       "_view_name": "StyleView",
       "bar_color": null,
       "description_width": ""
      }
     },
     "01f355ca5ba64d1199b3f2980507bc55": {
      "model_module": "@jupyter-widgets/controls",
      "model_module_version": "1.5.0",
      "model_name": "HTMLModel",
      "state": {
       "_dom_classes": [],
       "_model_module": "@jupyter-widgets/controls",
       "_model_module_version": "1.5.0",
       "_model_name": "HTMLModel",
       "_view_count": null,
       "_view_module": "@jupyter-widgets/controls",
       "_view_module_version": "1.5.0",
       "_view_name": "HTMLView",
       "description": "",
       "description_tooltip": null,
       "layout": "IPY_MODEL_0cf2b484b3bd40f398c6dd4b41476815",
       "placeholder": "​",
       "style": "IPY_MODEL_86b24824e67a459383fe0f3c0354763c",
       "value": " 3186/3193 [00:23&lt;00:00, 113.87it/s]"
      }
     },
     "0323a7223dcc4d02b6d433899b336212": {
      "model_module": "@jupyter-widgets/controls",
      "model_module_version": "1.5.0",
      "model_name": "DescriptionStyleModel",
      "state": {
       "_model_module": "@jupyter-widgets/controls",
       "_model_module_version": "1.5.0",
       "_model_name": "DescriptionStyleModel",
       "_view_count": null,
       "_view_module": "@jupyter-widgets/base",
       "_view_module_version": "1.2.0",
       "_view_name": "StyleView",
       "description_width": ""
      }
     },
     "0342607dedfa45a089146b2f4f653fa4": {
      "model_module": "@jupyter-widgets/controls",
      "model_module_version": "1.5.0",
      "model_name": "DescriptionStyleModel",
      "state": {
       "_model_module": "@jupyter-widgets/controls",
       "_model_module_version": "1.5.0",
       "_model_name": "DescriptionStyleModel",
       "_view_count": null,
       "_view_module": "@jupyter-widgets/base",
       "_view_module_version": "1.2.0",
       "_view_name": "StyleView",
       "description_width": ""
      }
     },
     "038caf75f66143958aa9c0abff9c7e9c": {
      "model_module": "@jupyter-widgets/controls",
      "model_module_version": "1.5.0",
      "model_name": "HTMLModel",
      "state": {
       "_dom_classes": [],
       "_model_module": "@jupyter-widgets/controls",
       "_model_module_version": "1.5.0",
       "_model_name": "HTMLModel",
       "_view_count": null,
       "_view_module": "@jupyter-widgets/controls",
       "_view_module_version": "1.5.0",
       "_view_name": "HTMLView",
       "description": "",
       "description_tooltip": null,
       "layout": "IPY_MODEL_7825ce7cb84043d482fb0c57f08faa4c",
       "placeholder": "​",
       "style": "IPY_MODEL_ca830b9cc73141b693d563cfeaa5e3ee",
       "value": " 500/500 [00:03&lt;00:00, 155.94it/s]"
      }
     },
     "094dbd33bd5c4981a4ab3c260b47fa26": {
      "model_module": "@jupyter-widgets/base",
      "model_module_version": "1.2.0",
      "model_name": "LayoutModel",
      "state": {
       "_model_module": "@jupyter-widgets/base",
       "_model_module_version": "1.2.0",
       "_model_name": "LayoutModel",
       "_view_count": null,
       "_view_module": "@jupyter-widgets/base",
       "_view_module_version": "1.2.0",
       "_view_name": "LayoutView",
       "align_content": null,
       "align_items": null,
       "align_self": null,
       "border": null,
       "bottom": null,
       "display": null,
       "flex": null,
       "flex_flow": null,
       "grid_area": null,
       "grid_auto_columns": null,
       "grid_auto_flow": null,
       "grid_auto_rows": null,
       "grid_column": null,
       "grid_gap": null,
       "grid_row": null,
       "grid_template_areas": null,
       "grid_template_columns": null,
       "grid_template_rows": null,
       "height": null,
       "justify_content": null,
       "justify_items": null,
       "left": null,
       "margin": null,
       "max_height": null,
       "max_width": null,
       "min_height": null,
       "min_width": null,
       "object_fit": null,
       "object_position": null,
       "order": null,
       "overflow": null,
       "overflow_x": null,
       "overflow_y": null,
       "padding": null,
       "right": null,
       "top": null,
       "visibility": "hidden",
       "width": null
      }
     },
     "099119be0c4c48e88c9936f8f1c0fcfd": {
      "model_module": "@jupyter-widgets/base",
      "model_module_version": "1.2.0",
      "model_name": "LayoutModel",
      "state": {
       "_model_module": "@jupyter-widgets/base",
       "_model_module_version": "1.2.0",
       "_model_name": "LayoutModel",
       "_view_count": null,
       "_view_module": "@jupyter-widgets/base",
       "_view_module_version": "1.2.0",
       "_view_name": "LayoutView",
       "align_content": null,
       "align_items": null,
       "align_self": null,
       "border": null,
       "bottom": null,
       "display": null,
       "flex": null,
       "flex_flow": null,
       "grid_area": null,
       "grid_auto_columns": null,
       "grid_auto_flow": null,
       "grid_auto_rows": null,
       "grid_column": null,
       "grid_gap": null,
       "grid_row": null,
       "grid_template_areas": null,
       "grid_template_columns": null,
       "grid_template_rows": null,
       "height": null,
       "justify_content": null,
       "justify_items": null,
       "left": null,
       "margin": null,
       "max_height": null,
       "max_width": null,
       "min_height": null,
       "min_width": null,
       "object_fit": null,
       "object_position": null,
       "order": null,
       "overflow": null,
       "overflow_x": null,
       "overflow_y": null,
       "padding": null,
       "right": null,
       "top": null,
       "visibility": "hidden",
       "width": null
      }
     },
     "0a9c77d141cb4d0bb322c7cd44ce680b": {
      "model_module": "@jupyter-widgets/base",
      "model_module_version": "1.2.0",
      "model_name": "LayoutModel",
      "state": {
       "_model_module": "@jupyter-widgets/base",
       "_model_module_version": "1.2.0",
       "_model_name": "LayoutModel",
       "_view_count": null,
       "_view_module": "@jupyter-widgets/base",
       "_view_module_version": "1.2.0",
       "_view_name": "LayoutView",
       "align_content": null,
       "align_items": null,
       "align_self": null,
       "border": null,
       "bottom": null,
       "display": null,
       "flex": null,
       "flex_flow": null,
       "grid_area": null,
       "grid_auto_columns": null,
       "grid_auto_flow": null,
       "grid_auto_rows": null,
       "grid_column": null,
       "grid_gap": null,
       "grid_row": null,
       "grid_template_areas": null,
       "grid_template_columns": null,
       "grid_template_rows": null,
       "height": null,
       "justify_content": null,
       "justify_items": null,
       "left": null,
       "margin": null,
       "max_height": null,
       "max_width": null,
       "min_height": null,
       "min_width": null,
       "object_fit": null,
       "object_position": null,
       "order": null,
       "overflow": null,
       "overflow_x": null,
       "overflow_y": null,
       "padding": null,
       "right": null,
       "top": null,
       "visibility": "hidden",
       "width": null
      }
     },
     "0bf55c32750d4fcfa991e5d6713b8522": {
      "model_module": "@jupyter-widgets/controls",
      "model_module_version": "1.5.0",
      "model_name": "DescriptionStyleModel",
      "state": {
       "_model_module": "@jupyter-widgets/controls",
       "_model_module_version": "1.5.0",
       "_model_name": "DescriptionStyleModel",
       "_view_count": null,
       "_view_module": "@jupyter-widgets/base",
       "_view_module_version": "1.2.0",
       "_view_name": "StyleView",
       "description_width": ""
      }
     },
     "0cf2b484b3bd40f398c6dd4b41476815": {
      "model_module": "@jupyter-widgets/base",
      "model_module_version": "1.2.0",
      "model_name": "LayoutModel",
      "state": {
       "_model_module": "@jupyter-widgets/base",
       "_model_module_version": "1.2.0",
       "_model_name": "LayoutModel",
       "_view_count": null,
       "_view_module": "@jupyter-widgets/base",
       "_view_module_version": "1.2.0",
       "_view_name": "LayoutView",
       "align_content": null,
       "align_items": null,
       "align_self": null,
       "border": null,
       "bottom": null,
       "display": null,
       "flex": null,
       "flex_flow": null,
       "grid_area": null,
       "grid_auto_columns": null,
       "grid_auto_flow": null,
       "grid_auto_rows": null,
       "grid_column": null,
       "grid_gap": null,
       "grid_row": null,
       "grid_template_areas": null,
       "grid_template_columns": null,
       "grid_template_rows": null,
       "height": null,
       "justify_content": null,
       "justify_items": null,
       "left": null,
       "margin": null,
       "max_height": null,
       "max_width": null,
       "min_height": null,
       "min_width": null,
       "object_fit": null,
       "object_position": null,
       "order": null,
       "overflow": null,
       "overflow_x": null,
       "overflow_y": null,
       "padding": null,
       "right": null,
       "top": null,
       "visibility": null,
       "width": null
      }
     },
     "1329f30ef0cf4e71889a7ad10188db38": {
      "model_module": "@jupyter-widgets/controls",
      "model_module_version": "1.5.0",
      "model_name": "ProgressStyleModel",
      "state": {
       "_model_module": "@jupyter-widgets/controls",
       "_model_module_version": "1.5.0",
       "_model_name": "ProgressStyleModel",
       "_view_count": null,
       "_view_module": "@jupyter-widgets/base",
       "_view_module_version": "1.2.0",
       "_view_name": "StyleView",
       "bar_color": null,
       "description_width": ""
      }
     },
     "175bead4599344a7a9341c52fef2877f": {
      "model_module": "@jupyter-widgets/controls",
      "model_module_version": "1.5.0",
      "model_name": "HTMLModel",
      "state": {
       "_dom_classes": [],
       "_model_module": "@jupyter-widgets/controls",
       "_model_module_version": "1.5.0",
       "_model_name": "HTMLModel",
       "_view_count": null,
       "_view_module": "@jupyter-widgets/controls",
       "_view_module_version": "1.5.0",
       "_view_name": "HTMLView",
       "description": "",
       "description_tooltip": null,
       "layout": "IPY_MODEL_6155865ffbfc45e5af7d1132ceacc1ba",
       "placeholder": "​",
       "style": "IPY_MODEL_b3bc6cca39ac4e40903c4ae374743ccb",
       "value": "Evaluating:  98%"
      }
     },
     "1823b5263b9942bfb3c8376d5b910e4c": {
      "model_module": "@jupyter-widgets/controls",
      "model_module_version": "1.5.0",
      "model_name": "HBoxModel",
      "state": {
       "_dom_classes": [],
       "_model_module": "@jupyter-widgets/controls",
       "_model_module_version": "1.5.0",
       "_model_name": "HBoxModel",
       "_view_count": null,
       "_view_module": "@jupyter-widgets/controls",
       "_view_module_version": "1.5.0",
       "_view_name": "HBoxView",
       "box_style": "",
       "children": [
        "IPY_MODEL_9bf669ce204d4e138b47f831a4869e56",
        "IPY_MODEL_d2f892b043ac4118a230237c58c23226",
        "IPY_MODEL_fc98e878af8b4b7f8bf95a0ea7bfd993"
       ],
       "layout": "IPY_MODEL_b086f89b57a14ab9858580a6f86440dc"
      }
     },
     "18dad584a40844f08d594a2c4d8db91e": {
      "model_module": "@jupyter-widgets/controls",
      "model_module_version": "1.5.0",
      "model_name": "ProgressStyleModel",
      "state": {
       "_model_module": "@jupyter-widgets/controls",
       "_model_module_version": "1.5.0",
       "_model_name": "ProgressStyleModel",
       "_view_count": null,
       "_view_module": "@jupyter-widgets/base",
       "_view_module_version": "1.2.0",
       "_view_name": "StyleView",
       "bar_color": null,
       "description_width": ""
      }
     },
     "1bd09403c1f34e2a802e4f74aba50754": {
      "model_module": "@jupyter-widgets/controls",
      "model_module_version": "1.5.0",
      "model_name": "DescriptionStyleModel",
      "state": {
       "_model_module": "@jupyter-widgets/controls",
       "_model_module_version": "1.5.0",
       "_model_name": "DescriptionStyleModel",
       "_view_count": null,
       "_view_module": "@jupyter-widgets/base",
       "_view_module_version": "1.2.0",
       "_view_name": "StyleView",
       "description_width": ""
      }
     },
     "1d10c20f59f4448c9e3c67586b4ca26a": {
      "model_module": "@jupyter-widgets/base",
      "model_module_version": "1.2.0",
      "model_name": "LayoutModel",
      "state": {
       "_model_module": "@jupyter-widgets/base",
       "_model_module_version": "1.2.0",
       "_model_name": "LayoutModel",
       "_view_count": null,
       "_view_module": "@jupyter-widgets/base",
       "_view_module_version": "1.2.0",
       "_view_name": "LayoutView",
       "align_content": null,
       "align_items": null,
       "align_self": null,
       "border": null,
       "bottom": null,
       "display": null,
       "flex": null,
       "flex_flow": null,
       "grid_area": null,
       "grid_auto_columns": null,
       "grid_auto_flow": null,
       "grid_auto_rows": null,
       "grid_column": null,
       "grid_gap": null,
       "grid_row": null,
       "grid_template_areas": null,
       "grid_template_columns": null,
       "grid_template_rows": null,
       "height": null,
       "justify_content": null,
       "justify_items": null,
       "left": null,
       "margin": null,
       "max_height": null,
       "max_width": null,
       "min_height": null,
       "min_width": null,
       "object_fit": null,
       "object_position": null,
       "order": null,
       "overflow": null,
       "overflow_x": null,
       "overflow_y": null,
       "padding": null,
       "right": null,
       "top": null,
       "visibility": null,
       "width": null
      }
     },
     "1df18267e1804ba08c293edf2a4cb148": {
      "model_module": "@jupyter-widgets/controls",
      "model_module_version": "1.5.0",
      "model_name": "HTMLModel",
      "state": {
       "_dom_classes": [],
       "_model_module": "@jupyter-widgets/controls",
       "_model_module_version": "1.5.0",
       "_model_name": "HTMLModel",
       "_view_count": null,
       "_view_module": "@jupyter-widgets/controls",
       "_view_module_version": "1.5.0",
       "_view_name": "HTMLView",
       "description": "",
       "description_tooltip": null,
       "layout": "IPY_MODEL_1d10c20f59f4448c9e3c67586b4ca26a",
       "placeholder": "​",
       "style": "IPY_MODEL_0323a7223dcc4d02b6d433899b336212",
       "value": "Evaluating:  99%"
      }
     },
     "20fcc9c63c7b4574aacd9d7855f6e3f5": {
      "model_module": "@jupyter-widgets/controls",
      "model_module_version": "1.5.0",
      "model_name": "DescriptionStyleModel",
      "state": {
       "_model_module": "@jupyter-widgets/controls",
       "_model_module_version": "1.5.0",
       "_model_name": "DescriptionStyleModel",
       "_view_count": null,
       "_view_module": "@jupyter-widgets/base",
       "_view_module_version": "1.2.0",
       "_view_name": "StyleView",
       "description_width": ""
      }
     },
     "2290acc337b34c12a41e4013a6f25791": {
      "model_module": "@jupyter-widgets/base",
      "model_module_version": "1.2.0",
      "model_name": "LayoutModel",
      "state": {
       "_model_module": "@jupyter-widgets/base",
       "_model_module_version": "1.2.0",
       "_model_name": "LayoutModel",
       "_view_count": null,
       "_view_module": "@jupyter-widgets/base",
       "_view_module_version": "1.2.0",
       "_view_name": "LayoutView",
       "align_content": null,
       "align_items": null,
       "align_self": null,
       "border": null,
       "bottom": null,
       "display": null,
       "flex": null,
       "flex_flow": null,
       "grid_area": null,
       "grid_auto_columns": null,
       "grid_auto_flow": null,
       "grid_auto_rows": null,
       "grid_column": null,
       "grid_gap": null,
       "grid_row": null,
       "grid_template_areas": null,
       "grid_template_columns": null,
       "grid_template_rows": null,
       "height": null,
       "justify_content": null,
       "justify_items": null,
       "left": null,
       "margin": null,
       "max_height": null,
       "max_width": null,
       "min_height": null,
       "min_width": null,
       "object_fit": null,
       "object_position": null,
       "order": null,
       "overflow": null,
       "overflow_x": null,
       "overflow_y": null,
       "padding": null,
       "right": null,
       "top": null,
       "visibility": "hidden",
       "width": null
      }
     },
     "22a3c827fc0b4391aab19004feae4690": {
      "model_module": "@jupyter-widgets/controls",
      "model_module_version": "1.5.0",
      "model_name": "DescriptionStyleModel",
      "state": {
       "_model_module": "@jupyter-widgets/controls",
       "_model_module_version": "1.5.0",
       "_model_name": "DescriptionStyleModel",
       "_view_count": null,
       "_view_module": "@jupyter-widgets/base",
       "_view_module_version": "1.2.0",
       "_view_name": "StyleView",
       "description_width": ""
      }
     },
     "236605bd050c428697a7b29b82593c91": {
      "model_module": "@jupyter-widgets/controls",
      "model_module_version": "1.5.0",
      "model_name": "FloatProgressModel",
      "state": {
       "_dom_classes": [],
       "_model_module": "@jupyter-widgets/controls",
       "_model_module_version": "1.5.0",
       "_model_name": "FloatProgressModel",
       "_view_count": null,
       "_view_module": "@jupyter-widgets/controls",
       "_view_module_version": "1.5.0",
       "_view_name": "ProgressView",
       "bar_style": "",
       "description": "",
       "description_tooltip": null,
       "layout": "IPY_MODEL_e23dd499ee2e44d0aea058e131c702d6",
       "max": 3193.0,
       "min": 0.0,
       "orientation": "horizontal",
       "style": "IPY_MODEL_1329f30ef0cf4e71889a7ad10188db38",
       "value": 3193.0
      }
     },
     "2a783ab17a254c069f5aa4a0c4fd7ffd": {
      "model_module": "@jupyter-widgets/controls",
      "model_module_version": "1.5.0",
      "model_name": "HTMLModel",
      "state": {
       "_dom_classes": [],
       "_model_module": "@jupyter-widgets/controls",
       "_model_module_version": "1.5.0",
       "_model_name": "HTMLModel",
       "_view_count": null,
       "_view_module": "@jupyter-widgets/controls",
       "_view_module_version": "1.5.0",
       "_view_name": "HTMLView",
       "description": "",
       "description_tooltip": null,
       "layout": "IPY_MODEL_5b263961ef7f4acfa8878883d6bfa12b",
       "placeholder": "​",
       "style": "IPY_MODEL_40121f41777245c481ab8e4006a4feb7",
       "value": " 1398/1408 [00:03&lt;00:00, 435.23it/s]"
      }
     },
     "2c06d381a314442b89a981c32ec64f32": {
      "model_module": "@jupyter-widgets/controls",
      "model_module_version": "1.5.0",
      "model_name": "HTMLModel",
      "state": {
       "_dom_classes": [],
       "_model_module": "@jupyter-widgets/controls",
       "_model_module_version": "1.5.0",
       "_model_name": "HTMLModel",
       "_view_count": null,
       "_view_module": "@jupyter-widgets/controls",
       "_view_module_version": "1.5.0",
       "_view_name": "HTMLView",
       "description": "",
       "description_tooltip": null,
       "layout": "IPY_MODEL_a6645e464a16404483a66317bc99a587",
       "placeholder": "​",
       "style": "IPY_MODEL_62cbd818a3e24e6e87f35b282862601d",
       "value": " 1392/1408 [00:02&lt;00:00, 496.15it/s]"
      }
     },
     "2ee852534d1b4957af1404c8d70e1514": {
      "model_module": "@jupyter-widgets/controls",
      "model_module_version": "1.5.0",
      "model_name": "DescriptionStyleModel",
      "state": {
       "_model_module": "@jupyter-widgets/controls",
       "_model_module_version": "1.5.0",
       "_model_name": "DescriptionStyleModel",
       "_view_count": null,
       "_view_module": "@jupyter-widgets/base",
       "_view_module_version": "1.2.0",
       "_view_name": "StyleView",
       "description_width": ""
      }
     },
     "30629d72a2c74456acd19fd43bc728dc": {
      "model_module": "@jupyter-widgets/controls",
      "model_module_version": "1.5.0",
      "model_name": "HTMLModel",
      "state": {
       "_dom_classes": [],
       "_model_module": "@jupyter-widgets/controls",
       "_model_module_version": "1.5.0",
       "_model_name": "HTMLModel",
       "_view_count": null,
       "_view_module": "@jupyter-widgets/controls",
       "_view_module_version": "1.5.0",
       "_view_name": "HTMLView",
       "description": "",
       "description_tooltip": null,
       "layout": "IPY_MODEL_f78f1c8946ea4841b61d9a216ddb7b74",
       "placeholder": "​",
       "style": "IPY_MODEL_1bd09403c1f34e2a802e4f74aba50754",
       "value": "Training Epoch 5: 100%"
      }
     },
     "309f680c17094f6997f935d2bc6bf6a6": {
      "model_module": "@jupyter-widgets/controls",
      "model_module_version": "1.5.0",
      "model_name": "HTMLModel",
      "state": {
       "_dom_classes": [],
       "_model_module": "@jupyter-widgets/controls",
       "_model_module_version": "1.5.0",
       "_model_name": "HTMLModel",
       "_view_count": null,
       "_view_module": "@jupyter-widgets/controls",
       "_view_module_version": "1.5.0",
       "_view_name": "HTMLView",
       "description": "",
       "description_tooltip": null,
       "layout": "IPY_MODEL_f4b90c8873f64098b915ea33bc5def36",
       "placeholder": "​",
       "style": "IPY_MODEL_cb3c4ccb3f1c43e290352e61ee915177",
       "value": " 1389/1408 [00:02&lt;00:00, 482.06it/s]"
      }
     },
     "32e93e306dfc49a29954436d8c2cb592": {
      "model_module": "@jupyter-widgets/controls",
      "model_module_version": "1.5.0",
      "model_name": "DescriptionStyleModel",
      "state": {
       "_model_module": "@jupyter-widgets/controls",
       "_model_module_version": "1.5.0",
       "_model_name": "DescriptionStyleModel",
       "_view_count": null,
       "_view_module": "@jupyter-widgets/base",
       "_view_module_version": "1.2.0",
       "_view_name": "StyleView",
       "description_width": ""
      }
     },
     "367f38d84e654ee5b575b9e7b8024539": {
      "model_module": "@jupyter-widgets/base",
      "model_module_version": "1.2.0",
      "model_name": "LayoutModel",
      "state": {
       "_model_module": "@jupyter-widgets/base",
       "_model_module_version": "1.2.0",
       "_model_name": "LayoutModel",
       "_view_count": null,
       "_view_module": "@jupyter-widgets/base",
       "_view_module_version": "1.2.0",
       "_view_name": "LayoutView",
       "align_content": null,
       "align_items": null,
       "align_self": null,
       "border": null,
       "bottom": null,
       "display": null,
       "flex": null,
       "flex_flow": null,
       "grid_area": null,
       "grid_auto_columns": null,
       "grid_auto_flow": null,
       "grid_auto_rows": null,
       "grid_column": null,
       "grid_gap": null,
       "grid_row": null,
       "grid_template_areas": null,
       "grid_template_columns": null,
       "grid_template_rows": null,
       "height": null,
       "justify_content": null,
       "justify_items": null,
       "left": null,
       "margin": null,
       "max_height": null,
       "max_width": null,
       "min_height": null,
       "min_width": null,
       "object_fit": null,
       "object_position": null,
       "order": null,
       "overflow": null,
       "overflow_x": null,
       "overflow_y": null,
       "padding": null,
       "right": null,
       "top": null,
       "visibility": null,
       "width": null
      }
     },
     "3a18312fe9664bd48e143f1a58ad6cb0": {
      "model_module": "@jupyter-widgets/controls",
      "model_module_version": "1.5.0",
      "model_name": "DescriptionStyleModel",
      "state": {
       "_model_module": "@jupyter-widgets/controls",
       "_model_module_version": "1.5.0",
       "_model_name": "DescriptionStyleModel",
       "_view_count": null,
       "_view_module": "@jupyter-widgets/base",
       "_view_module_version": "1.2.0",
       "_view_name": "StyleView",
       "description_width": ""
      }
     },
     "3a821642e61b4aa6966429a78aa40b11": {
      "model_module": "@jupyter-widgets/controls",
      "model_module_version": "1.5.0",
      "model_name": "HTMLModel",
      "state": {
       "_dom_classes": [],
       "_model_module": "@jupyter-widgets/controls",
       "_model_module_version": "1.5.0",
       "_model_name": "HTMLModel",
       "_view_count": null,
       "_view_module": "@jupyter-widgets/controls",
       "_view_module_version": "1.5.0",
       "_view_name": "HTMLView",
       "description": "",
       "description_tooltip": null,
       "layout": "IPY_MODEL_b3e756b94a9c457d8ad7cc8d1b46d260",
       "placeholder": "​",
       "style": "IPY_MODEL_20fcc9c63c7b4574aacd9d7855f6e3f5",
       "value": "Evaluating:  99%"
      }
     },
     "3bb1b0118ded4ca58f94316928dd781e": {
      "model_module": "@jupyter-widgets/controls",
      "model_module_version": "1.5.0",
      "model_name": "FloatProgressModel",
      "state": {
       "_dom_classes": [],
       "_model_module": "@jupyter-widgets/controls",
       "_model_module_version": "1.5.0",
       "_model_name": "FloatProgressModel",
       "_view_count": null,
       "_view_module": "@jupyter-widgets/controls",
       "_view_module_version": "1.5.0",
       "_view_name": "ProgressView",
       "bar_style": "",
       "description": "",
       "description_tooltip": null,
       "layout": "IPY_MODEL_737ccb56b2464cb9af8ce51af6a90375",
       "max": 1408.0,
       "min": 0.0,
       "orientation": "horizontal",
       "style": "IPY_MODEL_52dd60b7ecee431a9bec11f831d3262d",
       "value": 1408.0
      }
     },
     "3cabe600d32e47b49c3d0beb303763fb": {
      "model_module": "@jupyter-widgets/controls",
      "model_module_version": "1.5.0",
      "model_name": "HTMLModel",
      "state": {
       "_dom_classes": [],
       "_model_module": "@jupyter-widgets/controls",
       "_model_module_version": "1.5.0",
       "_model_name": "HTMLModel",
       "_view_count": null,
       "_view_module": "@jupyter-widgets/controls",
       "_view_module_version": "1.5.0",
       "_view_name": "HTMLView",
       "description": "",
       "description_tooltip": null,
       "layout": "IPY_MODEL_de6b1e66d3374b78b5916728966cf875",
       "placeholder": "​",
       "style": "IPY_MODEL_ffd931761434402a90f2d869842bacee",
       "value": " 3181/3193 [00:23&lt;00:00, 138.36it/s]"
      }
     },
     "40121f41777245c481ab8e4006a4feb7": {
      "model_module": "@jupyter-widgets/controls",
      "model_module_version": "1.5.0",
      "model_name": "DescriptionStyleModel",
      "state": {
       "_model_module": "@jupyter-widgets/controls",
       "_model_module_version": "1.5.0",
       "_model_name": "DescriptionStyleModel",
       "_view_count": null,
       "_view_module": "@jupyter-widgets/base",
       "_view_module_version": "1.2.0",
       "_view_name": "StyleView",
       "description_width": ""
      }
     },
     "4022ef33abd64c64a0be006362cbab75": {
      "model_module": "@jupyter-widgets/base",
      "model_module_version": "1.2.0",
      "model_name": "LayoutModel",
      "state": {
       "_model_module": "@jupyter-widgets/base",
       "_model_module_version": "1.2.0",
       "_model_name": "LayoutModel",
       "_view_count": null,
       "_view_module": "@jupyter-widgets/base",
       "_view_module_version": "1.2.0",
       "_view_name": "LayoutView",
       "align_content": null,
       "align_items": null,
       "align_self": null,
       "border": null,
       "bottom": null,
       "display": null,
       "flex": null,
       "flex_flow": null,
       "grid_area": null,
       "grid_auto_columns": null,
       "grid_auto_flow": null,
       "grid_auto_rows": null,
       "grid_column": null,
       "grid_gap": null,
       "grid_row": null,
       "grid_template_areas": null,
       "grid_template_columns": null,
       "grid_template_rows": null,
       "height": null,
       "justify_content": null,
       "justify_items": null,
       "left": null,
       "margin": null,
       "max_height": null,
       "max_width": null,
       "min_height": null,
       "min_width": null,
       "object_fit": null,
       "object_position": null,
       "order": null,
       "overflow": null,
       "overflow_x": null,
       "overflow_y": null,
       "padding": null,
       "right": null,
       "top": null,
       "visibility": null,
       "width": null
      }
     },
     "407be550654b43b9b1ae8a59ff9538d5": {
      "model_module": "@jupyter-widgets/controls",
      "model_module_version": "1.5.0",
      "model_name": "HBoxModel",
      "state": {
       "_dom_classes": [],
       "_model_module": "@jupyter-widgets/controls",
       "_model_module_version": "1.5.0",
       "_model_name": "HBoxModel",
       "_view_count": null,
       "_view_module": "@jupyter-widgets/controls",
       "_view_module_version": "1.5.0",
       "_view_name": "HBoxView",
       "box_style": "",
       "children": [
        "IPY_MODEL_eb5190ed312348bfb6c9ec239bdf438f",
        "IPY_MODEL_fe9f53ed52414f1daf11c63bb17d833c",
        "IPY_MODEL_2c06d381a314442b89a981c32ec64f32"
       ],
       "layout": "IPY_MODEL_abf06ce86e1a48b482530f72f52d07fb"
      }
     },
     "41f839c159504c1385206a85eafbc990": {
      "model_module": "@jupyter-widgets/base",
      "model_module_version": "1.2.0",
      "model_name": "LayoutModel",
      "state": {
       "_model_module": "@jupyter-widgets/base",
       "_model_module_version": "1.2.0",
       "_model_name": "LayoutModel",
       "_view_count": null,
       "_view_module": "@jupyter-widgets/base",
       "_view_module_version": "1.2.0",
       "_view_name": "LayoutView",
       "align_content": null,
       "align_items": null,
       "align_self": null,
       "border": null,
       "bottom": null,
       "display": null,
       "flex": null,
       "flex_flow": null,
       "grid_area": null,
       "grid_auto_columns": null,
       "grid_auto_flow": null,
       "grid_auto_rows": null,
       "grid_column": null,
       "grid_gap": null,
       "grid_row": null,
       "grid_template_areas": null,
       "grid_template_columns": null,
       "grid_template_rows": null,
       "height": null,
       "justify_content": null,
       "justify_items": null,
       "left": null,
       "margin": null,
       "max_height": null,
       "max_width": null,
       "min_height": null,
       "min_width": null,
       "object_fit": null,
       "object_position": null,
       "order": null,
       "overflow": null,
       "overflow_x": null,
       "overflow_y": null,
       "padding": null,
       "right": null,
       "top": null,
       "visibility": null,
       "width": null
      }
     },
     "42f6a2eb1c5e41de9007126b0c0c97d2": {
      "model_module": "@jupyter-widgets/controls",
      "model_module_version": "1.5.0",
      "model_name": "HTMLModel",
      "state": {
       "_dom_classes": [],
       "_model_module": "@jupyter-widgets/controls",
       "_model_module_version": "1.5.0",
       "_model_name": "HTMLModel",
       "_view_count": null,
       "_view_module": "@jupyter-widgets/controls",
       "_view_module_version": "1.5.0",
       "_view_name": "HTMLView",
       "description": "",
       "description_tooltip": null,
       "layout": "IPY_MODEL_c558f52c7919406eb9d476f89972721a",
       "placeholder": "​",
       "style": "IPY_MODEL_0bf55c32750d4fcfa991e5d6713b8522",
       "value": " 3179/3193 [00:23&lt;00:00, 140.89it/s]"
      }
     },
     "4612900ba0e542c49a35417e3d2a865d": {
      "model_module": "@jupyter-widgets/base",
      "model_module_version": "1.2.0",
      "model_name": "LayoutModel",
      "state": {
       "_model_module": "@jupyter-widgets/base",
       "_model_module_version": "1.2.0",
       "_model_name": "LayoutModel",
       "_view_count": null,
       "_view_module": "@jupyter-widgets/base",
       "_view_module_version": "1.2.0",
       "_view_name": "LayoutView",
       "align_content": null,
       "align_items": null,
       "align_self": null,
       "border": null,
       "bottom": null,
       "display": null,
       "flex": null,
       "flex_flow": null,
       "grid_area": null,
       "grid_auto_columns": null,
       "grid_auto_flow": null,
       "grid_auto_rows": null,
       "grid_column": null,
       "grid_gap": null,
       "grid_row": null,
       "grid_template_areas": null,
       "grid_template_columns": null,
       "grid_template_rows": null,
       "height": null,
       "justify_content": null,
       "justify_items": null,
       "left": null,
       "margin": null,
       "max_height": null,
       "max_width": null,
       "min_height": null,
       "min_width": null,
       "object_fit": null,
       "object_position": null,
       "order": null,
       "overflow": null,
       "overflow_x": null,
       "overflow_y": null,
       "padding": null,
       "right": null,
       "top": null,
       "visibility": null,
       "width": null
      }
     },
     "46e5040216044e4f98d71025c1ca9fe8": {
      "model_module": "@jupyter-widgets/controls",
      "model_module_version": "1.5.0",
      "model_name": "FloatProgressModel",
      "state": {
       "_dom_classes": [],
       "_model_module": "@jupyter-widgets/controls",
       "_model_module_version": "1.5.0",
       "_model_name": "FloatProgressModel",
       "_view_count": null,
       "_view_module": "@jupyter-widgets/controls",
       "_view_module_version": "1.5.0",
       "_view_name": "ProgressView",
       "bar_style": "",
       "description": "",
       "description_tooltip": null,
       "layout": "IPY_MODEL_367f38d84e654ee5b575b9e7b8024539",
       "max": 1408.0,
       "min": 0.0,
       "orientation": "horizontal",
       "style": "IPY_MODEL_ef7ede68d6c6448396b1aa97f5ae5304",
       "value": 1408.0
      }
     },
     "49182dbdfec345318b8900475113ebb5": {
      "model_module": "@jupyter-widgets/controls",
      "model_module_version": "1.5.0",
      "model_name": "HTMLModel",
      "state": {
       "_dom_classes": [],
       "_model_module": "@jupyter-widgets/controls",
       "_model_module_version": "1.5.0",
       "_model_name": "HTMLModel",
       "_view_count": null,
       "_view_module": "@jupyter-widgets/controls",
       "_view_module_version": "1.5.0",
       "_view_name": "HTMLView",
       "description": "",
       "description_tooltip": null,
       "layout": "IPY_MODEL_a36ab9ce735640df989862a50e76320c",
       "placeholder": "​",
       "style": "IPY_MODEL_79c805fe071d4be2a1b1a4e17126c783",
       "value": "Training Epoch 1: 100%"
      }
     },
     "4d668f13ae46492aaecbc08d28feee97": {
      "model_module": "@jupyter-widgets/controls",
      "model_module_version": "1.5.0",
      "model_name": "FloatProgressModel",
      "state": {
       "_dom_classes": [],
       "_model_module": "@jupyter-widgets/controls",
       "_model_module_version": "1.5.0",
       "_model_name": "FloatProgressModel",
       "_view_count": null,
       "_view_module": "@jupyter-widgets/controls",
       "_view_module_version": "1.5.0",
       "_view_name": "ProgressView",
       "bar_style": "",
       "description": "",
       "description_tooltip": null,
       "layout": "IPY_MODEL_b7d7266919e2492a915bbd772162520f",
       "max": 3193.0,
       "min": 0.0,
       "orientation": "horizontal",
       "style": "IPY_MODEL_a3e09e0239a041558c7e066f3b8c6944",
       "value": 3193.0
      }
     },
     "52dd60b7ecee431a9bec11f831d3262d": {
      "model_module": "@jupyter-widgets/controls",
      "model_module_version": "1.5.0",
      "model_name": "ProgressStyleModel",
      "state": {
       "_model_module": "@jupyter-widgets/controls",
       "_model_module_version": "1.5.0",
       "_model_name": "ProgressStyleModel",
       "_view_count": null,
       "_view_module": "@jupyter-widgets/base",
       "_view_module_version": "1.2.0",
       "_view_name": "StyleView",
       "bar_color": null,
       "description_width": ""
      }
     },
     "53be38f4f9274e01bf6bcf4016a3909d": {
      "model_module": "@jupyter-widgets/controls",
      "model_module_version": "1.5.0",
      "model_name": "HBoxModel",
      "state": {
       "_dom_classes": [],
       "_model_module": "@jupyter-widgets/controls",
       "_model_module_version": "1.5.0",
       "_model_name": "HBoxModel",
       "_view_count": null,
       "_view_module": "@jupyter-widgets/controls",
       "_view_module_version": "1.5.0",
       "_view_name": "HBoxView",
       "box_style": "",
       "children": [
        "IPY_MODEL_175bead4599344a7a9341c52fef2877f",
        "IPY_MODEL_dc6c4c83451841d99b78fe2eced24105",
        "IPY_MODEL_97b1186c01c44caca2bf642de67e21c8"
       ],
       "layout": "IPY_MODEL_e37ff39b2ce14f91953bb04e70708f90"
      }
     },
     "5761788dd19a4a6596437e03a4f2ae7b": {
      "model_module": "@jupyter-widgets/controls",
      "model_module_version": "1.5.0",
      "model_name": "ProgressStyleModel",
      "state": {
       "_model_module": "@jupyter-widgets/controls",
       "_model_module_version": "1.5.0",
       "_model_name": "ProgressStyleModel",
       "_view_count": null,
       "_view_module": "@jupyter-widgets/base",
       "_view_module_version": "1.2.0",
       "_view_name": "StyleView",
       "bar_color": null,
       "description_width": ""
      }
     },
     "5a08a809c5d243f5a3c79620f37cdae4": {
      "model_module": "@jupyter-widgets/base",
      "model_module_version": "1.2.0",
      "model_name": "LayoutModel",
      "state": {
       "_model_module": "@jupyter-widgets/base",
       "_model_module_version": "1.2.0",
       "_model_name": "LayoutModel",
       "_view_count": null,
       "_view_module": "@jupyter-widgets/base",
       "_view_module_version": "1.2.0",
       "_view_name": "LayoutView",
       "align_content": null,
       "align_items": null,
       "align_self": null,
       "border": null,
       "bottom": null,
       "display": null,
       "flex": null,
       "flex_flow": null,
       "grid_area": null,
       "grid_auto_columns": null,
       "grid_auto_flow": null,
       "grid_auto_rows": null,
       "grid_column": null,
       "grid_gap": null,
       "grid_row": null,
       "grid_template_areas": null,
       "grid_template_columns": null,
       "grid_template_rows": null,
       "height": null,
       "justify_content": null,
       "justify_items": null,
       "left": null,
       "margin": null,
       "max_height": null,
       "max_width": null,
       "min_height": null,
       "min_width": null,
       "object_fit": null,
       "object_position": null,
       "order": null,
       "overflow": null,
       "overflow_x": null,
       "overflow_y": null,
       "padding": null,
       "right": null,
       "top": null,
       "visibility": null,
       "width": null
      }
     },
     "5b263961ef7f4acfa8878883d6bfa12b": {
      "model_module": "@jupyter-widgets/base",
      "model_module_version": "1.2.0",
      "model_name": "LayoutModel",
      "state": {
       "_model_module": "@jupyter-widgets/base",
       "_model_module_version": "1.2.0",
       "_model_name": "LayoutModel",
       "_view_count": null,
       "_view_module": "@jupyter-widgets/base",
       "_view_module_version": "1.2.0",
       "_view_name": "LayoutView",
       "align_content": null,
       "align_items": null,
       "align_self": null,
       "border": null,
       "bottom": null,
       "display": null,
       "flex": null,
       "flex_flow": null,
       "grid_area": null,
       "grid_auto_columns": null,
       "grid_auto_flow": null,
       "grid_auto_rows": null,
       "grid_column": null,
       "grid_gap": null,
       "grid_row": null,
       "grid_template_areas": null,
       "grid_template_columns": null,
       "grid_template_rows": null,
       "height": null,
       "justify_content": null,
       "justify_items": null,
       "left": null,
       "margin": null,
       "max_height": null,
       "max_width": null,
       "min_height": null,
       "min_width": null,
       "object_fit": null,
       "object_position": null,
       "order": null,
       "overflow": null,
       "overflow_x": null,
       "overflow_y": null,
       "padding": null,
       "right": null,
       "top": null,
       "visibility": null,
       "width": null
      }
     },
     "5bcb166b092247818aa3d7b0911f97d2": {
      "model_module": "@jupyter-widgets/controls",
      "model_module_version": "1.5.0",
      "model_name": "FloatProgressModel",
      "state": {
       "_dom_classes": [],
       "_model_module": "@jupyter-widgets/controls",
       "_model_module_version": "1.5.0",
       "_model_name": "FloatProgressModel",
       "_view_count": null,
       "_view_module": "@jupyter-widgets/controls",
       "_view_module_version": "1.5.0",
       "_view_name": "ProgressView",
       "bar_style": "success",
       "description": "",
       "description_tooltip": null,
       "layout": "IPY_MODEL_4022ef33abd64c64a0be006362cbab75",
       "max": 500.0,
       "min": 0.0,
       "orientation": "horizontal",
       "style": "IPY_MODEL_ca2dc420cdb840b3b9e4a96ca453b190",
       "value": 500.0
      }
     },
     "61218c46feac4f34b186dbd67ed5408e": {
      "model_module": "@jupyter-widgets/controls",
      "model_module_version": "1.5.0",
      "model_name": "HBoxModel",
      "state": {
       "_dom_classes": [],
       "_model_module": "@jupyter-widgets/controls",
       "_model_module_version": "1.5.0",
       "_model_name": "HBoxModel",
       "_view_count": null,
       "_view_module": "@jupyter-widgets/controls",
       "_view_module_version": "1.5.0",
       "_view_name": "HBoxView",
       "box_style": "",
       "children": [
        "IPY_MODEL_7085ca4908f94b69b3ba3ebc5afffabe",
        "IPY_MODEL_faf65a9852014697ad56d80403c1e6d0",
        "IPY_MODEL_42f6a2eb1c5e41de9007126b0c0c97d2"
       ],
       "layout": "IPY_MODEL_099119be0c4c48e88c9936f8f1c0fcfd"
      }
     },
     "6155865ffbfc45e5af7d1132ceacc1ba": {
      "model_module": "@jupyter-widgets/base",
      "model_module_version": "1.2.0",
      "model_name": "LayoutModel",
      "state": {
       "_model_module": "@jupyter-widgets/base",
       "_model_module_version": "1.2.0",
       "_model_name": "LayoutModel",
       "_view_count": null,
       "_view_module": "@jupyter-widgets/base",
       "_view_module_version": "1.2.0",
       "_view_name": "LayoutView",
       "align_content": null,
       "align_items": null,
       "align_self": null,
       "border": null,
       "bottom": null,
       "display": null,
       "flex": null,
       "flex_flow": null,
       "grid_area": null,
       "grid_auto_columns": null,
       "grid_auto_flow": null,
       "grid_auto_rows": null,
       "grid_column": null,
       "grid_gap": null,
       "grid_row": null,
       "grid_template_areas": null,
       "grid_template_columns": null,
       "grid_template_rows": null,
       "height": null,
       "justify_content": null,
       "justify_items": null,
       "left": null,
       "margin": null,
       "max_height": null,
       "max_width": null,
       "min_height": null,
       "min_width": null,
       "object_fit": null,
       "object_position": null,
       "order": null,
       "overflow": null,
       "overflow_x": null,
       "overflow_y": null,
       "padding": null,
       "right": null,
       "top": null,
       "visibility": null,
       "width": null
      }
     },
     "62cbd818a3e24e6e87f35b282862601d": {
      "model_module": "@jupyter-widgets/controls",
      "model_module_version": "1.5.0",
      "model_name": "DescriptionStyleModel",
      "state": {
       "_model_module": "@jupyter-widgets/controls",
       "_model_module_version": "1.5.0",
       "_model_name": "DescriptionStyleModel",
       "_view_count": null,
       "_view_module": "@jupyter-widgets/base",
       "_view_module_version": "1.2.0",
       "_view_name": "StyleView",
       "description_width": ""
      }
     },
     "643a26ca4b394680b0091d4638b4b3e5": {
      "model_module": "@jupyter-widgets/base",
      "model_module_version": "1.2.0",
      "model_name": "LayoutModel",
      "state": {
       "_model_module": "@jupyter-widgets/base",
       "_model_module_version": "1.2.0",
       "_model_name": "LayoutModel",
       "_view_count": null,
       "_view_module": "@jupyter-widgets/base",
       "_view_module_version": "1.2.0",
       "_view_name": "LayoutView",
       "align_content": null,
       "align_items": null,
       "align_self": null,
       "border": null,
       "bottom": null,
       "display": null,
       "flex": null,
       "flex_flow": null,
       "grid_area": null,
       "grid_auto_columns": null,
       "grid_auto_flow": null,
       "grid_auto_rows": null,
       "grid_column": null,
       "grid_gap": null,
       "grid_row": null,
       "grid_template_areas": null,
       "grid_template_columns": null,
       "grid_template_rows": null,
       "height": null,
       "justify_content": null,
       "justify_items": null,
       "left": null,
       "margin": null,
       "max_height": null,
       "max_width": null,
       "min_height": null,
       "min_width": null,
       "object_fit": null,
       "object_position": null,
       "order": null,
       "overflow": null,
       "overflow_x": null,
       "overflow_y": null,
       "padding": null,
       "right": null,
       "top": null,
       "visibility": null,
       "width": null
      }
     },
     "7085ca4908f94b69b3ba3ebc5afffabe": {
      "model_module": "@jupyter-widgets/controls",
      "model_module_version": "1.5.0",
      "model_name": "HTMLModel",
      "state": {
       "_dom_classes": [],
       "_model_module": "@jupyter-widgets/controls",
       "_model_module_version": "1.5.0",
       "_model_name": "HTMLModel",
       "_view_count": null,
       "_view_module": "@jupyter-widgets/controls",
       "_view_module_version": "1.5.0",
       "_view_name": "HTMLView",
       "description": "",
       "description_tooltip": null,
       "layout": "IPY_MODEL_b2778ec0588145b4a08d3621fa5f7334",
       "placeholder": "​",
       "style": "IPY_MODEL_22a3c827fc0b4391aab19004feae4690",
       "value": "Training Epoch 4: 100%"
      }
     },
     "71e90bed551f479a8a13d2a45b1e32a8": {
      "model_module": "@jupyter-widgets/controls",
      "model_module_version": "1.5.0",
      "model_name": "FloatProgressModel",
      "state": {
       "_dom_classes": [],
       "_model_module": "@jupyter-widgets/controls",
       "_model_module_version": "1.5.0",
       "_model_name": "FloatProgressModel",
       "_view_count": null,
       "_view_module": "@jupyter-widgets/controls",
       "_view_module_version": "1.5.0",
       "_view_name": "ProgressView",
       "bar_style": "",
       "description": "",
       "description_tooltip": null,
       "layout": "IPY_MODEL_4612900ba0e542c49a35417e3d2a865d",
       "max": 3193.0,
       "min": 0.0,
       "orientation": "horizontal",
       "style": "IPY_MODEL_0146b66e0d6d470f9faea1da2e9aa690",
       "value": 3193.0
      }
     },
     "7263fc8bdb254a41a55c36af8111a5f8": {
      "model_module": "@jupyter-widgets/base",
      "model_module_version": "1.2.0",
      "model_name": "LayoutModel",
      "state": {
       "_model_module": "@jupyter-widgets/base",
       "_model_module_version": "1.2.0",
       "_model_name": "LayoutModel",
       "_view_count": null,
       "_view_module": "@jupyter-widgets/base",
       "_view_module_version": "1.2.0",
       "_view_name": "LayoutView",
       "align_content": null,
       "align_items": null,
       "align_self": null,
       "border": null,
       "bottom": null,
       "display": null,
       "flex": null,
       "flex_flow": null,
       "grid_area": null,
       "grid_auto_columns": null,
       "grid_auto_flow": null,
       "grid_auto_rows": null,
       "grid_column": null,
       "grid_gap": null,
       "grid_row": null,
       "grid_template_areas": null,
       "grid_template_columns": null,
       "grid_template_rows": null,
       "height": null,
       "justify_content": null,
       "justify_items": null,
       "left": null,
       "margin": null,
       "max_height": null,
       "max_width": null,
       "min_height": null,
       "min_width": null,
       "object_fit": null,
       "object_position": null,
       "order": null,
       "overflow": null,
       "overflow_x": null,
       "overflow_y": null,
       "padding": null,
       "right": null,
       "top": null,
       "visibility": null,
       "width": null
      }
     },
     "737ccb56b2464cb9af8ce51af6a90375": {
      "model_module": "@jupyter-widgets/base",
      "model_module_version": "1.2.0",
      "model_name": "LayoutModel",
      "state": {
       "_model_module": "@jupyter-widgets/base",
       "_model_module_version": "1.2.0",
       "_model_name": "LayoutModel",
       "_view_count": null,
       "_view_module": "@jupyter-widgets/base",
       "_view_module_version": "1.2.0",
       "_view_name": "LayoutView",
       "align_content": null,
       "align_items": null,
       "align_self": null,
       "border": null,
       "bottom": null,
       "display": null,
       "flex": null,
       "flex_flow": null,
       "grid_area": null,
       "grid_auto_columns": null,
       "grid_auto_flow": null,
       "grid_auto_rows": null,
       "grid_column": null,
       "grid_gap": null,
       "grid_row": null,
       "grid_template_areas": null,
       "grid_template_columns": null,
       "grid_template_rows": null,
       "height": null,
       "justify_content": null,
       "justify_items": null,
       "left": null,
       "margin": null,
       "max_height": null,
       "max_width": null,
       "min_height": null,
       "min_width": null,
       "object_fit": null,
       "object_position": null,
       "order": null,
       "overflow": null,
       "overflow_x": null,
       "overflow_y": null,
       "padding": null,
       "right": null,
       "top": null,
       "visibility": null,
       "width": null
      }
     },
     "7825ce7cb84043d482fb0c57f08faa4c": {
      "model_module": "@jupyter-widgets/base",
      "model_module_version": "1.2.0",
      "model_name": "LayoutModel",
      "state": {
       "_model_module": "@jupyter-widgets/base",
       "_model_module_version": "1.2.0",
       "_model_name": "LayoutModel",
       "_view_count": null,
       "_view_module": "@jupyter-widgets/base",
       "_view_module_version": "1.2.0",
       "_view_name": "LayoutView",
       "align_content": null,
       "align_items": null,
       "align_self": null,
       "border": null,
       "bottom": null,
       "display": null,
       "flex": null,
       "flex_flow": null,
       "grid_area": null,
       "grid_auto_columns": null,
       "grid_auto_flow": null,
       "grid_auto_rows": null,
       "grid_column": null,
       "grid_gap": null,
       "grid_row": null,
       "grid_template_areas": null,
       "grid_template_columns": null,
       "grid_template_rows": null,
       "height": null,
       "justify_content": null,
       "justify_items": null,
       "left": null,
       "margin": null,
       "max_height": null,
       "max_width": null,
       "min_height": null,
       "min_width": null,
       "object_fit": null,
       "object_position": null,
       "order": null,
       "overflow": null,
       "overflow_x": null,
       "overflow_y": null,
       "padding": null,
       "right": null,
       "top": null,
       "visibility": null,
       "width": null
      }
     },
     "79c805fe071d4be2a1b1a4e17126c783": {
      "model_module": "@jupyter-widgets/controls",
      "model_module_version": "1.5.0",
      "model_name": "DescriptionStyleModel",
      "state": {
       "_model_module": "@jupyter-widgets/controls",
       "_model_module_version": "1.5.0",
       "_model_name": "DescriptionStyleModel",
       "_view_count": null,
       "_view_module": "@jupyter-widgets/base",
       "_view_module_version": "1.2.0",
       "_view_name": "StyleView",
       "description_width": ""
      }
     },
     "7e0a6ed6bc374e009b27074a1c08c5ab": {
      "model_module": "@jupyter-widgets/base",
      "model_module_version": "1.2.0",
      "model_name": "LayoutModel",
      "state": {
       "_model_module": "@jupyter-widgets/base",
       "_model_module_version": "1.2.0",
       "_model_name": "LayoutModel",
       "_view_count": null,
       "_view_module": "@jupyter-widgets/base",
       "_view_module_version": "1.2.0",
       "_view_name": "LayoutView",
       "align_content": null,
       "align_items": null,
       "align_self": null,
       "border": null,
       "bottom": null,
       "display": null,
       "flex": null,
       "flex_flow": null,
       "grid_area": null,
       "grid_auto_columns": null,
       "grid_auto_flow": null,
       "grid_auto_rows": null,
       "grid_column": null,
       "grid_gap": null,
       "grid_row": null,
       "grid_template_areas": null,
       "grid_template_columns": null,
       "grid_template_rows": null,
       "height": null,
       "justify_content": null,
       "justify_items": null,
       "left": null,
       "margin": null,
       "max_height": null,
       "max_width": null,
       "min_height": null,
       "min_width": null,
       "object_fit": null,
       "object_position": null,
       "order": null,
       "overflow": null,
       "overflow_x": null,
       "overflow_y": null,
       "padding": null,
       "right": null,
       "top": null,
       "visibility": "hidden",
       "width": null
      }
     },
     "8300ef7ccb46478b949bbf5a7e7c4f20": {
      "model_module": "@jupyter-widgets/controls",
      "model_module_version": "1.5.0",
      "model_name": "ProgressStyleModel",
      "state": {
       "_model_module": "@jupyter-widgets/controls",
       "_model_module_version": "1.5.0",
       "_model_name": "ProgressStyleModel",
       "_view_count": null,
       "_view_module": "@jupyter-widgets/base",
       "_view_module_version": "1.2.0",
       "_view_name": "StyleView",
       "bar_color": null,
       "description_width": ""
      }
     },
     "86b24824e67a459383fe0f3c0354763c": {
      "model_module": "@jupyter-widgets/controls",
      "model_module_version": "1.5.0",
      "model_name": "DescriptionStyleModel",
      "state": {
       "_model_module": "@jupyter-widgets/controls",
       "_model_module_version": "1.5.0",
       "_model_name": "DescriptionStyleModel",
       "_view_count": null,
       "_view_module": "@jupyter-widgets/base",
       "_view_module_version": "1.2.0",
       "_view_name": "StyleView",
       "description_width": ""
      }
     },
     "87069f34595947989634ec80c7b362d2": {
      "model_module": "@jupyter-widgets/controls",
      "model_module_version": "1.5.0",
      "model_name": "DescriptionStyleModel",
      "state": {
       "_model_module": "@jupyter-widgets/controls",
       "_model_module_version": "1.5.0",
       "_model_name": "DescriptionStyleModel",
       "_view_count": null,
       "_view_module": "@jupyter-widgets/base",
       "_view_module_version": "1.2.0",
       "_view_name": "StyleView",
       "description_width": ""
      }
     },
     "88daca82c2e54a789c1b613f4e9b61db": {
      "model_module": "@jupyter-widgets/controls",
      "model_module_version": "1.5.0",
      "model_name": "DescriptionStyleModel",
      "state": {
       "_model_module": "@jupyter-widgets/controls",
       "_model_module_version": "1.5.0",
       "_model_name": "DescriptionStyleModel",
       "_view_count": null,
       "_view_module": "@jupyter-widgets/base",
       "_view_module_version": "1.2.0",
       "_view_name": "StyleView",
       "description_width": ""
      }
     },
     "8d50fe26564649379942bb764cb3922b": {
      "model_module": "@jupyter-widgets/controls",
      "model_module_version": "1.5.0",
      "model_name": "FloatProgressModel",
      "state": {
       "_dom_classes": [],
       "_model_module": "@jupyter-widgets/controls",
       "_model_module_version": "1.5.0",
       "_model_name": "FloatProgressModel",
       "_view_count": null,
       "_view_module": "@jupyter-widgets/controls",
       "_view_module_version": "1.5.0",
       "_view_name": "ProgressView",
       "bar_style": "",
       "description": "",
       "description_tooltip": null,
       "layout": "IPY_MODEL_a45a896c453f48ddb6c4005ab9930f4f",
       "max": 1408.0,
       "min": 0.0,
       "orientation": "horizontal",
       "style": "IPY_MODEL_8300ef7ccb46478b949bbf5a7e7c4f20",
       "value": 1408.0
      }
     },
     "8db83eac9dfa47c69ed25976cbf8b2e7": {
      "model_module": "@jupyter-widgets/base",
      "model_module_version": "1.2.0",
      "model_name": "LayoutModel",
      "state": {
       "_model_module": "@jupyter-widgets/base",
       "_model_module_version": "1.2.0",
       "_model_name": "LayoutModel",
       "_view_count": null,
       "_view_module": "@jupyter-widgets/base",
       "_view_module_version": "1.2.0",
       "_view_name": "LayoutView",
       "align_content": null,
       "align_items": null,
       "align_self": null,
       "border": null,
       "bottom": null,
       "display": null,
       "flex": null,
       "flex_flow": null,
       "grid_area": null,
       "grid_auto_columns": null,
       "grid_auto_flow": null,
       "grid_auto_rows": null,
       "grid_column": null,
       "grid_gap": null,
       "grid_row": null,
       "grid_template_areas": null,
       "grid_template_columns": null,
       "grid_template_rows": null,
       "height": null,
       "justify_content": null,
       "justify_items": null,
       "left": null,
       "margin": null,
       "max_height": null,
       "max_width": null,
       "min_height": null,
       "min_width": null,
       "object_fit": null,
       "object_position": null,
       "order": null,
       "overflow": null,
       "overflow_x": null,
       "overflow_y": null,
       "padding": null,
       "right": null,
       "top": null,
       "visibility": null,
       "width": null
      }
     },
     "8e0d3af8ad094a9f8063beffdb699b5a": {
      "model_module": "@jupyter-widgets/base",
      "model_module_version": "1.2.0",
      "model_name": "LayoutModel",
      "state": {
       "_model_module": "@jupyter-widgets/base",
       "_model_module_version": "1.2.0",
       "_model_name": "LayoutModel",
       "_view_count": null,
       "_view_module": "@jupyter-widgets/base",
       "_view_module_version": "1.2.0",
       "_view_name": "LayoutView",
       "align_content": null,
       "align_items": null,
       "align_self": null,
       "border": null,
       "bottom": null,
       "display": null,
       "flex": null,
       "flex_flow": null,
       "grid_area": null,
       "grid_auto_columns": null,
       "grid_auto_flow": null,
       "grid_auto_rows": null,
       "grid_column": null,
       "grid_gap": null,
       "grid_row": null,
       "grid_template_areas": null,
       "grid_template_columns": null,
       "grid_template_rows": null,
       "height": null,
       "justify_content": null,
       "justify_items": null,
       "left": null,
       "margin": null,
       "max_height": null,
       "max_width": null,
       "min_height": null,
       "min_width": null,
       "object_fit": null,
       "object_position": null,
       "order": null,
       "overflow": null,
       "overflow_x": null,
       "overflow_y": null,
       "padding": null,
       "right": null,
       "top": null,
       "visibility": null,
       "width": null
      }
     },
     "92560a9c729349a5ba20397272a4e1f6": {
      "model_module": "@jupyter-widgets/controls",
      "model_module_version": "1.5.0",
      "model_name": "HBoxModel",
      "state": {
       "_dom_classes": [],
       "_model_module": "@jupyter-widgets/controls",
       "_model_module_version": "1.5.0",
       "_model_name": "HBoxModel",
       "_view_count": null,
       "_view_module": "@jupyter-widgets/controls",
       "_view_module_version": "1.5.0",
       "_view_name": "HBoxView",
       "box_style": "",
       "children": [
        "IPY_MODEL_1df18267e1804ba08c293edf2a4cb148",
        "IPY_MODEL_3bb1b0118ded4ca58f94316928dd781e",
        "IPY_MODEL_2a783ab17a254c069f5aa4a0c4fd7ffd"
       ],
       "layout": "IPY_MODEL_dbfa2e57e413422ea92a2eedcc56885d"
      }
     },
     "97b1186c01c44caca2bf642de67e21c8": {
      "model_module": "@jupyter-widgets/controls",
      "model_module_version": "1.5.0",
      "model_name": "HTMLModel",
      "state": {
       "_dom_classes": [],
       "_model_module": "@jupyter-widgets/controls",
       "_model_module_version": "1.5.0",
       "_model_name": "HTMLModel",
       "_view_count": null,
       "_view_module": "@jupyter-widgets/controls",
       "_view_module_version": "1.5.0",
       "_view_name": "HTMLView",
       "description": "",
       "description_tooltip": null,
       "layout": "IPY_MODEL_7263fc8bdb254a41a55c36af8111a5f8",
       "placeholder": "​",
       "style": "IPY_MODEL_88daca82c2e54a789c1b613f4e9b61db",
       "value": " 1384/1408 [00:02&lt;00:00, 488.36it/s]"
      }
     },
     "996150ec8fc54736b8a215e252469675": {
      "model_module": "@jupyter-widgets/controls",
      "model_module_version": "1.5.0",
      "model_name": "HBoxModel",
      "state": {
       "_dom_classes": [],
       "_model_module": "@jupyter-widgets/controls",
       "_model_module_version": "1.5.0",
       "_model_name": "HBoxModel",
       "_view_count": null,
       "_view_module": "@jupyter-widgets/controls",
       "_view_module_version": "1.5.0",
       "_view_name": "HBoxView",
       "box_style": "",
       "children": [
        "IPY_MODEL_49182dbdfec345318b8900475113ebb5",
        "IPY_MODEL_236605bd050c428697a7b29b82593c91",
        "IPY_MODEL_3cabe600d32e47b49c3d0beb303763fb"
       ],
       "layout": "IPY_MODEL_2290acc337b34c12a41e4013a6f25791"
      }
     },
     "9bf669ce204d4e138b47f831a4869e56": {
      "model_module": "@jupyter-widgets/controls",
      "model_module_version": "1.5.0",
      "model_name": "HTMLModel",
      "state": {
       "_dom_classes": [],
       "_model_module": "@jupyter-widgets/controls",
       "_model_module_version": "1.5.0",
       "_model_name": "HTMLModel",
       "_view_count": null,
       "_view_module": "@jupyter-widgets/controls",
       "_view_module_version": "1.5.0",
       "_view_name": "HTMLView",
       "description": "",
       "description_tooltip": null,
       "layout": "IPY_MODEL_5a08a809c5d243f5a3c79620f37cdae4",
       "placeholder": "​",
       "style": "IPY_MODEL_87069f34595947989634ec80c7b362d2",
       "value": "Training Epoch 3: 100%"
      }
     },
     "9d081793c3a54c3b8d3810d166e896fa": {
      "model_module": "@jupyter-widgets/controls",
      "model_module_version": "1.5.0",
      "model_name": "HBoxModel",
      "state": {
       "_dom_classes": [],
       "_model_module": "@jupyter-widgets/controls",
       "_model_module_version": "1.5.0",
       "_model_name": "HBoxModel",
       "_view_count": null,
       "_view_module": "@jupyter-widgets/controls",
       "_view_module_version": "1.5.0",
       "_view_name": "HBoxView",
       "box_style": "",
       "children": [
        "IPY_MODEL_d19fd2b95fa940f39d9681e73e02f392",
        "IPY_MODEL_71e90bed551f479a8a13d2a45b1e32a8",
        "IPY_MODEL_fcabc1b3e11845538a71d41431cd1821"
       ],
       "layout": "IPY_MODEL_e77eff0467004653818cd584e641253a"
      }
     },
     "a191b07e60e24889bb006135d3b7c71f": {
      "model_module": "@jupyter-widgets/controls",
      "model_module_version": "1.5.0",
      "model_name": "HTMLModel",
      "state": {
       "_dom_classes": [],
       "_model_module": "@jupyter-widgets/controls",
       "_model_module_version": "1.5.0",
       "_model_name": "HTMLModel",
       "_view_count": null,
       "_view_module": "@jupyter-widgets/controls",
       "_view_module_version": "1.5.0",
       "_view_name": "HTMLView",
       "description": "",
       "description_tooltip": null,
       "layout": "IPY_MODEL_ee47486c1b9140589e8ea2ad43250657",
       "placeholder": "​",
       "style": "IPY_MODEL_32e93e306dfc49a29954436d8c2cb592",
       "value": "Training Epochs: 100%"
      }
     },
     "a36ab9ce735640df989862a50e76320c": {
      "model_module": "@jupyter-widgets/base",
      "model_module_version": "1.2.0",
      "model_name": "LayoutModel",
      "state": {
       "_model_module": "@jupyter-widgets/base",
       "_model_module_version": "1.2.0",
       "_model_name": "LayoutModel",
       "_view_count": null,
       "_view_module": "@jupyter-widgets/base",
       "_view_module_version": "1.2.0",
       "_view_name": "LayoutView",
       "align_content": null,
       "align_items": null,
       "align_self": null,
       "border": null,
       "bottom": null,
       "display": null,
       "flex": null,
       "flex_flow": null,
       "grid_area": null,
       "grid_auto_columns": null,
       "grid_auto_flow": null,
       "grid_auto_rows": null,
       "grid_column": null,
       "grid_gap": null,
       "grid_row": null,
       "grid_template_areas": null,
       "grid_template_columns": null,
       "grid_template_rows": null,
       "height": null,
       "justify_content": null,
       "justify_items": null,
       "left": null,
       "margin": null,
       "max_height": null,
       "max_width": null,
       "min_height": null,
       "min_width": null,
       "object_fit": null,
       "object_position": null,
       "order": null,
       "overflow": null,
       "overflow_x": null,
       "overflow_y": null,
       "padding": null,
       "right": null,
       "top": null,
       "visibility": null,
       "width": null
      }
     },
     "a3e09e0239a041558c7e066f3b8c6944": {
      "model_module": "@jupyter-widgets/controls",
      "model_module_version": "1.5.0",
      "model_name": "ProgressStyleModel",
      "state": {
       "_model_module": "@jupyter-widgets/controls",
       "_model_module_version": "1.5.0",
       "_model_name": "ProgressStyleModel",
       "_view_count": null,
       "_view_module": "@jupyter-widgets/base",
       "_view_module_version": "1.2.0",
       "_view_name": "StyleView",
       "bar_color": null,
       "description_width": ""
      }
     },
     "a4365fb4265e41269d1a84109d1c9d7d": {
      "model_module": "@jupyter-widgets/controls",
      "model_module_version": "1.5.0",
      "model_name": "HBoxModel",
      "state": {
       "_dom_classes": [],
       "_model_module": "@jupyter-widgets/controls",
       "_model_module_version": "1.5.0",
       "_model_name": "HBoxModel",
       "_view_count": null,
       "_view_module": "@jupyter-widgets/controls",
       "_view_module_version": "1.5.0",
       "_view_name": "HBoxView",
       "box_style": "",
       "children": [
        "IPY_MODEL_3a821642e61b4aa6966429a78aa40b11",
        "IPY_MODEL_8d50fe26564649379942bb764cb3922b",
        "IPY_MODEL_a5c3173b4ae7445e95ead08c97839c2e"
       ],
       "layout": "IPY_MODEL_0a9c77d141cb4d0bb322c7cd44ce680b"
      }
     },
     "a45a896c453f48ddb6c4005ab9930f4f": {
      "model_module": "@jupyter-widgets/base",
      "model_module_version": "1.2.0",
      "model_name": "LayoutModel",
      "state": {
       "_model_module": "@jupyter-widgets/base",
       "_model_module_version": "1.2.0",
       "_model_name": "LayoutModel",
       "_view_count": null,
       "_view_module": "@jupyter-widgets/base",
       "_view_module_version": "1.2.0",
       "_view_name": "LayoutView",
       "align_content": null,
       "align_items": null,
       "align_self": null,
       "border": null,
       "bottom": null,
       "display": null,
       "flex": null,
       "flex_flow": null,
       "grid_area": null,
       "grid_auto_columns": null,
       "grid_auto_flow": null,
       "grid_auto_rows": null,
       "grid_column": null,
       "grid_gap": null,
       "grid_row": null,
       "grid_template_areas": null,
       "grid_template_columns": null,
       "grid_template_rows": null,
       "height": null,
       "justify_content": null,
       "justify_items": null,
       "left": null,
       "margin": null,
       "max_height": null,
       "max_width": null,
       "min_height": null,
       "min_width": null,
       "object_fit": null,
       "object_position": null,
       "order": null,
       "overflow": null,
       "overflow_x": null,
       "overflow_y": null,
       "padding": null,
       "right": null,
       "top": null,
       "visibility": null,
       "width": null
      }
     },
     "a5c3173b4ae7445e95ead08c97839c2e": {
      "model_module": "@jupyter-widgets/controls",
      "model_module_version": "1.5.0",
      "model_name": "HTMLModel",
      "state": {
       "_dom_classes": [],
       "_model_module": "@jupyter-widgets/controls",
       "_model_module_version": "1.5.0",
       "_model_name": "HTMLModel",
       "_view_count": null,
       "_view_module": "@jupyter-widgets/controls",
       "_view_module_version": "1.5.0",
       "_view_name": "HTMLView",
       "description": "",
       "description_tooltip": null,
       "layout": "IPY_MODEL_8e0d3af8ad094a9f8063beffdb699b5a",
       "placeholder": "​",
       "style": "IPY_MODEL_c80c8674eb9642058b1f3c0d3fd2e6f6",
       "value": " 1391/1408 [00:02&lt;00:00, 493.99it/s]"
      }
     },
     "a6645e464a16404483a66317bc99a587": {
      "model_module": "@jupyter-widgets/base",
      "model_module_version": "1.2.0",
      "model_name": "LayoutModel",
      "state": {
       "_model_module": "@jupyter-widgets/base",
       "_model_module_version": "1.2.0",
       "_model_name": "LayoutModel",
       "_view_count": null,
       "_view_module": "@jupyter-widgets/base",
       "_view_module_version": "1.2.0",
       "_view_name": "LayoutView",
       "align_content": null,
       "align_items": null,
       "align_self": null,
       "border": null,
       "bottom": null,
       "display": null,
       "flex": null,
       "flex_flow": null,
       "grid_area": null,
       "grid_auto_columns": null,
       "grid_auto_flow": null,
       "grid_auto_rows": null,
       "grid_column": null,
       "grid_gap": null,
       "grid_row": null,
       "grid_template_areas": null,
       "grid_template_columns": null,
       "grid_template_rows": null,
       "height": null,
       "justify_content": null,
       "justify_items": null,
       "left": null,
       "margin": null,
       "max_height": null,
       "max_width": null,
       "min_height": null,
       "min_width": null,
       "object_fit": null,
       "object_position": null,
       "order": null,
       "overflow": null,
       "overflow_x": null,
       "overflow_y": null,
       "padding": null,
       "right": null,
       "top": null,
       "visibility": null,
       "width": null
      }
     },
     "ab6d97c2950642f884dfdffa5495bd02": {
      "model_module": "@jupyter-widgets/controls",
      "model_module_version": "1.5.0",
      "model_name": "HBoxModel",
      "state": {
       "_dom_classes": [],
       "_model_module": "@jupyter-widgets/controls",
       "_model_module_version": "1.5.0",
       "_model_name": "HBoxModel",
       "_view_count": null,
       "_view_module": "@jupyter-widgets/controls",
       "_view_module_version": "1.5.0",
       "_view_name": "HBoxView",
       "box_style": "",
       "children": [
        "IPY_MODEL_30629d72a2c74456acd19fd43bc728dc",
        "IPY_MODEL_4d668f13ae46492aaecbc08d28feee97",
        "IPY_MODEL_01f355ca5ba64d1199b3f2980507bc55"
       ],
       "layout": "IPY_MODEL_7e0a6ed6bc374e009b27074a1c08c5ab"
      }
     },
     "abf06ce86e1a48b482530f72f52d07fb": {
      "model_module": "@jupyter-widgets/base",
      "model_module_version": "1.2.0",
      "model_name": "LayoutModel",
      "state": {
       "_model_module": "@jupyter-widgets/base",
       "_model_module_version": "1.2.0",
       "_model_name": "LayoutModel",
       "_view_count": null,
       "_view_module": "@jupyter-widgets/base",
       "_view_module_version": "1.2.0",
       "_view_name": "LayoutView",
       "align_content": null,
       "align_items": null,
       "align_self": null,
       "border": null,
       "bottom": null,
       "display": null,
       "flex": null,
       "flex_flow": null,
       "grid_area": null,
       "grid_auto_columns": null,
       "grid_auto_flow": null,
       "grid_auto_rows": null,
       "grid_column": null,
       "grid_gap": null,
       "grid_row": null,
       "grid_template_areas": null,
       "grid_template_columns": null,
       "grid_template_rows": null,
       "height": null,
       "justify_content": null,
       "justify_items": null,
       "left": null,
       "margin": null,
       "max_height": null,
       "max_width": null,
       "min_height": null,
       "min_width": null,
       "object_fit": null,
       "object_position": null,
       "order": null,
       "overflow": null,
       "overflow_x": null,
       "overflow_y": null,
       "padding": null,
       "right": null,
       "top": null,
       "visibility": "hidden",
       "width": null
      }
     },
     "b086f89b57a14ab9858580a6f86440dc": {
      "model_module": "@jupyter-widgets/base",
      "model_module_version": "1.2.0",
      "model_name": "LayoutModel",
      "state": {
       "_model_module": "@jupyter-widgets/base",
       "_model_module_version": "1.2.0",
       "_model_name": "LayoutModel",
       "_view_count": null,
       "_view_module": "@jupyter-widgets/base",
       "_view_module_version": "1.2.0",
       "_view_name": "LayoutView",
       "align_content": null,
       "align_items": null,
       "align_self": null,
       "border": null,
       "bottom": null,
       "display": null,
       "flex": null,
       "flex_flow": null,
       "grid_area": null,
       "grid_auto_columns": null,
       "grid_auto_flow": null,
       "grid_auto_rows": null,
       "grid_column": null,
       "grid_gap": null,
       "grid_row": null,
       "grid_template_areas": null,
       "grid_template_columns": null,
       "grid_template_rows": null,
       "height": null,
       "justify_content": null,
       "justify_items": null,
       "left": null,
       "margin": null,
       "max_height": null,
       "max_width": null,
       "min_height": null,
       "min_width": null,
       "object_fit": null,
       "object_position": null,
       "order": null,
       "overflow": null,
       "overflow_x": null,
       "overflow_y": null,
       "padding": null,
       "right": null,
       "top": null,
       "visibility": "hidden",
       "width": null
      }
     },
     "b2778ec0588145b4a08d3621fa5f7334": {
      "model_module": "@jupyter-widgets/base",
      "model_module_version": "1.2.0",
      "model_name": "LayoutModel",
      "state": {
       "_model_module": "@jupyter-widgets/base",
       "_model_module_version": "1.2.0",
       "_model_name": "LayoutModel",
       "_view_count": null,
       "_view_module": "@jupyter-widgets/base",
       "_view_module_version": "1.2.0",
       "_view_name": "LayoutView",
       "align_content": null,
       "align_items": null,
       "align_self": null,
       "border": null,
       "bottom": null,
       "display": null,
       "flex": null,
       "flex_flow": null,
       "grid_area": null,
       "grid_auto_columns": null,
       "grid_auto_flow": null,
       "grid_auto_rows": null,
       "grid_column": null,
       "grid_gap": null,
       "grid_row": null,
       "grid_template_areas": null,
       "grid_template_columns": null,
       "grid_template_rows": null,
       "height": null,
       "justify_content": null,
       "justify_items": null,
       "left": null,
       "margin": null,
       "max_height": null,
       "max_width": null,
       "min_height": null,
       "min_width": null,
       "object_fit": null,
       "object_position": null,
       "order": null,
       "overflow": null,
       "overflow_x": null,
       "overflow_y": null,
       "padding": null,
       "right": null,
       "top": null,
       "visibility": null,
       "width": null
      }
     },
     "b2a08a48fde144f6b702f2b88bd88531": {
      "model_module": "@jupyter-widgets/controls",
      "model_module_version": "1.5.0",
      "model_name": "DescriptionStyleModel",
      "state": {
       "_model_module": "@jupyter-widgets/controls",
       "_model_module_version": "1.5.0",
       "_model_name": "DescriptionStyleModel",
       "_view_count": null,
       "_view_module": "@jupyter-widgets/base",
       "_view_module_version": "1.2.0",
       "_view_name": "StyleView",
       "description_width": ""
      }
     },
     "b3bc6cca39ac4e40903c4ae374743ccb": {
      "model_module": "@jupyter-widgets/controls",
      "model_module_version": "1.5.0",
      "model_name": "DescriptionStyleModel",
      "state": {
       "_model_module": "@jupyter-widgets/controls",
       "_model_module_version": "1.5.0",
       "_model_name": "DescriptionStyleModel",
       "_view_count": null,
       "_view_module": "@jupyter-widgets/base",
       "_view_module_version": "1.2.0",
       "_view_name": "StyleView",
       "description_width": ""
      }
     },
     "b3e756b94a9c457d8ad7cc8d1b46d260": {
      "model_module": "@jupyter-widgets/base",
      "model_module_version": "1.2.0",
      "model_name": "LayoutModel",
      "state": {
       "_model_module": "@jupyter-widgets/base",
       "_model_module_version": "1.2.0",
       "_model_name": "LayoutModel",
       "_view_count": null,
       "_view_module": "@jupyter-widgets/base",
       "_view_module_version": "1.2.0",
       "_view_name": "LayoutView",
       "align_content": null,
       "align_items": null,
       "align_self": null,
       "border": null,
       "bottom": null,
       "display": null,
       "flex": null,
       "flex_flow": null,
       "grid_area": null,
       "grid_auto_columns": null,
       "grid_auto_flow": null,
       "grid_auto_rows": null,
       "grid_column": null,
       "grid_gap": null,
       "grid_row": null,
       "grid_template_areas": null,
       "grid_template_columns": null,
       "grid_template_rows": null,
       "height": null,
       "justify_content": null,
       "justify_items": null,
       "left": null,
       "margin": null,
       "max_height": null,
       "max_width": null,
       "min_height": null,
       "min_width": null,
       "object_fit": null,
       "object_position": null,
       "order": null,
       "overflow": null,
       "overflow_x": null,
       "overflow_y": null,
       "padding": null,
       "right": null,
       "top": null,
       "visibility": null,
       "width": null
      }
     },
     "b62d6ab466f24154abdd7ab09a8b57fb": {
      "model_module": "@jupyter-widgets/controls",
      "model_module_version": "1.5.0",
      "model_name": "ProgressStyleModel",
      "state": {
       "_model_module": "@jupyter-widgets/controls",
       "_model_module_version": "1.5.0",
       "_model_name": "ProgressStyleModel",
       "_view_count": null,
       "_view_module": "@jupyter-widgets/base",
       "_view_module_version": "1.2.0",
       "_view_name": "StyleView",
       "bar_color": null,
       "description_width": ""
      }
     },
     "b7d7266919e2492a915bbd772162520f": {
      "model_module": "@jupyter-widgets/base",
      "model_module_version": "1.2.0",
      "model_name": "LayoutModel",
      "state": {
       "_model_module": "@jupyter-widgets/base",
       "_model_module_version": "1.2.0",
       "_model_name": "LayoutModel",
       "_view_count": null,
       "_view_module": "@jupyter-widgets/base",
       "_view_module_version": "1.2.0",
       "_view_name": "LayoutView",
       "align_content": null,
       "align_items": null,
       "align_self": null,
       "border": null,
       "bottom": null,
       "display": null,
       "flex": null,
       "flex_flow": null,
       "grid_area": null,
       "grid_auto_columns": null,
       "grid_auto_flow": null,
       "grid_auto_rows": null,
       "grid_column": null,
       "grid_gap": null,
       "grid_row": null,
       "grid_template_areas": null,
       "grid_template_columns": null,
       "grid_template_rows": null,
       "height": null,
       "justify_content": null,
       "justify_items": null,
       "left": null,
       "margin": null,
       "max_height": null,
       "max_width": null,
       "min_height": null,
       "min_width": null,
       "object_fit": null,
       "object_position": null,
       "order": null,
       "overflow": null,
       "overflow_x": null,
       "overflow_y": null,
       "padding": null,
       "right": null,
       "top": null,
       "visibility": null,
       "width": null
      }
     },
     "c2f96ef993c64da5ac85ae2f16a4b42f": {
      "model_module": "@jupyter-widgets/base",
      "model_module_version": "1.2.0",
      "model_name": "LayoutModel",
      "state": {
       "_model_module": "@jupyter-widgets/base",
       "_model_module_version": "1.2.0",
       "_model_name": "LayoutModel",
       "_view_count": null,
       "_view_module": "@jupyter-widgets/base",
       "_view_module_version": "1.2.0",
       "_view_name": "LayoutView",
       "align_content": null,
       "align_items": null,
       "align_self": null,
       "border": null,
       "bottom": null,
       "display": null,
       "flex": null,
       "flex_flow": null,
       "grid_area": null,
       "grid_auto_columns": null,
       "grid_auto_flow": null,
       "grid_auto_rows": null,
       "grid_column": null,
       "grid_gap": null,
       "grid_row": null,
       "grid_template_areas": null,
       "grid_template_columns": null,
       "grid_template_rows": null,
       "height": null,
       "justify_content": null,
       "justify_items": null,
       "left": null,
       "margin": null,
       "max_height": null,
       "max_width": null,
       "min_height": null,
       "min_width": null,
       "object_fit": null,
       "object_position": null,
       "order": null,
       "overflow": null,
       "overflow_x": null,
       "overflow_y": null,
       "padding": null,
       "right": null,
       "top": null,
       "visibility": null,
       "width": null
      }
     },
     "c4accd8036144d9f91521e28ebbe74bf": {
      "model_module": "@jupyter-widgets/controls",
      "model_module_version": "1.5.0",
      "model_name": "HTMLModel",
      "state": {
       "_dom_classes": [],
       "_model_module": "@jupyter-widgets/controls",
       "_model_module_version": "1.5.0",
       "_model_name": "HTMLModel",
       "_view_count": null,
       "_view_module": "@jupyter-widgets/controls",
       "_view_module_version": "1.5.0",
       "_view_name": "HTMLView",
       "description": "",
       "description_tooltip": null,
       "layout": "IPY_MODEL_643a26ca4b394680b0091d4638b4b3e5",
       "placeholder": "​",
       "style": "IPY_MODEL_b2a08a48fde144f6b702f2b88bd88531",
       "value": "Evaluating:  99%"
      }
     },
     "c558f52c7919406eb9d476f89972721a": {
      "model_module": "@jupyter-widgets/base",
      "model_module_version": "1.2.0",
      "model_name": "LayoutModel",
      "state": {
       "_model_module": "@jupyter-widgets/base",
       "_model_module_version": "1.2.0",
       "_model_name": "LayoutModel",
       "_view_count": null,
       "_view_module": "@jupyter-widgets/base",
       "_view_module_version": "1.2.0",
       "_view_name": "LayoutView",
       "align_content": null,
       "align_items": null,
       "align_self": null,
       "border": null,
       "bottom": null,
       "display": null,
       "flex": null,
       "flex_flow": null,
       "grid_area": null,
       "grid_auto_columns": null,
       "grid_auto_flow": null,
       "grid_auto_rows": null,
       "grid_column": null,
       "grid_gap": null,
       "grid_row": null,
       "grid_template_areas": null,
       "grid_template_columns": null,
       "grid_template_rows": null,
       "height": null,
       "justify_content": null,
       "justify_items": null,
       "left": null,
       "margin": null,
       "max_height": null,
       "max_width": null,
       "min_height": null,
       "min_width": null,
       "object_fit": null,
       "object_position": null,
       "order": null,
       "overflow": null,
       "overflow_x": null,
       "overflow_y": null,
       "padding": null,
       "right": null,
       "top": null,
       "visibility": null,
       "width": null
      }
     },
     "c80c8674eb9642058b1f3c0d3fd2e6f6": {
      "model_module": "@jupyter-widgets/controls",
      "model_module_version": "1.5.0",
      "model_name": "DescriptionStyleModel",
      "state": {
       "_model_module": "@jupyter-widgets/controls",
       "_model_module_version": "1.5.0",
       "_model_name": "DescriptionStyleModel",
       "_view_count": null,
       "_view_module": "@jupyter-widgets/base",
       "_view_module_version": "1.2.0",
       "_view_name": "StyleView",
       "description_width": ""
      }
     },
     "ca2dc420cdb840b3b9e4a96ca453b190": {
      "model_module": "@jupyter-widgets/controls",
      "model_module_version": "1.5.0",
      "model_name": "ProgressStyleModel",
      "state": {
       "_model_module": "@jupyter-widgets/controls",
       "_model_module_version": "1.5.0",
       "_model_name": "ProgressStyleModel",
       "_view_count": null,
       "_view_module": "@jupyter-widgets/base",
       "_view_module_version": "1.2.0",
       "_view_name": "StyleView",
       "bar_color": null,
       "description_width": ""
      }
     },
     "ca830b9cc73141b693d563cfeaa5e3ee": {
      "model_module": "@jupyter-widgets/controls",
      "model_module_version": "1.5.0",
      "model_name": "DescriptionStyleModel",
      "state": {
       "_model_module": "@jupyter-widgets/controls",
       "_model_module_version": "1.5.0",
       "_model_name": "DescriptionStyleModel",
       "_view_count": null,
       "_view_module": "@jupyter-widgets/base",
       "_view_module_version": "1.2.0",
       "_view_name": "StyleView",
       "description_width": ""
      }
     },
     "cb3c4ccb3f1c43e290352e61ee915177": {
      "model_module": "@jupyter-widgets/controls",
      "model_module_version": "1.5.0",
      "model_name": "DescriptionStyleModel",
      "state": {
       "_model_module": "@jupyter-widgets/controls",
       "_model_module_version": "1.5.0",
       "_model_name": "DescriptionStyleModel",
       "_view_count": null,
       "_view_module": "@jupyter-widgets/base",
       "_view_module_version": "1.2.0",
       "_view_name": "StyleView",
       "description_width": ""
      }
     },
     "cb86f9f1961c4b5aac44282c8a95414e": {
      "model_module": "@jupyter-widgets/controls",
      "model_module_version": "1.5.0",
      "model_name": "HBoxModel",
      "state": {
       "_dom_classes": [],
       "_model_module": "@jupyter-widgets/controls",
       "_model_module_version": "1.5.0",
       "_model_name": "HBoxModel",
       "_view_count": null,
       "_view_module": "@jupyter-widgets/controls",
       "_view_module_version": "1.5.0",
       "_view_name": "HBoxView",
       "box_style": "",
       "children": [
        "IPY_MODEL_a191b07e60e24889bb006135d3b7c71f",
        "IPY_MODEL_5bcb166b092247818aa3d7b0911f97d2",
        "IPY_MODEL_038caf75f66143958aa9c0abff9c7e9c"
       ],
       "layout": "IPY_MODEL_f2ad769549fc40b3908f83b7ccefc223"
      }
     },
     "d124e132dbf0480f90863719644b6340": {
      "model_module": "@jupyter-widgets/controls",
      "model_module_version": "1.5.0",
      "model_name": "ProgressStyleModel",
      "state": {
       "_model_module": "@jupyter-widgets/controls",
       "_model_module_version": "1.5.0",
       "_model_name": "ProgressStyleModel",
       "_view_count": null,
       "_view_module": "@jupyter-widgets/base",
       "_view_module_version": "1.2.0",
       "_view_name": "StyleView",
       "bar_color": null,
       "description_width": ""
      }
     },
     "d19fd2b95fa940f39d9681e73e02f392": {
      "model_module": "@jupyter-widgets/controls",
      "model_module_version": "1.5.0",
      "model_name": "HTMLModel",
      "state": {
       "_dom_classes": [],
       "_model_module": "@jupyter-widgets/controls",
       "_model_module_version": "1.5.0",
       "_model_name": "HTMLModel",
       "_view_count": null,
       "_view_module": "@jupyter-widgets/controls",
       "_view_module_version": "1.5.0",
       "_view_name": "HTMLView",
       "description": "",
       "description_tooltip": null,
       "layout": "IPY_MODEL_8db83eac9dfa47c69ed25976cbf8b2e7",
       "placeholder": "​",
       "style": "IPY_MODEL_2ee852534d1b4957af1404c8d70e1514",
       "value": "Training Epoch 2: 100%"
      }
     },
     "d2f892b043ac4118a230237c58c23226": {
      "model_module": "@jupyter-widgets/controls",
      "model_module_version": "1.5.0",
      "model_name": "FloatProgressModel",
      "state": {
       "_dom_classes": [],
       "_model_module": "@jupyter-widgets/controls",
       "_model_module_version": "1.5.0",
       "_model_name": "FloatProgressModel",
       "_view_count": null,
       "_view_module": "@jupyter-widgets/controls",
       "_view_module_version": "1.5.0",
       "_view_name": "ProgressView",
       "bar_style": "",
       "description": "",
       "description_tooltip": null,
       "layout": "IPY_MODEL_c2f96ef993c64da5ac85ae2f16a4b42f",
       "max": 3193.0,
       "min": 0.0,
       "orientation": "horizontal",
       "style": "IPY_MODEL_d124e132dbf0480f90863719644b6340",
       "value": 3193.0
      }
     },
     "d6e3751f03444720babc9794e7f29044": {
      "model_module": "@jupyter-widgets/base",
      "model_module_version": "1.2.0",
      "model_name": "LayoutModel",
      "state": {
       "_model_module": "@jupyter-widgets/base",
       "_model_module_version": "1.2.0",
       "_model_name": "LayoutModel",
       "_view_count": null,
       "_view_module": "@jupyter-widgets/base",
       "_view_module_version": "1.2.0",
       "_view_name": "LayoutView",
       "align_content": null,
       "align_items": null,
       "align_self": null,
       "border": null,
       "bottom": null,
       "display": null,
       "flex": null,
       "flex_flow": null,
       "grid_area": null,
       "grid_auto_columns": null,
       "grid_auto_flow": null,
       "grid_auto_rows": null,
       "grid_column": null,
       "grid_gap": null,
       "grid_row": null,
       "grid_template_areas": null,
       "grid_template_columns": null,
       "grid_template_rows": null,
       "height": null,
       "justify_content": null,
       "justify_items": null,
       "left": null,
       "margin": null,
       "max_height": null,
       "max_width": null,
       "min_height": null,
       "min_width": null,
       "object_fit": null,
       "object_position": null,
       "order": null,
       "overflow": null,
       "overflow_x": null,
       "overflow_y": null,
       "padding": null,
       "right": null,
       "top": null,
       "visibility": null,
       "width": null
      }
     },
     "dbfa2e57e413422ea92a2eedcc56885d": {
      "model_module": "@jupyter-widgets/base",
      "model_module_version": "1.2.0",
      "model_name": "LayoutModel",
      "state": {
       "_model_module": "@jupyter-widgets/base",
       "_model_module_version": "1.2.0",
       "_model_name": "LayoutModel",
       "_view_count": null,
       "_view_module": "@jupyter-widgets/base",
       "_view_module_version": "1.2.0",
       "_view_name": "LayoutView",
       "align_content": null,
       "align_items": null,
       "align_self": null,
       "border": null,
       "bottom": null,
       "display": null,
       "flex": null,
       "flex_flow": null,
       "grid_area": null,
       "grid_auto_columns": null,
       "grid_auto_flow": null,
       "grid_auto_rows": null,
       "grid_column": null,
       "grid_gap": null,
       "grid_row": null,
       "grid_template_areas": null,
       "grid_template_columns": null,
       "grid_template_rows": null,
       "height": null,
       "justify_content": null,
       "justify_items": null,
       "left": null,
       "margin": null,
       "max_height": null,
       "max_width": null,
       "min_height": null,
       "min_width": null,
       "object_fit": null,
       "object_position": null,
       "order": null,
       "overflow": null,
       "overflow_x": null,
       "overflow_y": null,
       "padding": null,
       "right": null,
       "top": null,
       "visibility": "hidden",
       "width": null
      }
     },
     "dc6c4c83451841d99b78fe2eced24105": {
      "model_module": "@jupyter-widgets/controls",
      "model_module_version": "1.5.0",
      "model_name": "FloatProgressModel",
      "state": {
       "_dom_classes": [],
       "_model_module": "@jupyter-widgets/controls",
       "_model_module_version": "1.5.0",
       "_model_name": "FloatProgressModel",
       "_view_count": null,
       "_view_module": "@jupyter-widgets/controls",
       "_view_module_version": "1.5.0",
       "_view_name": "ProgressView",
       "bar_style": "",
       "description": "",
       "description_tooltip": null,
       "layout": "IPY_MODEL_ef9c0133d601468b8d0f8c687c707286",
       "max": 1408.0,
       "min": 0.0,
       "orientation": "horizontal",
       "style": "IPY_MODEL_18dad584a40844f08d594a2c4d8db91e",
       "value": 1408.0
      }
     },
     "de6b1e66d3374b78b5916728966cf875": {
      "model_module": "@jupyter-widgets/base",
      "model_module_version": "1.2.0",
      "model_name": "LayoutModel",
      "state": {
       "_model_module": "@jupyter-widgets/base",
       "_model_module_version": "1.2.0",
       "_model_name": "LayoutModel",
       "_view_count": null,
       "_view_module": "@jupyter-widgets/base",
       "_view_module_version": "1.2.0",
       "_view_name": "LayoutView",
       "align_content": null,
       "align_items": null,
       "align_self": null,
       "border": null,
       "bottom": null,
       "display": null,
       "flex": null,
       "flex_flow": null,
       "grid_area": null,
       "grid_auto_columns": null,
       "grid_auto_flow": null,
       "grid_auto_rows": null,
       "grid_column": null,
       "grid_gap": null,
       "grid_row": null,
       "grid_template_areas": null,
       "grid_template_columns": null,
       "grid_template_rows": null,
       "height": null,
       "justify_content": null,
       "justify_items": null,
       "left": null,
       "margin": null,
       "max_height": null,
       "max_width": null,
       "min_height": null,
       "min_width": null,
       "object_fit": null,
       "object_position": null,
       "order": null,
       "overflow": null,
       "overflow_x": null,
       "overflow_y": null,
       "padding": null,
       "right": null,
       "top": null,
       "visibility": null,
       "width": null
      }
     },
     "dfb9f55deff64a368a1481ff3a33a88d": {
      "model_module": "@jupyter-widgets/base",
      "model_module_version": "1.2.0",
      "model_name": "LayoutModel",
      "state": {
       "_model_module": "@jupyter-widgets/base",
       "_model_module_version": "1.2.0",
       "_model_name": "LayoutModel",
       "_view_count": null,
       "_view_module": "@jupyter-widgets/base",
       "_view_module_version": "1.2.0",
       "_view_name": "LayoutView",
       "align_content": null,
       "align_items": null,
       "align_self": null,
       "border": null,
       "bottom": null,
       "display": null,
       "flex": null,
       "flex_flow": null,
       "grid_area": null,
       "grid_auto_columns": null,
       "grid_auto_flow": null,
       "grid_auto_rows": null,
       "grid_column": null,
       "grid_gap": null,
       "grid_row": null,
       "grid_template_areas": null,
       "grid_template_columns": null,
       "grid_template_rows": null,
       "height": null,
       "justify_content": null,
       "justify_items": null,
       "left": null,
       "margin": null,
       "max_height": null,
       "max_width": null,
       "min_height": null,
       "min_width": null,
       "object_fit": null,
       "object_position": null,
       "order": null,
       "overflow": null,
       "overflow_x": null,
       "overflow_y": null,
       "padding": null,
       "right": null,
       "top": null,
       "visibility": null,
       "width": null
      }
     },
     "e19bb050e2534a6498efbc755809305e": {
      "model_module": "@jupyter-widgets/controls",
      "model_module_version": "1.5.0",
      "model_name": "HBoxModel",
      "state": {
       "_dom_classes": [],
       "_model_module": "@jupyter-widgets/controls",
       "_model_module_version": "1.5.0",
       "_model_name": "HBoxModel",
       "_view_count": null,
       "_view_module": "@jupyter-widgets/controls",
       "_view_module_version": "1.5.0",
       "_view_name": "HBoxView",
       "box_style": "",
       "children": [
        "IPY_MODEL_c4accd8036144d9f91521e28ebbe74bf",
        "IPY_MODEL_46e5040216044e4f98d71025c1ca9fe8",
        "IPY_MODEL_309f680c17094f6997f935d2bc6bf6a6"
       ],
       "layout": "IPY_MODEL_094dbd33bd5c4981a4ab3c260b47fa26"
      }
     },
     "e1e4040c8a9c4b7c9864e15e5c847de7": {
      "model_module": "@jupyter-widgets/base",
      "model_module_version": "1.2.0",
      "model_name": "LayoutModel",
      "state": {
       "_model_module": "@jupyter-widgets/base",
       "_model_module_version": "1.2.0",
       "_model_name": "LayoutModel",
       "_view_count": null,
       "_view_module": "@jupyter-widgets/base",
       "_view_module_version": "1.2.0",
       "_view_name": "LayoutView",
       "align_content": null,
       "align_items": null,
       "align_self": null,
       "border": null,
       "bottom": null,
       "display": null,
       "flex": null,
       "flex_flow": null,
       "grid_area": null,
       "grid_auto_columns": null,
       "grid_auto_flow": null,
       "grid_auto_rows": null,
       "grid_column": null,
       "grid_gap": null,
       "grid_row": null,
       "grid_template_areas": null,
       "grid_template_columns": null,
       "grid_template_rows": null,
       "height": null,
       "justify_content": null,
       "justify_items": null,
       "left": null,
       "margin": null,
       "max_height": null,
       "max_width": null,
       "min_height": null,
       "min_width": null,
       "object_fit": null,
       "object_position": null,
       "order": null,
       "overflow": null,
       "overflow_x": null,
       "overflow_y": null,
       "padding": null,
       "right": null,
       "top": null,
       "visibility": null,
       "width": null
      }
     },
     "e23dd499ee2e44d0aea058e131c702d6": {
      "model_module": "@jupyter-widgets/base",
      "model_module_version": "1.2.0",
      "model_name": "LayoutModel",
      "state": {
       "_model_module": "@jupyter-widgets/base",
       "_model_module_version": "1.2.0",
       "_model_name": "LayoutModel",
       "_view_count": null,
       "_view_module": "@jupyter-widgets/base",
       "_view_module_version": "1.2.0",
       "_view_name": "LayoutView",
       "align_content": null,
       "align_items": null,
       "align_self": null,
       "border": null,
       "bottom": null,
       "display": null,
       "flex": null,
       "flex_flow": null,
       "grid_area": null,
       "grid_auto_columns": null,
       "grid_auto_flow": null,
       "grid_auto_rows": null,
       "grid_column": null,
       "grid_gap": null,
       "grid_row": null,
       "grid_template_areas": null,
       "grid_template_columns": null,
       "grid_template_rows": null,
       "height": null,
       "justify_content": null,
       "justify_items": null,
       "left": null,
       "margin": null,
       "max_height": null,
       "max_width": null,
       "min_height": null,
       "min_width": null,
       "object_fit": null,
       "object_position": null,
       "order": null,
       "overflow": null,
       "overflow_x": null,
       "overflow_y": null,
       "padding": null,
       "right": null,
       "top": null,
       "visibility": null,
       "width": null
      }
     },
     "e37ff39b2ce14f91953bb04e70708f90": {
      "model_module": "@jupyter-widgets/base",
      "model_module_version": "1.2.0",
      "model_name": "LayoutModel",
      "state": {
       "_model_module": "@jupyter-widgets/base",
       "_model_module_version": "1.2.0",
       "_model_name": "LayoutModel",
       "_view_count": null,
       "_view_module": "@jupyter-widgets/base",
       "_view_module_version": "1.2.0",
       "_view_name": "LayoutView",
       "align_content": null,
       "align_items": null,
       "align_self": null,
       "border": null,
       "bottom": null,
       "display": null,
       "flex": null,
       "flex_flow": null,
       "grid_area": null,
       "grid_auto_columns": null,
       "grid_auto_flow": null,
       "grid_auto_rows": null,
       "grid_column": null,
       "grid_gap": null,
       "grid_row": null,
       "grid_template_areas": null,
       "grid_template_columns": null,
       "grid_template_rows": null,
       "height": null,
       "justify_content": null,
       "justify_items": null,
       "left": null,
       "margin": null,
       "max_height": null,
       "max_width": null,
       "min_height": null,
       "min_width": null,
       "object_fit": null,
       "object_position": null,
       "order": null,
       "overflow": null,
       "overflow_x": null,
       "overflow_y": null,
       "padding": null,
       "right": null,
       "top": null,
       "visibility": "hidden",
       "width": null
      }
     },
     "e77eff0467004653818cd584e641253a": {
      "model_module": "@jupyter-widgets/base",
      "model_module_version": "1.2.0",
      "model_name": "LayoutModel",
      "state": {
       "_model_module": "@jupyter-widgets/base",
       "_model_module_version": "1.2.0",
       "_model_name": "LayoutModel",
       "_view_count": null,
       "_view_module": "@jupyter-widgets/base",
       "_view_module_version": "1.2.0",
       "_view_name": "LayoutView",
       "align_content": null,
       "align_items": null,
       "align_self": null,
       "border": null,
       "bottom": null,
       "display": null,
       "flex": null,
       "flex_flow": null,
       "grid_area": null,
       "grid_auto_columns": null,
       "grid_auto_flow": null,
       "grid_auto_rows": null,
       "grid_column": null,
       "grid_gap": null,
       "grid_row": null,
       "grid_template_areas": null,
       "grid_template_columns": null,
       "grid_template_rows": null,
       "height": null,
       "justify_content": null,
       "justify_items": null,
       "left": null,
       "margin": null,
       "max_height": null,
       "max_width": null,
       "min_height": null,
       "min_width": null,
       "object_fit": null,
       "object_position": null,
       "order": null,
       "overflow": null,
       "overflow_x": null,
       "overflow_y": null,
       "padding": null,
       "right": null,
       "top": null,
       "visibility": "hidden",
       "width": null
      }
     },
     "eb5190ed312348bfb6c9ec239bdf438f": {
      "model_module": "@jupyter-widgets/controls",
      "model_module_version": "1.5.0",
      "model_name": "HTMLModel",
      "state": {
       "_dom_classes": [],
       "_model_module": "@jupyter-widgets/controls",
       "_model_module_version": "1.5.0",
       "_model_name": "HTMLModel",
       "_view_count": null,
       "_view_module": "@jupyter-widgets/controls",
       "_view_module_version": "1.5.0",
       "_view_name": "HTMLView",
       "description": "",
       "description_tooltip": null,
       "layout": "IPY_MODEL_e1e4040c8a9c4b7c9864e15e5c847de7",
       "placeholder": "​",
       "style": "IPY_MODEL_0342607dedfa45a089146b2f4f653fa4",
       "value": "Evaluating:  99%"
      }
     },
     "ee47486c1b9140589e8ea2ad43250657": {
      "model_module": "@jupyter-widgets/base",
      "model_module_version": "1.2.0",
      "model_name": "LayoutModel",
      "state": {
       "_model_module": "@jupyter-widgets/base",
       "_model_module_version": "1.2.0",
       "_model_name": "LayoutModel",
       "_view_count": null,
       "_view_module": "@jupyter-widgets/base",
       "_view_module_version": "1.2.0",
       "_view_name": "LayoutView",
       "align_content": null,
       "align_items": null,
       "align_self": null,
       "border": null,
       "bottom": null,
       "display": null,
       "flex": null,
       "flex_flow": null,
       "grid_area": null,
       "grid_auto_columns": null,
       "grid_auto_flow": null,
       "grid_auto_rows": null,
       "grid_column": null,
       "grid_gap": null,
       "grid_row": null,
       "grid_template_areas": null,
       "grid_template_columns": null,
       "grid_template_rows": null,
       "height": null,
       "justify_content": null,
       "justify_items": null,
       "left": null,
       "margin": null,
       "max_height": null,
       "max_width": null,
       "min_height": null,
       "min_width": null,
       "object_fit": null,
       "object_position": null,
       "order": null,
       "overflow": null,
       "overflow_x": null,
       "overflow_y": null,
       "padding": null,
       "right": null,
       "top": null,
       "visibility": null,
       "width": null
      }
     },
     "ef7ede68d6c6448396b1aa97f5ae5304": {
      "model_module": "@jupyter-widgets/controls",
      "model_module_version": "1.5.0",
      "model_name": "ProgressStyleModel",
      "state": {
       "_model_module": "@jupyter-widgets/controls",
       "_model_module_version": "1.5.0",
       "_model_name": "ProgressStyleModel",
       "_view_count": null,
       "_view_module": "@jupyter-widgets/base",
       "_view_module_version": "1.2.0",
       "_view_name": "StyleView",
       "bar_color": null,
       "description_width": ""
      }
     },
     "ef9c0133d601468b8d0f8c687c707286": {
      "model_module": "@jupyter-widgets/base",
      "model_module_version": "1.2.0",
      "model_name": "LayoutModel",
      "state": {
       "_model_module": "@jupyter-widgets/base",
       "_model_module_version": "1.2.0",
       "_model_name": "LayoutModel",
       "_view_count": null,
       "_view_module": "@jupyter-widgets/base",
       "_view_module_version": "1.2.0",
       "_view_name": "LayoutView",
       "align_content": null,
       "align_items": null,
       "align_self": null,
       "border": null,
       "bottom": null,
       "display": null,
       "flex": null,
       "flex_flow": null,
       "grid_area": null,
       "grid_auto_columns": null,
       "grid_auto_flow": null,
       "grid_auto_rows": null,
       "grid_column": null,
       "grid_gap": null,
       "grid_row": null,
       "grid_template_areas": null,
       "grid_template_columns": null,
       "grid_template_rows": null,
       "height": null,
       "justify_content": null,
       "justify_items": null,
       "left": null,
       "margin": null,
       "max_height": null,
       "max_width": null,
       "min_height": null,
       "min_width": null,
       "object_fit": null,
       "object_position": null,
       "order": null,
       "overflow": null,
       "overflow_x": null,
       "overflow_y": null,
       "padding": null,
       "right": null,
       "top": null,
       "visibility": null,
       "width": null
      }
     },
     "f2ad769549fc40b3908f83b7ccefc223": {
      "model_module": "@jupyter-widgets/base",
      "model_module_version": "1.2.0",
      "model_name": "LayoutModel",
      "state": {
       "_model_module": "@jupyter-widgets/base",
       "_model_module_version": "1.2.0",
       "_model_name": "LayoutModel",
       "_view_count": null,
       "_view_module": "@jupyter-widgets/base",
       "_view_module_version": "1.2.0",
       "_view_name": "LayoutView",
       "align_content": null,
       "align_items": null,
       "align_self": null,
       "border": null,
       "bottom": null,
       "display": null,
       "flex": null,
       "flex_flow": null,
       "grid_area": null,
       "grid_auto_columns": null,
       "grid_auto_flow": null,
       "grid_auto_rows": null,
       "grid_column": null,
       "grid_gap": null,
       "grid_row": null,
       "grid_template_areas": null,
       "grid_template_columns": null,
       "grid_template_rows": null,
       "height": null,
       "justify_content": null,
       "justify_items": null,
       "left": null,
       "margin": null,
       "max_height": null,
       "max_width": null,
       "min_height": null,
       "min_width": null,
       "object_fit": null,
       "object_position": null,
       "order": null,
       "overflow": null,
       "overflow_x": null,
       "overflow_y": null,
       "padding": null,
       "right": null,
       "top": null,
       "visibility": null,
       "width": null
      }
     },
     "f4b90c8873f64098b915ea33bc5def36": {
      "model_module": "@jupyter-widgets/base",
      "model_module_version": "1.2.0",
      "model_name": "LayoutModel",
      "state": {
       "_model_module": "@jupyter-widgets/base",
       "_model_module_version": "1.2.0",
       "_model_name": "LayoutModel",
       "_view_count": null,
       "_view_module": "@jupyter-widgets/base",
       "_view_module_version": "1.2.0",
       "_view_name": "LayoutView",
       "align_content": null,
       "align_items": null,
       "align_self": null,
       "border": null,
       "bottom": null,
       "display": null,
       "flex": null,
       "flex_flow": null,
       "grid_area": null,
       "grid_auto_columns": null,
       "grid_auto_flow": null,
       "grid_auto_rows": null,
       "grid_column": null,
       "grid_gap": null,
       "grid_row": null,
       "grid_template_areas": null,
       "grid_template_columns": null,
       "grid_template_rows": null,
       "height": null,
       "justify_content": null,
       "justify_items": null,
       "left": null,
       "margin": null,
       "max_height": null,
       "max_width": null,
       "min_height": null,
       "min_width": null,
       "object_fit": null,
       "object_position": null,
       "order": null,
       "overflow": null,
       "overflow_x": null,
       "overflow_y": null,
       "padding": null,
       "right": null,
       "top": null,
       "visibility": null,
       "width": null
      }
     },
     "f78f1c8946ea4841b61d9a216ddb7b74": {
      "model_module": "@jupyter-widgets/base",
      "model_module_version": "1.2.0",
      "model_name": "LayoutModel",
      "state": {
       "_model_module": "@jupyter-widgets/base",
       "_model_module_version": "1.2.0",
       "_model_name": "LayoutModel",
       "_view_count": null,
       "_view_module": "@jupyter-widgets/base",
       "_view_module_version": "1.2.0",
       "_view_name": "LayoutView",
       "align_content": null,
       "align_items": null,
       "align_self": null,
       "border": null,
       "bottom": null,
       "display": null,
       "flex": null,
       "flex_flow": null,
       "grid_area": null,
       "grid_auto_columns": null,
       "grid_auto_flow": null,
       "grid_auto_rows": null,
       "grid_column": null,
       "grid_gap": null,
       "grid_row": null,
       "grid_template_areas": null,
       "grid_template_columns": null,
       "grid_template_rows": null,
       "height": null,
       "justify_content": null,
       "justify_items": null,
       "left": null,
       "margin": null,
       "max_height": null,
       "max_width": null,
       "min_height": null,
       "min_width": null,
       "object_fit": null,
       "object_position": null,
       "order": null,
       "overflow": null,
       "overflow_x": null,
       "overflow_y": null,
       "padding": null,
       "right": null,
       "top": null,
       "visibility": null,
       "width": null
      }
     },
     "faf65a9852014697ad56d80403c1e6d0": {
      "model_module": "@jupyter-widgets/controls",
      "model_module_version": "1.5.0",
      "model_name": "FloatProgressModel",
      "state": {
       "_dom_classes": [],
       "_model_module": "@jupyter-widgets/controls",
       "_model_module_version": "1.5.0",
       "_model_name": "FloatProgressModel",
       "_view_count": null,
       "_view_module": "@jupyter-widgets/controls",
       "_view_module_version": "1.5.0",
       "_view_name": "ProgressView",
       "bar_style": "",
       "description": "",
       "description_tooltip": null,
       "layout": "IPY_MODEL_41f839c159504c1385206a85eafbc990",
       "max": 3193.0,
       "min": 0.0,
       "orientation": "horizontal",
       "style": "IPY_MODEL_b62d6ab466f24154abdd7ab09a8b57fb",
       "value": 3193.0
      }
     },
     "fc98e878af8b4b7f8bf95a0ea7bfd993": {
      "model_module": "@jupyter-widgets/controls",
      "model_module_version": "1.5.0",
      "model_name": "HTMLModel",
      "state": {
       "_dom_classes": [],
       "_model_module": "@jupyter-widgets/controls",
       "_model_module_version": "1.5.0",
       "_model_name": "HTMLModel",
       "_view_count": null,
       "_view_module": "@jupyter-widgets/controls",
       "_view_module_version": "1.5.0",
       "_view_name": "HTMLView",
       "description": "",
       "description_tooltip": null,
       "layout": "IPY_MODEL_d6e3751f03444720babc9794e7f29044",
       "placeholder": "​",
       "style": "IPY_MODEL_3a18312fe9664bd48e143f1a58ad6cb0",
       "value": " 3193/3193 [00:23&lt;00:00, 134.39it/s]"
      }
     },
     "fcabc1b3e11845538a71d41431cd1821": {
      "model_module": "@jupyter-widgets/controls",
      "model_module_version": "1.5.0",
      "model_name": "HTMLModel",
      "state": {
       "_dom_classes": [],
       "_model_module": "@jupyter-widgets/controls",
       "_model_module_version": "1.5.0",
       "_model_name": "HTMLModel",
       "_view_count": null,
       "_view_module": "@jupyter-widgets/controls",
       "_view_module_version": "1.5.0",
       "_view_name": "HTMLView",
       "description": "",
       "description_tooltip": null,
       "layout": "IPY_MODEL_dfb9f55deff64a368a1481ff3a33a88d",
       "placeholder": "​",
       "style": "IPY_MODEL_fde22c5a7dee4b3fb72463a5532597fa",
       "value": " 3181/3193 [00:23&lt;00:00, 140.06it/s]"
      }
     },
     "fde22c5a7dee4b3fb72463a5532597fa": {
      "model_module": "@jupyter-widgets/controls",
      "model_module_version": "1.5.0",
      "model_name": "DescriptionStyleModel",
      "state": {
       "_model_module": "@jupyter-widgets/controls",
       "_model_module_version": "1.5.0",
       "_model_name": "DescriptionStyleModel",
       "_view_count": null,
       "_view_module": "@jupyter-widgets/base",
       "_view_module_version": "1.2.0",
       "_view_name": "StyleView",
       "description_width": ""
      }
     },
     "fe9f53ed52414f1daf11c63bb17d833c": {
      "model_module": "@jupyter-widgets/controls",
      "model_module_version": "1.5.0",
      "model_name": "FloatProgressModel",
      "state": {
       "_dom_classes": [],
       "_model_module": "@jupyter-widgets/controls",
       "_model_module_version": "1.5.0",
       "_model_name": "FloatProgressModel",
       "_view_count": null,
       "_view_module": "@jupyter-widgets/controls",
       "_view_module_version": "1.5.0",
       "_view_name": "ProgressView",
       "bar_style": "",
       "description": "",
       "description_tooltip": null,
       "layout": "IPY_MODEL_ff4d8c18b7b4403c808fd78a879b665e",
       "max": 1408.0,
       "min": 0.0,
       "orientation": "horizontal",
       "style": "IPY_MODEL_5761788dd19a4a6596437e03a4f2ae7b",
       "value": 1408.0
      }
     },
     "ff4d8c18b7b4403c808fd78a879b665e": {
      "model_module": "@jupyter-widgets/base",
      "model_module_version": "1.2.0",
      "model_name": "LayoutModel",
      "state": {
       "_model_module": "@jupyter-widgets/base",
       "_model_module_version": "1.2.0",
       "_model_name": "LayoutModel",
       "_view_count": null,
       "_view_module": "@jupyter-widgets/base",
       "_view_module_version": "1.2.0",
       "_view_name": "LayoutView",
       "align_content": null,
       "align_items": null,
       "align_self": null,
       "border": null,
       "bottom": null,
       "display": null,
       "flex": null,
       "flex_flow": null,
       "grid_area": null,
       "grid_auto_columns": null,
       "grid_auto_flow": null,
       "grid_auto_rows": null,
       "grid_column": null,
       "grid_gap": null,
       "grid_row": null,
       "grid_template_areas": null,
       "grid_template_columns": null,
       "grid_template_rows": null,
       "height": null,
       "justify_content": null,
       "justify_items": null,
       "left": null,
       "margin": null,
       "max_height": null,
       "max_width": null,
       "min_height": null,
       "min_width": null,
       "object_fit": null,
       "object_position": null,
       "order": null,
       "overflow": null,
       "overflow_x": null,
       "overflow_y": null,
       "padding": null,
       "right": null,
       "top": null,
       "visibility": null,
       "width": null
      }
     },
     "ffd931761434402a90f2d869842bacee": {
      "model_module": "@jupyter-widgets/controls",
      "model_module_version": "1.5.0",
      "model_name": "DescriptionStyleModel",
      "state": {
       "_model_module": "@jupyter-widgets/controls",
       "_model_module_version": "1.5.0",
       "_model_name": "DescriptionStyleModel",
       "_view_count": null,
       "_view_module": "@jupyter-widgets/base",
       "_view_module_version": "1.2.0",
       "_view_name": "StyleView",
       "description_width": ""
      }
     }
    },
    "version_major": 2,
    "version_minor": 0
   }
  }
 },
 "nbformat": 4,
 "nbformat_minor": 5
}
