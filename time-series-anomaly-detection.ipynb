{
 "cells": [
  {
   "cell_type": "markdown",
   "id": "d3a2a07e",
   "metadata": {
    "papermill": {
     "duration": 0.016502,
     "end_time": "2024-09-13T09:01:25.852074",
     "exception": false,
     "start_time": "2024-09-13T09:01:25.835572",
     "status": "completed"
    },
    "tags": []
   },
   "source": [
    "# **Anomaly Detection in Time Series Data**\n",
    "\n",
    "This notebook aims to identify anomalous patterns within a time series dataset by building models trained on normal activity data and testing them on both normal and (fall detection).\n",
    "\n",
    "#### Dataset overview\n",
    "\n",
    "The MobiAct Dataset is designed for the analysis of human activities, particularly focusing on different types of falls and daily living activities (ADLs). The dataset includes data from 66 participants performing falls and 19-66 participants performing various ADLs.\n"
   ]
  },
  {
   "cell_type": "code",
   "execution_count": 1,
   "id": "e3d0ec83",
   "metadata": {
    "_kg_hide-input": true,
    "execution": {
     "iopub.execute_input": "2024-09-13T09:01:25.886360Z",
     "iopub.status.busy": "2024-09-13T09:01:25.885272Z",
     "iopub.status.idle": "2024-09-13T09:01:26.625622Z",
     "shell.execute_reply": "2024-09-13T09:01:26.624851Z"
    },
    "papermill": {
     "duration": 0.759939,
     "end_time": "2024-09-13T09:01:26.627962",
     "exception": false,
     "start_time": "2024-09-13T09:01:25.868023",
     "status": "completed"
    },
    "tags": []
   },
   "outputs": [],
   "source": [
    "import numpy as np\n",
    "import pandas as pd\n",
    "import os\n",
    "import glob\n",
    "import random"
   ]
  },
  {
   "cell_type": "markdown",
   "id": "4a6e0234",
   "metadata": {
    "papermill": {
     "duration": 0.015226,
     "end_time": "2024-09-13T09:01:26.658931",
     "exception": false,
     "start_time": "2024-09-13T09:01:26.643705",
     "status": "completed"
    },
    "tags": []
   },
   "source": [
    "# Preprocessing\n",
    "\n",
    "Explanation\n",
    "Directory Path: The data_dir variable should be set to the path of the main directory containing your annotated data directories.\n",
    "\n",
    "Reading Files: We loop through each activity directory within the main directory and then loop through each file in these directories. For each file, we extract data (activity type, sensor type, participant ID, and trial number) from the filename.\n",
    "\n",
    "Reading Data: Each CSV file is read into a DataFrame using pd.read_csv. No header is present in the data files (header=None).\n",
    "\n",
    "Combining Data: Data columns are added to each DataFrame, and these DataFrames are appended to a list. All DataFrames in the list are then concatenated into a single DataFrame using pd.concat.\n",
    "\n",
    "Saving: The combined DataFrame is saved to a new CSV file named combined_mobiact_dataset.csv.\n",
    "\n",
    "We can should how much % of the dataset we select in order to speed up the computation."
   ]
  },
  {
   "cell_type": "code",
   "execution_count": 2,
   "id": "79227160",
   "metadata": {
    "execution": {
     "iopub.execute_input": "2024-09-13T09:01:26.691134Z",
     "iopub.status.busy": "2024-09-13T09:01:26.690698Z",
     "iopub.status.idle": "2024-09-13T09:01:35.587219Z",
     "shell.execute_reply": "2024-09-13T09:01:35.586212Z"
    },
    "papermill": {
     "duration": 8.915054,
     "end_time": "2024-09-13T09:01:35.589285",
     "exception": false,
     "start_time": "2024-09-13T09:01:26.674231",
     "status": "completed"
    },
    "tags": []
   },
   "outputs": [
    {
     "name": "stdout",
     "output_type": "stream",
     "text": [
      "Processing activity folder: /kaggle/input/mobiact-dataset-v2/MobiAct_Dataset_v2.0/Annotated Data/FOL\n",
      "Processing activity folder: /kaggle/input/mobiact-dataset-v2/MobiAct_Dataset_v2.0/Annotated Data/CSO\n",
      "Processing activity folder: /kaggle/input/mobiact-dataset-v2/MobiAct_Dataset_v2.0/Annotated Data/STU\n",
      "Processing activity folder: /kaggle/input/mobiact-dataset-v2/MobiAct_Dataset_v2.0/Annotated Data/SDL\n",
      "Processing activity folder: /kaggle/input/mobiact-dataset-v2/MobiAct_Dataset_v2.0/Annotated Data/SLH\n",
      "Processing activity folder: /kaggle/input/mobiact-dataset-v2/MobiAct_Dataset_v2.0/Annotated Data/SCH\n",
      "Processing activity folder: /kaggle/input/mobiact-dataset-v2/MobiAct_Dataset_v2.0/Annotated Data/STN\n",
      "Processing activity folder: /kaggle/input/mobiact-dataset-v2/MobiAct_Dataset_v2.0/Annotated Data/SBE\n",
      "Processing activity folder: /kaggle/input/mobiact-dataset-v2/MobiAct_Dataset_v2.0/Annotated Data/WAL\n",
      "Processing activity folder: /kaggle/input/mobiact-dataset-v2/MobiAct_Dataset_v2.0/Annotated Data/CSI\n",
      "Processing activity folder: /kaggle/input/mobiact-dataset-v2/MobiAct_Dataset_v2.0/Annotated Data/SIT\n",
      "Processing activity folder: /kaggle/input/mobiact-dataset-v2/MobiAct_Dataset_v2.0/Annotated Data/SBW\n",
      "Processing activity folder: /kaggle/input/mobiact-dataset-v2/MobiAct_Dataset_v2.0/Annotated Data/FKL\n",
      "Processing activity folder: /kaggle/input/mobiact-dataset-v2/MobiAct_Dataset_v2.0/Annotated Data/JUM\n",
      "Processing activity folder: /kaggle/input/mobiact-dataset-v2/MobiAct_Dataset_v2.0/Annotated Data/SRH\n",
      "Processing activity folder: /kaggle/input/mobiact-dataset-v2/MobiAct_Dataset_v2.0/Annotated Data/BSC\n",
      "Processing activity folder: /kaggle/input/mobiact-dataset-v2/MobiAct_Dataset_v2.0/Annotated Data/STD\n",
      "Processing activity folder: /kaggle/input/mobiact-dataset-v2/MobiAct_Dataset_v2.0/Annotated Data/JOG\n",
      "Processing activity folder: /kaggle/input/mobiact-dataset-v2/MobiAct_Dataset_v2.0/Annotated Data/SLW\n",
      "Processing activity folder: /kaggle/input/mobiact-dataset-v2/MobiAct_Dataset_v2.0/Annotated Data/CHU\n",
      "Combined data exported to combined_mobiact_dataset.csv\n"
     ]
    }
   ],
   "source": [
    "### TO DO \n",
    "# try to obtain the same repartition in every classes \n",
    "\n",
    "# Denoising the data with frequency domain cleaning High and low pass filters... \n",
    "\n",
    "# might need only 2 classification output, falls or not falls \n",
    "# not the all datas \n",
    "\n",
    "## try to use gru instead of lstm to avoid overfitting (check arch diag in lesson)\n",
    "\n",
    "def load_and_combine_data(data_folder, sample_percentage=100):\n",
    "    # Recursively search for all activity folders\n",
    "    activity_folders = glob.glob(os.path.join(data_folder, '*'))\n",
    "    \n",
    "    # Create an empty list to store the data\n",
    "    all_data = []\n",
    "\n",
    "    # Iterate through each activity folder\n",
    "    for activity_folder in activity_folders:\n",
    "        print(f\"Processing activity folder: {activity_folder}\")\n",
    "        \n",
    "        # Search for all CSV files within the current activity folder\n",
    "        data_files = glob.glob(os.path.join(activity_folder, '*.csv'))\n",
    "        \n",
    "        # Shuffle the list of data files to ensure random sampling\n",
    "        random.shuffle(data_files)\n",
    "        \n",
    "        # Calculate the number of files to load based on the sample percentage\n",
    "        num_files_to_load = int(len(data_files) * sample_percentage / 100)\n",
    "        \n",
    "        # Iterate through each CSV file in the current activity folder\n",
    "        for i, file in enumerate(data_files):\n",
    "            if i < num_files_to_load:\n",
    "                file_path = os.path.abspath(file)\n",
    "                data = pd.read_csv(file_path)\n",
    "                \n",
    "                # Extract metadata from the filename\n",
    "                parts = os.path.basename(file).split('_')\n",
    "                activity_type = parts[0]\n",
    "                sensor_type = parts[1]\n",
    "                participant_id = parts[2]\n",
    "                trial_no = parts[3].split('.')[0]\n",
    "                \n",
    "                # Add metadata columns to the DataFrame\n",
    "                data['Activity Type'] = activity_type\n",
    "                data['Sensor Type'] = sensor_type\n",
    "                data['Participant ID'] = participant_id\n",
    "                data['Trial No'] = trial_no\n",
    "                \n",
    "                all_data.append(data)\n",
    "                #### print(f\"Loaded {i+1}/{num_files_to_load} files for this activity.\")\n",
    "    \n",
    "    # Concatenate all the loaded data into a single DataFrame\n",
    "    combined_data = pd.concat(all_data, ignore_index=True)\n",
    "    \n",
    "    return combined_data\n",
    "\n",
    "# Define the path to the annotated data folder\n",
    "data_folder = '/kaggle/input/mobiact-dataset-v2/MobiAct_Dataset_v2.0/Annotated Data'\n",
    "sample_percentage = 3  # Load only 30% of the dataset\n",
    "\n",
    "# Load and combine data from all activity folders with sampling\n",
    "combined_data = load_and_combine_data(data_folder, sample_percentage)\n",
    "\n",
    "# Export combined data to a CSV file\n",
    "output_file = 'combined_mobiact_dataset.csv'\n",
    "combined_data.to_csv(output_file, index=False)\n",
    "print(f\"Combined data exported to {output_file}\")"
   ]
  },
  {
   "cell_type": "markdown",
   "id": "8de6d382",
   "metadata": {
    "papermill": {
     "duration": 0.016572,
     "end_time": "2024-09-13T09:01:35.622570",
     "exception": false,
     "start_time": "2024-09-13T09:01:35.605998",
     "status": "completed"
    },
    "tags": []
   },
   "source": [
    "## Load the Combined Dataset\n",
    "We'll load the dataset using pandas."
   ]
  },
  {
   "cell_type": "code",
   "execution_count": 3,
   "id": "9c842865",
   "metadata": {
    "execution": {
     "iopub.execute_input": "2024-09-13T09:01:35.656672Z",
     "iopub.status.busy": "2024-09-13T09:01:35.656345Z",
     "iopub.status.idle": "2024-09-13T09:01:36.368935Z",
     "shell.execute_reply": "2024-09-13T09:01:36.367962Z"
    },
    "papermill": {
     "duration": 0.732259,
     "end_time": "2024-09-13T09:01:36.371265",
     "exception": false,
     "start_time": "2024-09-13T09:01:35.639006",
     "status": "completed"
    },
    "tags": []
   },
   "outputs": [
    {
     "data": {
      "text/html": [
       "<div>\n",
       "<style scoped>\n",
       "    .dataframe tbody tr th:only-of-type {\n",
       "        vertical-align: middle;\n",
       "    }\n",
       "\n",
       "    .dataframe tbody tr th {\n",
       "        vertical-align: top;\n",
       "    }\n",
       "\n",
       "    .dataframe thead th {\n",
       "        text-align: right;\n",
       "    }\n",
       "</style>\n",
       "<table border=\"1\" class=\"dataframe\">\n",
       "  <thead>\n",
       "    <tr style=\"text-align: right;\">\n",
       "      <th></th>\n",
       "      <th>timestamp</th>\n",
       "      <th>rel_time</th>\n",
       "      <th>acc_x</th>\n",
       "      <th>acc_y</th>\n",
       "      <th>acc_z</th>\n",
       "      <th>gyro_x</th>\n",
       "      <th>gyro_y</th>\n",
       "      <th>gyro_z</th>\n",
       "      <th>azimuth</th>\n",
       "      <th>pitch</th>\n",
       "      <th>roll</th>\n",
       "      <th>label</th>\n",
       "      <th>Activity Type</th>\n",
       "      <th>Sensor Type</th>\n",
       "      <th>Participant ID</th>\n",
       "      <th>Trial No</th>\n",
       "    </tr>\n",
       "  </thead>\n",
       "  <tbody>\n",
       "    <tr>\n",
       "      <th>0</th>\n",
       "      <td>6377301738000</td>\n",
       "      <td>0.000000</td>\n",
       "      <td>4.468060</td>\n",
       "      <td>8.772831</td>\n",
       "      <td>-1.388161</td>\n",
       "      <td>-0.213803</td>\n",
       "      <td>-0.159741</td>\n",
       "      <td>0.136223</td>\n",
       "      <td>322.51492</td>\n",
       "      <td>-70.037740</td>\n",
       "      <td>11.116259</td>\n",
       "      <td>STD</td>\n",
       "      <td>FOL</td>\n",
       "      <td>40</td>\n",
       "      <td>2</td>\n",
       "      <td>annotated</td>\n",
       "    </tr>\n",
       "    <tr>\n",
       "      <th>1</th>\n",
       "      <td>6377306793000</td>\n",
       "      <td>0.005055</td>\n",
       "      <td>4.455602</td>\n",
       "      <td>8.801901</td>\n",
       "      <td>-1.359091</td>\n",
       "      <td>-0.204640</td>\n",
       "      <td>-0.164017</td>\n",
       "      <td>0.133779</td>\n",
       "      <td>322.53247</td>\n",
       "      <td>-70.471710</td>\n",
       "      <td>11.650158</td>\n",
       "      <td>STD</td>\n",
       "      <td>FOL</td>\n",
       "      <td>40</td>\n",
       "      <td>2</td>\n",
       "      <td>annotated</td>\n",
       "    </tr>\n",
       "    <tr>\n",
       "      <th>2</th>\n",
       "      <td>6377312005000</td>\n",
       "      <td>0.010267</td>\n",
       "      <td>4.445188</td>\n",
       "      <td>8.831538</td>\n",
       "      <td>-1.330832</td>\n",
       "      <td>-0.184787</td>\n",
       "      <td>-0.168904</td>\n",
       "      <td>0.141110</td>\n",
       "      <td>322.56490</td>\n",
       "      <td>-70.806625</td>\n",
       "      <td>12.129601</td>\n",
       "      <td>STD</td>\n",
       "      <td>FOL</td>\n",
       "      <td>40</td>\n",
       "      <td>2</td>\n",
       "      <td>annotated</td>\n",
       "    </tr>\n",
       "    <tr>\n",
       "      <th>3</th>\n",
       "      <td>6377316802000</td>\n",
       "      <td>0.015064</td>\n",
       "      <td>4.465960</td>\n",
       "      <td>8.854618</td>\n",
       "      <td>-1.326216</td>\n",
       "      <td>-0.173180</td>\n",
       "      <td>-0.159130</td>\n",
       "      <td>0.133779</td>\n",
       "      <td>322.59985</td>\n",
       "      <td>-71.099040</td>\n",
       "      <td>12.591082</td>\n",
       "      <td>STD</td>\n",
       "      <td>FOL</td>\n",
       "      <td>40</td>\n",
       "      <td>2</td>\n",
       "      <td>annotated</td>\n",
       "    </tr>\n",
       "    <tr>\n",
       "      <th>4</th>\n",
       "      <td>6377321794000</td>\n",
       "      <td>0.020056</td>\n",
       "      <td>4.487576</td>\n",
       "      <td>8.878636</td>\n",
       "      <td>-1.321412</td>\n",
       "      <td>-0.154549</td>\n",
       "      <td>-0.161879</td>\n",
       "      <td>0.121257</td>\n",
       "      <td>322.64432</td>\n",
       "      <td>-71.345505</td>\n",
       "      <td>13.032569</td>\n",
       "      <td>STD</td>\n",
       "      <td>FOL</td>\n",
       "      <td>40</td>\n",
       "      <td>2</td>\n",
       "      <td>annotated</td>\n",
       "    </tr>\n",
       "  </tbody>\n",
       "</table>\n",
       "</div>"
      ],
      "text/plain": [
       "       timestamp  rel_time     acc_x     acc_y     acc_z    gyro_x    gyro_y  \\\n",
       "0  6377301738000  0.000000  4.468060  8.772831 -1.388161 -0.213803 -0.159741   \n",
       "1  6377306793000  0.005055  4.455602  8.801901 -1.359091 -0.204640 -0.164017   \n",
       "2  6377312005000  0.010267  4.445188  8.831538 -1.330832 -0.184787 -0.168904   \n",
       "3  6377316802000  0.015064  4.465960  8.854618 -1.326216 -0.173180 -0.159130   \n",
       "4  6377321794000  0.020056  4.487576  8.878636 -1.321412 -0.154549 -0.161879   \n",
       "\n",
       "     gyro_z    azimuth      pitch       roll label Activity Type  Sensor Type  \\\n",
       "0  0.136223  322.51492 -70.037740  11.116259   STD           FOL           40   \n",
       "1  0.133779  322.53247 -70.471710  11.650158   STD           FOL           40   \n",
       "2  0.141110  322.56490 -70.806625  12.129601   STD           FOL           40   \n",
       "3  0.133779  322.59985 -71.099040  12.591082   STD           FOL           40   \n",
       "4  0.121257  322.64432 -71.345505  13.032569   STD           FOL           40   \n",
       "\n",
       "   Participant ID   Trial No  \n",
       "0               2  annotated  \n",
       "1               2  annotated  \n",
       "2               2  annotated  \n",
       "3               2  annotated  \n",
       "4               2  annotated  "
      ]
     },
     "execution_count": 3,
     "metadata": {},
     "output_type": "execute_result"
    }
   ],
   "source": [
    "import pandas as pd\n",
    "\n",
    "# Load the combined dataset\n",
    "file_path = '/kaggle/working/combined_mobiact_dataset.csv'\n",
    "df = pd.read_csv(file_path)\n",
    "\n",
    "# Display the first few rows of the dataframe\n",
    "df.head()"
   ]
  },
  {
   "cell_type": "markdown",
   "id": "a2d8c1aa",
   "metadata": {
    "papermill": {
     "duration": 0.016688,
     "end_time": "2024-09-13T09:01:36.405891",
     "exception": false,
     "start_time": "2024-09-13T09:01:36.389203",
     "status": "completed"
    },
    "tags": []
   },
   "source": [
    "## Create a Fall column"
   ]
  },
  {
   "cell_type": "code",
   "execution_count": 4,
   "id": "26101fb0",
   "metadata": {
    "execution": {
     "iopub.execute_input": "2024-09-13T09:01:36.441110Z",
     "iopub.status.busy": "2024-09-13T09:01:36.440767Z",
     "iopub.status.idle": "2024-09-13T09:01:36.472336Z",
     "shell.execute_reply": "2024-09-13T09:01:36.471130Z"
    },
    "papermill": {
     "duration": 0.051386,
     "end_time": "2024-09-13T09:01:36.474213",
     "exception": false,
     "start_time": "2024-09-13T09:01:36.422827",
     "status": "completed"
    },
    "tags": []
   },
   "outputs": [
    {
     "name": "stdout",
     "output_type": "stream",
     "text": [
      "            timestamp  rel_time     acc_x     acc_y     acc_z    gyro_x  \\\n",
      "0       6377301738000  0.000000  4.468060  8.772831 -1.388161 -0.213803   \n",
      "1       6377306793000  0.005055  4.455602  8.801901 -1.359091 -0.204640   \n",
      "2       6377312005000  0.010267  4.445188  8.831538 -1.330832 -0.184787   \n",
      "3       6377316802000  0.015064  4.465960  8.854618 -1.326216 -0.173180   \n",
      "4       6377321794000  0.020056  4.487576  8.878636 -1.321412 -0.154549   \n",
      "...               ...       ...       ...       ...       ...       ...   \n",
      "294531  1344697596000  5.680066  2.437527 -9.412861 -0.230983 -0.046426   \n",
      "294532  1344702572000  5.685042  2.438452 -9.416424 -0.233477 -0.047647   \n",
      "294533  1344707586000  5.690056  2.431389 -9.421132 -0.240540 -0.054978   \n",
      "294534  1344712591000  5.695061  2.424339 -9.425832 -0.247590 -0.057116   \n",
      "294535  1344717578000  5.700048  2.417315 -9.430515 -0.254614 -0.057421   \n",
      "\n",
      "          gyro_y    gyro_z     azimuth       pitch       roll label  \\\n",
      "0      -0.159741  0.136223  322.514920  -70.037740  11.116259   STD   \n",
      "1      -0.164017  0.133779  322.532470  -70.471710  11.650158   STD   \n",
      "2      -0.168904  0.141110  322.564900  -70.806625  12.129601   STD   \n",
      "3      -0.159130  0.133779  322.599850  -71.099040  12.591082   STD   \n",
      "4      -0.161879  0.121257  322.644320  -71.345505  13.032569   STD   \n",
      "...          ...       ...         ...         ...        ...   ...   \n",
      "294531  0.023824  0.015577  102.669050  104.048515  13.959193   STD   \n",
      "294532  0.031460  0.019242  102.669876  104.059420  13.969811   STD   \n",
      "294533  0.029932  0.010996  102.669266  104.073140  13.983169   STD   \n",
      "294534  0.033598  0.015577  102.671326  104.079280  13.988991   STD   \n",
      "294535  0.033292  0.011912  102.671650  104.089970  13.999197   STD   \n",
      "\n",
      "       Activity Type  Sensor Type  Participant ID   Trial No  Fall  \n",
      "0                FOL           40               2  annotated     1  \n",
      "1                FOL           40               2  annotated     1  \n",
      "2                FOL           40               2  annotated     1  \n",
      "3                FOL           40               2  annotated     1  \n",
      "4                FOL           40               2  annotated     1  \n",
      "...              ...          ...             ...        ...   ...  \n",
      "294531           CHU            1               3  annotated     0  \n",
      "294532           CHU            1               3  annotated     0  \n",
      "294533           CHU            1               3  annotated     0  \n",
      "294534           CHU            1               3  annotated     0  \n",
      "294535           CHU            1               3  annotated     0  \n",
      "\n",
      "[294536 rows x 17 columns]\n"
     ]
    }
   ],
   "source": [
    "# Assuming 'Type Activity' is the column containing fall types\n",
    "\n",
    "# Create a list of fall types\n",
    "fall_types = ['FOL', 'FKL', 'BSC', 'SDL']\n",
    "\n",
    "# Create a new column 'Fall' to indicate true/false for falls\n",
    "df['Fall'] = df['Activity Type'].isin(fall_types)\n",
    "\n",
    "# Convert 'Fall' column to integer (0 for false, 1 for true)\n",
    "df['Fall'] = df['Fall'].astype(int)\n",
    "\n",
    "# Print to see Fall\n",
    "print(df)"
   ]
  },
  {
   "cell_type": "markdown",
   "id": "875b4ac5",
   "metadata": {
    "papermill": {
     "duration": 0.016521,
     "end_time": "2024-09-13T09:01:36.507603",
     "exception": false,
     "start_time": "2024-09-13T09:01:36.491082",
     "status": "completed"
    },
    "tags": []
   },
   "source": [
    "## Check the Structure and Summary Statistics\n",
    "We'll examine the structure and summary statistics to understand the dataset better."
   ]
  },
  {
   "cell_type": "code",
   "execution_count": 5,
   "id": "6c77d670",
   "metadata": {
    "execution": {
     "iopub.execute_input": "2024-09-13T09:01:36.542088Z",
     "iopub.status.busy": "2024-09-13T09:01:36.541791Z",
     "iopub.status.idle": "2024-09-13T09:01:36.777521Z",
     "shell.execute_reply": "2024-09-13T09:01:36.776581Z"
    },
    "papermill": {
     "duration": 0.255161,
     "end_time": "2024-09-13T09:01:36.779405",
     "exception": false,
     "start_time": "2024-09-13T09:01:36.524244",
     "status": "completed"
    },
    "tags": []
   },
   "outputs": [
    {
     "name": "stdout",
     "output_type": "stream",
     "text": [
      "<class 'pandas.core.frame.DataFrame'>\n",
      "RangeIndex: 294536 entries, 0 to 294535\n",
      "Data columns (total 17 columns):\n",
      " #   Column          Non-Null Count   Dtype  \n",
      "---  ------          --------------   -----  \n",
      " 0   timestamp       294536 non-null  int64  \n",
      " 1   rel_time        294536 non-null  float64\n",
      " 2   acc_x           294536 non-null  float64\n",
      " 3   acc_y           294536 non-null  float64\n",
      " 4   acc_z           294536 non-null  float64\n",
      " 5   gyro_x          294536 non-null  float64\n",
      " 6   gyro_y          294536 non-null  float64\n",
      " 7   gyro_z          294536 non-null  float64\n",
      " 8   azimuth         294536 non-null  float64\n",
      " 9   pitch           294536 non-null  float64\n",
      " 10  roll            294536 non-null  float64\n",
      " 11  label           294536 non-null  object \n",
      " 12  Activity Type   294536 non-null  object \n",
      " 13  Sensor Type     294536 non-null  int64  \n",
      " 14  Participant ID  294536 non-null  int64  \n",
      " 15  Trial No        294536 non-null  object \n",
      " 16  Fall            294536 non-null  int64  \n",
      "dtypes: float64(10), int64(4), object(3)\n",
      "memory usage: 38.2+ MB\n",
      "\n",
      "\n",
      "\n",
      " Activity Type\n"
     ]
    },
    {
     "data": {
      "text/plain": [
       "array(['FOL', 'CSO', 'STU', 'SDL', 'SCH', 'STN', 'WAL', 'CSI', 'FKL',\n",
       "       'JUM', 'BSC', 'STD', 'JOG', 'CHU'], dtype=object)"
      ]
     },
     "execution_count": 5,
     "metadata": {},
     "output_type": "execute_result"
    }
   ],
   "source": [
    "# Display basic information about the dataset\n",
    "df.info()\n",
    "\n",
    "# Display summary statistics\n",
    "df.describe()\n",
    "\n",
    "# Display the unique activities in the dataset\n",
    "print(\"\\n\\n\\n Activity Type\")\n",
    "df['Activity Type'].unique()\n"
   ]
  },
  {
   "cell_type": "markdown",
   "id": "7b6e8ad7",
   "metadata": {
    "papermill": {
     "duration": 0.017225,
     "end_time": "2024-09-13T09:01:36.814665",
     "exception": false,
     "start_time": "2024-09-13T09:01:36.797440",
     "status": "completed"
    },
    "tags": []
   },
   "source": [
    "## Visualize the Distribution of Activities"
   ]
  },
  {
   "cell_type": "code",
   "execution_count": 6,
   "id": "6c7ad9e7",
   "metadata": {
    "execution": {
     "iopub.execute_input": "2024-09-13T09:01:36.850607Z",
     "iopub.status.busy": "2024-09-13T09:01:36.850274Z",
     "iopub.status.idle": "2024-09-13T09:01:38.730164Z",
     "shell.execute_reply": "2024-09-13T09:01:38.729238Z"
    },
    "papermill": {
     "duration": 1.900426,
     "end_time": "2024-09-13T09:01:38.732179",
     "exception": false,
     "start_time": "2024-09-13T09:01:36.831753",
     "status": "completed"
    },
    "tags": []
   },
   "outputs": [
    {
     "data": {
      "image/png": "[encoded data removed]",
      "text/plain": [
       "<Figure size 1200x600 with 1 Axes>"
      ]
     },
     "metadata": {},
     "output_type": "display_data"
    }
   ],
   "source": [
    "import matplotlib.pyplot as plt\n",
    "import seaborn as sns\n",
    "\n",
    "# Count the occurrences of each activity type\n",
    "activity_counts = df['Activity Type'].value_counts()\n",
    "\n",
    "# Calculate the percentage of each activity type\n",
    "activity_percentages = (activity_counts / activity_counts.sum()) * 100\n",
    "\n",
    "# Create a bar plot of the activity distribution\n",
    "plt.figure(figsize=(12, 6))\n",
    "sns.barplot(x=activity_counts.index, y=activity_counts.values, palette='viridis')\n",
    "\n",
    "# Add percentage labels on top of each bar\n",
    "for i, (count, percentage) in enumerate(zip(activity_counts.values, activity_percentages)):\n",
    "    plt.text(i, count + 0.5, f'{percentage:.1f}%', ha='center', fontsize=12)\n",
    "\n",
    "# Set plot labels and title\n",
    "plt.title('Distribution of Activities')\n",
    "plt.xlabel('Activity Type')\n",
    "plt.ylabel('Count')\n",
    "plt.xticks(rotation=45)\n",
    "plt.tight_layout()\n",
    "\n",
    "# Display the plot\n",
    "plt.show()\n"
   ]
  },
  {
   "cell_type": "markdown",
   "id": "b8622fd3",
   "metadata": {
    "papermill": {
     "duration": 0.017483,
     "end_time": "2024-09-13T09:01:38.767699",
     "exception": false,
     "start_time": "2024-09-13T09:01:38.750216",
     "status": "completed"
    },
    "tags": []
   },
   "source": [
    "## Evaluate the Quality of the Dataset\n",
    "We'll check for missing values and inconsistencies to assess the dataset's quality."
   ]
  },
  {
   "cell_type": "code",
   "execution_count": 7,
   "id": "a95136dd",
   "metadata": {
    "execution": {
     "iopub.execute_input": "2024-09-13T09:01:38.804565Z",
     "iopub.status.busy": "2024-09-13T09:01:38.804078Z",
     "iopub.status.idle": "2024-09-13T09:01:39.162545Z",
     "shell.execute_reply": "2024-09-13T09:01:39.161695Z"
    },
    "papermill": {
     "duration": 0.379256,
     "end_time": "2024-09-13T09:01:39.164536",
     "exception": false,
     "start_time": "2024-09-13T09:01:38.785280",
     "status": "completed"
    },
    "tags": []
   },
   "outputs": [
    {
     "data": {
      "text/plain": [
       "Activity Type\n",
       "WAL    20.336394\n",
       "STD    20.310590\n",
       "JOG    10.062607\n",
       "JUM    10.056835\n",
       "STN     6.583915\n",
       "STU     6.570334\n",
       "CSO     3.910897\n",
       "CSI     3.877285\n",
       "SCH     3.860309\n",
       "SDL     3.349336\n",
       "FOL     3.323872\n",
       "BSC     3.303501\n",
       "FKL     3.293316\n",
       "CHU     1.160809\n",
       "Name: proportion, dtype: float64"
      ]
     },
     "execution_count": 7,
     "metadata": {},
     "output_type": "execute_result"
    }
   ],
   "source": [
    "# Check for missing values\n",
    "missing_values = df.isnull().sum()\n",
    "\n",
    "# Display columns with missing values\n",
    "missing_values[missing_values > 0]\n",
    "\n",
    "# Check for duplicates\n",
    "duplicate_rows = df.duplicated().sum()\n",
    "\n",
    "# Display the number of duplicate rows\n",
    "duplicate_rows\n",
    "\n",
    "# Check the balance of activities\n",
    "activity_balance = df['Activity Type'].value_counts(normalize=True) * 100\n",
    "\n",
    "# Display the balance of activities\n",
    "activity_balance"
   ]
  },
  {
   "cell_type": "markdown",
   "id": "cb3efae5",
   "metadata": {
    "papermill": {
     "duration": 0.018974,
     "end_time": "2024-09-13T09:01:39.201755",
     "exception": false,
     "start_time": "2024-09-13T09:01:39.182781",
     "status": "completed"
    },
    "tags": []
   },
   "source": [
    "## Visualize Sensor Data for Each Activity\n",
    "We'll plot sensor data for a few activities to get an idea of the data quality and patterns."
   ]
  },
  {
   "cell_type": "code",
   "execution_count": 8,
   "id": "1fc9ec48",
   "metadata": {
    "execution": {
     "iopub.execute_input": "2024-09-13T09:01:39.238910Z",
     "iopub.status.busy": "2024-09-13T09:01:39.238588Z",
     "iopub.status.idle": "2024-09-13T09:01:40.187921Z",
     "shell.execute_reply": "2024-09-13T09:01:40.187080Z"
    },
    "papermill": {
     "duration": 0.971057,
     "end_time": "2024-09-13T09:01:40.190683",
     "exception": false,
     "start_time": "2024-09-13T09:01:39.219626",
     "status": "completed"
    },
    "tags": []
   },
   "outputs": [
    {
     "data": {
      "image/png": "[encoded data removed]",
      "text/plain": [
       "<Figure size 1200x800 with 3 Axes>"
      ]
     },
     "metadata": {},
     "output_type": "display_data"
    }
   ],
   "source": [
    "# Sample a few activities to plot\n",
    "sample_activities = df['Activity Type'].unique()[:3]\n",
    "\n",
    "# Plot sensor data for each sampled activity\n",
    "fig, axes = plt.subplots(len(sample_activities), 1, figsize=(12, 8), sharex=True)\n",
    "\n",
    "for i, activity in enumerate(sample_activities):\n",
    "    activity_data = df[df['Activity Type'] == activity].iloc[:, :-4]  # Exclude metadata columns\n",
    "    activity_data.plot(ax=axes[i], title=activity, legend=False)\n",
    "    axes[i].set_ylabel('Sensor Value')\n",
    "\n",
    "plt.xlabel('Time')\n",
    "plt.show()"
   ]
  },
  {
   "cell_type": "markdown",
   "id": "b95d6654",
   "metadata": {
    "papermill": {
     "duration": 0.018296,
     "end_time": "2024-09-13T09:01:40.228119",
     "exception": false,
     "start_time": "2024-09-13T09:01:40.209823",
     "status": "completed"
    },
    "tags": []
   },
   "source": [
    "**Housekeeping**\n",
    "\n",
    "Checking for blank values, checking Data Types etc."
   ]
  },
  {
   "cell_type": "code",
   "execution_count": 9,
   "id": "7c554dfa",
   "metadata": {
    "execution": {
     "iopub.execute_input": "2024-09-13T09:01:40.269578Z",
     "iopub.status.busy": "2024-09-13T09:01:40.269084Z",
     "iopub.status.idle": "2024-09-13T09:01:40.275818Z",
     "shell.execute_reply": "2024-09-13T09:01:40.274716Z"
    },
    "papermill": {
     "duration": 0.031622,
     "end_time": "2024-09-13T09:01:40.278156",
     "exception": false,
     "start_time": "2024-09-13T09:01:40.246534",
     "status": "completed"
    },
    "tags": []
   },
   "outputs": [],
   "source": [
    "def overview(df: pd.DataFrame, timestamp_col: str = None) -> None:\n",
    "    print('Null Count:\\n', df.isnull().sum(),'\\n')\n",
    "    print('Data Types:\\n', df.dtypes)\n",
    "    \n",
    "    if timestamp_col is not None:\n",
    "        print('\\nDate Range:\\n\\nStart:\\t',df[timestamp_col].min())\n",
    "        print('End:\\t',df[timestamp_col].max())\n",
    "        print('Days:\\t',(df[timestamp_col].max() - df[timestamp_col].min()))\n",
    "\n",
    "        overview(df, timestamp_col='timestamp')"
   ]
  },
  {
   "cell_type": "markdown",
   "id": "24b7310c",
   "metadata": {
    "papermill": {
     "duration": 0.024605,
     "end_time": "2024-09-13T09:01:40.327664",
     "exception": false,
     "start_time": "2024-09-13T09:01:40.303059",
     "status": "completed"
    },
    "tags": []
   },
   "source": [
    "### Pair for each fall types"
   ]
  },
  {
   "cell_type": "code",
   "execution_count": 10,
   "id": "41278a24",
   "metadata": {
    "execution": {
     "iopub.execute_input": "2024-09-13T09:01:40.366435Z",
     "iopub.status.busy": "2024-09-13T09:01:40.366138Z",
     "iopub.status.idle": "2024-09-13T09:01:40.395464Z",
     "shell.execute_reply": "2024-09-13T09:01:40.394374Z"
    },
    "papermill": {
     "duration": 0.051034,
     "end_time": "2024-09-13T09:01:40.397371",
     "exception": false,
     "start_time": "2024-09-13T09:01:40.346337",
     "status": "completed"
    },
    "tags": []
   },
   "outputs": [
    {
     "name": "stdout",
     "output_type": "stream",
     "text": [
      "       timestamp  rel_time     acc_x     acc_y     acc_z    gyro_x    gyro_y  \\\n",
      "0  6377301738000  0.000000  4.468060  8.772831 -1.388161 -0.213803 -0.159741   \n",
      "1  6377306793000  0.005055  4.455602  8.801901 -1.359091 -0.204640 -0.164017   \n",
      "2  6377312005000  0.010267  4.445188  8.831538 -1.330832 -0.184787 -0.168904   \n",
      "3  6377316802000  0.015064  4.465960  8.854618 -1.326216 -0.173180 -0.159130   \n",
      "4  6377321794000  0.020056  4.487576  8.878636 -1.321412 -0.154549 -0.161879   \n",
      "\n",
      "     gyro_z    azimuth      pitch       roll label Activity Type  Sensor Type  \\\n",
      "0  0.136223  322.51492 -70.037740  11.116259   STD           FOL           40   \n",
      "1  0.133779  322.53247 -70.471710  11.650158   STD           FOL           40   \n",
      "2  0.141110  322.56490 -70.806625  12.129601   STD           FOL           40   \n",
      "3  0.133779  322.59985 -71.099040  12.591082   STD           FOL           40   \n",
      "4  0.121257  322.64432 -71.345505  13.032569   STD           FOL           40   \n",
      "\n",
      "   Participant ID   Trial No  Fall  \n",
      "0               2  annotated     1  \n",
      "1               2  annotated     1  \n",
      "2               2  annotated     1  \n",
      "3               2  annotated     1  \n",
      "4               2  annotated     1  \n"
     ]
    }
   ],
   "source": [
    "import seaborn as sns\n",
    "import matplotlib.pyplot as plt\n",
    "import pandas as pd\n",
    "\n",
    "\n",
    "# Extract fall data based on fall types\n",
    "fall_types = ['FOL', 'FKL', 'BSC', 'SDL']\n",
    "fall_data = df[df['Activity Type'].isin(fall_types)]\n",
    "\n",
    "print(fall_data.head())\n",
    "if True == False :\n",
    "    # Create a pair plot for each fall type\n",
    "    for fall_type in fall_types:\n",
    "        fall_type_data = fall_data[fall_data['Activity Type'] == fall_type]\n",
    "\n",
    "        # Select relevant features for plotting\n",
    "        features = ['acc_x', 'acc_y', 'acc_z', 'gyro_x', 'gyro_y', 'gyro_z']\n",
    "\n",
    "        # Create a pair plot\n",
    "        g = sns.PairGrid(fall_type_data[features], diag_sharey=False)\n",
    "        g.map_upper(sns.scatterplot, alpha=0.5)\n",
    "        g.map_lower(sns.kdeplot, fill=True)\n",
    "        g.map_diag(sns.histplot)\n",
    "\n",
    "        # Add a title to the plot\n",
    "        g.fig.suptitle(f\"Pair Plot for Fall Type: {fall_type}\")\n",
    "\n",
    "        # Show the plot\n",
    "        plt.show()"
   ]
  },
  {
   "cell_type": "markdown",
   "id": "7aa8bff8",
   "metadata": {
    "papermill": {
     "duration": 0.0183,
     "end_time": "2024-09-13T09:01:40.434153",
     "exception": false,
     "start_time": "2024-09-13T09:01:40.415853",
     "status": "completed"
    },
    "tags": []
   },
   "source": [
    "# Pipeline "
   ]
  },
  {
   "cell_type": "markdown",
   "id": "c9d4c042",
   "metadata": {
    "papermill": {
     "duration": 0.018222,
     "end_time": "2024-09-13T09:01:40.470694",
     "exception": false,
     "start_time": "2024-09-13T09:01:40.452472",
     "status": "completed"
    },
    "tags": []
   },
   "source": [
    "#### gpu availability : cuda"
   ]
  },
  {
   "cell_type": "code",
   "execution_count": 11,
   "id": "961222c7",
   "metadata": {
    "execution": {
     "iopub.execute_input": "2024-09-13T09:01:40.508586Z",
     "iopub.status.busy": "2024-09-13T09:01:40.508316Z",
     "iopub.status.idle": "2024-09-13T09:01:43.921044Z",
     "shell.execute_reply": "2024-09-13T09:01:43.919865Z"
    },
    "papermill": {
     "duration": 3.434072,
     "end_time": "2024-09-13T09:01:43.923128",
     "exception": false,
     "start_time": "2024-09-13T09:01:40.489056",
     "status": "completed"
    },
    "tags": []
   },
   "outputs": [
    {
     "name": "stdout",
     "output_type": "stream",
     "text": [
      "cuda\n"
     ]
    }
   ],
   "source": [
    "import torch\n",
    "import torch.cuda\n",
    "import torch.nn.functional as F\n",
    "\n",
    "# Set the device to use\n",
    "device = torch.device(\"cuda\" if torch.cuda.is_available() else \"cpu\")\n",
    "print(device)"
   ]
  },
  {
   "cell_type": "markdown",
   "id": "39d712ad",
   "metadata": {
    "papermill": {
     "duration": 0.018617,
     "end_time": "2024-09-13T09:01:43.961075",
     "exception": false,
     "start_time": "2024-09-13T09:01:43.942458",
     "status": "completed"
    },
    "tags": []
   },
   "source": [
    "## Explanation"
   ]
  },
  {
   "cell_type": "markdown",
   "id": "5ad3942b",
   "metadata": {
    "papermill": {
     "duration": 0.018358,
     "end_time": "2024-09-13T09:01:43.998100",
     "exception": false,
     "start_time": "2024-09-13T09:01:43.979742",
     "status": "completed"
    },
    "tags": []
   },
   "source": [
    "\n",
    "\n",
    "* Data Preparation: We split the normal activities into 80% training and 20% for testing. Fall data is added to the test set.\n",
    "* One-Class SVM: Trained on the normal activities and used to predict anomalies in the test set.\n",
    "* VAE: A simple Variational Autoencoder model is trained on normal data and evaluated on both normal and fall data to calculate the reconstruction error.\n",
    "* Comparison: The reconstruction errors of normal vs. fall activities are plotted, and we expect a separation between them."
   ]
  },
  {
   "cell_type": "code",
   "execution_count": 12,
   "id": "354004b8",
   "metadata": {
    "execution": {
     "iopub.execute_input": "2024-09-13T09:01:44.037137Z",
     "iopub.status.busy": "2024-09-13T09:01:44.036620Z",
     "iopub.status.idle": "2024-09-13T09:01:44.379761Z",
     "shell.execute_reply": "2024-09-13T09:01:44.378791Z"
    },
    "papermill": {
     "duration": 0.365262,
     "end_time": "2024-09-13T09:01:44.382055",
     "exception": false,
     "start_time": "2024-09-13T09:01:44.016793",
     "status": "completed"
    },
    "tags": []
   },
   "outputs": [],
   "source": [
    "# import \n",
    "\n",
    "import numpy as np\n",
    "import pandas as pd\n",
    "from sklearn.model_selection import train_test_split\n",
    "from sklearn.svm import OneClassSVM\n",
    "from sklearn.preprocessing import StandardScaler\n",
    "from sklearn.metrics import mean_squared_error\n",
    "import torch\n",
    "import torch.nn as nn\n",
    "import torch.optim as optim\n",
    "from tqdm.auto import tqdm  # For progress tracking\n",
    "from sklearn.decomposition import PCA\n",
    "\n",
    "from sklearn.neighbors import LocalOutlierFactor"
   ]
  },
  {
   "cell_type": "markdown",
   "id": "9e5cb221",
   "metadata": {
    "papermill": {
     "duration": 0.018606,
     "end_time": "2024-09-13T09:01:44.419715",
     "exception": false,
     "start_time": "2024-09-13T09:01:44.401109",
     "status": "completed"
    },
    "tags": []
   },
   "source": [
    "## preprocessing for baseline\n",
    "\n"
   ]
  },
  {
   "cell_type": "code",
   "execution_count": 13,
   "id": "76e4ec37",
   "metadata": {
    "execution": {
     "iopub.execute_input": "2024-09-13T09:01:44.458571Z",
     "iopub.status.busy": "2024-09-13T09:01:44.458247Z",
     "iopub.status.idle": "2024-09-13T09:01:44.611250Z",
     "shell.execute_reply": "2024-09-13T09:01:44.610278Z"
    },
    "papermill": {
     "duration": 0.175015,
     "end_time": "2024-09-13T09:01:44.613444",
     "exception": false,
     "start_time": "2024-09-13T09:01:44.438429",
     "status": "completed"
    },
    "tags": []
   },
   "outputs": [
    {
     "name": "stdout",
     "output_type": "stream",
     "text": [
      "Step 2: Data normalization\n"
     ]
    }
   ],
   "source": [
    "## Drop columns\n",
    "try : df = df.drop(['label', 'Activity Type', 'Trial No', 'Sensor Type'], axis=1)\n",
    "except : None\n",
    "    \n",
    "# Step 1: Split Data\n",
    "df_normal = df[df['Fall'] == 0]\n",
    "df_fall = df[df['Fall'] == 1]\n",
    "\n",
    "# 80% of normal data for training, 20% for testing\n",
    "train_data_normal, test_data_normal = train_test_split(df_normal, test_size=0.2, random_state=42)\n",
    "\n",
    "# Test set includes 20% normal + all fall data\n",
    "test_data = pd.concat([test_data_normal, df_fall])\n",
    "\n",
    "\n",
    "X_train = train_data_normal.drop('Fall', axis=1)\n",
    "y_train = train_data_normal['Fall']  \n",
    "\n",
    "X_test = test_data.drop('Fall', axis=1)\n",
    "y_test = test_data['Fall']  \n",
    "\n",
    "\n",
    "# Step 2: Data normalization\n",
    "scaler = StandardScaler()\n",
    "X_train_scaled = scaler.fit_transform(X_train)\n",
    "X_test_scaled = scaler.transform(X_test)\n",
    "print('Step 2: Data normalization')"
   ]
  },
  {
   "cell_type": "markdown",
   "id": "c18ef748",
   "metadata": {
    "papermill": {
     "duration": 0.01861,
     "end_time": "2024-09-13T09:01:44.651573",
     "exception": false,
     "start_time": "2024-09-13T09:01:44.632963",
     "status": "completed"
    },
    "tags": []
   },
   "source": [
    "## LocalOutlierFactor "
   ]
  },
  {
   "cell_type": "markdown",
   "id": "c36ee744",
   "metadata": {
    "papermill": {
     "duration": 0.018483,
     "end_time": "2024-09-13T09:01:44.688769",
     "exception": false,
     "start_time": "2024-09-13T09:01:44.670286",
     "status": "completed"
    },
    "tags": []
   },
   "source": [
    "I did use this technic instead of OneclassSVM as you suggested because, my dataset is a bit too large and there are too many features to be handled by OneclassSVM."
   ]
  },
  {
   "cell_type": "code",
   "execution_count": 14,
   "id": "5aad4f05",
   "metadata": {
    "execution": {
     "iopub.execute_input": "2024-09-13T09:01:44.727924Z",
     "iopub.status.busy": "2024-09-13T09:01:44.727293Z",
     "iopub.status.idle": "2024-09-13T09:02:54.021976Z",
     "shell.execute_reply": "2024-09-13T09:02:54.021164Z"
    },
    "papermill": {
     "duration": 69.316951,
     "end_time": "2024-09-13T09:02:54.024482",
     "exception": false,
     "start_time": "2024-09-13T09:01:44.707531",
     "status": "completed"
    },
    "tags": []
   },
   "outputs": [],
   "source": [
    "# Apply PCA to reduce dimensionality\n",
    "pca = PCA(n_components=0.95)  # Retain 95% of variance\n",
    "X_train_pca = pca.fit_transform(X_train_scaled)\n",
    "X_test_pca = pca.transform(X_test_scaled)\n",
    "\n",
    "# Train LOF and get scores\n",
    "lof = LocalOutlierFactor(n_neighbors=20, contamination=0.1, novelty=True)\n",
    "lof.fit(X_train_pca)\n",
    "\n",
    "# Predict with LOF\n",
    "y_pred_lof = lof.predict(X_test_pca)\n",
    "\n",
    "# Convert -1 to 1 (fall) and 1 to 0 (normal)\n",
    "y_pred_lof = np.where(y_pred_lof == -1, 1, 0)\n",
    "\n",
    "# Calculate reconstruction error for LOF\n",
    "# LOF does not provide direct reconstruction error like autoencoders; we use decision function values\n",
    "lof_scores = -lof.decision_function(X_test_pca)  # Negative sign because higher scores are better\n",
    "\n",
    "# Compute a threshold based on LOF scores for normal activities\n",
    "threshold_lof = np.percentile(lof_scores[y_test == 0], 99)  # Example: 95th percentile of normal data scores\n",
    "\n",
    "# Classify based on the LOF score\n",
    "y_pred_lof = np.where(lof_scores > threshold_lof, 1, 0)  # 1 for fall (anomaly), 0 for normal"
   ]
  },
  {
   "cell_type": "code",
   "execution_count": 15,
   "id": "e31aac43",
   "metadata": {
    "execution": {
     "iopub.execute_input": "2024-09-13T09:02:54.064834Z",
     "iopub.status.busy": "2024-09-13T09:02:54.064291Z",
     "iopub.status.idle": "2024-09-13T09:02:54.548470Z",
     "shell.execute_reply": "2024-09-13T09:02:54.547535Z"
    },
    "papermill": {
     "duration": 0.505985,
     "end_time": "2024-09-13T09:02:54.550597",
     "exception": false,
     "start_time": "2024-09-13T09:02:54.044612",
     "status": "completed"
    },
    "tags": []
   },
   "outputs": [
    {
     "name": "stdout",
     "output_type": "stream",
     "text": [
      "Accuracy (LOF): 0.8263\n",
      "Precision (LOF): 0.9791\n",
      "Recall (LOF): 0.6123\n",
      "F1-Score (LOF): 0.7535\n",
      "Confusion Matrix (LOF):\n",
      "[[50580   511]\n",
      " [15152 23933]]\n"
     ]
    },
    {
     "data": {
      "image/png": "[encoded data removed]",
      "text/plain": [
       "<Figure size 640x480 with 1 Axes>"
      ]
     },
     "metadata": {},
     "output_type": "display_data"
    }
   ],
   "source": [
    "from sklearn.metrics import accuracy_score, precision_score, recall_score, f1_score, confusion_matrix\n",
    "\n",
    "# Accuracy\n",
    "accuracy_lof = accuracy_score(y_test, y_pred_lof)\n",
    "precision_lof = precision_score(y_test, y_pred_lof)\n",
    "recall_lof = recall_score(y_test, y_pred_lof)\n",
    "f1_lof = f1_score(y_test, y_pred_lof)\n",
    "\n",
    "print(f\"Accuracy (LOF): {accuracy_lof:.4f}\")\n",
    "print(f\"Precision (LOF): {precision_lof:.4f}\")\n",
    "print(f\"Recall (LOF): {recall_lof:.4f}\")\n",
    "print(f\"F1-Score (LOF): {f1_lof:.4f}\")\n",
    "\n",
    "# Confusion Matrix\n",
    "conf_matrix_lof = confusion_matrix(y_test, y_pred_lof)\n",
    "print(\"Confusion Matrix (LOF):\")\n",
    "print(conf_matrix_lof)\n",
    "\n",
    "\n",
    "# Plot histograms for normal and fall activities\n",
    "plt.hist(lof_scores[y_test == 0], bins=50, alpha=0.7, label=\"Normal\")\n",
    "plt.hist(lof_scores[y_test == 1], bins=50, alpha=0.7, label=\"Fall\")\n",
    "plt.axvline(x=threshold_lof, color='r', linestyle='--', label=\"Threshold\")\n",
    "plt.xlabel(\"LOF Score\")\n",
    "plt.ylabel(\"Frequency\")\n",
    "plt.legend()\n",
    "plt.title(\"Separation of LOF Scores: Normal vs Fall Activities\")\n",
    "plt.show()"
   ]
  },
  {
   "cell_type": "markdown",
   "id": "c3d10280",
   "metadata": {
    "papermill": {
     "duration": 0.019299,
     "end_time": "2024-09-13T09:02:54.589635",
     "exception": false,
     "start_time": "2024-09-13T09:02:54.570336",
     "status": "completed"
    },
    "tags": []
   },
   "source": [
    "#### results\n",
    "\n",
    "\n",
    "for lof, we obtain great resultat as the distinction of the error reconstruct of the normal and fall activities is well define"
   ]
  },
  {
   "attachments": {
    "f0c09efe-5ec3-481a-9bec-b359780f93ba.png": {
     "image/png": "[encoded data removed]"
    }
   },
   "cell_type": "markdown",
   "id": "c63faa8b",
   "metadata": {
    "papermill": {
     "duration": 0.019356,
     "end_time": "2024-09-13T09:02:54.628256",
     "exception": false,
     "start_time": "2024-09-13T09:02:54.608900",
     "status": "completed"
    },
    "tags": []
   },
   "source": [
    "## Variational Autoencoder\n",
    "\n",
    "![image.png](attachment:f0c09efe-5ec3-481a-9bec-b359780f93ba.png)"
   ]
  },
  {
   "cell_type": "code",
   "execution_count": 16,
   "id": "ae53ded2",
   "metadata": {
    "execution": {
     "iopub.execute_input": "2024-09-13T09:02:54.668306Z",
     "iopub.status.busy": "2024-09-13T09:02:54.667935Z",
     "iopub.status.idle": "2024-09-13T09:03:04.173406Z",
     "shell.execute_reply": "2024-09-13T09:03:04.172476Z"
    },
    "papermill": {
     "duration": 9.527953,
     "end_time": "2024-09-13T09:03:04.175389",
     "exception": false,
     "start_time": "2024-09-13T09:02:54.647436",
     "status": "completed"
    },
    "tags": []
   },
   "outputs": [
    {
     "name": "stdout",
     "output_type": "stream",
     "text": [
      "12\n"
     ]
    },
    {
     "name": "stderr",
     "output_type": "stream",
     "text": [
      "Training Epochs: 100%|██████████| 500/500 [00:07<00:00, 68.27it/s]\n"
     ]
    },
    {
     "name": "stdout",
     "output_type": "stream",
     "text": [
      "Reconstruction Error (VAE): 1.1231902837753296 \n",
      "\n",
      "Accuracy (VAE): 0.5784\n",
      "Precision (VAE): 0.5249\n",
      "Recall (VAE): 0.2888\n",
      "F1-Score (VAE): 0.3726\n",
      "Confusion Matrix (VAE):\n",
      "[[40873 10218]\n",
      " [27796 11289]]\n"
     ]
    },
    {
     "data": {
      "image/png": "[encoded data removed]",
      "text/plain": [
       "<Figure size 640x480 with 1 Axes>"
      ]
     },
     "metadata": {},
     "output_type": "display_data"
    }
   ],
   "source": [
    "import torch\n",
    "import torch.nn as nn\n",
    "import torch.optim as optim\n",
    "import numpy as np\n",
    "import matplotlib.pyplot as plt\n",
    "from sklearn.metrics import accuracy_score, precision_score, recall_score, f1_score, confusion_matrix\n",
    "from tqdm import tqdm\n",
    "\n",
    "class VAE(nn.Module):\n",
    "    def __init__(self, input_dim, hidden_dim, latent_dim):\n",
    "        super(VAE, self).__init__()\n",
    "        \n",
    "        # Encoder: Input to Latent Space\n",
    "        self.encoder = nn.Sequential(\n",
    "            nn.Linear(input_dim, hidden_dim * 2),\n",
    "            nn.ReLU(),\n",
    "            nn.Linear(hidden_dim * 2, hidden_dim),\n",
    "            nn.ReLU()\n",
    "        )\n",
    "        \n",
    "        # Latent variables\n",
    "        self.mu_layer = nn.Linear(hidden_dim, latent_dim)\n",
    "        self.logvar_layer = nn.Linear(hidden_dim, latent_dim)\n",
    "        \n",
    "        # Decoder: Latent Space to Output\n",
    "        self.decoder = nn.Sequential(\n",
    "            nn.Linear(latent_dim, hidden_dim),\n",
    "            nn.ReLU(),\n",
    "            nn.Linear(hidden_dim, hidden_dim * 2),\n",
    "            nn.ReLU(),\n",
    "            nn.Linear(hidden_dim * 2, input_dim),\n",
    "            nn.Sigmoid()  # Output between 0 and 1\n",
    "        )\n",
    "    \n",
    "    def encode(self, x):\n",
    "        hidden = self.encoder(x)\n",
    "        mu = self.mu_layer(hidden)\n",
    "        logvar = self.logvar_layer(hidden)\n",
    "        return mu, logvar\n",
    "    \n",
    "    def reparameterize(self, mu, logvar):\n",
    "        std = torch.exp(0.5 * logvar)  # Standard deviation\n",
    "        eps = torch.randn_like(std)  # Random sample from normal distribution\n",
    "        return mu + eps * std  # Reparameterization trick\n",
    "    \n",
    "    def decode(self, z):\n",
    "        return self.decoder(z)\n",
    "    \n",
    "    def forward(self, x):\n",
    "        mu, logvar = self.encode(x)\n",
    "        z = self.reparameterize(mu, logvar)\n",
    "        return self.decode(z), mu, logvar\n",
    "\n",
    "# Instantiate the model\n",
    "input_dim = X_train_scaled.shape[1]\n",
    "print(input_dim)\n",
    "hidden_dim = 32\n",
    "latent_dim = 4\n",
    "vae = VAE(input_dim, hidden_dim, latent_dim).to(device)\n",
    "\n",
    "# Optimizer and criterion\n",
    "optimizer = optim.Adam(vae.parameters(), lr=0.0001, weight_decay=1e-5)\n",
    "criterion = nn.MSELoss()\n",
    "\n",
    "# Define the loss function with KL divergence\n",
    "def loss_function(recon_x, x, mu, logvar):\n",
    "    MSE = criterion(recon_x, x)  # Reconstruction loss\n",
    "    KLD = -0.5 * torch.sum(1 + logvar - mu.pow(2) - logvar.exp())  # KL divergence\n",
    "    return MSE + KLD\n",
    "\n",
    "# VAE Training Setup\n",
    "vae.train()\n",
    "num_epochs = 500\n",
    "\n",
    "X_train_tensor = torch.FloatTensor(X_train_scaled).to(device)\n",
    "X_test_tensor = torch.FloatTensor(X_test_scaled).to(device)\n",
    "\n",
    "for epoch in tqdm(range(num_epochs), desc=\"Training Epochs\"):\n",
    "    optimizer.zero_grad()\n",
    "    recon_batch, mu, logvar = vae(X_train_tensor)\n",
    "    loss = loss_function(recon_batch, X_train_tensor, mu, logvar)\n",
    "    loss.backward()\n",
    "    optimizer.step()\n",
    "\n",
    "# VAE Testing (Reconstruction Error)\n",
    "vae.eval()\n",
    "with torch.no_grad():\n",
    "    recon_test, _, _ = vae(X_test_tensor)\n",
    "    recon_error_vae = torch.mean((recon_test - X_test_tensor) ** 2, dim=1).cpu().numpy()\n",
    "\n",
    "# Compare Reconstruction Errors\n",
    "print(f\"Reconstruction Error (VAE): {np.mean(recon_error_vae)} \\n\")\n",
    "\n",
    "# Determine a threshold for classification\n",
    "threshold = np.percentile(recon_error_vae[y_test == 0], 80)\n",
    "\n",
    "# Classify based on reconstruction error\n",
    "y_pred_vae = np.where(recon_error_vae > threshold, 1, 0)  # 1 for anomaly, 0 for normal\n",
    "\n",
    "########################  Metrics ########################\n",
    "\n",
    "accuracy = accuracy_score(y_test, y_pred_vae)\n",
    "precision = precision_score(y_test, y_pred_vae)\n",
    "recall = recall_score(y_test, y_pred_vae)\n",
    "f1 = f1_score(y_test, y_pred_vae)\n",
    "\n",
    "print(f\"Accuracy (VAE): {accuracy:.4f}\")\n",
    "print(f\"Precision (VAE): {precision:.4f}\")\n",
    "print(f\"Recall (VAE): {recall:.4f}\")\n",
    "print(f\"F1-Score (VAE): {f1:.4f}\")\n",
    "\n",
    "# Confusion Matrix\n",
    "conf_matrix = confusion_matrix(y_test, y_pred_vae)\n",
    "print(\"Confusion Matrix (VAE):\")\n",
    "print(conf_matrix)\n",
    "\n",
    "# Visualize the separation between normal and fall activities\n",
    "plt.hist(recon_error_vae[y_test == 0], bins=50, alpha=0.7, label=\"Normal\")\n",
    "plt.hist(recon_error_vae[y_test == 1], bins=50, alpha=0.7, label=\"Fall\")\n",
    "plt.axvline(x=threshold, color='r', linestyle='--', label=\"Threshold\")\n",
    "plt.xlabel(\"Reconstruction Error\")\n",
    "plt.ylabel(\"Frequency\")\n",
    "plt.legend()\n",
    "plt.show()\n"
   ]
  },
  {
   "cell_type": "markdown",
   "id": "44d537bc",
   "metadata": {
    "papermill": {
     "duration": 0.025037,
     "end_time": "2024-09-13T09:03:04.262730",
     "exception": false,
     "start_time": "2024-09-13T09:03:04.237693",
     "status": "completed"
    },
    "tags": []
   },
   "source": [
    "#### Results \n",
    "\n",
    "For VAE, the results less convissing. We can a difference between the error reconstruction of normal and falls activity. The other metrics such as the accuracy(70%)  are pretty low compare to the LOF model. \n",
    "\n",
    "\n",
    "I might have overcomplicated the model in order to improve the accuracy, but resulting in a too complex models for the problem."
   ]
  },
  {
   "cell_type": "markdown",
   "id": "a86a7d69",
   "metadata": {
    "papermill": {
     "duration": 0.025345,
     "end_time": "2024-09-13T09:03:04.313801",
     "exception": false,
     "start_time": "2024-09-13T09:03:04.288456",
     "status": "completed"
    },
    "tags": []
   },
   "source": [
    "# Train CNNs Models\n",
    "\n",
    "Now, i want to try complex models design for time series such as LSTM and GRU. I added a mutli head self attention layer to catch the pattern of the datas. \n"
   ]
  },
  {
   "cell_type": "code",
   "execution_count": 17,
   "id": "8e8c12cf",
   "metadata": {
    "execution": {
     "iopub.execute_input": "2024-09-13T09:03:04.365708Z",
     "iopub.status.busy": "2024-09-13T09:03:04.364835Z",
     "iopub.status.idle": "2024-09-13T09:03:04.369969Z",
     "shell.execute_reply": "2024-09-13T09:03:04.369065Z"
    },
    "papermill": {
     "duration": 0.033202,
     "end_time": "2024-09-13T09:03:04.371860",
     "exception": false,
     "start_time": "2024-09-13T09:03:04.338658",
     "status": "completed"
    },
    "tags": []
   },
   "outputs": [],
   "source": [
    "import torch\n",
    "import torch.nn as nn\n",
    "import torch.optim as optim\n",
    "from torch.utils.data import DataLoader, TensorDataset\n",
    "import torch.nn.functional as F"
   ]
  },
  {
   "cell_type": "markdown",
   "id": "60430b08",
   "metadata": {
    "papermill": {
     "duration": 0.025001,
     "end_time": "2024-09-13T09:03:04.422004",
     "exception": false,
     "start_time": "2024-09-13T09:03:04.397003",
     "status": "completed"
    },
    "tags": []
   },
   "source": [
    "## LSTM model"
   ]
  },
  {
   "cell_type": "code",
   "execution_count": 18,
   "id": "42ea723a",
   "metadata": {
    "execution": {
     "iopub.execute_input": "2024-09-13T09:03:04.473615Z",
     "iopub.status.busy": "2024-09-13T09:03:04.473312Z",
     "iopub.status.idle": "2024-09-13T09:03:04.490089Z",
     "shell.execute_reply": "2024-09-13T09:03:04.489219Z"
    },
    "papermill": {
     "duration": 0.045002,
     "end_time": "2024-09-13T09:03:04.492048",
     "exception": false,
     "start_time": "2024-09-13T09:03:04.447046",
     "status": "completed"
    },
    "tags": []
   },
   "outputs": [],
   "source": [
    "class MHSelfAttention(nn.Module):\n",
    "    def __init__(self, embed_dim, num_heads):\n",
    "        super(MHSelfAttention, self).__init__()\n",
    "        self.num_heads = num_heads\n",
    "        self.embed_dim = embed_dim\n",
    "        self.head_dim = embed_dim // num_heads\n",
    "        assert self.head_dim * num_heads == embed_dim, \"Embedding dimension must be divisible by number of heads\"\n",
    "\n",
    "        self.query = nn.Linear(embed_dim, embed_dim)\n",
    "        self.key = nn.Linear(embed_dim, embed_dim)\n",
    "        self.value = nn.Linear(embed_dim, embed_dim)\n",
    "        self.out = nn.Linear(embed_dim, embed_dim)\n",
    "\n",
    "    def forward(self, x):\n",
    "        batch_size = x.size(0)\n",
    "        Q = self.query(x)\n",
    "        K = self.key(x)\n",
    "        V = self.value(x)\n",
    "\n",
    "        Q = Q.view(batch_size, -1, self.num_heads, self.head_dim).transpose(1, 2)\n",
    "        K = K.view(batch_size, -1, self.num_heads, self.head_dim).transpose(1, 2)\n",
    "        V = V.view(batch_size, -1, self.num_heads, self.head_dim).transpose(1, 2)\n",
    "\n",
    "        scores = torch.matmul(Q, K.transpose(-2, -1)) / torch.sqrt(torch.tensor(self.head_dim, dtype=torch.float32))\n",
    "        attn = F.softmax(scores, dim=-1)\n",
    "        context = torch.matmul(attn, V)\n",
    "\n",
    "        context = context.transpose(1, 2).contiguous().view(batch_size, -1, self.embed_dim)\n",
    "\n",
    "        return self.out(context)\n",
    "\n",
    "class LSTM_SelfAttention(nn.Module):\n",
    "    def __init__(self, input_dim, hidden_dim, output_dim, num_layers, dropout, num_heads, fc_layers, embedding_dim):\n",
    "        super(LSTM_SelfAttention, self).__init__()\n",
    "        self.hidden_dim = hidden_dim\n",
    "        self.num_layers = num_layers\n",
    "        self.num_heads = num_heads\n",
    "        self.embedding_dim = embedding_dim\n",
    "        \n",
    "        self.embedding = nn.Embedding(input_dim, embedding_dim)\n",
    "        self.LSTM = nn.LSTM(embedding_dim, hidden_dim, num_layers, batch_first=True, dropout=dropout)\n",
    "        self.self_attn = MHSelfAttention(embedding_dim, num_heads)\n",
    "        \n",
    "        fc_layer_sizes = [hidden_dim] + fc_layers\n",
    "        self.fc_layers = nn.ModuleList()\n",
    "        for in_size, out_size in zip(fc_layer_sizes[:-1], fc_layer_sizes[1:]):\n",
    "            self.fc_layers.append(nn.Linear(in_size, out_size))\n",
    "            self.fc_layers.append(nn.ReLU())\n",
    "        self.output_layer = nn.Linear(fc_layers[-1], output_dim)\n",
    "\n",
    "    def forward(self, x):\n",
    "        x = self.embedding(x)\n",
    "        x, _ = self.LSTM(x)\n",
    "        x = self.self_attn(x)\n",
    "        \n",
    "        x = x[:, -1, :]  # Use the output of the last timestep or aggregate as needed\n",
    "        \n",
    "        for layer in self.fc_layers:\n",
    "            x = layer(x)\n",
    "        \n",
    "        x = self.output_layer(x).squeeze(-1)  # Ensure output shape is [batch_size]\n",
    "        \n",
    "        return x"
   ]
  },
  {
   "cell_type": "markdown",
   "id": "e7bfcc5f",
   "metadata": {
    "papermill": {
     "duration": 0.024699,
     "end_time": "2024-09-13T09:03:04.541782",
     "exception": false,
     "start_time": "2024-09-13T09:03:04.517083",
     "status": "completed"
    },
    "tags": []
   },
   "source": [
    "## GRU model"
   ]
  },
  {
   "cell_type": "code",
   "execution_count": 19,
   "id": "9d24f9bc",
   "metadata": {
    "execution": {
     "iopub.execute_input": "2024-09-13T09:03:04.593110Z",
     "iopub.status.busy": "2024-09-13T09:03:04.592539Z",
     "iopub.status.idle": "2024-09-13T09:03:04.609356Z",
     "shell.execute_reply": "2024-09-13T09:03:04.608495Z"
    },
    "papermill": {
     "duration": 0.044628,
     "end_time": "2024-09-13T09:03:04.611246",
     "exception": false,
     "start_time": "2024-09-13T09:03:04.566618",
     "status": "completed"
    },
    "tags": []
   },
   "outputs": [],
   "source": [
    "import torch\n",
    "import torch.nn as nn\n",
    "import torch.nn.functional as F\n",
    "\n",
    "class MHSelfAttention(nn.Module):\n",
    "    def __init__(self, embed_dim, num_heads):\n",
    "        super(MHSelfAttention, self).__init__()\n",
    "        self.num_heads = num_heads\n",
    "        self.embed_dim = embed_dim\n",
    "        self.head_dim = embed_dim // num_heads\n",
    "        assert self.head_dim * num_heads == embed_dim, \"Embedding dimension must be divisible by number of heads\"\n",
    "\n",
    "        self.query = nn.Linear(embed_dim, embed_dim)\n",
    "        self.key = nn.Linear(embed_dim, embed_dim)\n",
    "        self.value = nn.Linear(embed_dim, embed_dim)\n",
    "        self.out = nn.Linear(embed_dim, embed_dim)\n",
    "\n",
    "    def forward(self, x):\n",
    "        batch_size = x.size(0)\n",
    "        Q = self.query(x)\n",
    "        K = self.key(x)\n",
    "        V = self.value(x)\n",
    "\n",
    "        Q = Q.view(batch_size, -1, self.num_heads, self.head_dim).transpose(1, 2)\n",
    "        K = K.view(batch_size, -1, self.num_heads, self.head_dim).transpose(1, 2)\n",
    "        V = V.view(batch_size, -1, self.num_heads, self.head_dim).transpose(1, 2)\n",
    "\n",
    "        scores = torch.matmul(Q, K.transpose(-2, -1)) / torch.sqrt(torch.tensor(self.head_dim, dtype=torch.float32))\n",
    "        attn = F.softmax(scores, dim=-1)\n",
    "        context = torch.matmul(attn, V)\n",
    "\n",
    "        context = context.transpose(1, 2).contiguous().view(batch_size, -1, self.embed_dim)\n",
    "\n",
    "        return self.out(context)\n",
    "\n",
    "class GRU_SelfAttention(nn.Module):\n",
    "    def __init__(self, input_dim, hidden_dim, output_dim, num_layers, dropout, num_heads, fc_layers, embedding_dim):\n",
    "        super(GRU_SelfAttention, self).__init__()\n",
    "        self.hidden_dim = hidden_dim\n",
    "        self.num_layers = num_layers\n",
    "        self.num_heads = num_heads\n",
    "        self.embedding_dim = embedding_dim\n",
    "        \n",
    "        self.embedding = nn.Embedding(input_dim, embedding_dim)\n",
    "        self.GRU = nn.GRU(embedding_dim, hidden_dim, num_layers, batch_first=True, dropout=dropout)\n",
    "        self.self_attn = MHSelfAttention(embedding_dim, num_heads)\n",
    "        \n",
    "        fc_layer_sizes = [hidden_dim] + fc_layers\n",
    "        self.fc_layers = nn.ModuleList()\n",
    "        for in_size, out_size in zip(fc_layer_sizes[:-1], fc_layer_sizes[1:]):\n",
    "            self.fc_layers.append(nn.Linear(in_size, out_size))\n",
    "            self.fc_layers.append(nn.ReLU())\n",
    "        self.output_layer = nn.Linear(fc_layers[-1], output_dim)\n",
    "\n",
    "    def forward(self, x):\n",
    "        x = self.embedding(x)\n",
    "        x, _ = self.GRU(x)\n",
    "        x = self.self_attn(x)\n",
    "        \n",
    "        x = x[:, -1, :]  # Use the output of the last timestep or aggregate as needed\n",
    "        \n",
    "        for layer in self.fc_layers:\n",
    "            x = layer(x)\n",
    "        \n",
    "        x = self.output_layer(x).squeeze(-1)  # Ensure output shape is [batch_size]\n",
    "        \n",
    "        return x"
   ]
  },
  {
   "cell_type": "markdown",
   "id": "3ccc23ec",
   "metadata": {
    "papermill": {
     "duration": 0.025065,
     "end_time": "2024-09-13T09:03:04.661514",
     "exception": false,
     "start_time": "2024-09-13T09:03:04.636449",
     "status": "completed"
    },
    "tags": []
   },
   "source": [
    "## Prepare dataset"
   ]
  },
  {
   "cell_type": "markdown",
   "id": "511968f3",
   "metadata": {
    "papermill": {
     "duration": 0.025032,
     "end_time": "2024-09-13T09:03:04.711623",
     "exception": false,
     "start_time": "2024-09-13T09:03:04.686591",
     "status": "completed"
    },
    "tags": []
   },
   "source": [
    "#### **drop columns**\n",
    "\n"
   ]
  },
  {
   "cell_type": "code",
   "execution_count": 20,
   "id": "b272d04f",
   "metadata": {
    "execution": {
     "iopub.execute_input": "2024-09-13T09:03:04.762978Z",
     "iopub.status.busy": "2024-09-13T09:03:04.762663Z",
     "iopub.status.idle": "2024-09-13T09:03:04.768059Z",
     "shell.execute_reply": "2024-09-13T09:03:04.767187Z"
    },
    "papermill": {
     "duration": 0.033206,
     "end_time": "2024-09-13T09:03:04.769877",
     "exception": false,
     "start_time": "2024-09-13T09:03:04.736671",
     "status": "completed"
    },
    "tags": []
   },
   "outputs": [],
   "source": [
    "try : \n",
    "    df = df.drop('label', axis=1) # as we already encoded the labels with fall (boolean)\n",
    "    df = df.drop('Activity Type', axis=1) # as we already encoded the labels with fall (boolean)\n",
    "    df = df.drop('Trial No', axis=1) # as we already encoded the labels with fall (boolean)\n",
    "    df = df.drop('Sensor Type', axis=1) # as we already encoded the labels with fall (boolean)\n",
    "except:\n",
    "    None"
   ]
  },
  {
   "cell_type": "markdown",
   "id": "db3b6bc0",
   "metadata": {
    "papermill": {
     "duration": 0.024952,
     "end_time": "2024-09-13T09:03:04.819695",
     "exception": false,
     "start_time": "2024-09-13T09:03:04.794743",
     "status": "completed"
    },
    "tags": []
   },
   "source": [
    "#### Classic split of data"
   ]
  },
  {
   "cell_type": "code",
   "execution_count": 21,
   "id": "dae72e51",
   "metadata": {
    "execution": {
     "iopub.execute_input": "2024-09-13T09:03:04.871244Z",
     "iopub.status.busy": "2024-09-13T09:03:04.870890Z",
     "iopub.status.idle": "2024-09-13T09:03:04.983122Z",
     "shell.execute_reply": "2024-09-13T09:03:04.981838Z"
    },
    "papermill": {
     "duration": 0.141423,
     "end_time": "2024-09-13T09:03:04.986098",
     "exception": false,
     "start_time": "2024-09-13T09:03:04.844675",
     "status": "completed"
    },
    "tags": []
   },
   "outputs": [
    {
     "name": "stdout",
     "output_type": "stream",
     "text": [
      "tensor([[ 6.3773e+12,  0.0000e+00,  4.4681e+00,  ..., -7.0038e+01,\n",
      "          1.1116e+01,  2.0000e+00],\n",
      "        [ 6.3773e+12,  5.0550e-03,  4.4556e+00,  ..., -7.0472e+01,\n",
      "          1.1650e+01,  2.0000e+00],\n",
      "        [ 6.3773e+12,  1.0267e-02,  4.4452e+00,  ..., -7.0807e+01,\n",
      "          1.2130e+01,  2.0000e+00],\n",
      "        ...,\n",
      "        [ 1.3447e+12,  5.6901e+00,  2.4314e+00,  ...,  1.0407e+02,\n",
      "          1.3983e+01,  3.0000e+00],\n",
      "        [ 1.3447e+12,  5.6951e+00,  2.4243e+00,  ...,  1.0408e+02,\n",
      "          1.3989e+01,  3.0000e+00],\n",
      "        [ 1.3447e+12,  5.7000e+00,  2.4173e+00,  ...,  1.0409e+02,\n",
      "          1.3999e+01,  3.0000e+00]], dtype=torch.float64)\n"
     ]
    },
    {
     "name": "stderr",
     "output_type": "stream",
     "text": [
      "/tmp/ipykernel_23/3184919072.py:16: UserWarning: To copy construct from a tensor, it is recommended to use sourceTensor.clone().detach() or sourceTensor.clone().detach().requires_grad_(True), rather than torch.tensor(sourceTensor).\n",
      "  X_train = torch.tensor(X_train, dtype=torch.long).to(device)\n",
      "/tmp/ipykernel_23/3184919072.py:17: UserWarning: To copy construct from a tensor, it is recommended to use sourceTensor.clone().detach() or sourceTensor.clone().detach().requires_grad_(True), rather than torch.tensor(sourceTensor).\n",
      "  y_train = torch.tensor(y_train, dtype=torch.long).to(device)\n",
      "/tmp/ipykernel_23/3184919072.py:18: UserWarning: To copy construct from a tensor, it is recommended to use sourceTensor.clone().detach() or sourceTensor.clone().detach().requires_grad_(True), rather than torch.tensor(sourceTensor).\n",
      "  X_test = torch.tensor(X_test, dtype=torch.long).to(device)\n",
      "/tmp/ipykernel_23/3184919072.py:19: UserWarning: To copy construct from a tensor, it is recommended to use sourceTensor.clone().detach() or sourceTensor.clone().detach().requires_grad_(True), rather than torch.tensor(sourceTensor).\n",
      "  y_test = torch.tensor(y_test, dtype=torch.long).to(device)\n"
     ]
    }
   ],
   "source": [
    "import torch\n",
    "import pandas as pd\n",
    "from sklearn.model_selection import train_test_split\n",
    "\n",
    "# Convert non-numeric columns to numeric\n",
    "df = df.apply(pd.to_numeric, errors='coerce')\n",
    "\n",
    "# Separate features (X) and target (y)\n",
    "X = torch.from_numpy(df.drop('Fall', axis=1).values)\n",
    "y = torch.from_numpy(df['Fall'].values)\n",
    "\n",
    "print(X)\n",
    "# Split data into training and testing sets\n",
    "X_train, X_test, y_train, y_test = train_test_split(X, y, test_size=0.2, random_state=42)\n",
    "\n",
    "X_train = torch.tensor(X_train, dtype=torch.long).to(device)\n",
    "y_train = torch.tensor(y_train, dtype=torch.long).to(device)\n",
    "X_test = torch.tensor(X_test, dtype=torch.long).to(device)\n",
    "y_test = torch.tensor(y_test, dtype=torch.long).to(device)\n",
    "\n",
    "X_train = torch.clamp(X_train, min=0, max=X_train.shape[1]-1) # X_train.shape[1] = input_dim\n",
    "X_test = torch.clamp(X_test, min=0, max=X_train.shape[1]-1)\n",
    "\n",
    "# Create DataLoaders\n",
    "batch_size = 64\n",
    "train_data = TensorDataset(X_train, y_train)\n",
    "train_loader = DataLoader(train_data, batch_size=batch_size, shuffle=True)\n",
    "test_data = TensorDataset(X_test, y_test)\n",
    "test_loader = DataLoader(test_data, batch_size=batch_size, shuffle=False)"
   ]
  },
  {
   "cell_type": "markdown",
   "id": "be3e557b",
   "metadata": {
    "papermill": {
     "duration": 0.025237,
     "end_time": "2024-09-13T09:03:05.037462",
     "exception": false,
     "start_time": "2024-09-13T09:03:05.012225",
     "status": "completed"
    },
    "tags": []
   },
   "source": [
    "#### split : Test set includes 20% normal dataset + all falls data "
   ]
  },
  {
   "cell_type": "code",
   "execution_count": 22,
   "id": "6a62f2b4",
   "metadata": {
    "execution": {
     "iopub.execute_input": "2024-09-13T09:03:05.089656Z",
     "iopub.status.busy": "2024-09-13T09:03:05.089322Z",
     "iopub.status.idle": "2024-09-13T09:03:05.181376Z",
     "shell.execute_reply": "2024-09-13T09:03:05.180497Z"
    },
    "papermill": {
     "duration": 0.121125,
     "end_time": "2024-09-13T09:03:05.183810",
     "exception": false,
     "start_time": "2024-09-13T09:03:05.062685",
     "status": "completed"
    },
    "tags": []
   },
   "outputs": [],
   "source": [
    "import torch\n",
    "import pandas as pd\n",
    "from sklearn.model_selection import train_test_split\n",
    "from torch.utils.data import DataLoader, TensorDataset\n",
    "\n",
    "# Assuming df is the input DataFrame and 'Fall' is the target column.\n",
    "\n",
    "# Convert non-numeric columns to numeric\n",
    "df = df.apply(pd.to_numeric, errors='coerce')\n",
    "\n",
    "df_normal = df[df['Fall'] == 0]  # Normal activities\n",
    "df_fall = df[df['Fall'] == 1]    # Fall activities\n",
    "\n",
    "# 80% of normal data for training, 20% for testing\n",
    "train_data_normal, test_data_normal = train_test_split(df_normal, test_size=0.2, random_state=42)\n",
    "\n",
    "# Test set includes 20% normal + all fall data\n",
    "test_data = pd.concat([test_data_normal, df_fall])\n",
    "\n",
    "# Step 5: Separate features (X) and target (y) for training and testing sets\n",
    "X_train = train_data_normal.drop('Fall', axis=1)\n",
    "y_train = train_data_normal['Fall']\n",
    "\n",
    "X_test = test_data.drop('Fall', axis=1)\n",
    "y_test = test_data['Fall']\n",
    "\n",
    "# Step 6: Convert pandas DataFrame to PyTorch tensors ahnd device \n",
    "X_train = torch.tensor(X_train.values, dtype=torch.long).to(device)\n",
    "y_train = torch.tensor(y_train.values, dtype=torch.long).to(device)\n",
    "\n",
    "X_test = torch.tensor(X_test.values, dtype=torch.long).to(device)\n",
    "y_test = torch.tensor(y_test.values, dtype=torch.long).to(device)\n",
    "\n",
    "\n",
    "# Step 7: Apply clamping if necessary (to limit the values within a certain range)\n",
    "# Assuming we want to clamp to the valid input feature range\n",
    "input_dim = X_train.shape[1]\n",
    "X_train = torch.clamp(X_train, min=0, max=input_dim-1)  # Adjust clamp as needed\n",
    "X_test = torch.clamp(X_test, min=0, max=input_dim-1)\n",
    "\n",
    "# Step 8: Create DataLoaders for batch processing\n",
    "batch_size = 64\n",
    "train_data = TensorDataset(X_train, y_train)\n",
    "train_loader = DataLoader(train_data, batch_size=batch_size, shuffle=True)\n",
    "\n",
    "test_data = TensorDataset(X_test, y_test)\n",
    "test_loader = DataLoader(test_data, batch_size=batch_size, shuffle=False)"
   ]
  },
  {
   "cell_type": "markdown",
   "id": "3a6acae2",
   "metadata": {
    "papermill": {
     "duration": 0.025111,
     "end_time": "2024-09-13T09:03:05.235051",
     "exception": false,
     "start_time": "2024-09-13T09:03:05.209940",
     "status": "completed"
    },
    "tags": []
   },
   "source": [
    "## Hyperparameters"
   ]
  },
  {
   "cell_type": "code",
   "execution_count": 23,
   "id": "7855695f",
   "metadata": {
    "execution": {
     "iopub.execute_input": "2024-09-13T09:03:05.287164Z",
     "iopub.status.busy": "2024-09-13T09:03:05.286777Z",
     "iopub.status.idle": "2024-09-13T09:03:05.292174Z",
     "shell.execute_reply": "2024-09-13T09:03:05.291259Z"
    },
    "papermill": {
     "duration": 0.033778,
     "end_time": "2024-09-13T09:03:05.294055",
     "exception": false,
     "start_time": "2024-09-13T09:03:05.260277",
     "status": "completed"
    },
    "tags": []
   },
   "outputs": [],
   "source": [
    "input_dim = X_train.shape[1]  # Number of input features\n",
    "hidden_dim = 32  # Number of hidden units in LSTM\n",
    "output_dim = 1  # Number of output classes has the num of classes \n",
    "num_layers = 4  # Number of LSTM layers\n",
    "dropout = 0.2  # Dropout probability\n",
    "fc_layers = [32, 16, 8]  # Adjust the number and size of fully connected layers\n",
    "learning_rate = 0.003\n",
    "num_heads = 2  # Number of self-attention heads\n",
    "embedding_dim = 32  # Embedding dimension\n",
    "num_epochs = 5  # Number of training epochs"
   ]
  },
  {
   "cell_type": "markdown",
   "id": "86a988a8",
   "metadata": {
    "papermill": {
     "duration": 0.025303,
     "end_time": "2024-09-13T09:03:05.344625",
     "exception": false,
     "start_time": "2024-09-13T09:03:05.319322",
     "status": "completed"
    },
    "tags": []
   },
   "source": [
    "## Training loop"
   ]
  },
  {
   "cell_type": "code",
   "execution_count": 24,
   "id": "ded85d18",
   "metadata": {
    "execution": {
     "iopub.execute_input": "2024-09-13T09:03:05.396472Z",
     "iopub.status.busy": "2024-09-13T09:03:05.395991Z",
     "iopub.status.idle": "2024-09-13T09:05:37.656059Z",
     "shell.execute_reply": "2024-09-13T09:05:37.655054Z"
    },
    "papermill": {
     "duration": 152.288202,
     "end_time": "2024-09-13T09:05:37.658135",
     "exception": false,
     "start_time": "2024-09-13T09:03:05.369933",
     "status": "completed"
    },
    "tags": []
   },
   "outputs": [
    {
     "name": "stdout",
     "output_type": "stream",
     "text": [
      "Using device: cuda\n"
     ]
    },
    {
     "data": {
      "application/vnd.jupyter.widget-view+json": {
       "model_id": "aed16fa7427340f6b04739ebe621ca9f",
       "version_major": 2,
       "version_minor": 0
      },
      "text/plain": [
       "Training Epoch 1:   0%|          | 0/3194 [00:00<?, ?it/s]"
      ]
     },
     "metadata": {},
     "output_type": "display_data"
    },
    {
     "name": "stdout",
     "output_type": "stream",
     "text": [
      "Epoch 1 - Avg Training Loss: 0.0047\n"
     ]
    },
    {
     "data": {
      "application/vnd.jupyter.widget-view+json": {
       "model_id": "727bc1a026b943ae813649ca6a5d0bc8",
       "version_major": 2,
       "version_minor": 0
      },
      "text/plain": [
       "Evaluating:   0%|          | 0/1409 [00:00<?, ?it/s]"
      ]
     },
     "metadata": {},
     "output_type": "display_data"
    },
    {
     "name": "stdout",
     "output_type": "stream",
     "text": [
      "Test Accuracy: 0.5666\n"
     ]
    },
    {
     "data": {
      "application/vnd.jupyter.widget-view+json": {
       "model_id": "57f2a5acf9ab41c4a17900c83b05d7f9",
       "version_major": 2,
       "version_minor": 0
      },
      "text/plain": [
       "Training Epoch 2:   0%|          | 0/3194 [00:00<?, ?it/s]"
      ]
     },
     "metadata": {},
     "output_type": "display_data"
    },
    {
     "name": "stdout",
     "output_type": "stream",
     "text": [
      "Epoch 2 - Avg Training Loss: 0.0000\n"
     ]
    },
    {
     "data": {
      "application/vnd.jupyter.widget-view+json": {
       "model_id": "12d40c275203484798830ad3378bace5",
       "version_major": 2,
       "version_minor": 0
      },
      "text/plain": [
       "Evaluating:   0%|          | 0/1409 [00:00<?, ?it/s]"
      ]
     },
     "metadata": {},
     "output_type": "display_data"
    },
    {
     "name": "stdout",
     "output_type": "stream",
     "text": [
      "Test Accuracy: 0.5666\n"
     ]
    },
    {
     "data": {
      "application/vnd.jupyter.widget-view+json": {
       "model_id": "a8f42eb5ed5249db9446d53810248710",
       "version_major": 2,
       "version_minor": 0
      },
      "text/plain": [
       "Training Epoch 3:   0%|          | 0/3194 [00:00<?, ?it/s]"
      ]
     },
     "metadata": {},
     "output_type": "display_data"
    },
    {
     "name": "stdout",
     "output_type": "stream",
     "text": [
      "Epoch 3 - Avg Training Loss: 0.0000\n"
     ]
    },
    {
     "data": {
      "application/vnd.jupyter.widget-view+json": {
       "model_id": "0ce1a8724c564ed5860185ebc7614ced",
       "version_major": 2,
       "version_minor": 0
      },
      "text/plain": [
       "Evaluating:   0%|          | 0/1409 [00:00<?, ?it/s]"
      ]
     },
     "metadata": {},
     "output_type": "display_data"
    },
    {
     "name": "stdout",
     "output_type": "stream",
     "text": [
      "Test Accuracy: 0.5666\n"
     ]
    },
    {
     "data": {
      "application/vnd.jupyter.widget-view+json": {
       "model_id": "eb062d5988e94bf1aff1103326481c81",
       "version_major": 2,
       "version_minor": 0
      },
      "text/plain": [
       "Training Epoch 4:   0%|          | 0/3194 [00:00<?, ?it/s]"
      ]
     },
     "metadata": {},
     "output_type": "display_data"
    },
    {
     "name": "stdout",
     "output_type": "stream",
     "text": [
      "Epoch 4 - Avg Training Loss: 0.0000\n"
     ]
    },
    {
     "data": {
      "application/vnd.jupyter.widget-view+json": {
       "model_id": "66e50e7ac20149a4b30e8f8154c2df93",
       "version_major": 2,
       "version_minor": 0
      },
      "text/plain": [
       "Evaluating:   0%|          | 0/1409 [00:00<?, ?it/s]"
      ]
     },
     "metadata": {},
     "output_type": "display_data"
    },
    {
     "name": "stdout",
     "output_type": "stream",
     "text": [
      "Test Accuracy: 0.5666\n"
     ]
    },
    {
     "data": {
      "application/vnd.jupyter.widget-view+json": {
       "model_id": "c28eaef447c84a6e9b24299564ab7adf",
       "version_major": 2,
       "version_minor": 0
      },
      "text/plain": [
       "Training Epoch 5:   0%|          | 0/3194 [00:00<?, ?it/s]"
      ]
     },
     "metadata": {},
     "output_type": "display_data"
    },
    {
     "name": "stdout",
     "output_type": "stream",
     "text": [
      "Epoch 5 - Avg Training Loss: 0.0000\n"
     ]
    },
    {
     "data": {
      "application/vnd.jupyter.widget-view+json": {
       "model_id": "f834584f7c6345ec96f5254a39c21348",
       "version_major": 2,
       "version_minor": 0
      },
      "text/plain": [
       "Evaluating:   0%|          | 0/1409 [00:00<?, ?it/s]"
      ]
     },
     "metadata": {},
     "output_type": "display_data"
    },
    {
     "name": "stdout",
     "output_type": "stream",
     "text": [
      "Test Accuracy: 0.5666\n"
     ]
    }
   ],
   "source": [
    "import torch\n",
    "import torch.nn as nn\n",
    "import torch.optim as optim\n",
    "from torch.utils.tensorboard import SummaryWriter\n",
    "from tqdm.auto import tqdm\n",
    "import matplotlib.pyplot as plt\n",
    "import seaborn as sns\n",
    "from sklearn.metrics import confusion_matrix, classification_report\n",
    "\n",
    "# Initialize device\n",
    "device = torch.device('cuda' if torch.cuda.is_available() else 'cpu')\n",
    "print(f\"Using device: {device}\")\n",
    "\n",
    "# Initialize model, criterion, and optimizer\n",
    "# model = LSTM_SelfAttention(input_dim, hidden_dim, output_dim, num_layers, dropout, num_heads, fc_layers, embedding_dim)\n",
    "model = GRU_SelfAttention(input_dim, hidden_dim, output_dim, num_layers, dropout, num_heads, fc_layers, embedding_dim)\n",
    "\n",
    "# Wrap model with DataParallel if multiple GPUs are available\n",
    "if torch.cuda.device_count() > 1:\n",
    "    print(f\"Using {torch.cuda.device_count()} GPUs\")\n",
    "    model = nn.DataParallel(model)\n",
    "\n",
    "model = model.to(device)\n",
    "\n",
    "criterion = nn.BCEWithLogitsLoss()\n",
    "optimizer = optim.Adam(model.parameters(), lr=learning_rate)\n",
    "\n",
    "# Initialize TensorBoard SummaryWriter\n",
    "log_name = f\"GRU_SelfAttention_epochs_{num_epochs}_lr_{learning_rate}_batch_{batch_size}_layers_{'_'.join(map(str, fc_layers))}_heads_{num_heads}\"\n",
    "log_dir = f\"./logs/{log_name}\"\n",
    "writer = SummaryWriter(log_dir, filename_suffix=log_name)\n",
    "\n",
    "# Lists to store losses and accuracies for plotting\n",
    "train_losses = []\n",
    "test_accuracies = []\n",
    "\n",
    "# Variables to accumulate true labels and predictions across all epochs\n",
    "y_true_all = []\n",
    "y_pred_all = []\n",
    "\n",
    "# Variables to accumulate outputs for normal and fall activities (for histogram)\n",
    "normal_scores = []\n",
    "fall_scores = []\n",
    "\n",
    "# Function to train the model for one epoch\n",
    "def train_one_epoch(epoch, model, train_loader, criterion, optimizer):\n",
    "    model.train()\n",
    "    total_loss = 0\n",
    "    for batch_idx, (X_batch, y_batch) in enumerate(tqdm(train_loader, desc=f'Training Epoch {epoch+1}', leave=False)):\n",
    "        X_batch, y_batch = X_batch.to(device), y_batch.to(device).float()\n",
    "        \n",
    "        optimizer.zero_grad()\n",
    "        outputs = model(X_batch)\n",
    "        # print(outputs)\n",
    "        loss = criterion(outputs, y_batch)\n",
    "        loss.backward()\n",
    "        optimizer.step()\n",
    "\n",
    "        total_loss += loss.item()\n",
    "        writer.add_scalar('Loss/Train', loss.item(), epoch * len(train_loader) + batch_idx)\n",
    "    \n",
    "    avg_loss = total_loss / len(train_loader)\n",
    "    train_losses.append(avg_loss)\n",
    "    print(f\"Epoch {epoch+1} - Avg Training Loss: {avg_loss:.4f}\")\n",
    "    return avg_loss\n",
    "\n",
    "# Function to evaluate the model and accumulate predictions and true labels\n",
    "def evaluate_and_accumulate(model, test_loader, y_true_all, y_pred_all):\n",
    "    model.eval()\n",
    "    total_accuracy = 0\n",
    "\n",
    "    with torch.no_grad():\n",
    "        for X_batch, y_batch in tqdm(test_loader, desc='Evaluating', leave=False):\n",
    "            X_batch, y_batch = X_batch.to(device), y_batch.to(device).float()\n",
    "            outputs = model(X_batch)\n",
    "            y_hat = torch.round(torch.sigmoid(outputs))  # Binarized predictions\n",
    "            accuracy = (y_hat == y_batch).sum().item() / len(y_batch)\n",
    "            total_accuracy += accuracy\n",
    "            \n",
    "            # Separate the raw outputs (logits) for normal and fall activities\n",
    "            for i in range(len(y_batch)):\n",
    "                if y_batch[i].item() == 0:\n",
    "                    normal_scores.append(outputs[i].item())  # Collect logits for normal\n",
    "                else:\n",
    "                    fall_scores.append(outputs[i].item())    # Collect logits for fall\n",
    "            \n",
    "            # Accumulate true and predicted labels for confusion matrix\n",
    "            y_true_all.extend(y_batch.cpu().numpy())\n",
    "            y_pred_all.extend(y_hat.cpu().numpy())\n",
    "\n",
    "    avg_accuracy = total_accuracy / len(test_loader)\n",
    "    test_accuracies.append(avg_accuracy)\n",
    "    print(f\"Test Accuracy: {avg_accuracy:.4f}\")\n",
    "    \n",
    "    return avg_accuracy\n",
    "\n",
    "# Main training loop\n",
    "for epoch in range(num_epochs):\n",
    "    train_one_epoch(epoch, model, train_loader, criterion, optimizer)\n",
    "    evaluate_and_accumulate(model, test_loader, y_true_all, y_pred_all)\n",
    "\n",
    "# Convert scores to numpy arrays\n",
    "normal_scores = np.array(normal_scores)\n",
    "fall_scores = np.array(fall_scores)\n",
    "\n",
    "# Save the model\n",
    "torch.save(model.state_dict(), 'model.pth')\n",
    "\n",
    "# Close TensorBoard writer\n",
    "writer.close()"
   ]
  },
  {
   "cell_type": "markdown",
   "id": "9c173522",
   "metadata": {
    "papermill": {
     "duration": 0.027836,
     "end_time": "2024-09-13T09:05:37.714929",
     "exception": false,
     "start_time": "2024-09-13T09:05:37.687093",
     "status": "completed"
    },
    "tags": []
   },
   "source": [
    "## Test visualization model"
   ]
  },
  {
   "cell_type": "code",
   "execution_count": 25,
   "id": "f4b2915e",
   "metadata": {
    "execution": {
     "iopub.execute_input": "2024-09-13T09:05:37.772926Z",
     "iopub.status.busy": "2024-09-13T09:05:37.772235Z",
     "iopub.status.idle": "2024-09-13T09:05:38.657929Z",
     "shell.execute_reply": "2024-09-13T09:05:38.657070Z"
    },
    "papermill": {
     "duration": 0.917042,
     "end_time": "2024-09-13T09:05:38.659839",
     "exception": false,
     "start_time": "2024-09-13T09:05:37.742797",
     "status": "completed"
    },
    "tags": []
   },
   "outputs": [
    {
     "data": {
      "image/png": "[encoded data removed]",
      "text/plain": [
       "<Figure size 800x600 with 2 Axes>"
      ]
     },
     "metadata": {},
     "output_type": "display_data"
    }
   ],
   "source": [
    "# Generate final confusion matrix and heatmap after all epochs\n",
    "conf_matrix = confusion_matrix(y_true_all, y_pred_all)\n",
    "plt.figure(figsize=(8, 6))\n",
    "sns.heatmap(conf_matrix, annot=True, fmt=\"d\", cmap=\"Blues\", xticklabels=[\"Negative\", \"Positive\"], yticklabels=[\"Negative\", \"Positive\"])\n",
    "plt.title(\"Final Confusion Matrix\")\n",
    "plt.xlabel(\"Predicted\")\n",
    "plt.ylabel(\"Actual\")\n",
    "# plt.savefig(\"final_confusion_matrix.png\")\n",
    "plt.show()"
   ]
  },
  {
   "cell_type": "code",
   "execution_count": 26,
   "id": "1f29f669",
   "metadata": {
    "execution": {
     "iopub.execute_input": "2024-09-13T09:05:38.718931Z",
     "iopub.status.busy": "2024-09-13T09:05:38.718600Z",
     "iopub.status.idle": "2024-09-13T09:05:39.473853Z",
     "shell.execute_reply": "2024-09-13T09:05:39.472986Z"
    },
    "papermill": {
     "duration": 0.787557,
     "end_time": "2024-09-13T09:05:39.476804",
     "exception": false,
     "start_time": "2024-09-13T09:05:38.689247",
     "status": "completed"
    },
    "tags": []
   },
   "outputs": [
    {
     "name": "stderr",
     "output_type": "stream",
     "text": [
      "/opt/conda/lib/python3.10/site-packages/sklearn/metrics/_classification.py:1344: UndefinedMetricWarning: Precision and F-score are ill-defined and being set to 0.0 in labels with no predicted samples. Use `zero_division` parameter to control this behavior.\n",
      "  _warn_prf(average, modifier, msg_start, len(result))\n"
     ]
    },
    {
     "name": "stdout",
     "output_type": "stream",
     "text": [
      "Classification Report:\n",
      "               precision    recall  f1-score   support\n",
      "\n",
      "    Non-Fall       0.57      1.00      0.72    255455\n",
      "        Fall       0.00      0.00      0.00    195425\n",
      "\n",
      "    accuracy                           0.57    450880\n",
      "   macro avg       0.28      0.50      0.36    450880\n",
      "weighted avg       0.32      0.57      0.41    450880\n",
      "\n"
     ]
    },
    {
     "name": "stderr",
     "output_type": "stream",
     "text": [
      "/opt/conda/lib/python3.10/site-packages/sklearn/metrics/_classification.py:1344: UndefinedMetricWarning: Precision and F-score are ill-defined and being set to 0.0 in labels with no predicted samples. Use `zero_division` parameter to control this behavior.\n",
      "  _warn_prf(average, modifier, msg_start, len(result))\n",
      "/opt/conda/lib/python3.10/site-packages/sklearn/metrics/_classification.py:1344: UndefinedMetricWarning: Precision and F-score are ill-defined and being set to 0.0 in labels with no predicted samples. Use `zero_division` parameter to control this behavior.\n",
      "  _warn_prf(average, modifier, msg_start, len(result))\n"
     ]
    }
   ],
   "source": [
    "from sklearn.metrics import classification_report\n",
    "\n",
    "# Generate classification report\n",
    "class_report = classification_report(y_true_all, y_pred_all, target_names=[\"Non-Fall\", \"Fall\"])\n",
    "print(\"Classification Report:\\n\", class_report)"
   ]
  },
  {
   "cell_type": "code",
   "execution_count": 27,
   "id": "ffce804d",
   "metadata": {
    "execution": {
     "iopub.execute_input": "2024-09-13T09:05:39.535545Z",
     "iopub.status.busy": "2024-09-13T09:05:39.535220Z",
     "iopub.status.idle": "2024-09-13T09:05:40.013364Z",
     "shell.execute_reply": "2024-09-13T09:05:40.012431Z"
    },
    "papermill": {
     "duration": 0.509793,
     "end_time": "2024-09-13T09:05:40.015462",
     "exception": false,
     "start_time": "2024-09-13T09:05:39.505669",
     "status": "completed"
    },
    "tags": []
   },
   "outputs": [
    {
     "data": {
      "image/png": "[encoded data removed]",
      "text/plain": [
       "<Figure size 640x480 with 1 Axes>"
      ]
     },
     "metadata": {},
     "output_type": "display_data"
    }
   ],
   "source": [
    "# Plot histograms to visualize the separation between normal and fall activities\n",
    "plt.hist(normal_scores, bins=50, alpha=0.7, label=\"Normal\")\n",
    "plt.hist(fall_scores, bins=50, alpha=0.7, label=\"Fall\")\n",
    "plt.axvline(x=np.percentile(normal_scores, 95), color='r', linestyle='--', label=\"Threshold\")\n",
    "plt.xlabel(\"Model Output (Logits)\")\n",
    "plt.ylabel(\"Frequency\")\n",
    "plt.legend()\n",
    "plt.title(\"Separation of GRU Model Outputs: Normal vs Fall Activities\")\n",
    "plt.show()"
   ]
  },
  {
   "cell_type": "markdown",
   "id": "8910b627",
   "metadata": {
    "papermill": {
     "duration": 0.028879,
     "end_time": "2024-09-13T09:05:40.075011",
     "exception": false,
     "start_time": "2024-09-13T09:05:40.046132",
     "status": "completed"
    },
    "tags": []
   },
   "source": [
    "### Tensorboard"
   ]
  },
  {
   "cell_type": "code",
   "execution_count": 28,
   "id": "ba1f1b7c",
   "metadata": {
    "execution": {
     "iopub.execute_input": "2024-09-13T09:05:40.137778Z",
     "iopub.status.busy": "2024-09-13T09:05:40.137454Z",
     "iopub.status.idle": "2024-09-13T09:05:46.671373Z",
     "shell.execute_reply": "2024-09-13T09:05:46.670465Z"
    },
    "papermill": {
     "duration": 6.569743,
     "end_time": "2024-09-13T09:05:46.673418",
     "exception": false,
     "start_time": "2024-09-13T09:05:40.103675",
     "status": "completed"
    },
    "tags": []
   },
   "outputs": [
    {
     "data": {
      "text/html": [
       "\n",
       "      <iframe id=\"tensorboard-frame-4291dd376cfebd64\" width=\"100%\" height=\"800\" frameborder=\"0\">\n",
       "      </iframe>\n",
       "      <script>\n",
       "        (function() {\n",
       "          const frame = document.getElementById(\"tensorboard-frame-4291dd376cfebd64\");\n",
       "          const url = new URL(\"/\", window.location);\n",
       "          const port = 6006;\n",
       "          if (port) {\n",
       "            url.port = port;\n",
       "          }\n",
       "          frame.src = url;\n",
       "        })();\n",
       "      </script>\n",
       "    "
      ],
      "text/plain": [
       "<IPython.core.display.HTML object>"
      ]
     },
     "metadata": {},
     "output_type": "display_data"
    }
   ],
   "source": [
    "%load_ext tensorboard\n",
    "%reload_ext tensorboard\n",
    "%tensorboard --logdir \"/kaggle/working/logs\""
   ]
  },
  {
   "cell_type": "markdown",
   "id": "9616d24d",
   "metadata": {
    "papermill": {
     "duration": 0.029686,
     "end_time": "2024-09-13T09:05:46.733071",
     "exception": false,
     "start_time": "2024-09-13T09:05:46.703385",
     "status": "completed"
    },
    "tags": []
   },
   "source": [
    "# Results and explanation "
   ]
  },
  {
   "attachments": {
    "442f1b94-a6dd-4ddb-8d4f-fb1a73d7128a.png": {
     "image/png": "[encoded data removed]"
    }
   },
   "cell_type": "markdown",
   "id": "a57eb8b8",
   "metadata": {
    "papermill": {
     "duration": 0.029112,
     "end_time": "2024-09-13T09:05:46.791386",
     "exception": false,
     "start_time": "2024-09-13T09:05:46.762274",
     "status": "completed"
    },
    "tags": []
   },
   "source": [
    "### CNNs\n",
    "\n",
    "I have obtain really different result from the two different way of splitting the dataset with the same models (GRU_SelfAttention and LSTM_SelfAttention).\n",
    "\n",
    "#### Classic split as 80% of the all dataset on Training, 20% on testing :\n",
    "- We can see that i reached 97% accuracy with GRU\n",
    "![image.png](attachment:442f1b94-a6dd-4ddb-8d4f-fb1a73d7128a.png)\n",
    "\n",
    "\n",
    "#### Testset as : the all fall data + 20% of normal activities : \n",
    "i tried a lot of different thing and i could not have even have one fall activity well identify. \n"
   ]
  }
 ],
 "metadata": {
  "kaggle": {
   "accelerator": "gpu",
   "dataSources": [
    {
     "datasetId": 5313174,
     "sourceId": 8830477,
     "sourceType": "datasetVersion"
    }
   ],
   "isGpuEnabled": true,
   "isInternetEnabled": true,
   "language": "python",
   "sourceType": "notebook"
  },
  "kernelspec": {
   "display_name": "Python 3",
   "language": "python",
   "name": "python3"
  },
  "language_info": {
   "codemirror_mode": {
    "name": "ipython",
    "version": 3
   },
   "file_extension": ".py",
   "mimetype": "text/x-python",
   "name": "python",
   "nbconvert_exporter": "python",
   "pygments_lexer": "ipython3",
   "version": "3.10.14"
  },
  "papermill": {
   "default_parameters": {},
   "duration": 266.405302,
   "end_time": "2024-09-13T09:05:49.542866",
   "environment_variables": {},
   "exception": null,
   "input_path": "__notebook__.ipynb",
   "output_path": "__notebook__.ipynb",
   "parameters": {},
   "start_time": "2024-09-13T09:01:23.137564",
   "version": "2.6.0"
  },
  "widgets": {
   "application/vnd.jupyter.widget-state+json": {
    "state": {
     "021d864256144ab2b49548700161e318": {
      "model_module": "@jupyter-widgets/controls",
      "model_module_version": "1.5.0",
      "model_name": "FloatProgressModel",
      "state": {
       "_dom_classes": [],
       "_model_module": "@jupyter-widgets/controls",
       "_model_module_version": "1.5.0",
       "_model_name": "FloatProgressModel",
       "_view_count": null,
       "_view_module": "@jupyter-widgets/controls",
       "_view_module_version": "1.5.0",
       "_view_name": "ProgressView",
       "bar_style": "",
       "description": "",
       "description_tooltip": null,
       "layout": "IPY_MODEL_92947e75eabe4aaba5d5bd3de5be6fc0",
       "max": 3194.0,
       "min": 0.0,
       "orientation": "horizontal",
       "style": "IPY_MODEL_9dcf345b47fb418fa09c6bb8cb9f40f3",
       "value": 3194.0
      }
     },
     "0718dd4efed24356a8a65631b32a18fb": {
      "model_module": "@jupyter-widgets/controls",
      "model_module_version": "1.5.0",
      "model_name": "HTMLModel",
      "state": {
       "_dom_classes": [],
       "_model_module": "@jupyter-widgets/controls",
       "_model_module_version": "1.5.0",
       "_model_name": "HTMLModel",
       "_view_count": null,
       "_view_module": "@jupyter-widgets/controls",
       "_view_module_version": "1.5.0",
       "_view_name": "HTMLView",
       "description": "",
       "description_tooltip": null,
       "layout": "IPY_MODEL_c463973d76f74726aa5bbccba7f13566",
       "placeholder": "​",
       "style": "IPY_MODEL_ba29ec8008d14811b986aa714629abea",
       "value": " 3186/3194 [00:22&lt;00:00, 143.28it/s]"
      }
     },
     "073289e0b816467b995c119a6ee99efc": {
      "model_module": "@jupyter-widgets/controls",
      "model_module_version": "1.5.0",
      "model_name": "FloatProgressModel",
      "state": {
       "_dom_classes": [],
       "_model_module": "@jupyter-widgets/controls",
       "_model_module_version": "1.5.0",
       "_model_name": "FloatProgressModel",
       "_view_count": null,
       "_view_module": "@jupyter-widgets/controls",
       "_view_module_version": "1.5.0",
       "_view_name": "ProgressView",
       "bar_style": "",
       "description": "",
       "description_tooltip": null,
       "layout": "IPY_MODEL_8c935ef662cd464d8e93e55d5b14df31",
       "max": 3194.0,
       "min": 0.0,
       "orientation": "horizontal",
       "style": "IPY_MODEL_bf74947160ef4f5c980ac8474dc2f337",
       "value": 3194.0
      }
     },
     "074e0a7e2d59433bb7ed1cd99a8d118d": {
      "model_module": "@jupyter-widgets/controls",
      "model_module_version": "1.5.0",
      "model_name": "HTMLModel",
      "state": {
       "_dom_classes": [],
       "_model_module": "@jupyter-widgets/controls",
       "_model_module_version": "1.5.0",
       "_model_name": "HTMLModel",
       "_view_count": null,
       "_view_module": "@jupyter-widgets/controls",
       "_view_module_version": "1.5.0",
       "_view_name": "HTMLView",
       "description": "",
       "description_tooltip": null,
       "layout": "IPY_MODEL_51465740663d4f63b147be0f19c6a683",
       "placeholder": "​",
       "style": "IPY_MODEL_f544704e175646ff988a8c494d5b6782",
       "value": " 3194/3194 [00:22&lt;00:00, 125.01it/s]"
      }
     },
     "0762fdecbb4341ab80146aa7a7769348": {
      "model_module": "@jupyter-widgets/base",
      "model_module_version": "1.2.0",
      "model_name": "LayoutModel",
      "state": {
       "_model_module": "@jupyter-widgets/base",
       "_model_module_version": "1.2.0",
       "_model_name": "LayoutModel",
       "_view_count": null,
       "_view_module": "@jupyter-widgets/base",
       "_view_module_version": "1.2.0",
       "_view_name": "LayoutView",
       "align_content": null,
       "align_items": null,
       "align_self": null,
       "border": null,
       "bottom": null,
       "display": null,
       "flex": null,
       "flex_flow": null,
       "grid_area": null,
       "grid_auto_columns": null,
       "grid_auto_flow": null,
       "grid_auto_rows": null,
       "grid_column": null,
       "grid_gap": null,
       "grid_row": null,
       "grid_template_areas": null,
       "grid_template_columns": null,
       "grid_template_rows": null,
       "height": null,
       "justify_content": null,
       "justify_items": null,
       "left": null,
       "margin": null,
       "max_height": null,
       "max_width": null,
       "min_height": null,
       "min_width": null,
       "object_fit": null,
       "object_position": null,
       "order": null,
       "overflow": null,
       "overflow_x": null,
       "overflow_y": null,
       "padding": null,
       "right": null,
       "top": null,
       "visibility": null,
       "width": null
      }
     },
     "087ccf1cd36a4360afb93a33541bee97": {
      "model_module": "@jupyter-widgets/controls",
      "model_module_version": "1.5.0",
      "model_name": "DescriptionStyleModel",
      "state": {
       "_model_module": "@jupyter-widgets/controls",
       "_model_module_version": "1.5.0",
       "_model_name": "DescriptionStyleModel",
       "_view_count": null,
       "_view_module": "@jupyter-widgets/base",
       "_view_module_version": "1.2.0",
       "_view_name": "StyleView",
       "description_width": ""
      }
     },
     "0caae52e915e46d288caae7ef29afef9": {
      "model_module": "@jupyter-widgets/controls",
      "model_module_version": "1.5.0",
      "model_name": "FloatProgressModel",
      "state": {
       "_dom_classes": [],
       "_model_module": "@jupyter-widgets/controls",
       "_model_module_version": "1.5.0",
       "_model_name": "FloatProgressModel",
       "_view_count": null,
       "_view_module": "@jupyter-widgets/controls",
       "_view_module_version": "1.5.0",
       "_view_name": "ProgressView",
       "bar_style": "",
       "description": "",
       "description_tooltip": null,
       "layout": "IPY_MODEL_50745589f3494ed0856841cda486fb4e",
       "max": 1409.0,
       "min": 0.0,
       "orientation": "horizontal",
       "style": "IPY_MODEL_690df85dd17945d89d896d9720c8de69",
       "value": 1409.0
      }
     },
     "0ce1a8724c564ed5860185ebc7614ced": {
      "model_module": "@jupyter-widgets/controls",
      "model_module_version": "1.5.0",
      "model_name": "HBoxModel",
      "state": {
       "_dom_classes": [],
       "_model_module": "@jupyter-widgets/controls",
       "_model_module_version": "1.5.0",
       "_model_name": "HBoxModel",
       "_view_count": null,
       "_view_module": "@jupyter-widgets/controls",
       "_view_module_version": "1.5.0",
       "_view_name": "HBoxView",
       "box_style": "",
       "children": [
        "IPY_MODEL_273d052041c447809145184e7d57534a",
        "IPY_MODEL_5ea421deb67841a1bbf39cfdf37b729f",
        "IPY_MODEL_e7c52fc93106462282ba4c14fdac20c0"
       ],
       "layout": "IPY_MODEL_bbd1b5ee97a5440fb30b9c858431cdcc"
      }
     },
     "1188ab859e794ae2938254b3b1486cee": {
      "model_module": "@jupyter-widgets/base",
      "model_module_version": "1.2.0",
      "model_name": "LayoutModel",
      "state": {
       "_model_module": "@jupyter-widgets/base",
       "_model_module_version": "1.2.0",
       "_model_name": "LayoutModel",
       "_view_count": null,
       "_view_module": "@jupyter-widgets/base",
       "_view_module_version": "1.2.0",
       "_view_name": "LayoutView",
       "align_content": null,
       "align_items": null,
       "align_self": null,
       "border": null,
       "bottom": null,
       "display": null,
       "flex": null,
       "flex_flow": null,
       "grid_area": null,
       "grid_auto_columns": null,
       "grid_auto_flow": null,
       "grid_auto_rows": null,
       "grid_column": null,
       "grid_gap": null,
       "grid_row": null,
       "grid_template_areas": null,
       "grid_template_columns": null,
       "grid_template_rows": null,
       "height": null,
       "justify_content": null,
       "justify_items": null,
       "left": null,
       "margin": null,
       "max_height": null,
       "max_width": null,
       "min_height": null,
       "min_width": null,
       "object_fit": null,
       "object_position": null,
       "order": null,
       "overflow": null,
       "overflow_x": null,
       "overflow_y": null,
       "padding": null,
       "right": null,
       "top": null,
       "visibility": null,
       "width": null
      }
     },
     "12d40c275203484798830ad3378bace5": {
      "model_module": "@jupyter-widgets/controls",
      "model_module_version": "1.5.0",
      "model_name": "HBoxModel",
      "state": {
       "_dom_classes": [],
       "_model_module": "@jupyter-widgets/controls",
       "_model_module_version": "1.5.0",
       "_model_name": "HBoxModel",
       "_view_count": null,
       "_view_module": "@jupyter-widgets/controls",
       "_view_module_version": "1.5.0",
       "_view_name": "HBoxView",
       "box_style": "",
       "children": [
        "IPY_MODEL_b39a8e8eedcd445d9a9a12d900c78231",
        "IPY_MODEL_c033e81975d44d81a7c6373b592ef7e9",
        "IPY_MODEL_a9a1947aaba14b65b2a7a3c71ad28c69"
       ],
       "layout": "IPY_MODEL_8de90334cfba4229a2a996c65e580edc"
      }
     },
     "1848549c2228485784b0af4930e91001": {
      "model_module": "@jupyter-widgets/controls",
      "model_module_version": "1.5.0",
      "model_name": "DescriptionStyleModel",
      "state": {
       "_model_module": "@jupyter-widgets/controls",
       "_model_module_version": "1.5.0",
       "_model_name": "DescriptionStyleModel",
       "_view_count": null,
       "_view_module": "@jupyter-widgets/base",
       "_view_module_version": "1.2.0",
       "_view_name": "StyleView",
       "description_width": ""
      }
     },
     "18786c8119b54e1181d1423945c43a59": {
      "model_module": "@jupyter-widgets/controls",
      "model_module_version": "1.5.0",
      "model_name": "ProgressStyleModel",
      "state": {
       "_model_module": "@jupyter-widgets/controls",
       "_model_module_version": "1.5.0",
       "_model_name": "ProgressStyleModel",
       "_view_count": null,
       "_view_module": "@jupyter-widgets/base",
       "_view_module_version": "1.2.0",
       "_view_name": "StyleView",
       "bar_color": null,
       "description_width": ""
      }
     },
     "1d5a690102124c02b989ab32f2cb425c": {
      "model_module": "@jupyter-widgets/controls",
      "model_module_version": "1.5.0",
      "model_name": "DescriptionStyleModel",
      "state": {
       "_model_module": "@jupyter-widgets/controls",
       "_model_module_version": "1.5.0",
       "_model_name": "DescriptionStyleModel",
       "_view_count": null,
       "_view_module": "@jupyter-widgets/base",
       "_view_module_version": "1.2.0",
       "_view_name": "StyleView",
       "description_width": ""
      }
     },
     "1d6a857f2d2c4d77a8d9f32db975299a": {
      "model_module": "@jupyter-widgets/controls",
      "model_module_version": "1.5.0",
      "model_name": "HTMLModel",
      "state": {
       "_dom_classes": [],
       "_model_module": "@jupyter-widgets/controls",
       "_model_module_version": "1.5.0",
       "_model_name": "HTMLModel",
       "_view_count": null,
       "_view_module": "@jupyter-widgets/controls",
       "_view_module_version": "1.5.0",
       "_view_name": "HTMLView",
       "description": "",
       "description_tooltip": null,
       "layout": "IPY_MODEL_f0e6ce93f22e4272a26fc89c1d661326",
       "placeholder": "​",
       "style": "IPY_MODEL_a63cb210d80b44c8a1faffff59197c1c",
       "value": "Evaluating:  99%"
      }
     },
     "211f75a1fb6b4891a479a6a6aa9ef074": {
      "model_module": "@jupyter-widgets/base",
      "model_module_version": "1.2.0",
      "model_name": "LayoutModel",
      "state": {
       "_model_module": "@jupyter-widgets/base",
       "_model_module_version": "1.2.0",
       "_model_name": "LayoutModel",
       "_view_count": null,
       "_view_module": "@jupyter-widgets/base",
       "_view_module_version": "1.2.0",
       "_view_name": "LayoutView",
       "align_content": null,
       "align_items": null,
       "align_self": null,
       "border": null,
       "bottom": null,
       "display": null,
       "flex": null,
       "flex_flow": null,
       "grid_area": null,
       "grid_auto_columns": null,
       "grid_auto_flow": null,
       "grid_auto_rows": null,
       "grid_column": null,
       "grid_gap": null,
       "grid_row": null,
       "grid_template_areas": null,
       "grid_template_columns": null,
       "grid_template_rows": null,
       "height": null,
       "justify_content": null,
       "justify_items": null,
       "left": null,
       "margin": null,
       "max_height": null,
       "max_width": null,
       "min_height": null,
       "min_width": null,
       "object_fit": null,
       "object_position": null,
       "order": null,
       "overflow": null,
       "overflow_x": null,
       "overflow_y": null,
       "padding": null,
       "right": null,
       "top": null,
       "visibility": null,
       "width": null
      }
     },
     "2590f5eb9ec04447bbf184109547c622": {
      "model_module": "@jupyter-widgets/controls",
      "model_module_version": "1.5.0",
      "model_name": "HTMLModel",
      "state": {
       "_dom_classes": [],
       "_model_module": "@jupyter-widgets/controls",
       "_model_module_version": "1.5.0",
       "_model_name": "HTMLModel",
       "_view_count": null,
       "_view_module": "@jupyter-widgets/controls",
       "_view_module_version": "1.5.0",
       "_view_name": "HTMLView",
       "description": "",
       "description_tooltip": null,
       "layout": "IPY_MODEL_5035c9f48d7940bc8a22925d2c0f219c",
       "placeholder": "​",
       "style": "IPY_MODEL_1848549c2228485784b0af4930e91001",
       "value": " 1403/1409 [00:05&lt;00:00, 256.96it/s]"
      }
     },
     "25d89eed7c0c4df98db6daf653aabb13": {
      "model_module": "@jupyter-widgets/controls",
      "model_module_version": "1.5.0",
      "model_name": "HTMLModel",
      "state": {
       "_dom_classes": [],
       "_model_module": "@jupyter-widgets/controls",
       "_model_module_version": "1.5.0",
       "_model_name": "HTMLModel",
       "_view_count": null,
       "_view_module": "@jupyter-widgets/controls",
       "_view_module_version": "1.5.0",
       "_view_name": "HTMLView",
       "description": "",
       "description_tooltip": null,
       "layout": "IPY_MODEL_c1be88adfdd346f8950a15e236d18db5",
       "placeholder": "​",
       "style": "IPY_MODEL_e2b4a30c74484d2d8ebafdf7c4ebebd4",
       "value": " 3188/3194 [00:22&lt;00:00, 145.06it/s]"
      }
     },
     "273d052041c447809145184e7d57534a": {
      "model_module": "@jupyter-widgets/controls",
      "model_module_version": "1.5.0",
      "model_name": "HTMLModel",
      "state": {
       "_dom_classes": [],
       "_model_module": "@jupyter-widgets/controls",
       "_model_module_version": "1.5.0",
       "_model_name": "HTMLModel",
       "_view_count": null,
       "_view_module": "@jupyter-widgets/controls",
       "_view_module_version": "1.5.0",
       "_view_name": "HTMLView",
       "description": "",
       "description_tooltip": null,
       "layout": "IPY_MODEL_0762fdecbb4341ab80146aa7a7769348",
       "placeholder": "​",
       "style": "IPY_MODEL_6b3d7f33f97e4f15a8196bb89117fd8b",
       "value": "Evaluating:  98%"
      }
     },
     "2a8ce1c3d2cc4312b9a04824aaa010bc": {
      "model_module": "@jupyter-widgets/controls",
      "model_module_version": "1.5.0",
      "model_name": "ProgressStyleModel",
      "state": {
       "_model_module": "@jupyter-widgets/controls",
       "_model_module_version": "1.5.0",
       "_model_name": "ProgressStyleModel",
       "_view_count": null,
       "_view_module": "@jupyter-widgets/base",
       "_view_module_version": "1.2.0",
       "_view_name": "StyleView",
       "bar_color": null,
       "description_width": ""
      }
     },
     "2b77d35473da4957837b63eb9f104e4f": {
      "model_module": "@jupyter-widgets/base",
      "model_module_version": "1.2.0",
      "model_name": "LayoutModel",
      "state": {
       "_model_module": "@jupyter-widgets/base",
       "_model_module_version": "1.2.0",
       "_model_name": "LayoutModel",
       "_view_count": null,
       "_view_module": "@jupyter-widgets/base",
       "_view_module_version": "1.2.0",
       "_view_name": "LayoutView",
       "align_content": null,
       "align_items": null,
       "align_self": null,
       "border": null,
       "bottom": null,
       "display": null,
       "flex": null,
       "flex_flow": null,
       "grid_area": null,
       "grid_auto_columns": null,
       "grid_auto_flow": null,
       "grid_auto_rows": null,
       "grid_column": null,
       "grid_gap": null,
       "grid_row": null,
       "grid_template_areas": null,
       "grid_template_columns": null,
       "grid_template_rows": null,
       "height": null,
       "justify_content": null,
       "justify_items": null,
       "left": null,
       "margin": null,
       "max_height": null,
       "max_width": null,
       "min_height": null,
       "min_width": null,
       "object_fit": null,
       "object_position": null,
       "order": null,
       "overflow": null,
       "overflow_x": null,
       "overflow_y": null,
       "padding": null,
       "right": null,
       "top": null,
       "visibility": null,
       "width": null
      }
     },
     "2bd2f342a5af4003a02c2df2584b0dc4": {
      "model_module": "@jupyter-widgets/base",
      "model_module_version": "1.2.0",
      "model_name": "LayoutModel",
      "state": {
       "_model_module": "@jupyter-widgets/base",
       "_model_module_version": "1.2.0",
       "_model_name": "LayoutModel",
       "_view_count": null,
       "_view_module": "@jupyter-widgets/base",
       "_view_module_version": "1.2.0",
       "_view_name": "LayoutView",
       "align_content": null,
       "align_items": null,
       "align_self": null,
       "border": null,
       "bottom": null,
       "display": null,
       "flex": null,
       "flex_flow": null,
       "grid_area": null,
       "grid_auto_columns": null,
       "grid_auto_flow": null,
       "grid_auto_rows": null,
       "grid_column": null,
       "grid_gap": null,
       "grid_row": null,
       "grid_template_areas": null,
       "grid_template_columns": null,
       "grid_template_rows": null,
       "height": null,
       "justify_content": null,
       "justify_items": null,
       "left": null,
       "margin": null,
       "max_height": null,
       "max_width": null,
       "min_height": null,
       "min_width": null,
       "object_fit": null,
       "object_position": null,
       "order": null,
       "overflow": null,
       "overflow_x": null,
       "overflow_y": null,
       "padding": null,
       "right": null,
       "top": null,
       "visibility": null,
       "width": null
      }
     },
     "2ef28090fe8b4dd1ae0cb0481629bcaf": {
      "model_module": "@jupyter-widgets/controls",
      "model_module_version": "1.5.0",
      "model_name": "HTMLModel",
      "state": {
       "_dom_classes": [],
       "_model_module": "@jupyter-widgets/controls",
       "_model_module_version": "1.5.0",
       "_model_name": "HTMLModel",
       "_view_count": null,
       "_view_module": "@jupyter-widgets/controls",
       "_view_module_version": "1.5.0",
       "_view_name": "HTMLView",
       "description": "",
       "description_tooltip": null,
       "layout": "IPY_MODEL_2bd2f342a5af4003a02c2df2584b0dc4",
       "placeholder": "​",
       "style": "IPY_MODEL_4771bc5d69504692a5d68977881d5b8b",
       "value": " 1401/1409 [00:05&lt;00:00, 260.89it/s]"
      }
     },
     "33d5a0b8f8854c37831eaab4a4e45c55": {
      "model_module": "@jupyter-widgets/base",
      "model_module_version": "1.2.0",
      "model_name": "LayoutModel",
      "state": {
       "_model_module": "@jupyter-widgets/base",
       "_model_module_version": "1.2.0",
       "_model_name": "LayoutModel",
       "_view_count": null,
       "_view_module": "@jupyter-widgets/base",
       "_view_module_version": "1.2.0",
       "_view_name": "LayoutView",
       "align_content": null,
       "align_items": null,
       "align_self": null,
       "border": null,
       "bottom": null,
       "display": null,
       "flex": null,
       "flex_flow": null,
       "grid_area": null,
       "grid_auto_columns": null,
       "grid_auto_flow": null,
       "grid_auto_rows": null,
       "grid_column": null,
       "grid_gap": null,
       "grid_row": null,
       "grid_template_areas": null,
       "grid_template_columns": null,
       "grid_template_rows": null,
       "height": null,
       "justify_content": null,
       "justify_items": null,
       "left": null,
       "margin": null,
       "max_height": null,
       "max_width": null,
       "min_height": null,
       "min_width": null,
       "object_fit": null,
       "object_position": null,
       "order": null,
       "overflow": null,
       "overflow_x": null,
       "overflow_y": null,
       "padding": null,
       "right": null,
       "top": null,
       "visibility": null,
       "width": null
      }
     },
     "35a170f594ca48da92f925e3a38b8477": {
      "model_module": "@jupyter-widgets/base",
      "model_module_version": "1.2.0",
      "model_name": "LayoutModel",
      "state": {
       "_model_module": "@jupyter-widgets/base",
       "_model_module_version": "1.2.0",
       "_model_name": "LayoutModel",
       "_view_count": null,
       "_view_module": "@jupyter-widgets/base",
       "_view_module_version": "1.2.0",
       "_view_name": "LayoutView",
       "align_content": null,
       "align_items": null,
       "align_self": null,
       "border": null,
       "bottom": null,
       "display": null,
       "flex": null,
       "flex_flow": null,
       "grid_area": null,
       "grid_auto_columns": null,
       "grid_auto_flow": null,
       "grid_auto_rows": null,
       "grid_column": null,
       "grid_gap": null,
       "grid_row": null,
       "grid_template_areas": null,
       "grid_template_columns": null,
       "grid_template_rows": null,
       "height": null,
       "justify_content": null,
       "justify_items": null,
       "left": null,
       "margin": null,
       "max_height": null,
       "max_width": null,
       "min_height": null,
       "min_width": null,
       "object_fit": null,
       "object_position": null,
       "order": null,
       "overflow": null,
       "overflow_x": null,
       "overflow_y": null,
       "padding": null,
       "right": null,
       "top": null,
       "visibility": null,
       "width": null
      }
     },
     "35ce4f6b2b964f97b77e309a722ff5df": {
      "model_module": "@jupyter-widgets/controls",
      "model_module_version": "1.5.0",
      "model_name": "DescriptionStyleModel",
      "state": {
       "_model_module": "@jupyter-widgets/controls",
       "_model_module_version": "1.5.0",
       "_model_name": "DescriptionStyleModel",
       "_view_count": null,
       "_view_module": "@jupyter-widgets/base",
       "_view_module_version": "1.2.0",
       "_view_name": "StyleView",
       "description_width": ""
      }
     },
     "3fac255f35d04bf392faa096b9c7302d": {
      "model_module": "@jupyter-widgets/base",
      "model_module_version": "1.2.0",
      "model_name": "LayoutModel",
      "state": {
       "_model_module": "@jupyter-widgets/base",
       "_model_module_version": "1.2.0",
       "_model_name": "LayoutModel",
       "_view_count": null,
       "_view_module": "@jupyter-widgets/base",
       "_view_module_version": "1.2.0",
       "_view_name": "LayoutView",
       "align_content": null,
       "align_items": null,
       "align_self": null,
       "border": null,
       "bottom": null,
       "display": null,
       "flex": null,
       "flex_flow": null,
       "grid_area": null,
       "grid_auto_columns": null,
       "grid_auto_flow": null,
       "grid_auto_rows": null,
       "grid_column": null,
       "grid_gap": null,
       "grid_row": null,
       "grid_template_areas": null,
       "grid_template_columns": null,
       "grid_template_rows": null,
       "height": null,
       "justify_content": null,
       "justify_items": null,
       "left": null,
       "margin": null,
       "max_height": null,
       "max_width": null,
       "min_height": null,
       "min_width": null,
       "object_fit": null,
       "object_position": null,
       "order": null,
       "overflow": null,
       "overflow_x": null,
       "overflow_y": null,
       "padding": null,
       "right": null,
       "top": null,
       "visibility": null,
       "width": null
      }
     },
     "412950b1d31b4bcc9f10baaa2b504edd": {
      "model_module": "@jupyter-widgets/base",
      "model_module_version": "1.2.0",
      "model_name": "LayoutModel",
      "state": {
       "_model_module": "@jupyter-widgets/base",
       "_model_module_version": "1.2.0",
       "_model_name": "LayoutModel",
       "_view_count": null,
       "_view_module": "@jupyter-widgets/base",
       "_view_module_version": "1.2.0",
       "_view_name": "LayoutView",
       "align_content": null,
       "align_items": null,
       "align_self": null,
       "border": null,
       "bottom": null,
       "display": null,
       "flex": null,
       "flex_flow": null,
       "grid_area": null,
       "grid_auto_columns": null,
       "grid_auto_flow": null,
       "grid_auto_rows": null,
       "grid_column": null,
       "grid_gap": null,
       "grid_row": null,
       "grid_template_areas": null,
       "grid_template_columns": null,
       "grid_template_rows": null,
       "height": null,
       "justify_content": null,
       "justify_items": null,
       "left": null,
       "margin": null,
       "max_height": null,
       "max_width": null,
       "min_height": null,
       "min_width": null,
       "object_fit": null,
       "object_position": null,
       "order": null,
       "overflow": null,
       "overflow_x": null,
       "overflow_y": null,
       "padding": null,
       "right": null,
       "top": null,
       "visibility": "hidden",
       "width": null
      }
     },
     "4771bc5d69504692a5d68977881d5b8b": {
      "model_module": "@jupyter-widgets/controls",
      "model_module_version": "1.5.0",
      "model_name": "DescriptionStyleModel",
      "state": {
       "_model_module": "@jupyter-widgets/controls",
       "_model_module_version": "1.5.0",
       "_model_name": "DescriptionStyleModel",
       "_view_count": null,
       "_view_module": "@jupyter-widgets/base",
       "_view_module_version": "1.2.0",
       "_view_name": "StyleView",
       "description_width": ""
      }
     },
     "4aa2ba80102646638e636c99f8d99c61": {
      "model_module": "@jupyter-widgets/controls",
      "model_module_version": "1.5.0",
      "model_name": "ProgressStyleModel",
      "state": {
       "_model_module": "@jupyter-widgets/controls",
       "_model_module_version": "1.5.0",
       "_model_name": "ProgressStyleModel",
       "_view_count": null,
       "_view_module": "@jupyter-widgets/base",
       "_view_module_version": "1.2.0",
       "_view_name": "StyleView",
       "bar_color": null,
       "description_width": ""
      }
     },
     "5035c9f48d7940bc8a22925d2c0f219c": {
      "model_module": "@jupyter-widgets/base",
      "model_module_version": "1.2.0",
      "model_name": "LayoutModel",
      "state": {
       "_model_module": "@jupyter-widgets/base",
       "_model_module_version": "1.2.0",
       "_model_name": "LayoutModel",
       "_view_count": null,
       "_view_module": "@jupyter-widgets/base",
       "_view_module_version": "1.2.0",
       "_view_name": "LayoutView",
       "align_content": null,
       "align_items": null,
       "align_self": null,
       "border": null,
       "bottom": null,
       "display": null,
       "flex": null,
       "flex_flow": null,
       "grid_area": null,
       "grid_auto_columns": null,
       "grid_auto_flow": null,
       "grid_auto_rows": null,
       "grid_column": null,
       "grid_gap": null,
       "grid_row": null,
       "grid_template_areas": null,
       "grid_template_columns": null,
       "grid_template_rows": null,
       "height": null,
       "justify_content": null,
       "justify_items": null,
       "left": null,
       "margin": null,
       "max_height": null,
       "max_width": null,
       "min_height": null,
       "min_width": null,
       "object_fit": null,
       "object_position": null,
       "order": null,
       "overflow": null,
       "overflow_x": null,
       "overflow_y": null,
       "padding": null,
       "right": null,
       "top": null,
       "visibility": null,
       "width": null
      }
     },
     "505db930ddcc4d109baba6b6d475054c": {
      "model_module": "@jupyter-widgets/base",
      "model_module_version": "1.2.0",
      "model_name": "LayoutModel",
      "state": {
       "_model_module": "@jupyter-widgets/base",
       "_model_module_version": "1.2.0",
       "_model_name": "LayoutModel",
       "_view_count": null,
       "_view_module": "@jupyter-widgets/base",
       "_view_module_version": "1.2.0",
       "_view_name": "LayoutView",
       "align_content": null,
       "align_items": null,
       "align_self": null,
       "border": null,
       "bottom": null,
       "display": null,
       "flex": null,
       "flex_flow": null,
       "grid_area": null,
       "grid_auto_columns": null,
       "grid_auto_flow": null,
       "grid_auto_rows": null,
       "grid_column": null,
       "grid_gap": null,
       "grid_row": null,
       "grid_template_areas": null,
       "grid_template_columns": null,
       "grid_template_rows": null,
       "height": null,
       "justify_content": null,
       "justify_items": null,
       "left": null,
       "margin": null,
       "max_height": null,
       "max_width": null,
       "min_height": null,
       "min_width": null,
       "object_fit": null,
       "object_position": null,
       "order": null,
       "overflow": null,
       "overflow_x": null,
       "overflow_y": null,
       "padding": null,
       "right": null,
       "top": null,
       "visibility": null,
       "width": null
      }
     },
     "50745589f3494ed0856841cda486fb4e": {
      "model_module": "@jupyter-widgets/base",
      "model_module_version": "1.2.0",
      "model_name": "LayoutModel",
      "state": {
       "_model_module": "@jupyter-widgets/base",
       "_model_module_version": "1.2.0",
       "_model_name": "LayoutModel",
       "_view_count": null,
       "_view_module": "@jupyter-widgets/base",
       "_view_module_version": "1.2.0",
       "_view_name": "LayoutView",
       "align_content": null,
       "align_items": null,
       "align_self": null,
       "border": null,
       "bottom": null,
       "display": null,
       "flex": null,
       "flex_flow": null,
       "grid_area": null,
       "grid_auto_columns": null,
       "grid_auto_flow": null,
       "grid_auto_rows": null,
       "grid_column": null,
       "grid_gap": null,
       "grid_row": null,
       "grid_template_areas": null,
       "grid_template_columns": null,
       "grid_template_rows": null,
       "height": null,
       "justify_content": null,
       "justify_items": null,
       "left": null,
       "margin": null,
       "max_height": null,
       "max_width": null,
       "min_height": null,
       "min_width": null,
       "object_fit": null,
       "object_position": null,
       "order": null,
       "overflow": null,
       "overflow_x": null,
       "overflow_y": null,
       "padding": null,
       "right": null,
       "top": null,
       "visibility": null,
       "width": null
      }
     },
     "51465740663d4f63b147be0f19c6a683": {
      "model_module": "@jupyter-widgets/base",
      "model_module_version": "1.2.0",
      "model_name": "LayoutModel",
      "state": {
       "_model_module": "@jupyter-widgets/base",
       "_model_module_version": "1.2.0",
       "_model_name": "LayoutModel",
       "_view_count": null,
       "_view_module": "@jupyter-widgets/base",
       "_view_module_version": "1.2.0",
       "_view_name": "LayoutView",
       "align_content": null,
       "align_items": null,
       "align_self": null,
       "border": null,
       "bottom": null,
       "display": null,
       "flex": null,
       "flex_flow": null,
       "grid_area": null,
       "grid_auto_columns": null,
       "grid_auto_flow": null,
       "grid_auto_rows": null,
       "grid_column": null,
       "grid_gap": null,
       "grid_row": null,
       "grid_template_areas": null,
       "grid_template_columns": null,
       "grid_template_rows": null,
       "height": null,
       "justify_content": null,
       "justify_items": null,
       "left": null,
       "margin": null,
       "max_height": null,
       "max_width": null,
       "min_height": null,
       "min_width": null,
       "object_fit": null,
       "object_position": null,
       "order": null,
       "overflow": null,
       "overflow_x": null,
       "overflow_y": null,
       "padding": null,
       "right": null,
       "top": null,
       "visibility": null,
       "width": null
      }
     },
     "51b088b845e44bccbb0b2abc1f44547e": {
      "model_module": "@jupyter-widgets/base",
      "model_module_version": "1.2.0",
      "model_name": "LayoutModel",
      "state": {
       "_model_module": "@jupyter-widgets/base",
       "_model_module_version": "1.2.0",
       "_model_name": "LayoutModel",
       "_view_count": null,
       "_view_module": "@jupyter-widgets/base",
       "_view_module_version": "1.2.0",
       "_view_name": "LayoutView",
       "align_content": null,
       "align_items": null,
       "align_self": null,
       "border": null,
       "bottom": null,
       "display": null,
       "flex": null,
       "flex_flow": null,
       "grid_area": null,
       "grid_auto_columns": null,
       "grid_auto_flow": null,
       "grid_auto_rows": null,
       "grid_column": null,
       "grid_gap": null,
       "grid_row": null,
       "grid_template_areas": null,
       "grid_template_columns": null,
       "grid_template_rows": null,
       "height": null,
       "justify_content": null,
       "justify_items": null,
       "left": null,
       "margin": null,
       "max_height": null,
       "max_width": null,
       "min_height": null,
       "min_width": null,
       "object_fit": null,
       "object_position": null,
       "order": null,
       "overflow": null,
       "overflow_x": null,
       "overflow_y": null,
       "padding": null,
       "right": null,
       "top": null,
       "visibility": null,
       "width": null
      }
     },
     "53de3f64ccc2468daac8309ee4b25de9": {
      "model_module": "@jupyter-widgets/controls",
      "model_module_version": "1.5.0",
      "model_name": "DescriptionStyleModel",
      "state": {
       "_model_module": "@jupyter-widgets/controls",
       "_model_module_version": "1.5.0",
       "_model_name": "DescriptionStyleModel",
       "_view_count": null,
       "_view_module": "@jupyter-widgets/base",
       "_view_module_version": "1.2.0",
       "_view_name": "StyleView",
       "description_width": ""
      }
     },
     "552a3ee3f7d24978aafd8afc1a743d90": {
      "model_module": "@jupyter-widgets/controls",
      "model_module_version": "1.5.0",
      "model_name": "HTMLModel",
      "state": {
       "_dom_classes": [],
       "_model_module": "@jupyter-widgets/controls",
       "_model_module_version": "1.5.0",
       "_model_name": "HTMLModel",
       "_view_count": null,
       "_view_module": "@jupyter-widgets/controls",
       "_view_module_version": "1.5.0",
       "_view_name": "HTMLView",
       "description": "",
       "description_tooltip": null,
       "layout": "IPY_MODEL_505db930ddcc4d109baba6b6d475054c",
       "placeholder": "​",
       "style": "IPY_MODEL_ab649f4b925e4ae1849f9e0b0aadb93b",
       "value": "Training Epoch 3: 100%"
      }
     },
     "55b22fd0d8dc4fe284c2a51b696ea5f1": {
      "model_module": "@jupyter-widgets/controls",
      "model_module_version": "1.5.0",
      "model_name": "HTMLModel",
      "state": {
       "_dom_classes": [],
       "_model_module": "@jupyter-widgets/controls",
       "_model_module_version": "1.5.0",
       "_model_name": "HTMLModel",
       "_view_count": null,
       "_view_module": "@jupyter-widgets/controls",
       "_view_module_version": "1.5.0",
       "_view_name": "HTMLView",
       "description": "",
       "description_tooltip": null,
       "layout": "IPY_MODEL_eaebc0ac76d84b0f8fc6a4c6413693ba",
       "placeholder": "​",
       "style": "IPY_MODEL_53de3f64ccc2468daac8309ee4b25de9",
       "value": "Training Epoch 1: 100%"
      }
     },
     "57f2a5acf9ab41c4a17900c83b05d7f9": {
      "model_module": "@jupyter-widgets/controls",
      "model_module_version": "1.5.0",
      "model_name": "HBoxModel",
      "state": {
       "_dom_classes": [],
       "_model_module": "@jupyter-widgets/controls",
       "_model_module_version": "1.5.0",
       "_model_name": "HBoxModel",
       "_view_count": null,
       "_view_module": "@jupyter-widgets/controls",
       "_view_module_version": "1.5.0",
       "_view_name": "HBoxView",
       "box_style": "",
       "children": [
        "IPY_MODEL_9567212a2e744d82a58e5d1c583acdd1",
        "IPY_MODEL_021d864256144ab2b49548700161e318",
        "IPY_MODEL_25d89eed7c0c4df98db6daf653aabb13"
       ],
       "layout": "IPY_MODEL_893e7358d9b9464d95342ce27afc893a"
      }
     },
     "59a3f994a8c0468d94a6e942146ab0e5": {
      "model_module": "@jupyter-widgets/controls",
      "model_module_version": "1.5.0",
      "model_name": "ProgressStyleModel",
      "state": {
       "_model_module": "@jupyter-widgets/controls",
       "_model_module_version": "1.5.0",
       "_model_name": "ProgressStyleModel",
       "_view_count": null,
       "_view_module": "@jupyter-widgets/base",
       "_view_module_version": "1.2.0",
       "_view_name": "StyleView",
       "bar_color": null,
       "description_width": ""
      }
     },
     "5c2f2ac1fc134a8dabc3e2d8da6d0830": {
      "model_module": "@jupyter-widgets/controls",
      "model_module_version": "1.5.0",
      "model_name": "HTMLModel",
      "state": {
       "_dom_classes": [],
       "_model_module": "@jupyter-widgets/controls",
       "_model_module_version": "1.5.0",
       "_model_name": "HTMLModel",
       "_view_count": null,
       "_view_module": "@jupyter-widgets/controls",
       "_view_module_version": "1.5.0",
       "_view_name": "HTMLView",
       "description": "",
       "description_tooltip": null,
       "layout": "IPY_MODEL_69366cb2d081416a81e302d98349a406",
       "placeholder": "​",
       "style": "IPY_MODEL_087ccf1cd36a4360afb93a33541bee97",
       "value": " 3181/3194 [00:22&lt;00:00, 144.62it/s]"
      }
     },
     "5ea421deb67841a1bbf39cfdf37b729f": {
      "model_module": "@jupyter-widgets/controls",
      "model_module_version": "1.5.0",
      "model_name": "FloatProgressModel",
      "state": {
       "_dom_classes": [],
       "_model_module": "@jupyter-widgets/controls",
       "_model_module_version": "1.5.0",
       "_model_name": "FloatProgressModel",
       "_view_count": null,
       "_view_module": "@jupyter-widgets/controls",
       "_view_module_version": "1.5.0",
       "_view_name": "ProgressView",
       "bar_style": "",
       "description": "",
       "description_tooltip": null,
       "layout": "IPY_MODEL_1188ab859e794ae2938254b3b1486cee",
       "max": 1409.0,
       "min": 0.0,
       "orientation": "horizontal",
       "style": "IPY_MODEL_4aa2ba80102646638e636c99f8d99c61",
       "value": 1409.0
      }
     },
     "62a3adba42d743088b50fdad347fa0d8": {
      "model_module": "@jupyter-widgets/controls",
      "model_module_version": "1.5.0",
      "model_name": "FloatProgressModel",
      "state": {
       "_dom_classes": [],
       "_model_module": "@jupyter-widgets/controls",
       "_model_module_version": "1.5.0",
       "_model_name": "FloatProgressModel",
       "_view_count": null,
       "_view_module": "@jupyter-widgets/controls",
       "_view_module_version": "1.5.0",
       "_view_name": "ProgressView",
       "bar_style": "",
       "description": "",
       "description_tooltip": null,
       "layout": "IPY_MODEL_cdd4c12402304a7bb91d8d0660791d44",
       "max": 1409.0,
       "min": 0.0,
       "orientation": "horizontal",
       "style": "IPY_MODEL_74a7e94a5ac84010ad8a3ee677df9315",
       "value": 1409.0
      }
     },
     "64cab4af19b849ef85ff614c91ca526e": {
      "model_module": "@jupyter-widgets/controls",
      "model_module_version": "1.5.0",
      "model_name": "HTMLModel",
      "state": {
       "_dom_classes": [],
       "_model_module": "@jupyter-widgets/controls",
       "_model_module_version": "1.5.0",
       "_model_name": "HTMLModel",
       "_view_count": null,
       "_view_module": "@jupyter-widgets/controls",
       "_view_module_version": "1.5.0",
       "_view_name": "HTMLView",
       "description": "",
       "description_tooltip": null,
       "layout": "IPY_MODEL_35a170f594ca48da92f925e3a38b8477",
       "placeholder": "​",
       "style": "IPY_MODEL_9930a254ff784f2695809659f8fa3058",
       "value": "Training Epoch 4: 100%"
      }
     },
     "660712bb847842e3adf903b0f522e271": {
      "model_module": "@jupyter-widgets/controls",
      "model_module_version": "1.5.0",
      "model_name": "DescriptionStyleModel",
      "state": {
       "_model_module": "@jupyter-widgets/controls",
       "_model_module_version": "1.5.0",
       "_model_name": "DescriptionStyleModel",
       "_view_count": null,
       "_view_module": "@jupyter-widgets/base",
       "_view_module_version": "1.2.0",
       "_view_name": "StyleView",
       "description_width": ""
      }
     },
     "66e50e7ac20149a4b30e8f8154c2df93": {
      "model_module": "@jupyter-widgets/controls",
      "model_module_version": "1.5.0",
      "model_name": "HBoxModel",
      "state": {
       "_dom_classes": [],
       "_model_module": "@jupyter-widgets/controls",
       "_model_module_version": "1.5.0",
       "_model_name": "HBoxModel",
       "_view_count": null,
       "_view_module": "@jupyter-widgets/controls",
       "_view_module_version": "1.5.0",
       "_view_name": "HBoxView",
       "box_style": "",
       "children": [
        "IPY_MODEL_cc317184cc524b988fdbd3b331ebdcd7",
        "IPY_MODEL_0caae52e915e46d288caae7ef29afef9",
        "IPY_MODEL_2590f5eb9ec04447bbf184109547c622"
       ],
       "layout": "IPY_MODEL_412950b1d31b4bcc9f10baaa2b504edd"
      }
     },
     "687593f281c446ab8151b8eadb25073e": {
      "model_module": "@jupyter-widgets/controls",
      "model_module_version": "1.5.0",
      "model_name": "FloatProgressModel",
      "state": {
       "_dom_classes": [],
       "_model_module": "@jupyter-widgets/controls",
       "_model_module_version": "1.5.0",
       "_model_name": "FloatProgressModel",
       "_view_count": null,
       "_view_module": "@jupyter-widgets/controls",
       "_view_module_version": "1.5.0",
       "_view_name": "ProgressView",
       "bar_style": "",
       "description": "",
       "description_tooltip": null,
       "layout": "IPY_MODEL_211f75a1fb6b4891a479a6a6aa9ef074",
       "max": 3194.0,
       "min": 0.0,
       "orientation": "horizontal",
       "style": "IPY_MODEL_2a8ce1c3d2cc4312b9a04824aaa010bc",
       "value": 3194.0
      }
     },
     "690df85dd17945d89d896d9720c8de69": {
      "model_module": "@jupyter-widgets/controls",
      "model_module_version": "1.5.0",
      "model_name": "ProgressStyleModel",
      "state": {
       "_model_module": "@jupyter-widgets/controls",
       "_model_module_version": "1.5.0",
       "_model_name": "ProgressStyleModel",
       "_view_count": null,
       "_view_module": "@jupyter-widgets/base",
       "_view_module_version": "1.2.0",
       "_view_name": "StyleView",
       "bar_color": null,
       "description_width": ""
      }
     },
     "69366cb2d081416a81e302d98349a406": {
      "model_module": "@jupyter-widgets/base",
      "model_module_version": "1.2.0",
      "model_name": "LayoutModel",
      "state": {
       "_model_module": "@jupyter-widgets/base",
       "_model_module_version": "1.2.0",
       "_model_name": "LayoutModel",
       "_view_count": null,
       "_view_module": "@jupyter-widgets/base",
       "_view_module_version": "1.2.0",
       "_view_name": "LayoutView",
       "align_content": null,
       "align_items": null,
       "align_self": null,
       "border": null,
       "bottom": null,
       "display": null,
       "flex": null,
       "flex_flow": null,
       "grid_area": null,
       "grid_auto_columns": null,
       "grid_auto_flow": null,
       "grid_auto_rows": null,
       "grid_column": null,
       "grid_gap": null,
       "grid_row": null,
       "grid_template_areas": null,
       "grid_template_columns": null,
       "grid_template_rows": null,
       "height": null,
       "justify_content": null,
       "justify_items": null,
       "left": null,
       "margin": null,
       "max_height": null,
       "max_width": null,
       "min_height": null,
       "min_width": null,
       "object_fit": null,
       "object_position": null,
       "order": null,
       "overflow": null,
       "overflow_x": null,
       "overflow_y": null,
       "padding": null,
       "right": null,
       "top": null,
       "visibility": null,
       "width": null
      }
     },
     "6b3d7f33f97e4f15a8196bb89117fd8b": {
      "model_module": "@jupyter-widgets/controls",
      "model_module_version": "1.5.0",
      "model_name": "DescriptionStyleModel",
      "state": {
       "_model_module": "@jupyter-widgets/controls",
       "_model_module_version": "1.5.0",
       "_model_name": "DescriptionStyleModel",
       "_view_count": null,
       "_view_module": "@jupyter-widgets/base",
       "_view_module_version": "1.2.0",
       "_view_name": "StyleView",
       "description_width": ""
      }
     },
     "6de0fad3d8154b99afecd8060b14a9a4": {
      "model_module": "@jupyter-widgets/controls",
      "model_module_version": "1.5.0",
      "model_name": "DescriptionStyleModel",
      "state": {
       "_model_module": "@jupyter-widgets/controls",
       "_model_module_version": "1.5.0",
       "_model_name": "DescriptionStyleModel",
       "_view_count": null,
       "_view_module": "@jupyter-widgets/base",
       "_view_module_version": "1.2.0",
       "_view_name": "StyleView",
       "description_width": ""
      }
     },
     "727bc1a026b943ae813649ca6a5d0bc8": {
      "model_module": "@jupyter-widgets/controls",
      "model_module_version": "1.5.0",
      "model_name": "HBoxModel",
      "state": {
       "_dom_classes": [],
       "_model_module": "@jupyter-widgets/controls",
       "_model_module_version": "1.5.0",
       "_model_name": "HBoxModel",
       "_view_count": null,
       "_view_module": "@jupyter-widgets/controls",
       "_view_module_version": "1.5.0",
       "_view_name": "HBoxView",
       "box_style": "",
       "children": [
        "IPY_MODEL_1d6a857f2d2c4d77a8d9f32db975299a",
        "IPY_MODEL_62a3adba42d743088b50fdad347fa0d8",
        "IPY_MODEL_2ef28090fe8b4dd1ae0cb0481629bcaf"
       ],
       "layout": "IPY_MODEL_8017e82c63e5444aadfd758ccc990855"
      }
     },
     "72f86a3061cf4043b27f1f344a6a05ff": {
      "model_module": "@jupyter-widgets/base",
      "model_module_version": "1.2.0",
      "model_name": "LayoutModel",
      "state": {
       "_model_module": "@jupyter-widgets/base",
       "_model_module_version": "1.2.0",
       "_model_name": "LayoutModel",
       "_view_count": null,
       "_view_module": "@jupyter-widgets/base",
       "_view_module_version": "1.2.0",
       "_view_name": "LayoutView",
       "align_content": null,
       "align_items": null,
       "align_self": null,
       "border": null,
       "bottom": null,
       "display": null,
       "flex": null,
       "flex_flow": null,
       "grid_area": null,
       "grid_auto_columns": null,
       "grid_auto_flow": null,
       "grid_auto_rows": null,
       "grid_column": null,
       "grid_gap": null,
       "grid_row": null,
       "grid_template_areas": null,
       "grid_template_columns": null,
       "grid_template_rows": null,
       "height": null,
       "justify_content": null,
       "justify_items": null,
       "left": null,
       "margin": null,
       "max_height": null,
       "max_width": null,
       "min_height": null,
       "min_width": null,
       "object_fit": null,
       "object_position": null,
       "order": null,
       "overflow": null,
       "overflow_x": null,
       "overflow_y": null,
       "padding": null,
       "right": null,
       "top": null,
       "visibility": "hidden",
       "width": null
      }
     },
     "74a7e94a5ac84010ad8a3ee677df9315": {
      "model_module": "@jupyter-widgets/controls",
      "model_module_version": "1.5.0",
      "model_name": "ProgressStyleModel",
      "state": {
       "_model_module": "@jupyter-widgets/controls",
       "_model_module_version": "1.5.0",
       "_model_name": "ProgressStyleModel",
       "_view_count": null,
       "_view_module": "@jupyter-widgets/base",
       "_view_module_version": "1.2.0",
       "_view_name": "StyleView",
       "bar_color": null,
       "description_width": ""
      }
     },
     "75abdec62c124f71904fa7e7e5b3d22e": {
      "model_module": "@jupyter-widgets/base",
      "model_module_version": "1.2.0",
      "model_name": "LayoutModel",
      "state": {
       "_model_module": "@jupyter-widgets/base",
       "_model_module_version": "1.2.0",
       "_model_name": "LayoutModel",
       "_view_count": null,
       "_view_module": "@jupyter-widgets/base",
       "_view_module_version": "1.2.0",
       "_view_name": "LayoutView",
       "align_content": null,
       "align_items": null,
       "align_self": null,
       "border": null,
       "bottom": null,
       "display": null,
       "flex": null,
       "flex_flow": null,
       "grid_area": null,
       "grid_auto_columns": null,
       "grid_auto_flow": null,
       "grid_auto_rows": null,
       "grid_column": null,
       "grid_gap": null,
       "grid_row": null,
       "grid_template_areas": null,
       "grid_template_columns": null,
       "grid_template_rows": null,
       "height": null,
       "justify_content": null,
       "justify_items": null,
       "left": null,
       "margin": null,
       "max_height": null,
       "max_width": null,
       "min_height": null,
       "min_width": null,
       "object_fit": null,
       "object_position": null,
       "order": null,
       "overflow": null,
       "overflow_x": null,
       "overflow_y": null,
       "padding": null,
       "right": null,
       "top": null,
       "visibility": null,
       "width": null
      }
     },
     "7986ea6958ab4375a72d859c7d82dd52": {
      "model_module": "@jupyter-widgets/controls",
      "model_module_version": "1.5.0",
      "model_name": "DescriptionStyleModel",
      "state": {
       "_model_module": "@jupyter-widgets/controls",
       "_model_module_version": "1.5.0",
       "_model_name": "DescriptionStyleModel",
       "_view_count": null,
       "_view_module": "@jupyter-widgets/base",
       "_view_module_version": "1.2.0",
       "_view_name": "StyleView",
       "description_width": ""
      }
     },
     "7df38d7684354a14b9727b6cb5586ec9": {
      "model_module": "@jupyter-widgets/base",
      "model_module_version": "1.2.0",
      "model_name": "LayoutModel",
      "state": {
       "_model_module": "@jupyter-widgets/base",
       "_model_module_version": "1.2.0",
       "_model_name": "LayoutModel",
       "_view_count": null,
       "_view_module": "@jupyter-widgets/base",
       "_view_module_version": "1.2.0",
       "_view_name": "LayoutView",
       "align_content": null,
       "align_items": null,
       "align_self": null,
       "border": null,
       "bottom": null,
       "display": null,
       "flex": null,
       "flex_flow": null,
       "grid_area": null,
       "grid_auto_columns": null,
       "grid_auto_flow": null,
       "grid_auto_rows": null,
       "grid_column": null,
       "grid_gap": null,
       "grid_row": null,
       "grid_template_areas": null,
       "grid_template_columns": null,
       "grid_template_rows": null,
       "height": null,
       "justify_content": null,
       "justify_items": null,
       "left": null,
       "margin": null,
       "max_height": null,
       "max_width": null,
       "min_height": null,
       "min_width": null,
       "object_fit": null,
       "object_position": null,
       "order": null,
       "overflow": null,
       "overflow_x": null,
       "overflow_y": null,
       "padding": null,
       "right": null,
       "top": null,
       "visibility": "hidden",
       "width": null
      }
     },
     "8017e82c63e5444aadfd758ccc990855": {
      "model_module": "@jupyter-widgets/base",
      "model_module_version": "1.2.0",
      "model_name": "LayoutModel",
      "state": {
       "_model_module": "@jupyter-widgets/base",
       "_model_module_version": "1.2.0",
       "_model_name": "LayoutModel",
       "_view_count": null,
       "_view_module": "@jupyter-widgets/base",
       "_view_module_version": "1.2.0",
       "_view_name": "LayoutView",
       "align_content": null,
       "align_items": null,
       "align_self": null,
       "border": null,
       "bottom": null,
       "display": null,
       "flex": null,
       "flex_flow": null,
       "grid_area": null,
       "grid_auto_columns": null,
       "grid_auto_flow": null,
       "grid_auto_rows": null,
       "grid_column": null,
       "grid_gap": null,
       "grid_row": null,
       "grid_template_areas": null,
       "grid_template_columns": null,
       "grid_template_rows": null,
       "height": null,
       "justify_content": null,
       "justify_items": null,
       "left": null,
       "margin": null,
       "max_height": null,
       "max_width": null,
       "min_height": null,
       "min_width": null,
       "object_fit": null,
       "object_position": null,
       "order": null,
       "overflow": null,
       "overflow_x": null,
       "overflow_y": null,
       "padding": null,
       "right": null,
       "top": null,
       "visibility": "hidden",
       "width": null
      }
     },
     "83c9d684e28b4672b746eaac2246b675": {
      "model_module": "@jupyter-widgets/base",
      "model_module_version": "1.2.0",
      "model_name": "LayoutModel",
      "state": {
       "_model_module": "@jupyter-widgets/base",
       "_model_module_version": "1.2.0",
       "_model_name": "LayoutModel",
       "_view_count": null,
       "_view_module": "@jupyter-widgets/base",
       "_view_module_version": "1.2.0",
       "_view_name": "LayoutView",
       "align_content": null,
       "align_items": null,
       "align_self": null,
       "border": null,
       "bottom": null,
       "display": null,
       "flex": null,
       "flex_flow": null,
       "grid_area": null,
       "grid_auto_columns": null,
       "grid_auto_flow": null,
       "grid_auto_rows": null,
       "grid_column": null,
       "grid_gap": null,
       "grid_row": null,
       "grid_template_areas": null,
       "grid_template_columns": null,
       "grid_template_rows": null,
       "height": null,
       "justify_content": null,
       "justify_items": null,
       "left": null,
       "margin": null,
       "max_height": null,
       "max_width": null,
       "min_height": null,
       "min_width": null,
       "object_fit": null,
       "object_position": null,
       "order": null,
       "overflow": null,
       "overflow_x": null,
       "overflow_y": null,
       "padding": null,
       "right": null,
       "top": null,
       "visibility": null,
       "width": null
      }
     },
     "893e7358d9b9464d95342ce27afc893a": {
      "model_module": "@jupyter-widgets/base",
      "model_module_version": "1.2.0",
      "model_name": "LayoutModel",
      "state": {
       "_model_module": "@jupyter-widgets/base",
       "_model_module_version": "1.2.0",
       "_model_name": "LayoutModel",
       "_view_count": null,
       "_view_module": "@jupyter-widgets/base",
       "_view_module_version": "1.2.0",
       "_view_name": "LayoutView",
       "align_content": null,
       "align_items": null,
       "align_self": null,
       "border": null,
       "bottom": null,
       "display": null,
       "flex": null,
       "flex_flow": null,
       "grid_area": null,
       "grid_auto_columns": null,
       "grid_auto_flow": null,
       "grid_auto_rows": null,
       "grid_column": null,
       "grid_gap": null,
       "grid_row": null,
       "grid_template_areas": null,
       "grid_template_columns": null,
       "grid_template_rows": null,
       "height": null,
       "justify_content": null,
       "justify_items": null,
       "left": null,
       "margin": null,
       "max_height": null,
       "max_width": null,
       "min_height": null,
       "min_width": null,
       "object_fit": null,
       "object_position": null,
       "order": null,
       "overflow": null,
       "overflow_x": null,
       "overflow_y": null,
       "padding": null,
       "right": null,
       "top": null,
       "visibility": "hidden",
       "width": null
      }
     },
     "8ad81e90f634407ea282a945c4bd0d00": {
      "model_module": "@jupyter-widgets/base",
      "model_module_version": "1.2.0",
      "model_name": "LayoutModel",
      "state": {
       "_model_module": "@jupyter-widgets/base",
       "_model_module_version": "1.2.0",
       "_model_name": "LayoutModel",
       "_view_count": null,
       "_view_module": "@jupyter-widgets/base",
       "_view_module_version": "1.2.0",
       "_view_name": "LayoutView",
       "align_content": null,
       "align_items": null,
       "align_self": null,
       "border": null,
       "bottom": null,
       "display": null,
       "flex": null,
       "flex_flow": null,
       "grid_area": null,
       "grid_auto_columns": null,
       "grid_auto_flow": null,
       "grid_auto_rows": null,
       "grid_column": null,
       "grid_gap": null,
       "grid_row": null,
       "grid_template_areas": null,
       "grid_template_columns": null,
       "grid_template_rows": null,
       "height": null,
       "justify_content": null,
       "justify_items": null,
       "left": null,
       "margin": null,
       "max_height": null,
       "max_width": null,
       "min_height": null,
       "min_width": null,
       "object_fit": null,
       "object_position": null,
       "order": null,
       "overflow": null,
       "overflow_x": null,
       "overflow_y": null,
       "padding": null,
       "right": null,
       "top": null,
       "visibility": null,
       "width": null
      }
     },
     "8c935ef662cd464d8e93e55d5b14df31": {
      "model_module": "@jupyter-widgets/base",
      "model_module_version": "1.2.0",
      "model_name": "LayoutModel",
      "state": {
       "_model_module": "@jupyter-widgets/base",
       "_model_module_version": "1.2.0",
       "_model_name": "LayoutModel",
       "_view_count": null,
       "_view_module": "@jupyter-widgets/base",
       "_view_module_version": "1.2.0",
       "_view_name": "LayoutView",
       "align_content": null,
       "align_items": null,
       "align_self": null,
       "border": null,
       "bottom": null,
       "display": null,
       "flex": null,
       "flex_flow": null,
       "grid_area": null,
       "grid_auto_columns": null,
       "grid_auto_flow": null,
       "grid_auto_rows": null,
       "grid_column": null,
       "grid_gap": null,
       "grid_row": null,
       "grid_template_areas": null,
       "grid_template_columns": null,
       "grid_template_rows": null,
       "height": null,
       "justify_content": null,
       "justify_items": null,
       "left": null,
       "margin": null,
       "max_height": null,
       "max_width": null,
       "min_height": null,
       "min_width": null,
       "object_fit": null,
       "object_position": null,
       "order": null,
       "overflow": null,
       "overflow_x": null,
       "overflow_y": null,
       "padding": null,
       "right": null,
       "top": null,
       "visibility": null,
       "width": null
      }
     },
     "8de90334cfba4229a2a996c65e580edc": {
      "model_module": "@jupyter-widgets/base",
      "model_module_version": "1.2.0",
      "model_name": "LayoutModel",
      "state": {
       "_model_module": "@jupyter-widgets/base",
       "_model_module_version": "1.2.0",
       "_model_name": "LayoutModel",
       "_view_count": null,
       "_view_module": "@jupyter-widgets/base",
       "_view_module_version": "1.2.0",
       "_view_name": "LayoutView",
       "align_content": null,
       "align_items": null,
       "align_self": null,
       "border": null,
       "bottom": null,
       "display": null,
       "flex": null,
       "flex_flow": null,
       "grid_area": null,
       "grid_auto_columns": null,
       "grid_auto_flow": null,
       "grid_auto_rows": null,
       "grid_column": null,
       "grid_gap": null,
       "grid_row": null,
       "grid_template_areas": null,
       "grid_template_columns": null,
       "grid_template_rows": null,
       "height": null,
       "justify_content": null,
       "justify_items": null,
       "left": null,
       "margin": null,
       "max_height": null,
       "max_width": null,
       "min_height": null,
       "min_width": null,
       "object_fit": null,
       "object_position": null,
       "order": null,
       "overflow": null,
       "overflow_x": null,
       "overflow_y": null,
       "padding": null,
       "right": null,
       "top": null,
       "visibility": "hidden",
       "width": null
      }
     },
     "8ef03c59dcad4d3bb9226d6118007d0b": {
      "model_module": "@jupyter-widgets/controls",
      "model_module_version": "1.5.0",
      "model_name": "ProgressStyleModel",
      "state": {
       "_model_module": "@jupyter-widgets/controls",
       "_model_module_version": "1.5.0",
       "_model_name": "ProgressStyleModel",
       "_view_count": null,
       "_view_module": "@jupyter-widgets/base",
       "_view_module_version": "1.2.0",
       "_view_name": "StyleView",
       "bar_color": null,
       "description_width": ""
      }
     },
     "92947e75eabe4aaba5d5bd3de5be6fc0": {
      "model_module": "@jupyter-widgets/base",
      "model_module_version": "1.2.0",
      "model_name": "LayoutModel",
      "state": {
       "_model_module": "@jupyter-widgets/base",
       "_model_module_version": "1.2.0",
       "_model_name": "LayoutModel",
       "_view_count": null,
       "_view_module": "@jupyter-widgets/base",
       "_view_module_version": "1.2.0",
       "_view_name": "LayoutView",
       "align_content": null,
       "align_items": null,
       "align_self": null,
       "border": null,
       "bottom": null,
       "display": null,
       "flex": null,
       "flex_flow": null,
       "grid_area": null,
       "grid_auto_columns": null,
       "grid_auto_flow": null,
       "grid_auto_rows": null,
       "grid_column": null,
       "grid_gap": null,
       "grid_row": null,
       "grid_template_areas": null,
       "grid_template_columns": null,
       "grid_template_rows": null,
       "height": null,
       "justify_content": null,
       "justify_items": null,
       "left": null,
       "margin": null,
       "max_height": null,
       "max_width": null,
       "min_height": null,
       "min_width": null,
       "object_fit": null,
       "object_position": null,
       "order": null,
       "overflow": null,
       "overflow_x": null,
       "overflow_y": null,
       "padding": null,
       "right": null,
       "top": null,
       "visibility": null,
       "width": null
      }
     },
     "9567212a2e744d82a58e5d1c583acdd1": {
      "model_module": "@jupyter-widgets/controls",
      "model_module_version": "1.5.0",
      "model_name": "HTMLModel",
      "state": {
       "_dom_classes": [],
       "_model_module": "@jupyter-widgets/controls",
       "_model_module_version": "1.5.0",
       "_model_name": "HTMLModel",
       "_view_count": null,
       "_view_module": "@jupyter-widgets/controls",
       "_view_module_version": "1.5.0",
       "_view_name": "HTMLView",
       "description": "",
       "description_tooltip": null,
       "layout": "IPY_MODEL_c8020f6051a0439aba5a77be23209cde",
       "placeholder": "​",
       "style": "IPY_MODEL_e00e23ca94ae43afa6d6e8b900063c70",
       "value": "Training Epoch 2: 100%"
      }
     },
     "9930a254ff784f2695809659f8fa3058": {
      "model_module": "@jupyter-widgets/controls",
      "model_module_version": "1.5.0",
      "model_name": "DescriptionStyleModel",
      "state": {
       "_model_module": "@jupyter-widgets/controls",
       "_model_module_version": "1.5.0",
       "_model_name": "DescriptionStyleModel",
       "_view_count": null,
       "_view_module": "@jupyter-widgets/base",
       "_view_module_version": "1.2.0",
       "_view_name": "StyleView",
       "description_width": ""
      }
     },
     "9a3b63561f3e451587f6e85ddc94a178": {
      "model_module": "@jupyter-widgets/controls",
      "model_module_version": "1.5.0",
      "model_name": "FloatProgressModel",
      "state": {
       "_dom_classes": [],
       "_model_module": "@jupyter-widgets/controls",
       "_model_module_version": "1.5.0",
       "_model_name": "FloatProgressModel",
       "_view_count": null,
       "_view_module": "@jupyter-widgets/controls",
       "_view_module_version": "1.5.0",
       "_view_name": "ProgressView",
       "bar_style": "",
       "description": "",
       "description_tooltip": null,
       "layout": "IPY_MODEL_83c9d684e28b4672b746eaac2246b675",
       "max": 3194.0,
       "min": 0.0,
       "orientation": "horizontal",
       "style": "IPY_MODEL_59a3f994a8c0468d94a6e942146ab0e5",
       "value": 3194.0
      }
     },
     "9be654a6230c4ef7b40d9b0341da9100": {
      "model_module": "@jupyter-widgets/base",
      "model_module_version": "1.2.0",
      "model_name": "LayoutModel",
      "state": {
       "_model_module": "@jupyter-widgets/base",
       "_model_module_version": "1.2.0",
       "_model_name": "LayoutModel",
       "_view_count": null,
       "_view_module": "@jupyter-widgets/base",
       "_view_module_version": "1.2.0",
       "_view_name": "LayoutView",
       "align_content": null,
       "align_items": null,
       "align_self": null,
       "border": null,
       "bottom": null,
       "display": null,
       "flex": null,
       "flex_flow": null,
       "grid_area": null,
       "grid_auto_columns": null,
       "grid_auto_flow": null,
       "grid_auto_rows": null,
       "grid_column": null,
       "grid_gap": null,
       "grid_row": null,
       "grid_template_areas": null,
       "grid_template_columns": null,
       "grid_template_rows": null,
       "height": null,
       "justify_content": null,
       "justify_items": null,
       "left": null,
       "margin": null,
       "max_height": null,
       "max_width": null,
       "min_height": null,
       "min_width": null,
       "object_fit": null,
       "object_position": null,
       "order": null,
       "overflow": null,
       "overflow_x": null,
       "overflow_y": null,
       "padding": null,
       "right": null,
       "top": null,
       "visibility": "hidden",
       "width": null
      }
     },
     "9dcf345b47fb418fa09c6bb8cb9f40f3": {
      "model_module": "@jupyter-widgets/controls",
      "model_module_version": "1.5.0",
      "model_name": "ProgressStyleModel",
      "state": {
       "_model_module": "@jupyter-widgets/controls",
       "_model_module_version": "1.5.0",
       "_model_name": "ProgressStyleModel",
       "_view_count": null,
       "_view_module": "@jupyter-widgets/base",
       "_view_module_version": "1.2.0",
       "_view_name": "StyleView",
       "bar_color": null,
       "description_width": ""
      }
     },
     "a63cb210d80b44c8a1faffff59197c1c": {
      "model_module": "@jupyter-widgets/controls",
      "model_module_version": "1.5.0",
      "model_name": "DescriptionStyleModel",
      "state": {
       "_model_module": "@jupyter-widgets/controls",
       "_model_module_version": "1.5.0",
       "_model_name": "DescriptionStyleModel",
       "_view_count": null,
       "_view_module": "@jupyter-widgets/base",
       "_view_module_version": "1.2.0",
       "_view_name": "StyleView",
       "description_width": ""
      }
     },
     "a8f42eb5ed5249db9446d53810248710": {
      "model_module": "@jupyter-widgets/controls",
      "model_module_version": "1.5.0",
      "model_name": "HBoxModel",
      "state": {
       "_dom_classes": [],
       "_model_module": "@jupyter-widgets/controls",
       "_model_module_version": "1.5.0",
       "_model_name": "HBoxModel",
       "_view_count": null,
       "_view_module": "@jupyter-widgets/controls",
       "_view_module_version": "1.5.0",
       "_view_name": "HBoxView",
       "box_style": "",
       "children": [
        "IPY_MODEL_552a3ee3f7d24978aafd8afc1a743d90",
        "IPY_MODEL_dc7d641239f54349b01e610f748fe90e",
        "IPY_MODEL_5c2f2ac1fc134a8dabc3e2d8da6d0830"
       ],
       "layout": "IPY_MODEL_e031102a1cb4454993d3398312d829d9"
      }
     },
     "a9a1947aaba14b65b2a7a3c71ad28c69": {
      "model_module": "@jupyter-widgets/controls",
      "model_module_version": "1.5.0",
      "model_name": "HTMLModel",
      "state": {
       "_dom_classes": [],
       "_model_module": "@jupyter-widgets/controls",
       "_model_module_version": "1.5.0",
       "_model_name": "HTMLModel",
       "_view_count": null,
       "_view_module": "@jupyter-widgets/controls",
       "_view_module_version": "1.5.0",
       "_view_name": "HTMLView",
       "description": "",
       "description_tooltip": null,
       "layout": "IPY_MODEL_2b77d35473da4957837b63eb9f104e4f",
       "placeholder": "​",
       "style": "IPY_MODEL_1d5a690102124c02b989ab32f2cb425c",
       "value": " 1405/1409 [00:05&lt;00:00, 260.70it/s]"
      }
     },
     "ab649f4b925e4ae1849f9e0b0aadb93b": {
      "model_module": "@jupyter-widgets/controls",
      "model_module_version": "1.5.0",
      "model_name": "DescriptionStyleModel",
      "state": {
       "_model_module": "@jupyter-widgets/controls",
       "_model_module_version": "1.5.0",
       "_model_name": "DescriptionStyleModel",
       "_view_count": null,
       "_view_module": "@jupyter-widgets/base",
       "_view_module_version": "1.2.0",
       "_view_name": "StyleView",
       "description_width": ""
      }
     },
     "ab6ea543140940da8ffcbcc662195519": {
      "model_module": "@jupyter-widgets/controls",
      "model_module_version": "1.5.0",
      "model_name": "FloatProgressModel",
      "state": {
       "_dom_classes": [],
       "_model_module": "@jupyter-widgets/controls",
       "_model_module_version": "1.5.0",
       "_model_name": "FloatProgressModel",
       "_view_count": null,
       "_view_module": "@jupyter-widgets/controls",
       "_view_module_version": "1.5.0",
       "_view_name": "ProgressView",
       "bar_style": "",
       "description": "",
       "description_tooltip": null,
       "layout": "IPY_MODEL_8ad81e90f634407ea282a945c4bd0d00",
       "max": 1409.0,
       "min": 0.0,
       "orientation": "horizontal",
       "style": "IPY_MODEL_b165072076114725844b8c30020d132a",
       "value": 1409.0
      }
     },
     "adae4a05ef6a41e39c5d6c7eacdd2fe6": {
      "model_module": "@jupyter-widgets/base",
      "model_module_version": "1.2.0",
      "model_name": "LayoutModel",
      "state": {
       "_model_module": "@jupyter-widgets/base",
       "_model_module_version": "1.2.0",
       "_model_name": "LayoutModel",
       "_view_count": null,
       "_view_module": "@jupyter-widgets/base",
       "_view_module_version": "1.2.0",
       "_view_name": "LayoutView",
       "align_content": null,
       "align_items": null,
       "align_self": null,
       "border": null,
       "bottom": null,
       "display": null,
       "flex": null,
       "flex_flow": null,
       "grid_area": null,
       "grid_auto_columns": null,
       "grid_auto_flow": null,
       "grid_auto_rows": null,
       "grid_column": null,
       "grid_gap": null,
       "grid_row": null,
       "grid_template_areas": null,
       "grid_template_columns": null,
       "grid_template_rows": null,
       "height": null,
       "justify_content": null,
       "justify_items": null,
       "left": null,
       "margin": null,
       "max_height": null,
       "max_width": null,
       "min_height": null,
       "min_width": null,
       "object_fit": null,
       "object_position": null,
       "order": null,
       "overflow": null,
       "overflow_x": null,
       "overflow_y": null,
       "padding": null,
       "right": null,
       "top": null,
       "visibility": null,
       "width": null
      }
     },
     "aed16fa7427340f6b04739ebe621ca9f": {
      "model_module": "@jupyter-widgets/controls",
      "model_module_version": "1.5.0",
      "model_name": "HBoxModel",
      "state": {
       "_dom_classes": [],
       "_model_module": "@jupyter-widgets/controls",
       "_model_module_version": "1.5.0",
       "_model_name": "HBoxModel",
       "_view_count": null,
       "_view_module": "@jupyter-widgets/controls",
       "_view_module_version": "1.5.0",
       "_view_name": "HBoxView",
       "box_style": "",
       "children": [
        "IPY_MODEL_55b22fd0d8dc4fe284c2a51b696ea5f1",
        "IPY_MODEL_9a3b63561f3e451587f6e85ddc94a178",
        "IPY_MODEL_074e0a7e2d59433bb7ed1cd99a8d118d"
       ],
       "layout": "IPY_MODEL_9be654a6230c4ef7b40d9b0341da9100"
      }
     },
     "b165072076114725844b8c30020d132a": {
      "model_module": "@jupyter-widgets/controls",
      "model_module_version": "1.5.0",
      "model_name": "ProgressStyleModel",
      "state": {
       "_model_module": "@jupyter-widgets/controls",
       "_model_module_version": "1.5.0",
       "_model_name": "ProgressStyleModel",
       "_view_count": null,
       "_view_module": "@jupyter-widgets/base",
       "_view_module_version": "1.2.0",
       "_view_name": "StyleView",
       "bar_color": null,
       "description_width": ""
      }
     },
     "b39a8e8eedcd445d9a9a12d900c78231": {
      "model_module": "@jupyter-widgets/controls",
      "model_module_version": "1.5.0",
      "model_name": "HTMLModel",
      "state": {
       "_dom_classes": [],
       "_model_module": "@jupyter-widgets/controls",
       "_model_module_version": "1.5.0",
       "_model_name": "HTMLModel",
       "_view_count": null,
       "_view_module": "@jupyter-widgets/controls",
       "_view_module_version": "1.5.0",
       "_view_name": "HTMLView",
       "description": "",
       "description_tooltip": null,
       "layout": "IPY_MODEL_3fac255f35d04bf392faa096b9c7302d",
       "placeholder": "​",
       "style": "IPY_MODEL_b571f30ea1f34f95a30b19f7da6871a9",
       "value": "Evaluating: 100%"
      }
     },
     "b571f30ea1f34f95a30b19f7da6871a9": {
      "model_module": "@jupyter-widgets/controls",
      "model_module_version": "1.5.0",
      "model_name": "DescriptionStyleModel",
      "state": {
       "_model_module": "@jupyter-widgets/controls",
       "_model_module_version": "1.5.0",
       "_model_name": "DescriptionStyleModel",
       "_view_count": null,
       "_view_module": "@jupyter-widgets/base",
       "_view_module_version": "1.2.0",
       "_view_name": "StyleView",
       "description_width": ""
      }
     },
     "b932fa23b315454ab009810f189c446f": {
      "model_module": "@jupyter-widgets/controls",
      "model_module_version": "1.5.0",
      "model_name": "HTMLModel",
      "state": {
       "_dom_classes": [],
       "_model_module": "@jupyter-widgets/controls",
       "_model_module_version": "1.5.0",
       "_model_name": "HTMLModel",
       "_view_count": null,
       "_view_module": "@jupyter-widgets/controls",
       "_view_module_version": "1.5.0",
       "_view_name": "HTMLView",
       "description": "",
       "description_tooltip": null,
       "layout": "IPY_MODEL_adae4a05ef6a41e39c5d6c7eacdd2fe6",
       "placeholder": "​",
       "style": "IPY_MODEL_35ce4f6b2b964f97b77e309a722ff5df",
       "value": " 3188/3194 [00:22&lt;00:00, 141.90it/s]"
      }
     },
     "ba29ec8008d14811b986aa714629abea": {
      "model_module": "@jupyter-widgets/controls",
      "model_module_version": "1.5.0",
      "model_name": "DescriptionStyleModel",
      "state": {
       "_model_module": "@jupyter-widgets/controls",
       "_model_module_version": "1.5.0",
       "_model_name": "DescriptionStyleModel",
       "_view_count": null,
       "_view_module": "@jupyter-widgets/base",
       "_view_module_version": "1.2.0",
       "_view_name": "StyleView",
       "description_width": ""
      }
     },
     "bbd1b5ee97a5440fb30b9c858431cdcc": {
      "model_module": "@jupyter-widgets/base",
      "model_module_version": "1.2.0",
      "model_name": "LayoutModel",
      "state": {
       "_model_module": "@jupyter-widgets/base",
       "_model_module_version": "1.2.0",
       "_model_name": "LayoutModel",
       "_view_count": null,
       "_view_module": "@jupyter-widgets/base",
       "_view_module_version": "1.2.0",
       "_view_name": "LayoutView",
       "align_content": null,
       "align_items": null,
       "align_self": null,
       "border": null,
       "bottom": null,
       "display": null,
       "flex": null,
       "flex_flow": null,
       "grid_area": null,
       "grid_auto_columns": null,
       "grid_auto_flow": null,
       "grid_auto_rows": null,
       "grid_column": null,
       "grid_gap": null,
       "grid_row": null,
       "grid_template_areas": null,
       "grid_template_columns": null,
       "grid_template_rows": null,
       "height": null,
       "justify_content": null,
       "justify_items": null,
       "left": null,
       "margin": null,
       "max_height": null,
       "max_width": null,
       "min_height": null,
       "min_width": null,
       "object_fit": null,
       "object_position": null,
       "order": null,
       "overflow": null,
       "overflow_x": null,
       "overflow_y": null,
       "padding": null,
       "right": null,
       "top": null,
       "visibility": "hidden",
       "width": null
      }
     },
     "bcfe427a4f544b37901d9e91e470469e": {
      "model_module": "@jupyter-widgets/base",
      "model_module_version": "1.2.0",
      "model_name": "LayoutModel",
      "state": {
       "_model_module": "@jupyter-widgets/base",
       "_model_module_version": "1.2.0",
       "_model_name": "LayoutModel",
       "_view_count": null,
       "_view_module": "@jupyter-widgets/base",
       "_view_module_version": "1.2.0",
       "_view_name": "LayoutView",
       "align_content": null,
       "align_items": null,
       "align_self": null,
       "border": null,
       "bottom": null,
       "display": null,
       "flex": null,
       "flex_flow": null,
       "grid_area": null,
       "grid_auto_columns": null,
       "grid_auto_flow": null,
       "grid_auto_rows": null,
       "grid_column": null,
       "grid_gap": null,
       "grid_row": null,
       "grid_template_areas": null,
       "grid_template_columns": null,
       "grid_template_rows": null,
       "height": null,
       "justify_content": null,
       "justify_items": null,
       "left": null,
       "margin": null,
       "max_height": null,
       "max_width": null,
       "min_height": null,
       "min_width": null,
       "object_fit": null,
       "object_position": null,
       "order": null,
       "overflow": null,
       "overflow_x": null,
       "overflow_y": null,
       "padding": null,
       "right": null,
       "top": null,
       "visibility": null,
       "width": null
      }
     },
     "bf74947160ef4f5c980ac8474dc2f337": {
      "model_module": "@jupyter-widgets/controls",
      "model_module_version": "1.5.0",
      "model_name": "ProgressStyleModel",
      "state": {
       "_model_module": "@jupyter-widgets/controls",
       "_model_module_version": "1.5.0",
       "_model_name": "ProgressStyleModel",
       "_view_count": null,
       "_view_module": "@jupyter-widgets/base",
       "_view_module_version": "1.2.0",
       "_view_name": "StyleView",
       "bar_color": null,
       "description_width": ""
      }
     },
     "c033e81975d44d81a7c6373b592ef7e9": {
      "model_module": "@jupyter-widgets/controls",
      "model_module_version": "1.5.0",
      "model_name": "FloatProgressModel",
      "state": {
       "_dom_classes": [],
       "_model_module": "@jupyter-widgets/controls",
       "_model_module_version": "1.5.0",
       "_model_name": "FloatProgressModel",
       "_view_count": null,
       "_view_module": "@jupyter-widgets/controls",
       "_view_module_version": "1.5.0",
       "_view_name": "ProgressView",
       "bar_style": "",
       "description": "",
       "description_tooltip": null,
       "layout": "IPY_MODEL_cbdb5a21525843fd8485422d538c7afc",
       "max": 1409.0,
       "min": 0.0,
       "orientation": "horizontal",
       "style": "IPY_MODEL_18786c8119b54e1181d1423945c43a59",
       "value": 1409.0
      }
     },
     "c1be88adfdd346f8950a15e236d18db5": {
      "model_module": "@jupyter-widgets/base",
      "model_module_version": "1.2.0",
      "model_name": "LayoutModel",
      "state": {
       "_model_module": "@jupyter-widgets/base",
       "_model_module_version": "1.2.0",
       "_model_name": "LayoutModel",
       "_view_count": null,
       "_view_module": "@jupyter-widgets/base",
       "_view_module_version": "1.2.0",
       "_view_name": "LayoutView",
       "align_content": null,
       "align_items": null,
       "align_self": null,
       "border": null,
       "bottom": null,
       "display": null,
       "flex": null,
       "flex_flow": null,
       "grid_area": null,
       "grid_auto_columns": null,
       "grid_auto_flow": null,
       "grid_auto_rows": null,
       "grid_column": null,
       "grid_gap": null,
       "grid_row": null,
       "grid_template_areas": null,
       "grid_template_columns": null,
       "grid_template_rows": null,
       "height": null,
       "justify_content": null,
       "justify_items": null,
       "left": null,
       "margin": null,
       "max_height": null,
       "max_width": null,
       "min_height": null,
       "min_width": null,
       "object_fit": null,
       "object_position": null,
       "order": null,
       "overflow": null,
       "overflow_x": null,
       "overflow_y": null,
       "padding": null,
       "right": null,
       "top": null,
       "visibility": null,
       "width": null
      }
     },
     "c28eaef447c84a6e9b24299564ab7adf": {
      "model_module": "@jupyter-widgets/controls",
      "model_module_version": "1.5.0",
      "model_name": "HBoxModel",
      "state": {
       "_dom_classes": [],
       "_model_module": "@jupyter-widgets/controls",
       "_model_module_version": "1.5.0",
       "_model_name": "HBoxModel",
       "_view_count": null,
       "_view_module": "@jupyter-widgets/controls",
       "_view_module_version": "1.5.0",
       "_view_name": "HBoxView",
       "box_style": "",
       "children": [
        "IPY_MODEL_fca4078ef8d24a0698a4d5e05f52117e",
        "IPY_MODEL_687593f281c446ab8151b8eadb25073e",
        "IPY_MODEL_b932fa23b315454ab009810f189c446f"
       ],
       "layout": "IPY_MODEL_72f86a3061cf4043b27f1f344a6a05ff"
      }
     },
     "c463973d76f74726aa5bbccba7f13566": {
      "model_module": "@jupyter-widgets/base",
      "model_module_version": "1.2.0",
      "model_name": "LayoutModel",
      "state": {
       "_model_module": "@jupyter-widgets/base",
       "_model_module_version": "1.2.0",
       "_model_name": "LayoutModel",
       "_view_count": null,
       "_view_module": "@jupyter-widgets/base",
       "_view_module_version": "1.2.0",
       "_view_name": "LayoutView",
       "align_content": null,
       "align_items": null,
       "align_self": null,
       "border": null,
       "bottom": null,
       "display": null,
       "flex": null,
       "flex_flow": null,
       "grid_area": null,
       "grid_auto_columns": null,
       "grid_auto_flow": null,
       "grid_auto_rows": null,
       "grid_column": null,
       "grid_gap": null,
       "grid_row": null,
       "grid_template_areas": null,
       "grid_template_columns": null,
       "grid_template_rows": null,
       "height": null,
       "justify_content": null,
       "justify_items": null,
       "left": null,
       "margin": null,
       "max_height": null,
       "max_width": null,
       "min_height": null,
       "min_width": null,
       "object_fit": null,
       "object_position": null,
       "order": null,
       "overflow": null,
       "overflow_x": null,
       "overflow_y": null,
       "padding": null,
       "right": null,
       "top": null,
       "visibility": null,
       "width": null
      }
     },
     "c8020f6051a0439aba5a77be23209cde": {
      "model_module": "@jupyter-widgets/base",
      "model_module_version": "1.2.0",
      "model_name": "LayoutModel",
      "state": {
       "_model_module": "@jupyter-widgets/base",
       "_model_module_version": "1.2.0",
       "_model_name": "LayoutModel",
       "_view_count": null,
       "_view_module": "@jupyter-widgets/base",
       "_view_module_version": "1.2.0",
       "_view_name": "LayoutView",
       "align_content": null,
       "align_items": null,
       "align_self": null,
       "border": null,
       "bottom": null,
       "display": null,
       "flex": null,
       "flex_flow": null,
       "grid_area": null,
       "grid_auto_columns": null,
       "grid_auto_flow": null,
       "grid_auto_rows": null,
       "grid_column": null,
       "grid_gap": null,
       "grid_row": null,
       "grid_template_areas": null,
       "grid_template_columns": null,
       "grid_template_rows": null,
       "height": null,
       "justify_content": null,
       "justify_items": null,
       "left": null,
       "margin": null,
       "max_height": null,
       "max_width": null,
       "min_height": null,
       "min_width": null,
       "object_fit": null,
       "object_position": null,
       "order": null,
       "overflow": null,
       "overflow_x": null,
       "overflow_y": null,
       "padding": null,
       "right": null,
       "top": null,
       "visibility": null,
       "width": null
      }
     },
     "cbdb5a21525843fd8485422d538c7afc": {
      "model_module": "@jupyter-widgets/base",
      "model_module_version": "1.2.0",
      "model_name": "LayoutModel",
      "state": {
       "_model_module": "@jupyter-widgets/base",
       "_model_module_version": "1.2.0",
       "_model_name": "LayoutModel",
       "_view_count": null,
       "_view_module": "@jupyter-widgets/base",
       "_view_module_version": "1.2.0",
       "_view_name": "LayoutView",
       "align_content": null,
       "align_items": null,
       "align_self": null,
       "border": null,
       "bottom": null,
       "display": null,
       "flex": null,
       "flex_flow": null,
       "grid_area": null,
       "grid_auto_columns": null,
       "grid_auto_flow": null,
       "grid_auto_rows": null,
       "grid_column": null,
       "grid_gap": null,
       "grid_row": null,
       "grid_template_areas": null,
       "grid_template_columns": null,
       "grid_template_rows": null,
       "height": null,
       "justify_content": null,
       "justify_items": null,
       "left": null,
       "margin": null,
       "max_height": null,
       "max_width": null,
       "min_height": null,
       "min_width": null,
       "object_fit": null,
       "object_position": null,
       "order": null,
       "overflow": null,
       "overflow_x": null,
       "overflow_y": null,
       "padding": null,
       "right": null,
       "top": null,
       "visibility": null,
       "width": null
      }
     },
     "cc317184cc524b988fdbd3b331ebdcd7": {
      "model_module": "@jupyter-widgets/controls",
      "model_module_version": "1.5.0",
      "model_name": "HTMLModel",
      "state": {
       "_dom_classes": [],
       "_model_module": "@jupyter-widgets/controls",
       "_model_module_version": "1.5.0",
       "_model_name": "HTMLModel",
       "_view_count": null,
       "_view_module": "@jupyter-widgets/controls",
       "_view_module_version": "1.5.0",
       "_view_name": "HTMLView",
       "description": "",
       "description_tooltip": null,
       "layout": "IPY_MODEL_33d5a0b8f8854c37831eaab4a4e45c55",
       "placeholder": "​",
       "style": "IPY_MODEL_6de0fad3d8154b99afecd8060b14a9a4",
       "value": "Evaluating: 100%"
      }
     },
     "cda0ea6984c2445085bc90d912100644": {
      "model_module": "@jupyter-widgets/controls",
      "model_module_version": "1.5.0",
      "model_name": "DescriptionStyleModel",
      "state": {
       "_model_module": "@jupyter-widgets/controls",
       "_model_module_version": "1.5.0",
       "_model_name": "DescriptionStyleModel",
       "_view_count": null,
       "_view_module": "@jupyter-widgets/base",
       "_view_module_version": "1.2.0",
       "_view_name": "StyleView",
       "description_width": ""
      }
     },
     "cdd4c12402304a7bb91d8d0660791d44": {
      "model_module": "@jupyter-widgets/base",
      "model_module_version": "1.2.0",
      "model_name": "LayoutModel",
      "state": {
       "_model_module": "@jupyter-widgets/base",
       "_model_module_version": "1.2.0",
       "_model_name": "LayoutModel",
       "_view_count": null,
       "_view_module": "@jupyter-widgets/base",
       "_view_module_version": "1.2.0",
       "_view_name": "LayoutView",
       "align_content": null,
       "align_items": null,
       "align_self": null,
       "border": null,
       "bottom": null,
       "display": null,
       "flex": null,
       "flex_flow": null,
       "grid_area": null,
       "grid_auto_columns": null,
       "grid_auto_flow": null,
       "grid_auto_rows": null,
       "grid_column": null,
       "grid_gap": null,
       "grid_row": null,
       "grid_template_areas": null,
       "grid_template_columns": null,
       "grid_template_rows": null,
       "height": null,
       "justify_content": null,
       "justify_items": null,
       "left": null,
       "margin": null,
       "max_height": null,
       "max_width": null,
       "min_height": null,
       "min_width": null,
       "object_fit": null,
       "object_position": null,
       "order": null,
       "overflow": null,
       "overflow_x": null,
       "overflow_y": null,
       "padding": null,
       "right": null,
       "top": null,
       "visibility": null,
       "width": null
      }
     },
     "d79abfbb1aab4cdc8dc3f90f8795d5a3": {
      "model_module": "@jupyter-widgets/controls",
      "model_module_version": "1.5.0",
      "model_name": "DescriptionStyleModel",
      "state": {
       "_model_module": "@jupyter-widgets/controls",
       "_model_module_version": "1.5.0",
       "_model_name": "DescriptionStyleModel",
       "_view_count": null,
       "_view_module": "@jupyter-widgets/base",
       "_view_module_version": "1.2.0",
       "_view_name": "StyleView",
       "description_width": ""
      }
     },
     "dc7d641239f54349b01e610f748fe90e": {
      "model_module": "@jupyter-widgets/controls",
      "model_module_version": "1.5.0",
      "model_name": "FloatProgressModel",
      "state": {
       "_dom_classes": [],
       "_model_module": "@jupyter-widgets/controls",
       "_model_module_version": "1.5.0",
       "_model_name": "FloatProgressModel",
       "_view_count": null,
       "_view_module": "@jupyter-widgets/controls",
       "_view_module_version": "1.5.0",
       "_view_name": "ProgressView",
       "bar_style": "",
       "description": "",
       "description_tooltip": null,
       "layout": "IPY_MODEL_dd26703126f04d059a603b74ae2b5be6",
       "max": 3194.0,
       "min": 0.0,
       "orientation": "horizontal",
       "style": "IPY_MODEL_8ef03c59dcad4d3bb9226d6118007d0b",
       "value": 3194.0
      }
     },
     "dd26703126f04d059a603b74ae2b5be6": {
      "model_module": "@jupyter-widgets/base",
      "model_module_version": "1.2.0",
      "model_name": "LayoutModel",
      "state": {
       "_model_module": "@jupyter-widgets/base",
       "_model_module_version": "1.2.0",
       "_model_name": "LayoutModel",
       "_view_count": null,
       "_view_module": "@jupyter-widgets/base",
       "_view_module_version": "1.2.0",
       "_view_name": "LayoutView",
       "align_content": null,
       "align_items": null,
       "align_self": null,
       "border": null,
       "bottom": null,
       "display": null,
       "flex": null,
       "flex_flow": null,
       "grid_area": null,
       "grid_auto_columns": null,
       "grid_auto_flow": null,
       "grid_auto_rows": null,
       "grid_column": null,
       "grid_gap": null,
       "grid_row": null,
       "grid_template_areas": null,
       "grid_template_columns": null,
       "grid_template_rows": null,
       "height": null,
       "justify_content": null,
       "justify_items": null,
       "left": null,
       "margin": null,
       "max_height": null,
       "max_width": null,
       "min_height": null,
       "min_width": null,
       "object_fit": null,
       "object_position": null,
       "order": null,
       "overflow": null,
       "overflow_x": null,
       "overflow_y": null,
       "padding": null,
       "right": null,
       "top": null,
       "visibility": null,
       "width": null
      }
     },
     "e00e23ca94ae43afa6d6e8b900063c70": {
      "model_module": "@jupyter-widgets/controls",
      "model_module_version": "1.5.0",
      "model_name": "DescriptionStyleModel",
      "state": {
       "_model_module": "@jupyter-widgets/controls",
       "_model_module_version": "1.5.0",
       "_model_name": "DescriptionStyleModel",
       "_view_count": null,
       "_view_module": "@jupyter-widgets/base",
       "_view_module_version": "1.2.0",
       "_view_name": "StyleView",
       "description_width": ""
      }
     },
     "e031102a1cb4454993d3398312d829d9": {
      "model_module": "@jupyter-widgets/base",
      "model_module_version": "1.2.0",
      "model_name": "LayoutModel",
      "state": {
       "_model_module": "@jupyter-widgets/base",
       "_model_module_version": "1.2.0",
       "_model_name": "LayoutModel",
       "_view_count": null,
       "_view_module": "@jupyter-widgets/base",
       "_view_module_version": "1.2.0",
       "_view_name": "LayoutView",
       "align_content": null,
       "align_items": null,
       "align_self": null,
       "border": null,
       "bottom": null,
       "display": null,
       "flex": null,
       "flex_flow": null,
       "grid_area": null,
       "grid_auto_columns": null,
       "grid_auto_flow": null,
       "grid_auto_rows": null,
       "grid_column": null,
       "grid_gap": null,
       "grid_row": null,
       "grid_template_areas": null,
       "grid_template_columns": null,
       "grid_template_rows": null,
       "height": null,
       "justify_content": null,
       "justify_items": null,
       "left": null,
       "margin": null,
       "max_height": null,
       "max_width": null,
       "min_height": null,
       "min_width": null,
       "object_fit": null,
       "object_position": null,
       "order": null,
       "overflow": null,
       "overflow_x": null,
       "overflow_y": null,
       "padding": null,
       "right": null,
       "top": null,
       "visibility": "hidden",
       "width": null
      }
     },
     "e2b4a30c74484d2d8ebafdf7c4ebebd4": {
      "model_module": "@jupyter-widgets/controls",
      "model_module_version": "1.5.0",
      "model_name": "DescriptionStyleModel",
      "state": {
       "_model_module": "@jupyter-widgets/controls",
       "_model_module_version": "1.5.0",
       "_model_name": "DescriptionStyleModel",
       "_view_count": null,
       "_view_module": "@jupyter-widgets/base",
       "_view_module_version": "1.2.0",
       "_view_name": "StyleView",
       "description_width": ""
      }
     },
     "e7c52fc93106462282ba4c14fdac20c0": {
      "model_module": "@jupyter-widgets/controls",
      "model_module_version": "1.5.0",
      "model_name": "HTMLModel",
      "state": {
       "_dom_classes": [],
       "_model_module": "@jupyter-widgets/controls",
       "_model_module_version": "1.5.0",
       "_model_name": "HTMLModel",
       "_view_count": null,
       "_view_module": "@jupyter-widgets/controls",
       "_view_module_version": "1.5.0",
       "_view_name": "HTMLView",
       "description": "",
       "description_tooltip": null,
       "layout": "IPY_MODEL_bcfe427a4f544b37901d9e91e470469e",
       "placeholder": "​",
       "style": "IPY_MODEL_d79abfbb1aab4cdc8dc3f90f8795d5a3",
       "value": " 1385/1409 [00:05&lt;00:00, 251.60it/s]"
      }
     },
     "eaebc0ac76d84b0f8fc6a4c6413693ba": {
      "model_module": "@jupyter-widgets/base",
      "model_module_version": "1.2.0",
      "model_name": "LayoutModel",
      "state": {
       "_model_module": "@jupyter-widgets/base",
       "_model_module_version": "1.2.0",
       "_model_name": "LayoutModel",
       "_view_count": null,
       "_view_module": "@jupyter-widgets/base",
       "_view_module_version": "1.2.0",
       "_view_name": "LayoutView",
       "align_content": null,
       "align_items": null,
       "align_self": null,
       "border": null,
       "bottom": null,
       "display": null,
       "flex": null,
       "flex_flow": null,
       "grid_area": null,
       "grid_auto_columns": null,
       "grid_auto_flow": null,
       "grid_auto_rows": null,
       "grid_column": null,
       "grid_gap": null,
       "grid_row": null,
       "grid_template_areas": null,
       "grid_template_columns": null,
       "grid_template_rows": null,
       "height": null,
       "justify_content": null,
       "justify_items": null,
       "left": null,
       "margin": null,
       "max_height": null,
       "max_width": null,
       "min_height": null,
       "min_width": null,
       "object_fit": null,
       "object_position": null,
       "order": null,
       "overflow": null,
       "overflow_x": null,
       "overflow_y": null,
       "padding": null,
       "right": null,
       "top": null,
       "visibility": null,
       "width": null
      }
     },
     "eb062d5988e94bf1aff1103326481c81": {
      "model_module": "@jupyter-widgets/controls",
      "model_module_version": "1.5.0",
      "model_name": "HBoxModel",
      "state": {
       "_dom_classes": [],
       "_model_module": "@jupyter-widgets/controls",
       "_model_module_version": "1.5.0",
       "_model_name": "HBoxModel",
       "_view_count": null,
       "_view_module": "@jupyter-widgets/controls",
       "_view_module_version": "1.5.0",
       "_view_name": "HBoxView",
       "box_style": "",
       "children": [
        "IPY_MODEL_64cab4af19b849ef85ff614c91ca526e",
        "IPY_MODEL_073289e0b816467b995c119a6ee99efc",
        "IPY_MODEL_0718dd4efed24356a8a65631b32a18fb"
       ],
       "layout": "IPY_MODEL_7df38d7684354a14b9727b6cb5586ec9"
      }
     },
     "f0e6ce93f22e4272a26fc89c1d661326": {
      "model_module": "@jupyter-widgets/base",
      "model_module_version": "1.2.0",
      "model_name": "LayoutModel",
      "state": {
       "_model_module": "@jupyter-widgets/base",
       "_model_module_version": "1.2.0",
       "_model_name": "LayoutModel",
       "_view_count": null,
       "_view_module": "@jupyter-widgets/base",
       "_view_module_version": "1.2.0",
       "_view_name": "LayoutView",
       "align_content": null,
       "align_items": null,
       "align_self": null,
       "border": null,
       "bottom": null,
       "display": null,
       "flex": null,
       "flex_flow": null,
       "grid_area": null,
       "grid_auto_columns": null,
       "grid_auto_flow": null,
       "grid_auto_rows": null,
       "grid_column": null,
       "grid_gap": null,
       "grid_row": null,
       "grid_template_areas": null,
       "grid_template_columns": null,
       "grid_template_rows": null,
       "height": null,
       "justify_content": null,
       "justify_items": null,
       "left": null,
       "margin": null,
       "max_height": null,
       "max_width": null,
       "min_height": null,
       "min_width": null,
       "object_fit": null,
       "object_position": null,
       "order": null,
       "overflow": null,
       "overflow_x": null,
       "overflow_y": null,
       "padding": null,
       "right": null,
       "top": null,
       "visibility": null,
       "width": null
      }
     },
     "f249501f82584004acfee356a9f4e6c0": {
      "model_module": "@jupyter-widgets/base",
      "model_module_version": "1.2.0",
      "model_name": "LayoutModel",
      "state": {
       "_model_module": "@jupyter-widgets/base",
       "_model_module_version": "1.2.0",
       "_model_name": "LayoutModel",
       "_view_count": null,
       "_view_module": "@jupyter-widgets/base",
       "_view_module_version": "1.2.0",
       "_view_name": "LayoutView",
       "align_content": null,
       "align_items": null,
       "align_self": null,
       "border": null,
       "bottom": null,
       "display": null,
       "flex": null,
       "flex_flow": null,
       "grid_area": null,
       "grid_auto_columns": null,
       "grid_auto_flow": null,
       "grid_auto_rows": null,
       "grid_column": null,
       "grid_gap": null,
       "grid_row": null,
       "grid_template_areas": null,
       "grid_template_columns": null,
       "grid_template_rows": null,
       "height": null,
       "justify_content": null,
       "justify_items": null,
       "left": null,
       "margin": null,
       "max_height": null,
       "max_width": null,
       "min_height": null,
       "min_width": null,
       "object_fit": null,
       "object_position": null,
       "order": null,
       "overflow": null,
       "overflow_x": null,
       "overflow_y": null,
       "padding": null,
       "right": null,
       "top": null,
       "visibility": null,
       "width": null
      }
     },
     "f316013e07ed40c4bc1977abedf085e3": {
      "model_module": "@jupyter-widgets/base",
      "model_module_version": "1.2.0",
      "model_name": "LayoutModel",
      "state": {
       "_model_module": "@jupyter-widgets/base",
       "_model_module_version": "1.2.0",
       "_model_name": "LayoutModel",
       "_view_count": null,
       "_view_module": "@jupyter-widgets/base",
       "_view_module_version": "1.2.0",
       "_view_name": "LayoutView",
       "align_content": null,
       "align_items": null,
       "align_self": null,
       "border": null,
       "bottom": null,
       "display": null,
       "flex": null,
       "flex_flow": null,
       "grid_area": null,
       "grid_auto_columns": null,
       "grid_auto_flow": null,
       "grid_auto_rows": null,
       "grid_column": null,
       "grid_gap": null,
       "grid_row": null,
       "grid_template_areas": null,
       "grid_template_columns": null,
       "grid_template_rows": null,
       "height": null,
       "justify_content": null,
       "justify_items": null,
       "left": null,
       "margin": null,
       "max_height": null,
       "max_width": null,
       "min_height": null,
       "min_width": null,
       "object_fit": null,
       "object_position": null,
       "order": null,
       "overflow": null,
       "overflow_x": null,
       "overflow_y": null,
       "padding": null,
       "right": null,
       "top": null,
       "visibility": "hidden",
       "width": null
      }
     },
     "f544704e175646ff988a8c494d5b6782": {
      "model_module": "@jupyter-widgets/controls",
      "model_module_version": "1.5.0",
      "model_name": "DescriptionStyleModel",
      "state": {
       "_model_module": "@jupyter-widgets/controls",
       "_model_module_version": "1.5.0",
       "_model_name": "DescriptionStyleModel",
       "_view_count": null,
       "_view_module": "@jupyter-widgets/base",
       "_view_module_version": "1.2.0",
       "_view_name": "StyleView",
       "description_width": ""
      }
     },
     "f834584f7c6345ec96f5254a39c21348": {
      "model_module": "@jupyter-widgets/controls",
      "model_module_version": "1.5.0",
      "model_name": "HBoxModel",
      "state": {
       "_dom_classes": [],
       "_model_module": "@jupyter-widgets/controls",
       "_model_module_version": "1.5.0",
       "_model_name": "HBoxModel",
       "_view_count": null,
       "_view_module": "@jupyter-widgets/controls",
       "_view_module_version": "1.5.0",
       "_view_name": "HBoxView",
       "box_style": "",
       "children": [
        "IPY_MODEL_f953a6eb49c84d70ab1cf6d6c83642ad",
        "IPY_MODEL_ab6ea543140940da8ffcbcc662195519",
        "IPY_MODEL_fb3a16c087b0451f878c5160b62f5a9a"
       ],
       "layout": "IPY_MODEL_f316013e07ed40c4bc1977abedf085e3"
      }
     },
     "f953a6eb49c84d70ab1cf6d6c83642ad": {
      "model_module": "@jupyter-widgets/controls",
      "model_module_version": "1.5.0",
      "model_name": "HTMLModel",
      "state": {
       "_dom_classes": [],
       "_model_module": "@jupyter-widgets/controls",
       "_model_module_version": "1.5.0",
       "_model_name": "HTMLModel",
       "_view_count": null,
       "_view_module": "@jupyter-widgets/controls",
       "_view_module_version": "1.5.0",
       "_view_name": "HTMLView",
       "description": "",
       "description_tooltip": null,
       "layout": "IPY_MODEL_f249501f82584004acfee356a9f4e6c0",
       "placeholder": "​",
       "style": "IPY_MODEL_660712bb847842e3adf903b0f522e271",
       "value": "Evaluating:  99%"
      }
     },
     "fb3a16c087b0451f878c5160b62f5a9a": {
      "model_module": "@jupyter-widgets/controls",
      "model_module_version": "1.5.0",
      "model_name": "HTMLModel",
      "state": {
       "_dom_classes": [],
       "_model_module": "@jupyter-widgets/controls",
       "_model_module_version": "1.5.0",
       "_model_name": "HTMLModel",
       "_view_count": null,
       "_view_module": "@jupyter-widgets/controls",
       "_view_module_version": "1.5.0",
       "_view_name": "HTMLView",
       "description": "",
       "description_tooltip": null,
       "layout": "IPY_MODEL_51b088b845e44bccbb0b2abc1f44547e",
       "placeholder": "​",
       "style": "IPY_MODEL_7986ea6958ab4375a72d859c7d82dd52",
       "value": " 1389/1409 [00:05&lt;00:00, 260.55it/s]"
      }
     },
     "fca4078ef8d24a0698a4d5e05f52117e": {
      "model_module": "@jupyter-widgets/controls",
      "model_module_version": "1.5.0",
      "model_name": "HTMLModel",
      "state": {
       "_dom_classes": [],
       "_model_module": "@jupyter-widgets/controls",
       "_model_module_version": "1.5.0",
       "_model_name": "HTMLModel",
       "_view_count": null,
       "_view_module": "@jupyter-widgets/controls",
       "_view_module_version": "1.5.0",
       "_view_name": "HTMLView",
       "description": "",
       "description_tooltip": null,
       "layout": "IPY_MODEL_75abdec62c124f71904fa7e7e5b3d22e",
       "placeholder": "​",
       "style": "IPY_MODEL_cda0ea6984c2445085bc90d912100644",
       "value": "Training Epoch 5: 100%"
      }
     }
    },
    "version_major": 2,
    "version_minor": 0
   }
  }
 },
 "nbformat": 4,
 "nbformat_minor": 5
}
